{
 "cells": [
  {
   "cell_type": "code",
   "execution_count": 2,
   "metadata": {},
   "outputs": [],
   "source": [
    "import pandas as pd\n",
    "import numpy as np\n",
    "import seaborn as sns\n",
    "import matplotlib.pyplot as plt\n",
    "\n",
    "\n",
    "\n",
    "#postulantesEducacion = pd.read_csv('resources/tar/fiuba_1_postulantes_educacion.csv')\n",
    "#postulantesGenero = pd.read_csv('resources/tar/fiuba_2_postulantes_genero_y_edad.csv')\n",
    "vistas = pd.read_csv('resources/tar/fiuba_3_vistas.csv')\n",
    "postulaciones = pd.read_csv('resources/tar/fiuba_4_postulaciones.csv')\n",
    "#avisosOnline = pd.read_csv('resources/tar/fiuba_5_avisos_online.csv')\n",
    "#avisosDetalle = pd.read_csv('resources/tar/fiuba_6_avisos_detalle.csv')\n",
    "\n"
   ]
  },
  {
   "cell_type": "code",
   "execution_count": null,
   "metadata": {},
   "outputs": [],
   "source": [
    "avisosDetalleZIP = pd.read_csv('resources/zip/fiuba_6_avisos_detalle.csv')\n",
    "avisosDetalleMissing = pd.read_csv('resources/zip/fiuba_6_avisos_missing.csv')\n",
    "\n",
    "avisosDetallesCompletos = pd.concat([avisosDetalleZIP,avisosDetalleMissing])"
   ]
  },
  {
   "cell_type": "markdown",
   "metadata": {},
   "source": [
    "### Vistas "
   ]
  },
  {
   "cell_type": "code",
   "execution_count": null,
   "metadata": {},
   "outputs": [],
   "source": [
    "vistas['timestamp'] = pd.to_datetime(vistas['timestamp'])\n",
    "vistas['dateVista'] = pd.DatetimeIndex(vistas['timestamp']).date\n",
    "\n",
    "vistasGrouped = vistas.groupby(['dateVista','idpostulante','idAviso']).count();\n",
    "vistasGrouped = vistasGrouped.reset_index();\n",
    "\n",
    "vistasGrouped['cantidadVistas'] = vistasGrouped['timestamp'];\n",
    "vistasGrouped.drop('timestamp',axis=1,inplace=True)\n",
    "vistasForMerge = vistasGrouped[['idpostulante','idAviso']]\n"
   ]
  },
  {
   "cell_type": "markdown",
   "metadata": {},
   "source": [
    "### Postulaciones "
   ]
  },
  {
   "cell_type": "code",
   "execution_count": null,
   "metadata": {},
   "outputs": [],
   "source": [
    "avisosPostulados['cantPostulaciones'] = 1;\n",
    "avisosPostuladosGP = avisosPostulados.groupby(['idaviso','idpostulante']).sum()\n",
    "avisosPostuladosGP = avisosPostuladosGP.reset_index()\n",
    "avisosPostuladosGP.info"
   ]
  },
  {
   "cell_type": "code",
   "execution_count": null,
   "metadata": {},
   "outputs": [],
   "source": [
    "import datetime as dt\n",
    "\n",
    "def generoNOAvisos(cantParaArmar):\n",
    "    sumaNoPostulados = pd.DataFrame();\n",
    "    for i in range(int(cantParaArmar)):\n",
    "        print(\"--------------------- Iteracion de sample \" + str(i) +\" de \"+ str(cantParaArmar) +\"---------\");\n",
    "        vistasSample = vistasForMerge.sample(frac=0.1);\n",
    "        postulacionesSample = avisosPostuladosGP.sample(frac=0.1);\n",
    "\n",
    "        avisosNoVistos = pd.merge(postulacionesSample,vistasSample,left_on='idaviso',right_on='idAviso',how='right', indicator=True)\n",
    "        avisosNoVistosPosta = avisosNoVistos[avisosNoVistos['_merge'] == 'right_only']\n",
    "#avisosNoVistosFinal = avisosNoVistosPosta.drop(['idpostulante_x','datePostulacion','cantPostulaciones','_merge'],axis=1)\n",
    "        avisosNoVistosFinal = avisosNoVistosPosta.drop(['idpostulante_x','cantPostulaciones','_merge'],axis=1)\n",
    "        avisosNoVistosFinal['idaviso'] = avisosNoVistosFinal['idAviso'];\n",
    "        avisosNoVistosFinal['idpostulante'] = avisosNoVistosFinal['idpostulante_y'];\n",
    "        avisosNoVistosFinal.drop(['idpostulante_y','idAviso'],axis=1,inplace=True);\n",
    "        sumaNoPostulados = pd.concat([sumaNoPostulados,avisosNoVistosFinal])\n",
    "    return sumaNoPostulados;\n",
    "\n",
    "\n",
    "def generoArchivosNOPostulado(cantArchivos,cantInicial,cantIteracionesPorArhivo):\n",
    "    print(\"--- HORA DE INICIO PROCESO TOTAL \"+ str(dt.datetime.now()) + \"-----\");\n",
    "    for i in range(int(cantInicial),int(cantArchivos)):\n",
    "        print(\"---------- Generando archivos \" + str(i) +\" de \"+ str(cantArchivos) +\"-------\");\n",
    "        print(\"---------- HORA DE INICIO \"+ str(dt.datetime.now()) + \"-------\");\n",
    "        sumaTotalNoAvisos = generoNOAvisos(int(cantIteracionesPorArhivo));\n",
    "        sumaTotalNoAvisosSinDuplicados = sumaTotalNoAvisos.drop_duplicates().reset_index()\n",
    "        sumaTotalNoAvisosSinDuplicados['sepostulo'] = 0\n",
    "        sumaTotalNoAvisosSinDuplicados = sumaTotalNoAvisosSinDuplicados[['idpostulante','idaviso','sepostulo']]\n",
    "        sumaTotalNoAvisosSinDuplicados.to_csv('nopostulados/nopostulados-'+str(i)+'.csv');\n",
    "        print(\"---------- HORA DE FIN \"+ str(dt.datetime.now()) + \"--------------------------\");\n",
    "    print(\"--- HORA DE FIN PROCESO TOTAL \"+ str(dt.datetime.now()) + \"-----\");\n",
    "        "
   ]
  },
  {
   "cell_type": "code",
   "execution_count": null,
   "metadata": {},
   "outputs": [],
   "source": [
    "##Llamamos proceso\n",
    "\n",
    "generoArchivosNOPostulado(15,10,20);"
   ]
  },
  {
   "cell_type": "markdown",
   "metadata": {},
   "source": [
    "# Proceso II"
   ]
  },
  {
   "cell_type": "code",
   "execution_count": 3,
   "metadata": {},
   "outputs": [],
   "source": [
    "vistasChiquito = vistas[['idpostulante','idAviso']]\n",
    "vistasChiquito['idaviso'] = vistas['idAviso']\n",
    "vistasChiquito.drop('idAviso',axis=1,inplace=True)\n",
    "\n",
    "pf = postulaciones[['idpostulante']].drop_duplicates()"
   ]
  },
  {
   "cell_type": "code",
   "execution_count": null,
   "metadata": {},
   "outputs": [],
   "source": [
    "noPostuladosTotal = pd.DataFrame();\n",
    "for i in range(0,238482,5000):\n",
    "    print(\"----\" + str(i) + \"-----\")\n",
    "    pfRows = pf.iloc[i:i+5000]\n",
    "    avisosConPostulacion = pd.merge(postulaciones,pfRows,on='idpostulante',how='inner')\n",
    "    todos = pd.merge(vistasChiquito,avisosConPostulacion,on='idaviso',how='left')       \n",
    "    noPostuTodos = todos[todos['idpostulante_y'].isnull()];\n",
    "    noPostuFiltrados = noPostuTodos.sample(n=10);\n",
    "    noPostuFiltrados = noPostuTodos;\n",
    "    noPostuladosTotal = pd.concat([noPostuFiltrados,noPostuladosTotal])\n",
    "\n",
    "   \n",
    "noPostuladosTotal.to_csv('nopostulados/noPostuladosNG.csv')"
   ]
  }
 ],
 "metadata": {
  "kernelspec": {
   "display_name": "Python 3",
   "language": "python",
   "name": "python3"
  },
  "language_info": {
   "codemirror_mode": {
    "name": "ipython",
    "version": 3
   },
   "file_extension": ".py",
   "mimetype": "text/x-python",
   "name": "python",
   "nbconvert_exporter": "python",
   "pygments_lexer": "ipython3",
   "version": "3.6.3"
  }
 },
 "nbformat": 4,
 "nbformat_minor": 2
}
