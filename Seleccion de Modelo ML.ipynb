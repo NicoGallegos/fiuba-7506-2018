{
 "cells": [
  {
   "cell_type": "code",
   "execution_count": 1,
   "metadata": {},
   "outputs": [],
   "source": [
    "import pandas as pd\n",
    "import numpy as np\n",
    "import seaborn as sns\n",
    "import matplotlib.pyplot as plt\n",
    "\n",
    "\n",
    "\n",
    "postulantesEducacion = pd.read_csv('resources/tar/fiuba_1_postulantes_educacion.csv')\n",
    "postulantesGenero = pd.read_csv('resources/tar/fiuba_2_postulantes_genero_y_edad.csv')\n",
    "vistas = pd.read_csv('resources/tar/fiuba_3_vistas.csv')\n",
    "postulaciones = pd.read_csv('resources/tar/fiuba_4_postulaciones.csv')\n",
    "avisosOnline = pd.read_csv('resources/tar/fiuba_5_avisos_online.csv')\n",
    "avisosDetalle = pd.read_csv('resources/tar/fiuba_6_avisos_detalle.csv')\n",
    "\n",
    "#cargamos zips\n",
    "avisosDetalleZIP = pd.read_csv('resources/zip/fiuba_6_avisos_detalle.csv')\n",
    "avisosDetalleMissing = pd.read_csv('resources/zip/fiuba_6_avisos_missing.csv')\n",
    "\n",
    "postulantesEducacionZip = pd.read_csv('resources/zip/fiuba_1_postulantes_educacion.csv')\n",
    "postulantesGeneroZip = pd.read_csv('resources/zip/fiuba_2_postulantes_genero_y_edad.csv')\n",
    "\n",
    "vistasZIP = pd.read_csv('resources/zip/fiuba_3_vistas.csv')"
   ]
  },
  {
   "cell_type": "code",
   "execution_count": 2,
   "metadata": {},
   "outputs": [],
   "source": [
    "testingSet = pd.read_csv('resources/test_final_100k.csv')"
   ]
  },
  {
   "cell_type": "markdown",
   "metadata": {},
   "source": []
  },
  {
   "cell_type": "markdown",
   "metadata": {
    "collapsed": true
   },
   "source": [
    "#### Para mi prueba de algoritmo de Machine Learning, primero preparo algunos datos y genero un dataset para probar y evaluar mis resultados."
   ]
  },
  {
   "cell_type": "markdown",
   "metadata": {},
   "source": [
    "# Transformamos Categorias en Numerical"
   ]
  },
  {
   "cell_type": "markdown",
   "metadata": {},
   "source": [
    "## PostulantesGenero"
   ]
  },
  {
   "cell_type": "code",
   "execution_count": 2,
   "metadata": {},
   "outputs": [
    {
     "data": {
      "text/html": [
       "<div>\n",
       "<style>\n",
       "    .dataframe thead tr:only-child th {\n",
       "        text-align: right;\n",
       "    }\n",
       "\n",
       "    .dataframe thead th {\n",
       "        text-align: left;\n",
       "    }\n",
       "\n",
       "    .dataframe tbody tr th {\n",
       "        vertical-align: top;\n",
       "    }\n",
       "</style>\n",
       "<table border=\"1\" class=\"dataframe\">\n",
       "  <thead>\n",
       "    <tr style=\"text-align: right;\">\n",
       "      <th></th>\n",
       "      <th>idpostulante</th>\n",
       "      <th>fechanacimiento</th>\n",
       "      <th>sexo</th>\n",
       "    </tr>\n",
       "  </thead>\n",
       "  <tbody>\n",
       "    <tr>\n",
       "      <th>0</th>\n",
       "      <td>6MM</td>\n",
       "      <td>1985-01-01</td>\n",
       "      <td>MASC</td>\n",
       "    </tr>\n",
       "    <tr>\n",
       "      <th>1</th>\n",
       "      <td>Nzz</td>\n",
       "      <td>NaN</td>\n",
       "      <td>NO_DECLARA</td>\n",
       "    </tr>\n",
       "    <tr>\n",
       "      <th>2</th>\n",
       "      <td>ZX1</td>\n",
       "      <td>NaN</td>\n",
       "      <td>NO_DECLARA</td>\n",
       "    </tr>\n",
       "    <tr>\n",
       "      <th>3</th>\n",
       "      <td>Nq5</td>\n",
       "      <td>NaN</td>\n",
       "      <td>NO_DECLARA</td>\n",
       "    </tr>\n",
       "    <tr>\n",
       "      <th>4</th>\n",
       "      <td>ebE</td>\n",
       "      <td>1952-07-07</td>\n",
       "      <td>MASC</td>\n",
       "    </tr>\n",
       "  </tbody>\n",
       "</table>\n",
       "</div>"
      ],
      "text/plain": [
       "  idpostulante fechanacimiento        sexo\n",
       "0          6MM      1985-01-01        MASC\n",
       "1          Nzz             NaN  NO_DECLARA\n",
       "2          ZX1             NaN  NO_DECLARA\n",
       "3          Nq5             NaN  NO_DECLARA\n",
       "4          ebE      1952-07-07        MASC"
      ]
     },
     "execution_count": 2,
     "metadata": {},
     "output_type": "execute_result"
    }
   ],
   "source": [
    "postulantesGenero.head()"
   ]
  },
  {
   "cell_type": "markdown",
   "metadata": {},
   "source": [
    "## Transformamos fecha de nacimiento en edad"
   ]
  },
  {
   "cell_type": "code",
   "execution_count": 3,
   "metadata": {},
   "outputs": [],
   "source": [
    "import datetime as dt\n",
    "\n",
    "postulantesGenero['fechanacimiento'] = pd.to_datetime(postulantesGenero['fechanacimiento'], format='%Y-%m-%d', errors='coerce')\n",
    "postulantesGenero = postulantesGenero.dropna(subset=['fechanacimiento'])\n",
    "\n",
    "hoy = pd.Timestamp(dt.datetime.now())\n",
    "postulantesGenero['edad'] = (hoy - postulantesGenero['fechanacimiento']).astype('<m8[Y]')"
   ]
  },
  {
   "cell_type": "code",
   "execution_count": null,
   "metadata": {},
   "outputs": [],
   "source": []
  },
  {
   "cell_type": "code",
   "execution_count": 4,
   "metadata": {},
   "outputs": [
    {
     "data": {
      "text/html": [
       "<div>\n",
       "<style>\n",
       "    .dataframe thead tr:only-child th {\n",
       "        text-align: right;\n",
       "    }\n",
       "\n",
       "    .dataframe thead th {\n",
       "        text-align: left;\n",
       "    }\n",
       "\n",
       "    .dataframe tbody tr th {\n",
       "        vertical-align: top;\n",
       "    }\n",
       "</style>\n",
       "<table border=\"1\" class=\"dataframe\">\n",
       "  <thead>\n",
       "    <tr style=\"text-align: right;\">\n",
       "      <th></th>\n",
       "      <th>idpostulante</th>\n",
       "      <th>fechanacimiento</th>\n",
       "      <th>sexo</th>\n",
       "      <th>edad</th>\n",
       "    </tr>\n",
       "  </thead>\n",
       "  <tbody>\n",
       "    <tr>\n",
       "      <th>137797</th>\n",
       "      <td>PmqM3oj</td>\n",
       "      <td>1982-12-15</td>\n",
       "      <td>0.0</td>\n",
       "      <td>35.0</td>\n",
       "    </tr>\n",
       "  </tbody>\n",
       "</table>\n",
       "</div>"
      ],
      "text/plain": [
       "       idpostulante fechanacimiento sexo  edad\n",
       "137797      PmqM3oj      1982-12-15  0.0  35.0"
      ]
     },
     "execution_count": 4,
     "metadata": {},
     "output_type": "execute_result"
    }
   ],
   "source": [
    "postulantesGenero[postulantesGenero['idpostulante'] == 'PmqM3oj']  #caso raro"
   ]
  },
  {
   "cell_type": "code",
   "execution_count": 5,
   "metadata": {},
   "outputs": [],
   "source": [
    "postulantesGeneroOHC = pd.concat([postulantesGenero,pd.get_dummies(postulantesGenero['sexo'], prefix='sexo')],axis=1)"
   ]
  },
  {
   "cell_type": "code",
   "execution_count": 6,
   "metadata": {},
   "outputs": [],
   "source": [
    "postulantesGeneroOHC = postulantesGeneroOHC[postulantesGeneroOHC['sexo_0.0'] == 0]\n",
    "postulantesGeneroOHC = postulantesGeneroOHC[['idpostulante','fechanacimiento','sexo_FEM','sexo_MASC','sexo_NO_DECLARA','edad']]"
   ]
  },
  {
   "cell_type": "code",
   "execution_count": 91,
   "metadata": {},
   "outputs": [
    {
     "data": {
      "text/html": [
       "<div>\n",
       "<style>\n",
       "    .dataframe thead tr:only-child th {\n",
       "        text-align: right;\n",
       "    }\n",
       "\n",
       "    .dataframe thead th {\n",
       "        text-align: left;\n",
       "    }\n",
       "\n",
       "    .dataframe tbody tr th {\n",
       "        vertical-align: top;\n",
       "    }\n",
       "</style>\n",
       "<table border=\"1\" class=\"dataframe\">\n",
       "  <thead>\n",
       "    <tr style=\"text-align: right;\">\n",
       "      <th></th>\n",
       "      <th>idpostulante</th>\n",
       "      <th>fechanacimiento</th>\n",
       "      <th>sexo_FEM</th>\n",
       "      <th>sexo_MASC</th>\n",
       "      <th>sexo_NO_DECLARA</th>\n",
       "      <th>edad</th>\n",
       "    </tr>\n",
       "  </thead>\n",
       "  <tbody>\n",
       "    <tr>\n",
       "      <th>0</th>\n",
       "      <td>6MM</td>\n",
       "      <td>1985-01-01</td>\n",
       "      <td>0</td>\n",
       "      <td>1</td>\n",
       "      <td>0</td>\n",
       "      <td>33.0</td>\n",
       "    </tr>\n",
       "    <tr>\n",
       "      <th>4</th>\n",
       "      <td>ebE</td>\n",
       "      <td>1952-07-07</td>\n",
       "      <td>0</td>\n",
       "      <td>1</td>\n",
       "      <td>0</td>\n",
       "      <td>65.0</td>\n",
       "    </tr>\n",
       "    <tr>\n",
       "      <th>7</th>\n",
       "      <td>NAjM</td>\n",
       "      <td>1962-06-09</td>\n",
       "      <td>1</td>\n",
       "      <td>0</td>\n",
       "      <td>0</td>\n",
       "      <td>56.0</td>\n",
       "    </tr>\n",
       "    <tr>\n",
       "      <th>10</th>\n",
       "      <td>ZjlZ</td>\n",
       "      <td>1970-01-25</td>\n",
       "      <td>0</td>\n",
       "      <td>1</td>\n",
       "      <td>0</td>\n",
       "      <td>48.0</td>\n",
       "    </tr>\n",
       "    <tr>\n",
       "      <th>11</th>\n",
       "      <td>8wPl</td>\n",
       "      <td>1973-03-13</td>\n",
       "      <td>0</td>\n",
       "      <td>1</td>\n",
       "      <td>0</td>\n",
       "      <td>45.0</td>\n",
       "    </tr>\n",
       "  </tbody>\n",
       "</table>\n",
       "</div>"
      ],
      "text/plain": [
       "   idpostulante fechanacimiento  sexo_FEM  sexo_MASC  sexo_NO_DECLARA  edad\n",
       "0           6MM      1985-01-01         0          1                0  33.0\n",
       "4           ebE      1952-07-07         0          1                0  65.0\n",
       "7          NAjM      1962-06-09         1          0                0  56.0\n",
       "10         ZjlZ      1970-01-25         0          1                0  48.0\n",
       "11         8wPl      1973-03-13         0          1                0  45.0"
      ]
     },
     "execution_count": 91,
     "metadata": {},
     "output_type": "execute_result"
    }
   ],
   "source": [
    "postulantesGeneroOHC.head()"
   ]
  },
  {
   "cell_type": "markdown",
   "metadata": {},
   "source": [
    "## Avisos Detalle"
   ]
  },
  {
   "cell_type": "code",
   "execution_count": 11,
   "metadata": {},
   "outputs": [
    {
     "data": {
      "text/html": [
       "<div>\n",
       "<style>\n",
       "    .dataframe thead tr:only-child th {\n",
       "        text-align: right;\n",
       "    }\n",
       "\n",
       "    .dataframe thead th {\n",
       "        text-align: left;\n",
       "    }\n",
       "\n",
       "    .dataframe tbody tr th {\n",
       "        vertical-align: top;\n",
       "    }\n",
       "</style>\n",
       "<table border=\"1\" class=\"dataframe\">\n",
       "  <thead>\n",
       "    <tr style=\"text-align: right;\">\n",
       "      <th></th>\n",
       "      <th>idaviso</th>\n",
       "      <th>idpais</th>\n",
       "      <th>titulo</th>\n",
       "      <th>descripcion</th>\n",
       "      <th>nombre_zona</th>\n",
       "      <th>ciudad</th>\n",
       "      <th>mapacalle</th>\n",
       "      <th>tipo_de_trabajo</th>\n",
       "      <th>nivel_laboral</th>\n",
       "      <th>nombre_area</th>\n",
       "      <th>denominacion_empresa</th>\n",
       "    </tr>\n",
       "  </thead>\n",
       "  <tbody>\n",
       "    <tr>\n",
       "      <th>0</th>\n",
       "      <td>1111556097</td>\n",
       "      <td>1</td>\n",
       "      <td>Responsable de Marketing-Producto Div. Constru...</td>\n",
       "      <td>&lt;p&gt;Buscamos un &lt;strong&gt;Responsable de Producto...</td>\n",
       "      <td>Gran Buenos Aires</td>\n",
       "      <td>NaN</td>\n",
       "      <td>NaN</td>\n",
       "      <td>Full-time</td>\n",
       "      <td>Senior / Semi-Senior</td>\n",
       "      <td>Desarrollo de Negocios</td>\n",
       "      <td>Sinteplast S.A.</td>\n",
       "    </tr>\n",
       "    <tr>\n",
       "      <th>1</th>\n",
       "      <td>1111949392</td>\n",
       "      <td>1</td>\n",
       "      <td>Asesor de Servicios - Postventa Chevrolet</td>\n",
       "      <td>&lt;p&gt;&lt;span style=\"\"&gt;Para nuestro cliente, conces...</td>\n",
       "      <td>Gran Buenos Aires</td>\n",
       "      <td>NaN</td>\n",
       "      <td>NaN</td>\n",
       "      <td>Full-time</td>\n",
       "      <td>Senior / Semi-Senior</td>\n",
       "      <td>Ingeniería  Eléctrica y Electrónica</td>\n",
       "      <td>Roycan</td>\n",
       "    </tr>\n",
       "    <tr>\n",
       "      <th>2</th>\n",
       "      <td>1112145935</td>\n",
       "      <td>1</td>\n",
       "      <td>Analistas de Impuestos Sr Ssr y Jr</td>\n",
       "      <td>&lt;p&gt;Importante Estudio de Auditoria y Consultor...</td>\n",
       "      <td>Gran Buenos Aires</td>\n",
       "      <td>NaN</td>\n",
       "      <td>NaN</td>\n",
       "      <td>Full-time</td>\n",
       "      <td>Senior / Semi-Senior</td>\n",
       "      <td>Impuestos</td>\n",
       "      <td>Lighthouse Smart</td>\n",
       "    </tr>\n",
       "    <tr>\n",
       "      <th>3</th>\n",
       "      <td>1112146010</td>\n",
       "      <td>1</td>\n",
       "      <td>Software Engineer</td>\n",
       "      <td>&lt;p&gt; &lt;/p&gt;&lt;p&gt;Chevron is a multinational company ...</td>\n",
       "      <td>Gran Buenos Aires</td>\n",
       "      <td>NaN</td>\n",
       "      <td>NaN</td>\n",
       "      <td>Full-time</td>\n",
       "      <td>Senior / Semi-Senior</td>\n",
       "      <td>Programación</td>\n",
       "      <td>Chevron Buenos Aires Shared Services Center</td>\n",
       "    </tr>\n",
       "    <tr>\n",
       "      <th>4</th>\n",
       "      <td>1112211475</td>\n",
       "      <td>1</td>\n",
       "      <td>Business Developer Manager</td>\n",
       "      <td>&lt;p&gt;Importante empresa de energías renovables, ...</td>\n",
       "      <td>Gran Buenos Aires</td>\n",
       "      <td>NaN</td>\n",
       "      <td>NaN</td>\n",
       "      <td>Full-time</td>\n",
       "      <td>Senior / Semi-Senior</td>\n",
       "      <td>Comercial</td>\n",
       "      <td>RANDSTAD</td>\n",
       "    </tr>\n",
       "  </tbody>\n",
       "</table>\n",
       "</div>"
      ],
      "text/plain": [
       "      idaviso  idpais                                             titulo  \\\n",
       "0  1111556097       1  Responsable de Marketing-Producto Div. Constru...   \n",
       "1  1111949392       1          Asesor de Servicios - Postventa Chevrolet   \n",
       "2  1112145935       1                 Analistas de Impuestos Sr Ssr y Jr   \n",
       "3  1112146010       1                                  Software Engineer   \n",
       "4  1112211475       1                         Business Developer Manager   \n",
       "\n",
       "                                         descripcion        nombre_zona  \\\n",
       "0  <p>Buscamos un <strong>Responsable de Producto...  Gran Buenos Aires   \n",
       "1  <p><span style=\"\">Para nuestro cliente, conces...  Gran Buenos Aires   \n",
       "2  <p>Importante Estudio de Auditoria y Consultor...  Gran Buenos Aires   \n",
       "3  <p> </p><p>Chevron is a multinational company ...  Gran Buenos Aires   \n",
       "4  <p>Importante empresa de energías renovables, ...  Gran Buenos Aires   \n",
       "\n",
       "  ciudad mapacalle tipo_de_trabajo         nivel_laboral  \\\n",
       "0    NaN       NaN       Full-time  Senior / Semi-Senior   \n",
       "1    NaN       NaN       Full-time  Senior / Semi-Senior   \n",
       "2    NaN       NaN       Full-time  Senior / Semi-Senior   \n",
       "3    NaN       NaN       Full-time  Senior / Semi-Senior   \n",
       "4    NaN       NaN       Full-time  Senior / Semi-Senior   \n",
       "\n",
       "                           nombre_area  \\\n",
       "0               Desarrollo de Negocios   \n",
       "1  Ingeniería  Eléctrica y Electrónica   \n",
       "2                            Impuestos   \n",
       "3                         Programación   \n",
       "4                            Comercial   \n",
       "\n",
       "                          denominacion_empresa  \n",
       "0                              Sinteplast S.A.  \n",
       "1                                       Roycan  \n",
       "2                             Lighthouse Smart  \n",
       "3  Chevron Buenos Aires Shared Services Center  \n",
       "4                                     RANDSTAD  "
      ]
     },
     "execution_count": 11,
     "metadata": {},
     "output_type": "execute_result"
    }
   ],
   "source": [
    "avisosDetalle.head()"
   ]
  },
  {
   "cell_type": "markdown",
   "metadata": {},
   "source": [
    "#### Convierto datos string en numericals"
   ]
  },
  {
   "cell_type": "code",
   "execution_count": 93,
   "metadata": {},
   "outputs": [],
   "source": [
    "#Para losrimeros casos, me voy a quedar con la zona, tipo de trabajo, nivel laboral y nombre de area\n",
    "avisosDetalleFiltered = avisosDetalle[['idaviso','nombre_zona','tipo_de_trabajo','nivel_laboral']]"
   ]
  },
  {
   "cell_type": "code",
   "execution_count": 95,
   "metadata": {},
   "outputs": [],
   "source": [
    "avisosDetalleFiltered = avisosDetalleFiltered.loc[avisosDetalleFiltered['nombre_zona'].notnull(),:]\n",
    "avisosDetalleFiltered = avisosDetalleFiltered.loc[avisosDetalleFiltered['tipo_de_trabajo'].notnull(),:]\n",
    "avisosDetalleFiltered = avisosDetalleFiltered.loc[avisosDetalleFiltered['nivel_laboral'].notnull(),:]"
   ]
  },
  {
   "cell_type": "code",
   "execution_count": null,
   "metadata": {},
   "outputs": [],
   "source": []
  },
  {
   "cell_type": "code",
   "execution_count": 96,
   "metadata": {},
   "outputs": [],
   "source": [
    "avisosDetalleOHC = pd.concat([avisosDetalleFiltered,pd.get_dummies(avisosDetalleFiltered['nombre_zona'], prefix='zona')],axis=1)\n",
    "avisosDetalleOHC = pd.concat([avisosDetalleOHC,pd.get_dummies(avisosDetalleFiltered['tipo_de_trabajo'], prefix='tipo')],axis=1)\n",
    "avisosDetalleOHC = pd.concat([avisosDetalleOHC,pd.get_dummies(avisosDetalleFiltered['nivel_laboral'], prefix='nivel')],axis=1)"
   ]
  },
  {
   "cell_type": "code",
   "execution_count": 97,
   "metadata": {},
   "outputs": [],
   "source": [
    "avisosDetalleOHC.drop(['nombre_zona'],axis=1, inplace=True)\n",
    "avisosDetalleOHC.drop(['tipo_de_trabajo'],axis=1, inplace=True)\n",
    "avisosDetalleOHC.drop(['nivel_laboral'],axis=1, inplace=True)"
   ]
  },
  {
   "cell_type": "code",
   "execution_count": 98,
   "metadata": {},
   "outputs": [
    {
     "data": {
      "text/html": [
       "<div>\n",
       "<style>\n",
       "    .dataframe thead tr:only-child th {\n",
       "        text-align: right;\n",
       "    }\n",
       "\n",
       "    .dataframe thead th {\n",
       "        text-align: left;\n",
       "    }\n",
       "\n",
       "    .dataframe tbody tr th {\n",
       "        vertical-align: top;\n",
       "    }\n",
       "</style>\n",
       "<table border=\"1\" class=\"dataframe\">\n",
       "  <thead>\n",
       "    <tr style=\"text-align: right;\">\n",
       "      <th></th>\n",
       "      <th>idaviso</th>\n",
       "      <th>zona_Capital Federal</th>\n",
       "      <th>zona_GBA Oeste</th>\n",
       "      <th>zona_Gran Buenos Aires</th>\n",
       "      <th>tipo_Fines de Semana</th>\n",
       "      <th>tipo_Full-time</th>\n",
       "      <th>tipo_Part-time</th>\n",
       "      <th>tipo_Pasantia</th>\n",
       "      <th>tipo_Por Contrato</th>\n",
       "      <th>tipo_Por Horas</th>\n",
       "      <th>tipo_Primer empleo</th>\n",
       "      <th>tipo_Teletrabajo</th>\n",
       "      <th>tipo_Temporario</th>\n",
       "      <th>tipo_Voluntario</th>\n",
       "      <th>nivel_Gerencia / Alta Gerencia / Dirección</th>\n",
       "      <th>nivel_Jefe / Supervisor / Responsable</th>\n",
       "      <th>nivel_Junior</th>\n",
       "      <th>nivel_Otro</th>\n",
       "      <th>nivel_Senior / Semi-Senior</th>\n",
       "    </tr>\n",
       "  </thead>\n",
       "  <tbody>\n",
       "    <tr>\n",
       "      <th>0</th>\n",
       "      <td>1111556097</td>\n",
       "      <td>0</td>\n",
       "      <td>0</td>\n",
       "      <td>1</td>\n",
       "      <td>0</td>\n",
       "      <td>1</td>\n",
       "      <td>0</td>\n",
       "      <td>0</td>\n",
       "      <td>0</td>\n",
       "      <td>0</td>\n",
       "      <td>0</td>\n",
       "      <td>0</td>\n",
       "      <td>0</td>\n",
       "      <td>0</td>\n",
       "      <td>0</td>\n",
       "      <td>0</td>\n",
       "      <td>0</td>\n",
       "      <td>0</td>\n",
       "      <td>1</td>\n",
       "    </tr>\n",
       "    <tr>\n",
       "      <th>1</th>\n",
       "      <td>1111949392</td>\n",
       "      <td>0</td>\n",
       "      <td>0</td>\n",
       "      <td>1</td>\n",
       "      <td>0</td>\n",
       "      <td>1</td>\n",
       "      <td>0</td>\n",
       "      <td>0</td>\n",
       "      <td>0</td>\n",
       "      <td>0</td>\n",
       "      <td>0</td>\n",
       "      <td>0</td>\n",
       "      <td>0</td>\n",
       "      <td>0</td>\n",
       "      <td>0</td>\n",
       "      <td>0</td>\n",
       "      <td>0</td>\n",
       "      <td>0</td>\n",
       "      <td>1</td>\n",
       "    </tr>\n",
       "    <tr>\n",
       "      <th>2</th>\n",
       "      <td>1112145935</td>\n",
       "      <td>0</td>\n",
       "      <td>0</td>\n",
       "      <td>1</td>\n",
       "      <td>0</td>\n",
       "      <td>1</td>\n",
       "      <td>0</td>\n",
       "      <td>0</td>\n",
       "      <td>0</td>\n",
       "      <td>0</td>\n",
       "      <td>0</td>\n",
       "      <td>0</td>\n",
       "      <td>0</td>\n",
       "      <td>0</td>\n",
       "      <td>0</td>\n",
       "      <td>0</td>\n",
       "      <td>0</td>\n",
       "      <td>0</td>\n",
       "      <td>1</td>\n",
       "    </tr>\n",
       "    <tr>\n",
       "      <th>3</th>\n",
       "      <td>1112146010</td>\n",
       "      <td>0</td>\n",
       "      <td>0</td>\n",
       "      <td>1</td>\n",
       "      <td>0</td>\n",
       "      <td>1</td>\n",
       "      <td>0</td>\n",
       "      <td>0</td>\n",
       "      <td>0</td>\n",
       "      <td>0</td>\n",
       "      <td>0</td>\n",
       "      <td>0</td>\n",
       "      <td>0</td>\n",
       "      <td>0</td>\n",
       "      <td>0</td>\n",
       "      <td>0</td>\n",
       "      <td>0</td>\n",
       "      <td>0</td>\n",
       "      <td>1</td>\n",
       "    </tr>\n",
       "    <tr>\n",
       "      <th>4</th>\n",
       "      <td>1112211475</td>\n",
       "      <td>0</td>\n",
       "      <td>0</td>\n",
       "      <td>1</td>\n",
       "      <td>0</td>\n",
       "      <td>1</td>\n",
       "      <td>0</td>\n",
       "      <td>0</td>\n",
       "      <td>0</td>\n",
       "      <td>0</td>\n",
       "      <td>0</td>\n",
       "      <td>0</td>\n",
       "      <td>0</td>\n",
       "      <td>0</td>\n",
       "      <td>0</td>\n",
       "      <td>0</td>\n",
       "      <td>0</td>\n",
       "      <td>0</td>\n",
       "      <td>1</td>\n",
       "    </tr>\n",
       "  </tbody>\n",
       "</table>\n",
       "</div>"
      ],
      "text/plain": [
       "      idaviso  zona_Capital Federal  zona_GBA Oeste  zona_Gran Buenos Aires  \\\n",
       "0  1111556097                     0               0                       1   \n",
       "1  1111949392                     0               0                       1   \n",
       "2  1112145935                     0               0                       1   \n",
       "3  1112146010                     0               0                       1   \n",
       "4  1112211475                     0               0                       1   \n",
       "\n",
       "   tipo_Fines de Semana  tipo_Full-time  tipo_Part-time  tipo_Pasantia  \\\n",
       "0                     0               1               0              0   \n",
       "1                     0               1               0              0   \n",
       "2                     0               1               0              0   \n",
       "3                     0               1               0              0   \n",
       "4                     0               1               0              0   \n",
       "\n",
       "   tipo_Por Contrato  tipo_Por Horas  tipo_Primer empleo  tipo_Teletrabajo  \\\n",
       "0                  0               0                   0                 0   \n",
       "1                  0               0                   0                 0   \n",
       "2                  0               0                   0                 0   \n",
       "3                  0               0                   0                 0   \n",
       "4                  0               0                   0                 0   \n",
       "\n",
       "   tipo_Temporario  tipo_Voluntario  \\\n",
       "0                0                0   \n",
       "1                0                0   \n",
       "2                0                0   \n",
       "3                0                0   \n",
       "4                0                0   \n",
       "\n",
       "   nivel_Gerencia / Alta Gerencia / Dirección  \\\n",
       "0                                           0   \n",
       "1                                           0   \n",
       "2                                           0   \n",
       "3                                           0   \n",
       "4                                           0   \n",
       "\n",
       "   nivel_Jefe / Supervisor / Responsable  nivel_Junior  nivel_Otro  \\\n",
       "0                                      0             0           0   \n",
       "1                                      0             0           0   \n",
       "2                                      0             0           0   \n",
       "3                                      0             0           0   \n",
       "4                                      0             0           0   \n",
       "\n",
       "   nivel_Senior / Semi-Senior  \n",
       "0                           1  \n",
       "1                           1  \n",
       "2                           1  \n",
       "3                           1  \n",
       "4                           1  "
      ]
     },
     "execution_count": 98,
     "metadata": {},
     "output_type": "execute_result"
    }
   ],
   "source": [
    "avisosDetalleOHC.head()"
   ]
  },
  {
   "cell_type": "code",
   "execution_count": null,
   "metadata": {},
   "outputs": [],
   "source": []
  },
  {
   "cell_type": "code",
   "execution_count": 99,
   "metadata": {},
   "outputs": [
    {
     "data": {
      "text/plain": [
       "idpostulante    4909641\n",
       "idaviso         4909641\n",
       "dtype: int64"
      ]
     },
     "execution_count": 99,
     "metadata": {},
     "output_type": "execute_result"
    }
   ],
   "source": [
    "postulacionesFiltered = postulaciones[['idpostulante','idaviso']]\n",
    "postulacionesFiltered.count()"
   ]
  },
  {
   "cell_type": "code",
   "execution_count": 100,
   "metadata": {},
   "outputs": [
    {
     "data": {
      "text/plain": [
       "idpostulante    4909025\n",
       "idaviso         4909025\n",
       "dtype: int64"
      ]
     },
     "execution_count": 100,
     "metadata": {},
     "output_type": "execute_result"
    }
   ],
   "source": [
    "postulacionesFiltered =  postulacionesFiltered.drop_duplicates()\n",
    "postulacionesFiltered.count()"
   ]
  },
  {
   "cell_type": "code",
   "execution_count": 103,
   "metadata": {},
   "outputs": [
    {
     "data": {
      "text/plain": [
       "idpostulante    2455\n",
       "idaviso         2455\n",
       "dtype: int64"
      ]
     },
     "execution_count": 103,
     "metadata": {},
     "output_type": "execute_result"
    }
   ],
   "source": [
    "postulacionesSample = postulacionesFiltered.sample(frac=0.0005)\n",
    "postulacionesSample.count()"
   ]
  },
  {
   "cell_type": "code",
   "execution_count": 112,
   "metadata": {},
   "outputs": [],
   "source": [
    "todoMergeado = pd.merge(postulacionesSample,avisosDetalleOHC,how='inner',left_on='idaviso',right_on='idaviso')\n",
    "todoMergeado = pd.merge(todoMergeado,postulantesGeneroOHC, how='inner', left_on='idpostulante',right_on='idpostulante')"
   ]
  },
  {
   "cell_type": "code",
   "execution_count": 113,
   "metadata": {},
   "outputs": [],
   "source": [
    "todoMergeado['sepostulo'] = 1"
   ]
  },
  {
   "cell_type": "code",
   "execution_count": 114,
   "metadata": {},
   "outputs": [
    {
     "data": {
      "text/html": [
       "<div>\n",
       "<style>\n",
       "    .dataframe thead tr:only-child th {\n",
       "        text-align: right;\n",
       "    }\n",
       "\n",
       "    .dataframe thead th {\n",
       "        text-align: left;\n",
       "    }\n",
       "\n",
       "    .dataframe tbody tr th {\n",
       "        vertical-align: top;\n",
       "    }\n",
       "</style>\n",
       "<table border=\"1\" class=\"dataframe\">\n",
       "  <thead>\n",
       "    <tr style=\"text-align: right;\">\n",
       "      <th></th>\n",
       "      <th>idpostulante</th>\n",
       "      <th>idaviso</th>\n",
       "      <th>zona_Capital Federal</th>\n",
       "      <th>zona_GBA Oeste</th>\n",
       "      <th>zona_Gran Buenos Aires</th>\n",
       "      <th>tipo_Fines de Semana</th>\n",
       "      <th>tipo_Full-time</th>\n",
       "      <th>tipo_Part-time</th>\n",
       "      <th>tipo_Pasantia</th>\n",
       "      <th>tipo_Por Contrato</th>\n",
       "      <th>...</th>\n",
       "      <th>nivel_Jefe / Supervisor / Responsable</th>\n",
       "      <th>nivel_Junior</th>\n",
       "      <th>nivel_Otro</th>\n",
       "      <th>nivel_Senior / Semi-Senior</th>\n",
       "      <th>fechanacimiento</th>\n",
       "      <th>sexo_FEM</th>\n",
       "      <th>sexo_MASC</th>\n",
       "      <th>sexo_NO_DECLARA</th>\n",
       "      <th>edad</th>\n",
       "      <th>sepostulo</th>\n",
       "    </tr>\n",
       "  </thead>\n",
       "  <tbody>\n",
       "    <tr>\n",
       "      <th>0</th>\n",
       "      <td>Bm5l6PR</td>\n",
       "      <td>1112410160</td>\n",
       "      <td>0</td>\n",
       "      <td>0</td>\n",
       "      <td>1</td>\n",
       "      <td>0</td>\n",
       "      <td>1</td>\n",
       "      <td>0</td>\n",
       "      <td>0</td>\n",
       "      <td>0</td>\n",
       "      <td>...</td>\n",
       "      <td>1</td>\n",
       "      <td>0</td>\n",
       "      <td>0</td>\n",
       "      <td>0</td>\n",
       "      <td>1995-07-16</td>\n",
       "      <td>1</td>\n",
       "      <td>0</td>\n",
       "      <td>0</td>\n",
       "      <td>22.0</td>\n",
       "      <td>1</td>\n",
       "    </tr>\n",
       "    <tr>\n",
       "      <th>1</th>\n",
       "      <td>NVL1x5</td>\n",
       "      <td>1112326623</td>\n",
       "      <td>1</td>\n",
       "      <td>0</td>\n",
       "      <td>0</td>\n",
       "      <td>0</td>\n",
       "      <td>1</td>\n",
       "      <td>0</td>\n",
       "      <td>0</td>\n",
       "      <td>0</td>\n",
       "      <td>...</td>\n",
       "      <td>0</td>\n",
       "      <td>0</td>\n",
       "      <td>0</td>\n",
       "      <td>1</td>\n",
       "      <td>1987-10-29</td>\n",
       "      <td>1</td>\n",
       "      <td>0</td>\n",
       "      <td>0</td>\n",
       "      <td>30.0</td>\n",
       "      <td>1</td>\n",
       "    </tr>\n",
       "    <tr>\n",
       "      <th>2</th>\n",
       "      <td>rm09eOe</td>\n",
       "      <td>1112296005</td>\n",
       "      <td>0</td>\n",
       "      <td>0</td>\n",
       "      <td>1</td>\n",
       "      <td>0</td>\n",
       "      <td>1</td>\n",
       "      <td>0</td>\n",
       "      <td>0</td>\n",
       "      <td>0</td>\n",
       "      <td>...</td>\n",
       "      <td>0</td>\n",
       "      <td>0</td>\n",
       "      <td>0</td>\n",
       "      <td>1</td>\n",
       "      <td>1988-12-16</td>\n",
       "      <td>0</td>\n",
       "      <td>1</td>\n",
       "      <td>0</td>\n",
       "      <td>29.0</td>\n",
       "      <td>1</td>\n",
       "    </tr>\n",
       "    <tr>\n",
       "      <th>3</th>\n",
       "      <td>rmKX8KA</td>\n",
       "      <td>1112296005</td>\n",
       "      <td>0</td>\n",
       "      <td>0</td>\n",
       "      <td>1</td>\n",
       "      <td>0</td>\n",
       "      <td>1</td>\n",
       "      <td>0</td>\n",
       "      <td>0</td>\n",
       "      <td>0</td>\n",
       "      <td>...</td>\n",
       "      <td>0</td>\n",
       "      <td>0</td>\n",
       "      <td>0</td>\n",
       "      <td>1</td>\n",
       "      <td>1983-01-17</td>\n",
       "      <td>0</td>\n",
       "      <td>1</td>\n",
       "      <td>0</td>\n",
       "      <td>35.0</td>\n",
       "      <td>1</td>\n",
       "    </tr>\n",
       "    <tr>\n",
       "      <th>4</th>\n",
       "      <td>zv82BW8</td>\n",
       "      <td>1112296005</td>\n",
       "      <td>0</td>\n",
       "      <td>0</td>\n",
       "      <td>1</td>\n",
       "      <td>0</td>\n",
       "      <td>1</td>\n",
       "      <td>0</td>\n",
       "      <td>0</td>\n",
       "      <td>0</td>\n",
       "      <td>...</td>\n",
       "      <td>0</td>\n",
       "      <td>0</td>\n",
       "      <td>0</td>\n",
       "      <td>1</td>\n",
       "      <td>1994-03-07</td>\n",
       "      <td>0</td>\n",
       "      <td>1</td>\n",
       "      <td>0</td>\n",
       "      <td>24.0</td>\n",
       "      <td>1</td>\n",
       "    </tr>\n",
       "  </tbody>\n",
       "</table>\n",
       "<p>5 rows × 26 columns</p>\n",
       "</div>"
      ],
      "text/plain": [
       "  idpostulante     idaviso  zona_Capital Federal  zona_GBA Oeste  \\\n",
       "0      Bm5l6PR  1112410160                     0               0   \n",
       "1       NVL1x5  1112326623                     1               0   \n",
       "2      rm09eOe  1112296005                     0               0   \n",
       "3      rmKX8KA  1112296005                     0               0   \n",
       "4      zv82BW8  1112296005                     0               0   \n",
       "\n",
       "   zona_Gran Buenos Aires  tipo_Fines de Semana  tipo_Full-time  \\\n",
       "0                       1                     0               1   \n",
       "1                       0                     0               1   \n",
       "2                       1                     0               1   \n",
       "3                       1                     0               1   \n",
       "4                       1                     0               1   \n",
       "\n",
       "   tipo_Part-time  tipo_Pasantia  tipo_Por Contrato    ...      \\\n",
       "0               0              0                  0    ...       \n",
       "1               0              0                  0    ...       \n",
       "2               0              0                  0    ...       \n",
       "3               0              0                  0    ...       \n",
       "4               0              0                  0    ...       \n",
       "\n",
       "   nivel_Jefe / Supervisor / Responsable  nivel_Junior  nivel_Otro  \\\n",
       "0                                      1             0           0   \n",
       "1                                      0             0           0   \n",
       "2                                      0             0           0   \n",
       "3                                      0             0           0   \n",
       "4                                      0             0           0   \n",
       "\n",
       "   nivel_Senior / Semi-Senior  fechanacimiento  sexo_FEM  sexo_MASC  \\\n",
       "0                           0       1995-07-16         1          0   \n",
       "1                           1       1987-10-29         1          0   \n",
       "2                           1       1988-12-16         0          1   \n",
       "3                           1       1983-01-17         0          1   \n",
       "4                           1       1994-03-07         0          1   \n",
       "\n",
       "   sexo_NO_DECLARA  edad  sepostulo  \n",
       "0                0  22.0          1  \n",
       "1                0  30.0          1  \n",
       "2                0  29.0          1  \n",
       "3                0  35.0          1  \n",
       "4                0  24.0          1  \n",
       "\n",
       "[5 rows x 26 columns]"
      ]
     },
     "execution_count": 114,
     "metadata": {},
     "output_type": "execute_result"
    }
   ],
   "source": [
    "todoMergeado.head()"
   ]
  },
  {
   "cell_type": "code",
   "execution_count": 115,
   "metadata": {},
   "outputs": [],
   "source": [
    "todoMergeado.drop('fechanacimiento',axis=1,inplace=True)"
   ]
  },
  {
   "cell_type": "code",
   "execution_count": 120,
   "metadata": {},
   "outputs": [],
   "source": []
  },
  {
   "cell_type": "code",
   "execution_count": 122,
   "metadata": {},
   "outputs": [
    {
     "data": {
      "text/plain": [
       "2439"
      ]
     },
     "execution_count": 122,
     "metadata": {},
     "output_type": "execute_result"
    }
   ],
   "source": []
  },
  {
   "cell_type": "code",
   "execution_count": 124,
   "metadata": {},
   "outputs": [
    {
     "data": {
      "text/plain": [
       "2207"
      ]
     },
     "execution_count": 124,
     "metadata": {},
     "output_type": "execute_result"
    }
   ],
   "source": [
    "len(todoMergeado)"
   ]
  },
  {
   "cell_type": "markdown",
   "metadata": {},
   "source": [
    "# Armamos avisos para los que no se postulo"
   ]
  },
  {
   "cell_type": "code",
   "execution_count": 125,
   "metadata": {},
   "outputs": [
    {
     "data": {
      "text/plain": [
       "2435"
      ]
     },
     "execution_count": 125,
     "metadata": {},
     "output_type": "execute_result"
    }
   ],
   "source": [
    "nopostulados = pd.DataFrame()\n",
    "for i in range(0,len(todoMergeado.head(10)['idaviso'])):\n",
    "    rowAviso = todoMergeado.iloc[i:i+1]\n",
    "    postuRandom= postulaciones.sample(frac=0.00005)[['idpostulante']]\n",
    "    postuRandom['idaviso'] =rowAviso.iloc[0]['idaviso'];\n",
    "    nopostulados = pd.concat([nopostulados,postuRandom])\n",
    "    \n",
    "nopostulados = nopostulados.drop_duplicates()\n",
    "len(nopostulados)    "
   ]
  },
  {
   "cell_type": "code",
   "execution_count": null,
   "metadata": {},
   "outputs": [],
   "source": [
    "##Avisos para los que no se postulo\n",
    "\n",
    "##avisosNoPostulado = pd.merge(postulaciones,todoMergeado,on=['idpostulante', 'idaviso'] ,how='outer')\n",
    "##avisosNoPostulado = pd.merge(postulacionesSample,todoMergeadoSample,on=['idpostulante', 'idaviso'] ,how='outer')"
   ]
  },
  {
   "cell_type": "code",
   "execution_count": null,
   "metadata": {},
   "outputs": [],
   "source": []
  },
  {
   "cell_type": "code",
   "execution_count": 132,
   "metadata": {},
   "outputs": [],
   "source": [
    "#avisosNoPostulado = pd.merge(postulacionesSample,todoMergeadoSample,on=['idpostulante', 'idaviso'] ,how='outer')\n",
    "#avisosNoPostulado = avisosNoPostulado[avisosNoPostulado['fechapostulacion'].isnull()]\n",
    "\n",
    "avisosNoPostulado= nopostulados;"
   ]
  },
  {
   "cell_type": "code",
   "execution_count": 133,
   "metadata": {},
   "outputs": [],
   "source": [
    "avisosNoPostulado['sepostulo'] = 0"
   ]
  },
  {
   "cell_type": "code",
   "execution_count": 134,
   "metadata": {},
   "outputs": [],
   "source": [
    "avisosNoPostulado = pd.merge(nopostulados,avisosDetalleOHC,how='inner',left_on='idaviso',right_on='idaviso')\n",
    "avisosNoPostulado = pd.merge(avisosNoPostulado,postulantesGeneroOHC, how='inner', left_on='idpostulante',right_on='idpostulante')"
   ]
  },
  {
   "cell_type": "code",
   "execution_count": null,
   "metadata": {},
   "outputs": [],
   "source": []
  },
  {
   "cell_type": "code",
   "execution_count": null,
   "metadata": {},
   "outputs": [],
   "source": []
  },
  {
   "cell_type": "code",
   "execution_count": 135,
   "metadata": {},
   "outputs": [],
   "source": [
    "#todoMergeadoFINAL = pd.concat(avisosNoPostulado,todoMergeado, ignore_index=True)\n",
    "todoMergeadoFINAL = pd.concat([avisosNoPostulado, todoMergeado])"
   ]
  },
  {
   "cell_type": "code",
   "execution_count": null,
   "metadata": {},
   "outputs": [],
   "source": []
  },
  {
   "cell_type": "code",
   "execution_count": 93,
   "metadata": {},
   "outputs": [],
   "source": [
    "#Revisar por que no se borran\n",
    "#todoMergeadoFINAL.drop(['tipo_de_trabajo'],axis=1, inplace=True)\n",
    "#todoMergeadoFINAL = todoMergeadoFINAL[['idpostulante','fechanacimiento','sexo_FEM','sexo_MASC','sexo_NO_DECLARA']]\n",
    "#todoMergeadoFINAL.drop('sexo',axis=1, inplace=True)\n",
    "\n",
    "#todoMergeadoFINAL.drop(['nombre_zona'],axis=1, inplace=True)\n",
    "#todoMergeadoFINAL.drop(['nivel_laboral'],axis=1, inplace=True)\n",
    "#todoMergeadoFINAL.drop(['nombre_area'],axis=1, inplace=True)"
   ]
  },
  {
   "cell_type": "code",
   "execution_count": 138,
   "metadata": {},
   "outputs": [],
   "source": [
    "#lo separo porque sino explota todo\n",
    "datosForTraining = todoMergeadoFINAL"
   ]
  },
  {
   "cell_type": "code",
   "execution_count": 139,
   "metadata": {},
   "outputs": [
    {
     "data": {
      "text/html": [
       "<div>\n",
       "<style>\n",
       "    .dataframe thead tr:only-child th {\n",
       "        text-align: right;\n",
       "    }\n",
       "\n",
       "    .dataframe thead th {\n",
       "        text-align: left;\n",
       "    }\n",
       "\n",
       "    .dataframe tbody tr th {\n",
       "        vertical-align: top;\n",
       "    }\n",
       "</style>\n",
       "<table border=\"1\" class=\"dataframe\">\n",
       "  <thead>\n",
       "    <tr style=\"text-align: right;\">\n",
       "      <th></th>\n",
       "      <th>edad</th>\n",
       "      <th>idaviso</th>\n",
       "      <th>idpostulante</th>\n",
       "      <th>nivel_Gerencia / Alta Gerencia / Dirección</th>\n",
       "      <th>nivel_Jefe / Supervisor / Responsable</th>\n",
       "      <th>nivel_Junior</th>\n",
       "      <th>nivel_Otro</th>\n",
       "      <th>nivel_Senior / Semi-Senior</th>\n",
       "      <th>sepostulo</th>\n",
       "      <th>sexo_FEM</th>\n",
       "      <th>...</th>\n",
       "      <th>tipo_Pasantia</th>\n",
       "      <th>tipo_Por Contrato</th>\n",
       "      <th>tipo_Por Horas</th>\n",
       "      <th>tipo_Primer empleo</th>\n",
       "      <th>tipo_Teletrabajo</th>\n",
       "      <th>tipo_Temporario</th>\n",
       "      <th>tipo_Voluntario</th>\n",
       "      <th>zona_Capital Federal</th>\n",
       "      <th>zona_GBA Oeste</th>\n",
       "      <th>zona_Gran Buenos Aires</th>\n",
       "    </tr>\n",
       "  </thead>\n",
       "  <tbody>\n",
       "    <tr>\n",
       "      <th>0</th>\n",
       "      <td>26.0</td>\n",
       "      <td>1112410160</td>\n",
       "      <td>qekrW81</td>\n",
       "      <td>0</td>\n",
       "      <td>1</td>\n",
       "      <td>0</td>\n",
       "      <td>0</td>\n",
       "      <td>0</td>\n",
       "      <td>0</td>\n",
       "      <td>1</td>\n",
       "      <td>...</td>\n",
       "      <td>0</td>\n",
       "      <td>0</td>\n",
       "      <td>0</td>\n",
       "      <td>0</td>\n",
       "      <td>0</td>\n",
       "      <td>0</td>\n",
       "      <td>0</td>\n",
       "      <td>0</td>\n",
       "      <td>0</td>\n",
       "      <td>1</td>\n",
       "    </tr>\n",
       "    <tr>\n",
       "      <th>1</th>\n",
       "      <td>29.0</td>\n",
       "      <td>1112410160</td>\n",
       "      <td>pzjDkN3</td>\n",
       "      <td>0</td>\n",
       "      <td>1</td>\n",
       "      <td>0</td>\n",
       "      <td>0</td>\n",
       "      <td>0</td>\n",
       "      <td>0</td>\n",
       "      <td>1</td>\n",
       "      <td>...</td>\n",
       "      <td>0</td>\n",
       "      <td>0</td>\n",
       "      <td>0</td>\n",
       "      <td>0</td>\n",
       "      <td>0</td>\n",
       "      <td>0</td>\n",
       "      <td>0</td>\n",
       "      <td>0</td>\n",
       "      <td>0</td>\n",
       "      <td>1</td>\n",
       "    </tr>\n",
       "    <tr>\n",
       "      <th>2</th>\n",
       "      <td>29.0</td>\n",
       "      <td>1112410160</td>\n",
       "      <td>bOzqo29</td>\n",
       "      <td>0</td>\n",
       "      <td>1</td>\n",
       "      <td>0</td>\n",
       "      <td>0</td>\n",
       "      <td>0</td>\n",
       "      <td>0</td>\n",
       "      <td>1</td>\n",
       "      <td>...</td>\n",
       "      <td>0</td>\n",
       "      <td>0</td>\n",
       "      <td>0</td>\n",
       "      <td>0</td>\n",
       "      <td>0</td>\n",
       "      <td>0</td>\n",
       "      <td>0</td>\n",
       "      <td>0</td>\n",
       "      <td>0</td>\n",
       "      <td>1</td>\n",
       "    </tr>\n",
       "    <tr>\n",
       "      <th>3</th>\n",
       "      <td>47.0</td>\n",
       "      <td>1112410160</td>\n",
       "      <td>1avP3N</td>\n",
       "      <td>0</td>\n",
       "      <td>1</td>\n",
       "      <td>0</td>\n",
       "      <td>0</td>\n",
       "      <td>0</td>\n",
       "      <td>0</td>\n",
       "      <td>0</td>\n",
       "      <td>...</td>\n",
       "      <td>0</td>\n",
       "      <td>0</td>\n",
       "      <td>0</td>\n",
       "      <td>0</td>\n",
       "      <td>0</td>\n",
       "      <td>0</td>\n",
       "      <td>0</td>\n",
       "      <td>0</td>\n",
       "      <td>0</td>\n",
       "      <td>1</td>\n",
       "    </tr>\n",
       "    <tr>\n",
       "      <th>4</th>\n",
       "      <td>30.0</td>\n",
       "      <td>1112410160</td>\n",
       "      <td>lDLV6Oz</td>\n",
       "      <td>0</td>\n",
       "      <td>1</td>\n",
       "      <td>0</td>\n",
       "      <td>0</td>\n",
       "      <td>0</td>\n",
       "      <td>0</td>\n",
       "      <td>1</td>\n",
       "      <td>...</td>\n",
       "      <td>0</td>\n",
       "      <td>0</td>\n",
       "      <td>0</td>\n",
       "      <td>0</td>\n",
       "      <td>0</td>\n",
       "      <td>0</td>\n",
       "      <td>0</td>\n",
       "      <td>0</td>\n",
       "      <td>0</td>\n",
       "      <td>1</td>\n",
       "    </tr>\n",
       "  </tbody>\n",
       "</table>\n",
       "<p>5 rows × 25 columns</p>\n",
       "</div>"
      ],
      "text/plain": [
       "   edad     idaviso idpostulante  nivel_Gerencia / Alta Gerencia / Dirección  \\\n",
       "0  26.0  1112410160      qekrW81                                           0   \n",
       "1  29.0  1112410160      pzjDkN3                                           0   \n",
       "2  29.0  1112410160      bOzqo29                                           0   \n",
       "3  47.0  1112410160       1avP3N                                           0   \n",
       "4  30.0  1112410160      lDLV6Oz                                           0   \n",
       "\n",
       "   nivel_Jefe / Supervisor / Responsable  nivel_Junior  nivel_Otro  \\\n",
       "0                                      1             0           0   \n",
       "1                                      1             0           0   \n",
       "2                                      1             0           0   \n",
       "3                                      1             0           0   \n",
       "4                                      1             0           0   \n",
       "\n",
       "   nivel_Senior / Semi-Senior  sepostulo  sexo_FEM           ...            \\\n",
       "0                           0          0         1           ...             \n",
       "1                           0          0         1           ...             \n",
       "2                           0          0         1           ...             \n",
       "3                           0          0         0           ...             \n",
       "4                           0          0         1           ...             \n",
       "\n",
       "   tipo_Pasantia  tipo_Por Contrato  tipo_Por Horas  tipo_Primer empleo  \\\n",
       "0              0                  0               0                   0   \n",
       "1              0                  0               0                   0   \n",
       "2              0                  0               0                   0   \n",
       "3              0                  0               0                   0   \n",
       "4              0                  0               0                   0   \n",
       "\n",
       "   tipo_Teletrabajo  tipo_Temporario  tipo_Voluntario  zona_Capital Federal  \\\n",
       "0                 0                0                0                     0   \n",
       "1                 0                0                0                     0   \n",
       "2                 0                0                0                     0   \n",
       "3                 0                0                0                     0   \n",
       "4                 0                0                0                     0   \n",
       "\n",
       "   zona_GBA Oeste  zona_Gran Buenos Aires  \n",
       "0               0                       1  \n",
       "1               0                       1  \n",
       "2               0                       1  \n",
       "3               0                       1  \n",
       "4               0                       1  \n",
       "\n",
       "[5 rows x 25 columns]"
      ]
     },
     "execution_count": 139,
     "metadata": {},
     "output_type": "execute_result"
    }
   ],
   "source": [
    "datosForTraining.head()"
   ]
  },
  {
   "cell_type": "code",
   "execution_count": 141,
   "metadata": {},
   "outputs": [],
   "source": [
    "datosForTrainingNumericals = datosForTraining.drop(['fechanacimiento','fechapostulacion'],axis=1)"
   ]
  },
  {
   "cell_type": "code",
   "execution_count": 142,
   "metadata": {},
   "outputs": [],
   "source": [
    "datosForTrainingNumericals.dropna(axis=0,inplace=True, how='any')"
   ]
  },
  {
   "cell_type": "code",
   "execution_count": 143,
   "metadata": {},
   "outputs": [
    {
     "data": {
      "text/plain": [
       "area_Abastecimiento                           float64\n",
       "area_Administracion de Seguros                float64\n",
       "area_Administración                           float64\n",
       "area_Administración de Base de Datos          float64\n",
       "area_Administración de Personal               float64\n",
       "area_Almacén / Depósito / Expedición          float64\n",
       "area_Análisis Funcional                       float64\n",
       "area_Análisis de Riesgos                      float64\n",
       "area_Apoderado Aduanal                        float64\n",
       "area_Arquitectura                             float64\n",
       "area_Arte y Cultura                           float64\n",
       "area_Asesoría Legal Internacional             float64\n",
       "area_Asistente                                float64\n",
       "area_Asistente de Tráfico                     float64\n",
       "area_Atención al Cliente                      float64\n",
       "area_Auditoría                                float64\n",
       "area_Auditoría Médica                         float64\n",
       "area_Back Office                              float64\n",
       "area_Bienestar Estudiantil                    float64\n",
       "area_Bioquimica                               float64\n",
       "area_Bioquímica                               float64\n",
       "area_Business Intelligence                    float64\n",
       "area_Cadetería                                float64\n",
       "area_Caja                                     float64\n",
       "area_Calidad                                  float64\n",
       "area_Call Center                              float64\n",
       "area_Camareros                                float64\n",
       "area_Capacitación                             float64\n",
       "area_Clínica Médica                           float64\n",
       "area_Comercial                                float64\n",
       "                                               ...   \n",
       "estado_Graduado                               float64\n",
       "nivel_Gerencia / Alta Gerencia / Dirección    float64\n",
       "nivel_Jefe / Supervisor / Responsable         float64\n",
       "nivel_Junior                                  float64\n",
       "nivel_Otro                                    float64\n",
       "nivel_Senior / Semi-Senior                    float64\n",
       "nombre_Doctorado                              float64\n",
       "nombre_Master                                 float64\n",
       "nombre_Otro                                   float64\n",
       "nombre_Posgrado                               float64\n",
       "nombre_Secundario                             float64\n",
       "nombre_Terciario/Técnico                      float64\n",
       "nombre_Universitario                          float64\n",
       "sepostulo                                       int64\n",
       "sexo_FEM                                      float64\n",
       "sexo_MASC                                     float64\n",
       "sexo_NO_DECLARA                               float64\n",
       "tipo_Fines de Semana                          float64\n",
       "tipo_Full-time                                float64\n",
       "tipo_Part-time                                float64\n",
       "tipo_Pasantia                                 float64\n",
       "tipo_Por Contrato                             float64\n",
       "tipo_Por Horas                                float64\n",
       "tipo_Primer empleo                            float64\n",
       "tipo_Teletrabajo                              float64\n",
       "tipo_Temporario                               float64\n",
       "tipo_Voluntario                               float64\n",
       "zona_Capital Federal                          float64\n",
       "zona_GBA Oeste                                float64\n",
       "zona_Gran Buenos Aires                        float64\n",
       "Length: 220, dtype: object"
      ]
     },
     "execution_count": 143,
     "metadata": {},
     "output_type": "execute_result"
    }
   ],
   "source": [
    "datosForTrainingNumericals.dtypes"
   ]
  },
  {
   "cell_type": "code",
   "execution_count": 144,
   "metadata": {},
   "outputs": [
    {
     "name": "stdout",
     "output_type": "stream",
     "text": [
      "<class 'pandas.core.frame.DataFrame'>\n",
      "Int64Index: 72322 entries, 0 to 72321\n",
      "Columns: 220 entries, area_Abastecimiento to zona_Gran Buenos Aires\n",
      "dtypes: float64(219), int64(1)\n",
      "memory usage: 121.9 MB\n"
     ]
    }
   ],
   "source": [
    "datosForTrainingNumericals.info()"
   ]
  },
  {
   "cell_type": "code",
   "execution_count": 145,
   "metadata": {},
   "outputs": [
    {
     "name": "stdout",
     "output_type": "stream",
     "text": [
      "<class 'pandas.core.frame.DataFrame'>\n",
      "Int64Index: 72322 entries, 0 to 72321\n",
      "Columns: 220 entries, area_Abastecimiento to zona_Gran Buenos Aires\n",
      "dtypes: float64(219), int64(1)\n",
      "memory usage: 121.9 MB\n"
     ]
    }
   ],
   "source": [
    "datosForTrainingNumericals.info()"
   ]
  },
  {
   "cell_type": "code",
   "execution_count": null,
   "metadata": {},
   "outputs": [],
   "source": []
  },
  {
   "cell_type": "code",
   "execution_count": 148,
   "metadata": {},
   "outputs": [],
   "source": [
    "datosForTrainingNumericals = datosForTraining.drop('idaviso',axis=1)\n",
    "datosForTrainingNumericalsSinPostulacion  = datosForTrainingNumericals.drop('sepostulo',axis=1)\n",
    "datosForTrainingNumericals = datosForTrainingNumericals.drop('idpostulante',axis=1)\n",
    "datosForTrainingNumericalsSinPostulacion = datosForTrainingNumericalsSinPostulacion.drop('idpostulante',axis=1)"
   ]
  },
  {
   "cell_type": "code",
   "execution_count": 149,
   "metadata": {},
   "outputs": [],
   "source": [
    " mylist = list(datosForTrainingNumericals.select_dtypes(include=['object']).columns)"
   ]
  },
  {
   "cell_type": "code",
   "execution_count": 100,
   "metadata": {},
   "outputs": [],
   "source": []
  },
  {
   "cell_type": "code",
   "execution_count": null,
   "metadata": {},
   "outputs": [],
   "source": []
  },
  {
   "cell_type": "markdown",
   "metadata": {},
   "source": [
    "# Entrenamos Machine Learning"
   ]
  },
  {
   "cell_type": "code",
   "execution_count": 150,
   "metadata": {},
   "outputs": [],
   "source": [
    "import pandas\n",
    "from sklearn import model_selection\n",
    "from sklearn.neighbors import KNeighborsClassifier\n",
    "from sklearn.ensemble import RandomForestRegressor\n",
    "from sklearn.ensemble import RandomForestClassifier\n",
    "from sklearn.neighbors import RadiusNeighborsRegressor\n",
    "from sklearn.discriminant_analysis import LinearDiscriminantAnalysis\n",
    "from sklearn.naive_bayes import GaussianNB\n",
    "from sklearn import linear_model\n",
    "from sklearn import svm\n",
    "from sklearn import tree\n",
    "from sklearn import gaussian_process\n",
    "from sklearn import neural_network\n",
    "from sklearn.linear_model import LinearRegression, LogisticRegression\n",
    "\n",
    "\n",
    "\n",
    "#Pre-procesamiento\n",
    "from sklearn import preprocessing"
   ]
  },
  {
   "cell_type": "code",
   "execution_count": 151,
   "metadata": {},
   "outputs": [],
   "source": [
    "X_train, X_validation, Y_train, Y_validation = model_selection.train_test_split(datosForTrainingNumericalsSinPostulacion, datosForTrainingNumericals['sepostulo'], test_size=0.2, random_state=7)"
   ]
  },
  {
   "cell_type": "code",
   "execution_count": 155,
   "metadata": {},
   "outputs": [
    {
     "name": "stdout",
     "output_type": "stream",
     "text": [
      "RFR10: 0.081268 (0.005587)\n",
      "RFR20: 0.083233 (0.004481)\n",
      "RFR50: 0.089590 (0.007050)\n",
      "RFR60: 0.091051 (0.004208)\n",
      "RFR100: 0.090027 (0.005576)\n",
      "RFC10: 0.082198 (0.007145)\n",
      "RFC20: 0.090133 (0.005974)\n",
      "RFC50: 0.091368 (0.004178)\n",
      "RFC60: 0.089136 (0.004179)\n",
      "RFC100: 0.609500 (0.002733)\n",
      "KNN 2: 0.596742 (0.002619)\n",
      "KNN 3: 0.589947 (0.016717)\n",
      "LR: 0.144936 (0.016587)\n",
      "RIDGE.05: 0.145063 (0.016453)\n",
      "LASO.01: 0.144984 (0.016571)\n",
      "LASOLARS.05: -0.002537 (0.001803)\n",
      "BAYESIAN: 0.144456 (0.015281)\n",
      "SVR: -0.610361 (0.377650)\n",
      "DES-TREE: 0.061187 (0.006413)\n",
      "NB: 0.632290 (0.004506)\n",
      "LDA: 0.630385 (0.011350)\n"
     ]
    },
    {
     "name": "stderr",
     "output_type": "stream",
     "text": [
      "C:\\Users\\nicol\\Anaconda3\\lib\\site-packages\\sklearn\\discriminant_analysis.py:388: UserWarning: Variables are collinear.\n",
      "  warnings.warn(\"Variables are collinear.\")\n",
      "C:\\Users\\nicol\\Anaconda3\\lib\\site-packages\\sklearn\\discriminant_analysis.py:388: UserWarning: Variables are collinear.\n",
      "  warnings.warn(\"Variables are collinear.\")\n",
      "C:\\Users\\nicol\\Anaconda3\\lib\\site-packages\\sklearn\\discriminant_analysis.py:388: UserWarning: Variables are collinear.\n",
      "  warnings.warn(\"Variables are collinear.\")\n"
     ]
    }
   ],
   "source": [
    "models = []\n",
    "models.append(('RFR10', RandomForestRegressor(n_estimators=10, max_features='sqrt')))\n",
    "models.append(('RFR20', RandomForestRegressor(n_estimators=20, max_features='sqrt')))\n",
    "models.append(('RFR50',  RandomForestRegressor(n_estimators=50, max_features='sqrt')))\n",
    "models.append(('RFR60',  RandomForestRegressor(n_estimators=60, max_features='sqrt')))\n",
    "models.append(('RFR100',  RandomForestRegressor(n_estimators=100, max_features='sqrt')))\n",
    "\n",
    "models.append(('RFC10', RandomForestRegressor(n_estimators=10, max_features='sqrt')))\n",
    "models.append(('RFC20', RandomForestRegressor(n_estimators=20, max_features='sqrt')))\n",
    "models.append(('RFC50',  RandomForestRegressor(n_estimators=50, max_features='sqrt')))\n",
    "models.append(('RFC60',  RandomForestRegressor(n_estimators=60, max_features='sqrt')))\n",
    "models.append(('RFC100',  RandomForestClassifier(n_estimators=100, max_features='sqrt')))\n",
    "\n",
    "models.append(('KNN 2', KNeighborsClassifier(n_neighbors=2)))\n",
    "models.append(('KNN 3', KNeighborsClassifier(n_neighbors=3)))\n",
    "models.append(('LR', linear_model.LinearRegression()))\n",
    "models.append(('RIDGE.05', linear_model.Ridge (alpha = .5)))\n",
    "models.append(('LASO.01', linear_model.Ridge (alpha = .1)))\n",
    "models.append(('LASOLARS.05',linear_model.LassoLars (alpha = 0.5)))\n",
    "models.append(('BAYESIAN',linear_model.BayesianRidge()))\n",
    "models.append(('SVR',svm.LinearSVR()))\n",
    "models.append(('DES-TREE',tree.DecisionTreeRegressor()))\n",
    "models.append(('NB', GaussianNB()))\n",
    "models.append(('LDA', LinearDiscriminantAnalysis()))\n",
    " \n",
    "TestModels = pd.DataFrame()\n",
    "tmp = {}\n",
    "\n",
    "results = []\n",
    "names = []\n",
    "for name, model in models:\n",
    "    kfold = model_selection.KFold(n_splits=10, random_state=7)\n",
    "    cv_results = model_selection.cross_val_score(model, X_train,Y_train)\n",
    "    results.append(cv_results)\n",
    "    names.append(name)\n",
    "    msg = \"%s: %f (%f)\" % (name, cv_results.mean(), cv_results.std())\n",
    "    print(msg)"
   ]
  },
  {
   "cell_type": "code",
   "execution_count": 158,
   "metadata": {},
   "outputs": [
    {
     "name": "stdout",
     "output_type": "stream",
     "text": [
      "---RFC----\n",
      "[ 0.26030369  0.55639913  0.5320304   0.52334419  0.22692725]\n",
      "---GAUSS----\n",
      "[ 0.1670282   0.66160521  0.61237785  0.62540717  0.61780673]\n",
      "---LDA----\n",
      "[ 0.17353579  0.59327549  0.56026059  0.56677524  0.2019544 ]\n"
     ]
    },
    {
     "name": "stderr",
     "output_type": "stream",
     "text": [
      "C:\\Users\\nicol\\Anaconda3\\lib\\site-packages\\sklearn\\discriminant_analysis.py:388: UserWarning: Variables are collinear.\n",
      "  warnings.warn(\"Variables are collinear.\")\n",
      "C:\\Users\\nicol\\Anaconda3\\lib\\site-packages\\sklearn\\discriminant_analysis.py:388: UserWarning: Variables are collinear.\n",
      "  warnings.warn(\"Variables are collinear.\")\n",
      "C:\\Users\\nicol\\Anaconda3\\lib\\site-packages\\sklearn\\discriminant_analysis.py:388: UserWarning: Variables are collinear.\n",
      "  warnings.warn(\"Variables are collinear.\")\n",
      "C:\\Users\\nicol\\Anaconda3\\lib\\site-packages\\sklearn\\discriminant_analysis.py:388: UserWarning: Variables are collinear.\n",
      "  warnings.warn(\"Variables are collinear.\")\n",
      "C:\\Users\\nicol\\Anaconda3\\lib\\site-packages\\sklearn\\discriminant_analysis.py:388: UserWarning: Variables are collinear.\n",
      "  warnings.warn(\"Variables are collinear.\")\n"
     ]
    }
   ],
   "source": [
    "from sklearn.model_selection import cross_val_score\n",
    "\n",
    "RFCModel = RandomForestClassifier(n_estimators=100, max_features='sqrt')\n",
    "scoresRFC = cross_val_score(RFCModel, datosForTrainingNumericalsSinPostulacion, datosForTrainingNumericals['sepostulo'], cv=5)\n",
    "print(\"---RFC----\")\n",
    "print(scoresRFC)\n",
    "\n",
    "\n",
    "GaussianNBModel = GaussianNB()\n",
    "scoresRFR = cross_val_score(GaussianNBModel, datosForTrainingNumericalsSinPostulacion, datosForTrainingNumericals['sepostulo'], cv=5)\n",
    "print(\"---GAUSS----\")\n",
    "print(scoresRFR)\n",
    "\n",
    "\n",
    "DTModel = LinearDiscriminantAnalysis()\n",
    "scoresDT = cross_val_score(DTModel, datosForTrainingNumericalsSinPostulacion, datosForTrainingNumericals['sepostulo'], cv=5)\n",
    "print(\"---LDA----\")\n",
    "print(scoresDT)"
   ]
  },
  {
   "cell_type": "markdown",
   "metadata": {},
   "source": [
    "### Segundo Test"
   ]
  },
  {
   "cell_type": "code",
   "execution_count": 159,
   "metadata": {},
   "outputs": [
    {
     "data": {
      "text/plain": [
       "idpostulante    245451\n",
       "idaviso         245451\n",
       "dtype: int64"
      ]
     },
     "execution_count": 159,
     "metadata": {},
     "output_type": "execute_result"
    }
   ],
   "source": [
    "#Aumento la cantidad de postulacionesSample\n",
    "postulacionesSample = postulacionesFiltered.sample(frac=0.05)\n",
    "postulacionesSample.count()"
   ]
  },
  {
   "cell_type": "code",
   "execution_count": 166,
   "metadata": {},
   "outputs": [],
   "source": [
    "todoMergeado = pd.merge(postulacionesSample,avisosDetalleOHC,how='inner',left_on='idaviso',right_on='idaviso')\n",
    "todoMergeado = pd.merge(todoMergeado,postulantesGeneroOHC, how='inner', left_on='idpostulante',right_on='idpostulante')\n",
    "todoMergeado['sepostulo'] = 1\n",
    "todoMergeado.drop('fechanacimiento',axis=1,inplace=True)"
   ]
  },
  {
   "cell_type": "code",
   "execution_count": 167,
   "metadata": {},
   "outputs": [],
   "source": [
    "nopostulados = pd.DataFrame()\n",
    "for i in range(0,len(todoMergeado.head(20)['idaviso'])):\n",
    "    rowAviso = todoMergeado.iloc[i:i+1]\n",
    "    postuRandom= postulaciones.sample(frac=0.003)[['idpostulante']]\n",
    "    postuRandom['idaviso'] =rowAviso.iloc[0]['idaviso'];\n",
    "    nopostulados = pd.concat([nopostulados,postuRandom])\n",
    "    \n",
    "nopostulados = nopostulados.drop_duplicates()\n",
    "len(nopostulados)  \n",
    "\n",
    "avisosNoPostulado= nopostulados;\n",
    "avisosNoPostulado['sepostulo'] = 0"
   ]
  },
  {
   "cell_type": "code",
   "execution_count": 168,
   "metadata": {},
   "outputs": [],
   "source": [
    "avisosNoPostulado = pd.merge(nopostulados,avisosDetalleOHC,how='inner',left_on='idaviso',right_on='idaviso')\n",
    "avisosNoPostulado = pd.merge(avisosNoPostulado,postulantesGeneroOHC, how='inner', left_on='idpostulante',right_on='idpostulante')"
   ]
  },
  {
   "cell_type": "code",
   "execution_count": 187,
   "metadata": {},
   "outputs": [],
   "source": [
    "todoMergeadoFINAL = pd.concat([avisosNoPostulado, todoMergeado])\n",
    "datosForTraining = todoMergeadoFINAL\n",
    "\n",
    "datosForTraining.drop('fechanacimiento',axis=1,inplace=True)\n",
    "\n",
    "datosForTrainingNumericals = datosForTraining\n",
    "datosForTrainingNumericals.dropna(axis=0,inplace=True, how='any')"
   ]
  },
  {
   "cell_type": "code",
   "execution_count": 188,
   "metadata": {},
   "outputs": [],
   "source": [
    "datosForTrainingNumericals = datosForTraining.drop('idaviso',axis=1)\n",
    "datosForTrainingNumericalsSinPostulacion  = datosForTrainingNumericals.drop('sepostulo',axis=1)\n",
    "datosForTrainingNumericals = datosForTrainingNumericals.drop('idpostulante',axis=1)\n",
    "datosForTrainingNumericalsSinPostulacion = datosForTrainingNumericalsSinPostulacion.drop('idpostulante',axis=1)"
   ]
  },
  {
   "cell_type": "code",
   "execution_count": 189,
   "metadata": {},
   "outputs": [
    {
     "data": {
      "text/plain": [
       "Index(['edad', 'nivel_Gerencia / Alta Gerencia / Dirección',\n",
       "       'nivel_Jefe / Supervisor / Responsable', 'nivel_Junior', 'nivel_Otro',\n",
       "       'nivel_Senior / Semi-Senior', 'sepostulo', 'sexo_FEM', 'sexo_MASC',\n",
       "       'sexo_NO_DECLARA', 'tipo_Fines de Semana', 'tipo_Full-time',\n",
       "       'tipo_Part-time', 'tipo_Pasantia', 'tipo_Por Contrato',\n",
       "       'tipo_Por Horas', 'tipo_Primer empleo', 'tipo_Teletrabajo',\n",
       "       'tipo_Temporario', 'tipo_Voluntario', 'zona_Capital Federal',\n",
       "       'zona_GBA Oeste', 'zona_Gran Buenos Aires'],\n",
       "      dtype='object')"
      ]
     },
     "execution_count": 189,
     "metadata": {},
     "output_type": "execute_result"
    }
   ],
   "source": [
    "datosForTrainingNumericals.columns"
   ]
  },
  {
   "cell_type": "code",
   "execution_count": 190,
   "metadata": {},
   "outputs": [],
   "source": [
    "X_train, X_validation, Y_train, Y_validation = model_selection.train_test_split(datosForTrainingNumericalsSinPostulacion, datosForTrainingNumericals['sepostulo'], test_size=0.2, random_state=7)"
   ]
  },
  {
   "cell_type": "code",
   "execution_count": null,
   "metadata": {},
   "outputs": [],
   "source": []
  },
  {
   "cell_type": "code",
   "execution_count": 191,
   "metadata": {},
   "outputs": [
    {
     "name": "stdout",
     "output_type": "stream",
     "text": [
      "RFR10: 0.353495 (0.003226)\n",
      "RFR20: 0.353552 (0.003170)\n",
      "RFR50: 0.353517 (0.003224)\n",
      "RFR60: 0.353573 (0.003202)\n",
      "RFR100: 0.353556 (0.003218)\n",
      "RFC10: 0.353473 (0.003255)\n",
      "RFC20: 0.353491 (0.003256)\n",
      "RFC50: 0.353580 (0.003195)\n",
      "RFC60: 0.353543 (0.003205)\n",
      "RFC100: 0.757973 (0.001559)\n",
      "KNN 2: 0.666637 (0.010344)\n",
      "KNN 3: 0.698880 (0.004891)\n",
      "LR: 0.274874 (0.002613)\n",
      "RIDGE.05: 0.274874 (0.002613)\n",
      "LASO.01: 0.274874 (0.002613)\n",
      "LASOLARS.05: -0.000004 (0.000003)\n",
      "BAYESIAN: 0.274873 (0.002613)\n",
      "SVR: -0.257657 (0.633758)\n",
      "DES-TREE: 0.353423 (0.003229)\n",
      "NB: 0.577928 (0.000302)\n"
     ]
    },
    {
     "name": "stderr",
     "output_type": "stream",
     "text": [
      "C:\\Users\\nicol\\Anaconda3\\lib\\site-packages\\sklearn\\discriminant_analysis.py:388: UserWarning: Variables are collinear.\n",
      "  warnings.warn(\"Variables are collinear.\")\n",
      "C:\\Users\\nicol\\Anaconda3\\lib\\site-packages\\sklearn\\discriminant_analysis.py:388: UserWarning: Variables are collinear.\n",
      "  warnings.warn(\"Variables are collinear.\")\n"
     ]
    },
    {
     "name": "stdout",
     "output_type": "stream",
     "text": [
      "LDA: 0.734154 (0.001160)\n"
     ]
    },
    {
     "name": "stderr",
     "output_type": "stream",
     "text": [
      "C:\\Users\\nicol\\Anaconda3\\lib\\site-packages\\sklearn\\discriminant_analysis.py:388: UserWarning: Variables are collinear.\n",
      "  warnings.warn(\"Variables are collinear.\")\n"
     ]
    }
   ],
   "source": [
    "models = []\n",
    "models.append(('RFR10', RandomForestRegressor(n_estimators=10, max_features='sqrt')))\n",
    "models.append(('RFR20', RandomForestRegressor(n_estimators=20, max_features='sqrt')))\n",
    "models.append(('RFR50',  RandomForestRegressor(n_estimators=50, max_features='sqrt')))\n",
    "models.append(('RFR60',  RandomForestRegressor(n_estimators=60, max_features='sqrt')))\n",
    "models.append(('RFR100',  RandomForestRegressor(n_estimators=100, max_features='sqrt')))\n",
    "\n",
    "models.append(('RFC10', RandomForestRegressor(n_estimators=10, max_features='sqrt')))\n",
    "models.append(('RFC20', RandomForestRegressor(n_estimators=20, max_features='sqrt')))\n",
    "models.append(('RFC50',  RandomForestRegressor(n_estimators=50, max_features='sqrt')))\n",
    "models.append(('RFC60',  RandomForestRegressor(n_estimators=60, max_features='sqrt')))\n",
    "models.append(('RFC100',  RandomForestClassifier(n_estimators=100, max_features='sqrt')))\n",
    "\n",
    "models.append(('KNN 2', KNeighborsClassifier(n_neighbors=2)))\n",
    "models.append(('KNN 3', KNeighborsClassifier(n_neighbors=3)))\n",
    "models.append(('LR', linear_model.LinearRegression()))\n",
    "models.append(('RIDGE.05', linear_model.Ridge (alpha = .5)))\n",
    "models.append(('LASO.01', linear_model.Ridge (alpha = .1)))\n",
    "models.append(('LASOLARS.05',linear_model.LassoLars (alpha = 0.5)))\n",
    "models.append(('BAYESIAN',linear_model.BayesianRidge()))\n",
    "models.append(('SVR',svm.LinearSVR()))\n",
    "models.append(('DES-TREE',tree.DecisionTreeRegressor()))\n",
    "models.append(('NB', GaussianNB()))\n",
    "models.append(('LDA', LinearDiscriminantAnalysis()))\n",
    " \n",
    "TestModels = pd.DataFrame()\n",
    "tmp = {}\n",
    "\n",
    "results = []\n",
    "names = []\n",
    "for name, model in models:\n",
    "    kfold = model_selection.KFold(n_splits=10, random_state=7)\n",
    "    cv_results = model_selection.cross_val_score(model, X_train,Y_train)\n",
    "    results.append(cv_results)\n",
    "    names.append(name)\n",
    "    msg = \"%s: %f (%f)\" % (name, cv_results.mean(), cv_results.std())\n",
    "    print(msg)"
   ]
  },
  {
   "cell_type": "code",
   "execution_count": null,
   "metadata": {},
   "outputs": [],
   "source": []
  },
  {
   "cell_type": "code",
   "execution_count": 192,
   "metadata": {},
   "outputs": [
    {
     "name": "stdout",
     "output_type": "stream",
     "text": [
      "---RFC----\n",
      "[ 0.73955803  0.77456053  0.79105053  0.78274581  0.69454762]\n"
     ]
    },
    {
     "name": "stderr",
     "output_type": "stream",
     "text": [
      "C:\\Users\\nicol\\Anaconda3\\lib\\site-packages\\sklearn\\discriminant_analysis.py:388: UserWarning: Variables are collinear.\n",
      "  warnings.warn(\"Variables are collinear.\")\n",
      "C:\\Users\\nicol\\Anaconda3\\lib\\site-packages\\sklearn\\discriminant_analysis.py:388: UserWarning: Variables are collinear.\n",
      "  warnings.warn(\"Variables are collinear.\")\n",
      "C:\\Users\\nicol\\Anaconda3\\lib\\site-packages\\sklearn\\discriminant_analysis.py:388: UserWarning: Variables are collinear.\n",
      "  warnings.warn(\"Variables are collinear.\")\n",
      "C:\\Users\\nicol\\Anaconda3\\lib\\site-packages\\sklearn\\discriminant_analysis.py:388: UserWarning: Variables are collinear.\n",
      "  warnings.warn(\"Variables are collinear.\")\n"
     ]
    },
    {
     "name": "stdout",
     "output_type": "stream",
     "text": [
      "---LDA----\n",
      "[ 0.71511166  0.74360801  0.76693064  0.76833228  0.67665335]\n"
     ]
    },
    {
     "name": "stderr",
     "output_type": "stream",
     "text": [
      "C:\\Users\\nicol\\Anaconda3\\lib\\site-packages\\sklearn\\discriminant_analysis.py:388: UserWarning: Variables are collinear.\n",
      "  warnings.warn(\"Variables are collinear.\")\n"
     ]
    }
   ],
   "source": [
    "from sklearn.model_selection import cross_val_score\n",
    "\n",
    "RFCModel = RandomForestClassifier(n_estimators=100, max_features='sqrt')\n",
    "scoresRFC = cross_val_score(RFCModel, datosForTrainingNumericalsSinPostulacion, datosForTrainingNumericals['sepostulo'], cv=5)\n",
    "print(\"---RFC----\")\n",
    "print(scoresRFC)\n",
    "\n",
    "\n",
    "DTModel = LinearDiscriminantAnalysis()\n",
    "scoresDT = cross_val_score(DTModel, datosForTrainingNumericalsSinPostulacion, datosForTrainingNumericals['sepostulo'], cv=5)\n",
    "print(\"---LDA----\")\n",
    "print(scoresDT)"
   ]
  },
  {
   "cell_type": "code",
   "execution_count": null,
   "metadata": {},
   "outputs": [],
   "source": []
  },
  {
   "cell_type": "markdown",
   "metadata": {},
   "source": [
    "# Prueba 1 con set de test"
   ]
  },
  {
   "cell_type": "code",
   "execution_count": null,
   "metadata": {},
   "outputs": [],
   "source": []
  },
  {
   "cell_type": "code",
   "execution_count": 95,
   "metadata": {},
   "outputs": [],
   "source": [
    "testingSet = pd.read_csv('resources/test_final_100k.csv')"
   ]
  },
  {
   "cell_type": "code",
   "execution_count": 167,
   "metadata": {},
   "outputs": [],
   "source": [
    "#testingSet.head()\n",
    "\n",
    "testingSetMerged = pd.merge(testingSet,postulantesEducacionOHC,how='left',on='idpostulante')\n",
    "testingSetMerged = pd.merge(testingSetMerged,postulantesGeneroOHC,how='left',on='idpostulante')"
   ]
  },
  {
   "cell_type": "code",
   "execution_count": 168,
   "metadata": {},
   "outputs": [],
   "source": [
    "testingSetMerged = pd.merge(testingSetMerged,avisosDetalleOHC,how='left',on='idaviso')"
   ]
  },
  {
   "cell_type": "code",
   "execution_count": null,
   "metadata": {},
   "outputs": [],
   "source": []
  },
  {
   "cell_type": "code",
   "execution_count": 169,
   "metadata": {},
   "outputs": [],
   "source": [
    "#todoMergeado.columns\n",
    "testingSetMerged = testingSetMerged.loc[testingSetMerged['id'].notnull(),:]"
   ]
  },
  {
   "cell_type": "code",
   "execution_count": 170,
   "metadata": {},
   "outputs": [],
   "source": [
    "testingSetMerged = testingSetMerged.loc[testingSetMerged['id'].notnull(),:]\n",
    "testingSetMerged = testingSetMerged.drop_duplicates(subset='id')"
   ]
  },
  {
   "cell_type": "code",
   "execution_count": 156,
   "metadata": {},
   "outputs": [
    {
     "ename": "NameError",
     "evalue": "name 'testingSetMerged' is not defined",
     "output_type": "error",
     "traceback": [
      "\u001b[1;31m---------------------------------------------------------------------------\u001b[0m",
      "\u001b[1;31mNameError\u001b[0m                                 Traceback (most recent call last)",
      "\u001b[1;32m<ipython-input-156-91178caeff68>\u001b[0m in \u001b[0;36m<module>\u001b[1;34m()\u001b[0m\n\u001b[1;32m----> 1\u001b[1;33m \u001b[0mtestingSetMerged\u001b[0m\u001b[1;33m.\u001b[0m\u001b[0minfo\u001b[0m\u001b[1;33m(\u001b[0m\u001b[1;33m)\u001b[0m\u001b[1;33m\u001b[0m\u001b[0m\n\u001b[0m",
      "\u001b[1;31mNameError\u001b[0m: name 'testingSetMerged' is not defined"
     ]
    }
   ],
   "source": [
    "testingSetMerged.info()"
   ]
  },
  {
   "cell_type": "code",
   "execution_count": 171,
   "metadata": {},
   "outputs": [],
   "source": [
    "testingSetMerged['test_set'] =1"
   ]
  },
  {
   "cell_type": "code",
   "execution_count": 172,
   "metadata": {},
   "outputs": [],
   "source": [
    "datosForTrainingNumericals['train_set'] = 1"
   ]
  },
  {
   "cell_type": "code",
   "execution_count": 173,
   "metadata": {},
   "outputs": [],
   "source": [
    "concatenados = pd.concat([testingSetMerged,datosForTrainingNumericals],axis=1)"
   ]
  },
  {
   "cell_type": "code",
   "execution_count": 174,
   "metadata": {},
   "outputs": [],
   "source": [
    "setDatosToPredict = concatenados[concatenados['test_set'] == 1]"
   ]
  },
  {
   "cell_type": "code",
   "execution_count": 230,
   "metadata": {},
   "outputs": [
    {
     "data": {
      "text/plain": [
       "<bound method DataFrame.info of              id       idaviso idpostulante  estado_Abandonado  \\\n",
       "0           0.0  7.392600e+05       6M9ZQR                0.0   \n",
       "2           1.0  7.392600e+05       6v1xdL                0.0   \n",
       "5           2.0  7.392600e+05       ezRKm9                0.0   \n",
       "6           3.0  7.585800e+05       1Q35ej                0.0   \n",
       "8           4.0  7.585800e+05       EAN4J6                0.0   \n",
       "11          5.0  7.585800e+05       8R6pzR                0.0   \n",
       "13          6.0  7.764200e+05       aZJ2XN                0.0   \n",
       "14          7.0  7.764200e+05       Nmpo3J                0.0   \n",
       "16          8.0  7.764200e+05       eVqWar                0.0   \n",
       "17          9.0  8.208500e+05       6ZBD33                0.0   \n",
       "19         10.0  8.208500e+05       1j4RNj                0.0   \n",
       "20         11.0  8.208500e+05        ZOwE8                0.0   \n",
       "22         12.0  8.208500e+05       NG4BaD                0.0   \n",
       "23         13.0  9.148800e+05       6q6eNl                0.0   \n",
       "25         14.0  9.148800e+05       8E8pWj                0.0   \n",
       "26         15.0  9.148800e+05       eVqbDr                1.0   \n",
       "27         16.0  1.112360e+06       6kRZ44                0.0   \n",
       "28         17.0  1.112360e+06       8XGB3D                0.0   \n",
       "30         18.0  1.112360e+06       5qVB9X                0.0   \n",
       "31         19.0  1.112360e+06       Z6zxXZ                0.0   \n",
       "32         20.0  1.141070e+06       edaNB4                0.0   \n",
       "33         21.0  1.141070e+06       EZ9pe6                0.0   \n",
       "34         22.0  1.141070e+06       aXa55D                0.0   \n",
       "35         23.0  1.144960e+06       NEJjvL                0.0   \n",
       "36         24.0  1.144960e+06       6Q32Vj                0.0   \n",
       "38         25.0  1.144960e+06       NWxrWL                0.0   \n",
       "39         26.0  1.145170e+06       Y9d5Bw                NaN   \n",
       "40         27.0  1.145170e+06       edaoDp                0.0   \n",
       "43         28.0  1.145170e+06       Z8pvLz                0.0   \n",
       "45         29.0  1.176260e+06       ZvQJ2z                0.0   \n",
       "...         ...           ...          ...                ...   \n",
       "151759  99970.0  1.112515e+09       EbooLJ                0.0   \n",
       "151760  99971.0  1.112515e+09       Zv1eoY                0.0   \n",
       "151762  99972.0  1.112515e+09       YqJLDw                0.0   \n",
       "151765  99973.0  1.112515e+09       8RODvz                0.0   \n",
       "151768  99974.0  1.112515e+09       50p1Zp                0.0   \n",
       "151770  99975.0  1.112515e+09       aZJQP9                0.0   \n",
       "151772  99976.0  1.112515e+09       eZ8294                0.0   \n",
       "151773  99977.0  1.112515e+09       NROBQ4                0.0   \n",
       "151774  99978.0  1.112515e+09       a8YdG9                NaN   \n",
       "151775  99979.0  1.112515e+09       8EQpWl                0.0   \n",
       "151776  99980.0  1.112515e+09       ZREM3E                0.0   \n",
       "151778  99981.0  1.112515e+09       NDaAYJ                1.0   \n",
       "151779  99982.0  1.112515e+09       EwKNO6                0.0   \n",
       "151780  99983.0  1.112515e+09       aZJWvq                0.0   \n",
       "151782  99984.0  1.112515e+09       8R4ZBz                0.0   \n",
       "151784  99985.0  1.112515e+09       eprYVE                0.0   \n",
       "151785  99986.0  1.112515e+09       8E8lLW                0.0   \n",
       "151787  99987.0  1.112515e+09       Z0A84P                0.0   \n",
       "151788  99988.0  1.112515e+09       Y6xQ4q                0.0   \n",
       "151789  99989.0  1.112515e+09       NRO8wz                0.0   \n",
       "151790  99990.0  1.112515e+09       ZvQaaY                0.0   \n",
       "151792  99991.0  1.112515e+09       ZREdK1                0.0   \n",
       "151794  99992.0  1.112515e+09       NmpeRJ                0.0   \n",
       "151795  99993.0  1.112515e+09       5RVLZv                0.0   \n",
       "151796  99994.0  1.112515e+09       YqJDoD                0.0   \n",
       "151798  99995.0  1.112515e+09       5RVZBp                0.0   \n",
       "151800  99996.0  1.112515e+09       ZvQXN1                0.0   \n",
       "151801  99997.0  1.112515e+09       NmpwAB                0.0   \n",
       "151804  99998.0  1.112515e+09       aZJMqJ                0.0   \n",
       "151806  99999.0  1.112515e+09       8R48Ex                0.0   \n",
       "\n",
       "        estado_En Curso  estado_Graduado  nombre_Doctorado  nombre_Master  \\\n",
       "0                   0.0              1.0               1.0            0.0   \n",
       "2                   1.0              0.0               0.0            0.0   \n",
       "5                   0.0              1.0               0.0            0.0   \n",
       "6                   0.0              1.0               0.0            0.0   \n",
       "8                   1.0              0.0               0.0            0.0   \n",
       "11                  0.0              1.0               0.0            0.0   \n",
       "13                  0.0              1.0               0.0            0.0   \n",
       "14                  1.0              0.0               0.0            0.0   \n",
       "16                  0.0              1.0               0.0            0.0   \n",
       "17                  1.0              0.0               0.0            0.0   \n",
       "19                  0.0              1.0               0.0            0.0   \n",
       "20                  0.0              1.0               0.0            0.0   \n",
       "22                  0.0              1.0               0.0            0.0   \n",
       "23                  1.0              0.0               0.0            0.0   \n",
       "25                  0.0              1.0               0.0            0.0   \n",
       "26                  0.0              0.0               0.0            0.0   \n",
       "27                  1.0              0.0               0.0            0.0   \n",
       "28                  0.0              1.0               0.0            0.0   \n",
       "30                  0.0              1.0               0.0            0.0   \n",
       "31                  0.0              1.0               0.0            0.0   \n",
       "32                  1.0              0.0               0.0            0.0   \n",
       "33                  1.0              0.0               0.0            0.0   \n",
       "34                  0.0              1.0               0.0            0.0   \n",
       "35                  1.0              0.0               0.0            0.0   \n",
       "36                  0.0              1.0               0.0            0.0   \n",
       "38                  0.0              1.0               0.0            0.0   \n",
       "39                  NaN              NaN               NaN            NaN   \n",
       "40                  1.0              0.0               0.0            0.0   \n",
       "43                  1.0              0.0               0.0            0.0   \n",
       "45                  0.0              1.0               0.0            0.0   \n",
       "...                 ...              ...               ...            ...   \n",
       "151759              0.0              1.0               0.0            0.0   \n",
       "151760              1.0              0.0               0.0            0.0   \n",
       "151762              0.0              1.0               0.0            0.0   \n",
       "151765              1.0              0.0               0.0            0.0   \n",
       "151768              0.0              1.0               0.0            0.0   \n",
       "151770              0.0              1.0               0.0            0.0   \n",
       "151772              0.0              1.0               0.0            0.0   \n",
       "151773              1.0              0.0               0.0            0.0   \n",
       "151774              NaN              NaN               NaN            NaN   \n",
       "151775              0.0              1.0               0.0            0.0   \n",
       "151776              0.0              1.0               0.0            0.0   \n",
       "151778              0.0              0.0               0.0            0.0   \n",
       "151779              0.0              1.0               0.0            0.0   \n",
       "151780              0.0              1.0               0.0            0.0   \n",
       "151782              0.0              1.0               0.0            0.0   \n",
       "151784              0.0              1.0               0.0            0.0   \n",
       "151785              0.0              1.0               0.0            0.0   \n",
       "151787              0.0              1.0               0.0            0.0   \n",
       "151788              0.0              1.0               0.0            0.0   \n",
       "151789              0.0              1.0               0.0            0.0   \n",
       "151790              0.0              1.0               0.0            0.0   \n",
       "151792              1.0              0.0               0.0            0.0   \n",
       "151794              0.0              1.0               0.0            0.0   \n",
       "151795              0.0              1.0               0.0            0.0   \n",
       "151796              0.0              1.0               0.0            0.0   \n",
       "151798              0.0              1.0               0.0            0.0   \n",
       "151800              0.0              1.0               0.0            0.0   \n",
       "151801              1.0              0.0               0.0            0.0   \n",
       "151804              1.0              0.0               0.0            0.0   \n",
       "151806              0.0              1.0               0.0            0.0   \n",
       "\n",
       "        nombre_Otro  nombre_Posgrado    ...      tipo_Por Contrato  \\\n",
       "0               0.0              0.0    ...                    0.0   \n",
       "2               1.0              0.0    ...                    0.0   \n",
       "5               0.0              0.0    ...                    0.0   \n",
       "6               0.0              1.0    ...                    0.0   \n",
       "8               0.0              0.0    ...                    0.0   \n",
       "11              0.0              0.0    ...                    0.0   \n",
       "13              0.0              0.0    ...                    0.0   \n",
       "14              0.0              0.0    ...                    0.0   \n",
       "16              0.0              0.0    ...                    0.0   \n",
       "17              0.0              1.0    ...                    0.0   \n",
       "19              0.0              0.0    ...                    0.0   \n",
       "20              0.0              0.0    ...                    0.0   \n",
       "22              0.0              0.0    ...                    0.0   \n",
       "23              0.0              0.0    ...                    0.0   \n",
       "25              0.0              0.0    ...                    0.0   \n",
       "26              0.0              0.0    ...                    0.0   \n",
       "27              0.0              0.0    ...                    0.0   \n",
       "28              0.0              0.0    ...                    0.0   \n",
       "30              0.0              0.0    ...                    0.0   \n",
       "31              0.0              0.0    ...                    0.0   \n",
       "32              0.0              0.0    ...                    0.0   \n",
       "33              0.0              0.0    ...                    0.0   \n",
       "34              0.0              0.0    ...                    0.0   \n",
       "35              0.0              0.0    ...                    0.0   \n",
       "36              0.0              0.0    ...                    0.0   \n",
       "38              0.0              0.0    ...                    0.0   \n",
       "39              NaN              NaN    ...                    0.0   \n",
       "40              0.0              1.0    ...                    0.0   \n",
       "43              0.0              0.0    ...                    0.0   \n",
       "45              0.0              0.0    ...                    0.0   \n",
       "...             ...              ...    ...                    ...   \n",
       "151759          0.0              0.0    ...                    NaN   \n",
       "151760          0.0              1.0    ...                    NaN   \n",
       "151762          0.0              0.0    ...                    NaN   \n",
       "151765          0.0              0.0    ...                    NaN   \n",
       "151768          0.0              0.0    ...                    NaN   \n",
       "151770          0.0              0.0    ...                    NaN   \n",
       "151772          0.0              0.0    ...                    NaN   \n",
       "151773          0.0              0.0    ...                    NaN   \n",
       "151774          NaN              NaN    ...                    NaN   \n",
       "151775          0.0              0.0    ...                    NaN   \n",
       "151776          0.0              0.0    ...                    NaN   \n",
       "151778          0.0              0.0    ...                    NaN   \n",
       "151779          0.0              0.0    ...                    NaN   \n",
       "151780          0.0              0.0    ...                    NaN   \n",
       "151782          0.0              0.0    ...                    NaN   \n",
       "151784          0.0              0.0    ...                    NaN   \n",
       "151785          0.0              0.0    ...                    NaN   \n",
       "151787          0.0              0.0    ...                    NaN   \n",
       "151788          0.0              0.0    ...                    NaN   \n",
       "151789          0.0              0.0    ...                    NaN   \n",
       "151790          0.0              0.0    ...                    NaN   \n",
       "151792          0.0              0.0    ...                    NaN   \n",
       "151794          0.0              0.0    ...                    NaN   \n",
       "151795          0.0              0.0    ...                    NaN   \n",
       "151796          0.0              0.0    ...                    NaN   \n",
       "151798          0.0              0.0    ...                    NaN   \n",
       "151800          0.0              0.0    ...                    NaN   \n",
       "151801          0.0              0.0    ...                    NaN   \n",
       "151804          0.0              0.0    ...                    NaN   \n",
       "151806          0.0              0.0    ...                    NaN   \n",
       "\n",
       "        tipo_Por Horas  tipo_Primer empleo tipo_Teletrabajo  tipo_Temporario  \\\n",
       "0                  0.0                 0.0              0.0              0.0   \n",
       "2                  0.0                 0.0              0.0              0.0   \n",
       "5                  0.0                 0.0              0.0              0.0   \n",
       "6                  0.0                 0.0              0.0              0.0   \n",
       "8                  0.0                 0.0              0.0              0.0   \n",
       "11                 0.0                 0.0              0.0              0.0   \n",
       "13                 0.0                 0.0              0.0              0.0   \n",
       "14                 0.0                 0.0              0.0              0.0   \n",
       "16                 0.0                 0.0              0.0              0.0   \n",
       "17                 0.0                 0.0              0.0              0.0   \n",
       "19                 0.0                 0.0              0.0              0.0   \n",
       "20                 0.0                 0.0              0.0              0.0   \n",
       "22                 0.0                 0.0              0.0              0.0   \n",
       "23                 0.0                 0.0              0.0              0.0   \n",
       "25                 0.0                 0.0              0.0              0.0   \n",
       "26                 0.0                 0.0              0.0              0.0   \n",
       "27                 0.0                 0.0              0.0              0.0   \n",
       "28                 0.0                 0.0              0.0              0.0   \n",
       "30                 0.0                 0.0              0.0              0.0   \n",
       "31                 0.0                 0.0              0.0              0.0   \n",
       "32                 0.0                 0.0              0.0              0.0   \n",
       "33                 0.0                 0.0              0.0              0.0   \n",
       "34                 0.0                 0.0              0.0              0.0   \n",
       "35                 0.0                 0.0              0.0              0.0   \n",
       "36                 0.0                 0.0              0.0              0.0   \n",
       "38                 0.0                 0.0              0.0              0.0   \n",
       "39                 0.0                 0.0              0.0              0.0   \n",
       "40                 0.0                 0.0              0.0              0.0   \n",
       "43                 0.0                 0.0              0.0              0.0   \n",
       "45                 0.0                 0.0              0.0              0.0   \n",
       "...                ...                 ...              ...              ...   \n",
       "151759             NaN                 NaN              NaN              NaN   \n",
       "151760             NaN                 NaN              NaN              NaN   \n",
       "151762             NaN                 NaN              NaN              NaN   \n",
       "151765             NaN                 NaN              NaN              NaN   \n",
       "151768             NaN                 NaN              NaN              NaN   \n",
       "151770             NaN                 NaN              NaN              NaN   \n",
       "151772             NaN                 NaN              NaN              NaN   \n",
       "151773             NaN                 NaN              NaN              NaN   \n",
       "151774             NaN                 NaN              NaN              NaN   \n",
       "151775             NaN                 NaN              NaN              NaN   \n",
       "151776             NaN                 NaN              NaN              NaN   \n",
       "151778             NaN                 NaN              NaN              NaN   \n",
       "151779             NaN                 NaN              NaN              NaN   \n",
       "151780             NaN                 NaN              NaN              NaN   \n",
       "151782             NaN                 NaN              NaN              NaN   \n",
       "151784             NaN                 NaN              NaN              NaN   \n",
       "151785             NaN                 NaN              NaN              NaN   \n",
       "151787             NaN                 NaN              NaN              NaN   \n",
       "151788             NaN                 NaN              NaN              NaN   \n",
       "151789             NaN                 NaN              NaN              NaN   \n",
       "151790             NaN                 NaN              NaN              NaN   \n",
       "151792             NaN                 NaN              NaN              NaN   \n",
       "151794             NaN                 NaN              NaN              NaN   \n",
       "151795             NaN                 NaN              NaN              NaN   \n",
       "151796             NaN                 NaN              NaN              NaN   \n",
       "151798             NaN                 NaN              NaN              NaN   \n",
       "151800             NaN                 NaN              NaN              NaN   \n",
       "151801             NaN                 NaN              NaN              NaN   \n",
       "151804             NaN                 NaN              NaN              NaN   \n",
       "151806             NaN                 NaN              NaN              NaN   \n",
       "\n",
       "        tipo_Voluntario  zona_Capital Federal  zona_GBA Oeste  \\\n",
       "0                   0.0                   0.0             0.0   \n",
       "2                   0.0                   0.0             0.0   \n",
       "5                   0.0                   0.0             0.0   \n",
       "6                   0.0                   0.0             0.0   \n",
       "8                   0.0                   0.0             0.0   \n",
       "11                  0.0                   0.0             0.0   \n",
       "13                  0.0                   0.0             0.0   \n",
       "14                  0.0                   0.0             0.0   \n",
       "16                  0.0                   0.0             0.0   \n",
       "17                  0.0                   0.0             0.0   \n",
       "19                  0.0                   0.0             0.0   \n",
       "20                  0.0                   0.0             0.0   \n",
       "22                  0.0                   0.0             0.0   \n",
       "23                  0.0                   0.0             0.0   \n",
       "25                  0.0                   0.0             0.0   \n",
       "26                  0.0                   0.0             0.0   \n",
       "27                  0.0                   0.0             0.0   \n",
       "28                  0.0                   0.0             0.0   \n",
       "30                  0.0                   0.0             0.0   \n",
       "31                  0.0                   0.0             0.0   \n",
       "32                  0.0                   0.0             0.0   \n",
       "33                  0.0                   0.0             0.0   \n",
       "34                  0.0                   1.0             0.0   \n",
       "35                  0.0                   0.0             0.0   \n",
       "36                  0.0                   0.0             0.0   \n",
       "38                  0.0                   1.0             0.0   \n",
       "39                  0.0                   0.0             0.0   \n",
       "40                  0.0                   0.0             0.0   \n",
       "43                  0.0                   0.0             0.0   \n",
       "45                  0.0                   0.0             0.0   \n",
       "...                 ...                   ...             ...   \n",
       "151759              NaN                   NaN             NaN   \n",
       "151760              NaN                   NaN             NaN   \n",
       "151762              NaN                   NaN             NaN   \n",
       "151765              NaN                   NaN             NaN   \n",
       "151768              NaN                   NaN             NaN   \n",
       "151770              NaN                   NaN             NaN   \n",
       "151772              NaN                   NaN             NaN   \n",
       "151773              NaN                   NaN             NaN   \n",
       "151774              NaN                   NaN             NaN   \n",
       "151775              NaN                   NaN             NaN   \n",
       "151776              NaN                   NaN             NaN   \n",
       "151778              NaN                   NaN             NaN   \n",
       "151779              NaN                   NaN             NaN   \n",
       "151780              NaN                   NaN             NaN   \n",
       "151782              NaN                   NaN             NaN   \n",
       "151784              NaN                   NaN             NaN   \n",
       "151785              NaN                   NaN             NaN   \n",
       "151787              NaN                   NaN             NaN   \n",
       "151788              NaN                   NaN             NaN   \n",
       "151789              NaN                   NaN             NaN   \n",
       "151790              NaN                   NaN             NaN   \n",
       "151792              NaN                   NaN             NaN   \n",
       "151794              NaN                   NaN             NaN   \n",
       "151795              NaN                   NaN             NaN   \n",
       "151796              NaN                   NaN             NaN   \n",
       "151798              NaN                   NaN             NaN   \n",
       "151800              NaN                   NaN             NaN   \n",
       "151801              NaN                   NaN             NaN   \n",
       "151804              NaN                   NaN             NaN   \n",
       "151806              NaN                   NaN             NaN   \n",
       "\n",
       "        zona_Gran Buenos Aires  train_set  \n",
       "0                          1.0        1.0  \n",
       "2                          1.0        1.0  \n",
       "5                          1.0        1.0  \n",
       "6                          1.0        1.0  \n",
       "8                          1.0        1.0  \n",
       "11                         1.0        1.0  \n",
       "13                         1.0        1.0  \n",
       "14                         1.0        1.0  \n",
       "16                         1.0        1.0  \n",
       "17                         1.0        1.0  \n",
       "19                         1.0        1.0  \n",
       "20                         1.0        1.0  \n",
       "22                         1.0        1.0  \n",
       "23                         1.0        1.0  \n",
       "25                         1.0        1.0  \n",
       "26                         1.0        1.0  \n",
       "27                         1.0        1.0  \n",
       "28                         1.0        1.0  \n",
       "30                         1.0        1.0  \n",
       "31                         1.0        1.0  \n",
       "32                         1.0        1.0  \n",
       "33                         1.0        1.0  \n",
       "34                         0.0        1.0  \n",
       "35                         1.0        1.0  \n",
       "36                         1.0        1.0  \n",
       "38                         0.0        1.0  \n",
       "39                         1.0        1.0  \n",
       "40                         1.0        1.0  \n",
       "43                         1.0        1.0  \n",
       "45                         1.0        1.0  \n",
       "...                        ...        ...  \n",
       "151759                     NaN        NaN  \n",
       "151760                     NaN        NaN  \n",
       "151762                     NaN        NaN  \n",
       "151765                     NaN        NaN  \n",
       "151768                     NaN        NaN  \n",
       "151770                     NaN        NaN  \n",
       "151772                     NaN        NaN  \n",
       "151773                     NaN        NaN  \n",
       "151774                     NaN        NaN  \n",
       "151775                     NaN        NaN  \n",
       "151776                     NaN        NaN  \n",
       "151778                     NaN        NaN  \n",
       "151779                     NaN        NaN  \n",
       "151780                     NaN        NaN  \n",
       "151782                     NaN        NaN  \n",
       "151784                     NaN        NaN  \n",
       "151785                     NaN        NaN  \n",
       "151787                     NaN        NaN  \n",
       "151788                     NaN        NaN  \n",
       "151789                     NaN        NaN  \n",
       "151790                     NaN        NaN  \n",
       "151792                     NaN        NaN  \n",
       "151794                     NaN        NaN  \n",
       "151795                     NaN        NaN  \n",
       "151796                     NaN        NaN  \n",
       "151798                     NaN        NaN  \n",
       "151800                     NaN        NaN  \n",
       "151801                     NaN        NaN  \n",
       "151804                     NaN        NaN  \n",
       "151806                     NaN        NaN  \n",
       "\n",
       "[100000 rows x 105 columns]>"
      ]
     },
     "execution_count": 230,
     "metadata": {},
     "output_type": "execute_result"
    }
   ],
   "source": [
    "setDatosToPredict.info"
   ]
  },
  {
   "cell_type": "code",
   "execution_count": 54,
   "metadata": {},
   "outputs": [],
   "source": []
  },
  {
   "cell_type": "code",
   "execution_count": 175,
   "metadata": {},
   "outputs": [],
   "source": [
    "setToTrain = concatenados[concatenados['train_set'] == 1]"
   ]
  },
  {
   "cell_type": "code",
   "execution_count": 176,
   "metadata": {},
   "outputs": [
    {
     "name": "stderr",
     "output_type": "stream",
     "text": [
      "C:\\Users\\nicol\\Anaconda3\\lib\\site-packages\\ipykernel_launcher.py:1: SettingWithCopyWarning: \n",
      "A value is trying to be set on a copy of a slice from a DataFrame.\n",
      "Try using .loc[row_indexer,col_indexer] = value instead\n",
      "\n",
      "See the caveats in the documentation: http://pandas.pydata.org/pandas-docs/stable/indexing.html#indexing-view-versus-copy\n",
      "  \"\"\"Entry point for launching an IPython kernel.\n"
     ]
    }
   ],
   "source": [
    "setToTrain['edad'] = (hoy - setToTrain['fechanacimiento']).astype('<m8[Y]')"
   ]
  },
  {
   "cell_type": "code",
   "execution_count": 177,
   "metadata": {},
   "outputs": [],
   "source": [
    "setToTrain = setToTrain.drop(['fechapostulacion','fechanacimiento','idaviso','idpostulante','id','test_set','train_set'],axis=1)"
   ]
  },
  {
   "cell_type": "code",
   "execution_count": 178,
   "metadata": {},
   "outputs": [],
   "source": [
    "setToTrain.dropna(axis=0,inplace=True, how='any')"
   ]
  },
  {
   "cell_type": "code",
   "execution_count": 179,
   "metadata": {},
   "outputs": [],
   "source": [
    "setToTrainNumericals = setToTrain.drop('sepostulo',axis=1)"
   ]
  },
  {
   "cell_type": "code",
   "execution_count": 182,
   "metadata": {},
   "outputs": [],
   "source": [
    "setToTrainNumericals = setToTrain.drop('denominacion_empresa',axis=1)"
   ]
  },
  {
   "cell_type": "code",
   "execution_count": 183,
   "metadata": {},
   "outputs": [],
   "source": [
    "X_train, X_validation, Y_train, Y_validation = model_selection.train_test_split(setToTrainNumericals, setToTrain['sepostulo'], test_size=0.3, random_state=7)"
   ]
  },
  {
   "cell_type": "code",
   "execution_count": 184,
   "metadata": {},
   "outputs": [
    {
     "data": {
      "text/plain": [
       "GaussianNB(priors=None)"
      ]
     },
     "execution_count": 184,
     "metadata": {},
     "output_type": "execute_result"
    }
   ],
   "source": [
    "g = GaussianNB()\n",
    "g.fit(X_train, Y_train)"
   ]
  },
  {
   "cell_type": "code",
   "execution_count": 185,
   "metadata": {},
   "outputs": [
    {
     "name": "stderr",
     "output_type": "stream",
     "text": [
      "C:\\Users\\nicol\\Anaconda3\\lib\\site-packages\\ipykernel_launcher.py:1: SettingWithCopyWarning: \n",
      "A value is trying to be set on a copy of a slice from a DataFrame.\n",
      "Try using .loc[row_indexer,col_indexer] = value instead\n",
      "\n",
      "See the caveats in the documentation: http://pandas.pydata.org/pandas-docs/stable/indexing.html#indexing-view-versus-copy\n",
      "  \"\"\"Entry point for launching an IPython kernel.\n"
     ]
    }
   ],
   "source": [
    "setDatosToPredict['edad'] = (hoy - setDatosToPredict['fechanacimiento']).astype('<m8[Y]')"
   ]
  },
  {
   "cell_type": "code",
   "execution_count": 186,
   "metadata": {},
   "outputs": [],
   "source": [
    "limpiado = setDatosToPredict.drop(['fechapostulacion','fechanacimiento','idaviso','idpostulante','id','test_set','train_set'],axis=1)"
   ]
  },
  {
   "cell_type": "code",
   "execution_count": 190,
   "metadata": {},
   "outputs": [],
   "source": [
    "limpiado = limpiado.drop('sepostulo',axis=1)\n",
    "limpiado = limpiado.drop('denominacion_empresa',axis=1)"
   ]
  },
  {
   "cell_type": "code",
   "execution_count": 191,
   "metadata": {},
   "outputs": [],
   "source": [
    "from sklearn.preprocessing import Imputer\n",
    "imp = Imputer(missing_values='NaN', strategy='most_frequent', axis=0)"
   ]
  },
  {
   "cell_type": "code",
   "execution_count": 195,
   "metadata": {},
   "outputs": [],
   "source": [
    "limpiado = limpiado.loc[:,~limpiado.columns.duplicated()]"
   ]
  },
  {
   "cell_type": "code",
   "execution_count": null,
   "metadata": {},
   "outputs": [],
   "source": []
  },
  {
   "cell_type": "code",
   "execution_count": null,
   "metadata": {},
   "outputs": [],
   "source": []
  },
  {
   "cell_type": "code",
   "execution_count": null,
   "metadata": {},
   "outputs": [],
   "source": []
  },
  {
   "cell_type": "code",
   "execution_count": 158,
   "metadata": {},
   "outputs": [],
   "source": [
    "archivo2 = pd.DataFrame()\n",
    "archivo2['id'] = testingSet.loc[:,['id']]\n",
    "archivo2['sepostulo'] = prueba2\n",
    "archivo2.to_csv('prueba2.csv', index=False)"
   ]
  },
  {
   "cell_type": "code",
   "execution_count": 100,
   "metadata": {},
   "outputs": [
    {
     "data": {
      "text/plain": [
       "300000"
      ]
     },
     "execution_count": 100,
     "metadata": {},
     "output_type": "execute_result"
    }
   ],
   "source": [
    "testingSet.size"
   ]
  },
  {
   "cell_type": "markdown",
   "metadata": {},
   "source": [
    "# Prueba 2"
   ]
  },
  {
   "cell_type": "code",
   "execution_count": 162,
   "metadata": {},
   "outputs": [
    {
     "data": {
      "text/plain": [
       "RandomForestRegressor(bootstrap=True, criterion='mse', max_depth=None,\n",
       "           max_features='sqrt', max_leaf_nodes=None,\n",
       "           min_impurity_decrease=0.0, min_impurity_split=None,\n",
       "           min_samples_leaf=1, min_samples_split=2,\n",
       "           min_weight_fraction_leaf=0.0, n_estimators=100, n_jobs=1,\n",
       "           oob_score=False, random_state=None, verbose=0, warm_start=False)"
      ]
     },
     "execution_count": 162,
     "metadata": {},
     "output_type": "execute_result"
    }
   ],
   "source": [
    "rf =  RandomForestRegressor(n_estimators=100, max_features='sqrt')\n",
    "rf.fit(X_train, Y_train)"
   ]
  },
  {
   "cell_type": "code",
   "execution_count": 163,
   "metadata": {},
   "outputs": [],
   "source": [
    "prueba3 =g.predict(imp.fit_transform(limpiado))"
   ]
  },
  {
   "cell_type": "code",
   "execution_count": 165,
   "metadata": {},
   "outputs": [],
   "source": [
    "archivo2 = pd.DataFrame()\n",
    "archivo2['id'] = testingSet.loc[:,['id']]\n",
    "archivo2['sepostulo'] = prueba3\n",
    "archivo2.to_csv('prueba3.csv', index=False)"
   ]
  },
  {
   "cell_type": "code",
   "execution_count": null,
   "metadata": {},
   "outputs": [],
   "source": [
    "X_train, X_validation, Y_train, Y_validation = model_selection.train_test_split(setToTrainNumericals, setToTrain['sepostulo'], test_size=0.3, random_state=7)"
   ]
  },
  {
   "cell_type": "code",
   "execution_count": null,
   "metadata": {},
   "outputs": [],
   "source": []
  },
  {
   "cell_type": "code",
   "execution_count": null,
   "metadata": {},
   "outputs": [],
   "source": []
  }
 ],
 "metadata": {
  "kernelspec": {
   "display_name": "Python 3",
   "language": "python",
   "name": "python3"
  },
  "language_info": {
   "codemirror_mode": {
    "name": "ipython",
    "version": 3
   },
   "file_extension": ".py",
   "mimetype": "text/x-python",
   "name": "python",
   "nbconvert_exporter": "python",
   "pygments_lexer": "ipython3",
   "version": "3.6.3"
  }
 },
 "nbformat": 4,
 "nbformat_minor": 2
}
