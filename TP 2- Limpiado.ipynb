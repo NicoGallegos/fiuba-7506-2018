{
 "cells": [
  {
   "cell_type": "code",
   "execution_count": 1,
   "metadata": {},
   "outputs": [],
   "source": [
    "import pandas as pd\n",
    "import numpy as np\n",
    "import seaborn as sns\n",
    "import matplotlib.pyplot as plt"
   ]
  },
  {
   "cell_type": "markdown",
   "metadata": {},
   "source": [
    "# Carga de Datos"
   ]
  },
  {
   "cell_type": "code",
   "execution_count": 2,
   "metadata": {},
   "outputs": [],
   "source": [
    "postulantesEducacion = pd.read_csv('resources/tar/fiuba_1_postulantes_educacion.csv')\n",
    "postulantesGenero = pd.read_csv('resources/tar/fiuba_2_postulantes_genero_y_edad.csv')\n",
    "vistas = pd.read_csv('resources/tar/fiuba_3_vistas.csv')\n",
    "postulaciones = pd.read_csv('resources/tar/fiuba_4_postulaciones.csv')\n",
    "avisosOnline = pd.read_csv('resources/tar/fiuba_5_avisos_online.csv')\n",
    "avisosDetalle = pd.read_csv('resources/tar/fiuba_6_avisos_detalle.csv')\n",
    "\n",
    "\n",
    "#SEGUNDOS ARCHIVOS\n",
    "postulantesEducacion2 = pd.read_csv('resources/datos_navent_fiuba/fiuba_1_postulantes_educacion.csv')\n",
    "postulantesGenero2 = pd.read_csv('resources/datos_navent_fiuba/fiuba_2_postulantes_genero_y_edad.csv')\n",
    "vistas2 = pd.read_csv('resources/datos_navent_fiuba/fiuba_3_vistas.csv')\n",
    "postulaciones2 = pd.read_csv('resources/datos_navent_fiuba/fiuba_4_postulaciones.csv')\n",
    "avisosOnline2 = pd.read_csv('resources/datos_navent_fiuba/fiuba_5_avisos_online.csv')\n",
    "avisosDetalle2 = pd.read_csv('resources/datos_navent_fiuba/fiuba_6_avisos_detalle.csv')\n",
    "\n",
    "#cargamos zips\n",
    "avisosDetalleZIP = pd.read_csv('resources/zip/fiuba_6_avisos_detalle.csv')\n",
    "avisosDetalleMissing = pd.read_csv('resources/zip/fiuba_6_avisos_missing.csv')\n",
    "\n",
    "postulantesEducacionZip = pd.read_csv('resources/zip/fiuba_1_postulantes_educacion.csv')\n",
    "postulantesGeneroZip = pd.read_csv('resources/zip/fiuba_2_postulantes_genero_y_edad.csv')\n",
    "\n",
    "vistasZIP = pd.read_csv('resources/zip/fiuba_3_vistas.csv')"
   ]
  },
  {
   "cell_type": "code",
   "execution_count": 4,
   "metadata": {},
   "outputs": [],
   "source": [
    "#Set de test\n",
    "testingSet = pd.read_csv('resources/test_final_100k.csv')"
   ]
  },
  {
   "cell_type": "markdown",
   "metadata": {},
   "source": [
    "### Unimos datos de archivos"
   ]
  },
  {
   "cell_type": "code",
   "execution_count": 9,
   "metadata": {},
   "outputs": [],
   "source": [
    "#Vistas\n",
    "vistasCompletas = pd.concat([vistas,vistas2])\n",
    "vistasCompletas['idaviso'] = vistasCompletas['idAviso']\n",
    "vistasCompletas.drop('idAviso',inplace=True,axis=1)\n",
    "\n",
    "#Genero y educacion\n",
    "educacionTodas = pd.concat([postulantesEducacion,postulantesEducacionZip,postulantesEducacion2])\n",
    "generoTodas = pd.concat([postulantesGenero,postulantesGeneroZip,postulantesGenero2])\n",
    "\n",
    "#Avisos Detalle\n",
    "detalleCompletas = pd.concat([avisosDetalle,avisosDetalle2])\n",
    "\n",
    "#Postulacion\n",
    "postulaciones = pd.concat([postulaciones,postulaciones2])\n",
    "\n",
    "\n",
    "##Unimos lo de los zips\n",
    "detalleCompletasZIP = pd.concat([avisosDetalleZIP,avisosDetalleMissing])"
   ]
  },
  {
   "cell_type": "code",
   "execution_count": 17,
   "metadata": {},
   "outputs": [],
   "source": []
  },
  {
   "cell_type": "code",
   "execution_count": 5,
   "metadata": {},
   "outputs": [],
   "source": []
  },
  {
   "cell_type": "code",
   "execution_count": 250,
   "metadata": {},
   "outputs": [],
   "source": []
  },
  {
   "cell_type": "markdown",
   "metadata": {},
   "source": [
    "### Genero avisos no postulados"
   ]
  },
  {
   "cell_type": "code",
   "execution_count": 131,
   "metadata": {},
   "outputs": [],
   "source": [
    "#vf = vistasCompletas[['idaviso','idpostulante']]\n",
    "#vf= vf.drop_duplicates()\n",
    "#len(vf)\n",
    "\n",
    "#postulacionesConVistas = pd.merge(vf,postulaciones,on=['idaviso','idpostulante'],how='outer')\n",
    "#avisosNoPostulado = postulacionesConVistas[postulacionesConVistas['fechapostulacion'].isnull()]\n",
    "#avisosNoPostulado.drop('fechapostulacion',axis=1,inplace=True)"
   ]
  },
  {
   "cell_type": "code",
   "execution_count": 95,
   "metadata": {},
   "outputs": [
    {
     "data": {
      "text/plain": [
       "1870115"
      ]
     },
     "execution_count": 95,
     "metadata": {},
     "output_type": "execute_result"
    }
   ],
   "source": [
    "len(avisosNoPostulado)"
   ]
  },
  {
   "cell_type": "code",
   "execution_count": 12,
   "metadata": {},
   "outputs": [],
   "source": [
    "noPostu = pd.read_csv('nopostulados/metodo5.csv')"
   ]
  },
  {
   "cell_type": "code",
   "execution_count": 13,
   "metadata": {},
   "outputs": [],
   "source": [
    "test = pd.merge(noPostu,postulaciones,on=['idpostulante','idaviso'],how='inner')\n",
    "len(test)\n",
    "\n",
    "avisosNoPostuladoTodos = pd.merge(noPostu,postulaciones,on=['idpostulante','idaviso'],how='outer')\n",
    "avisosNoPostulado = avisosNoPostuladoTodos[avisosNoPostuladoTodos['fechapostulacion'].isnull()]"
   ]
  },
  {
   "cell_type": "code",
   "execution_count": 15,
   "metadata": {},
   "outputs": [
    {
     "name": "stderr",
     "output_type": "stream",
     "text": [
      "C:\\Users\\nicol\\Anaconda3\\lib\\site-packages\\ipykernel_launcher.py:1: SettingWithCopyWarning: \n",
      "A value is trying to be set on a copy of a slice from a DataFrame\n",
      "\n",
      "See the caveats in the documentation: http://pandas.pydata.org/pandas-docs/stable/indexing.html#indexing-view-versus-copy\n",
      "  \"\"\"Entry point for launching an IPython kernel.\n"
     ]
    },
    {
     "data": {
      "text/plain": [
       "7736967"
      ]
     },
     "execution_count": 15,
     "metadata": {},
     "output_type": "execute_result"
    }
   ],
   "source": [
    "avisosNoPostulado.drop(['fechapostulacion','Unnamed: 0'],axis=1,inplace=True)\n",
    "len(avisosNoPostulado)"
   ]
  },
  {
   "cell_type": "code",
   "execution_count": 281,
   "metadata": {},
   "outputs": [],
   "source": [
    "#avisosNoPostulado.drop(['Unnamed: 0'],axis=1,inplace=True)"
   ]
  },
  {
   "cell_type": "code",
   "execution_count": 16,
   "metadata": {},
   "outputs": [
    {
     "data": {
      "text/html": [
       "<div>\n",
       "<style>\n",
       "    .dataframe thead tr:only-child th {\n",
       "        text-align: right;\n",
       "    }\n",
       "\n",
       "    .dataframe thead th {\n",
       "        text-align: left;\n",
       "    }\n",
       "\n",
       "    .dataframe tbody tr th {\n",
       "        vertical-align: top;\n",
       "    }\n",
       "</style>\n",
       "<table border=\"1\" class=\"dataframe\">\n",
       "  <thead>\n",
       "    <tr style=\"text-align: right;\">\n",
       "      <th></th>\n",
       "      <th>idpostulante</th>\n",
       "      <th>idaviso</th>\n",
       "    </tr>\n",
       "  </thead>\n",
       "  <tbody>\n",
       "    <tr>\n",
       "      <th>0</th>\n",
       "      <td>ZDPADo8</td>\n",
       "      <td>1111556097</td>\n",
       "    </tr>\n",
       "    <tr>\n",
       "      <th>1</th>\n",
       "      <td>MVdR6N9</td>\n",
       "      <td>1111556097</td>\n",
       "    </tr>\n",
       "    <tr>\n",
       "      <th>2</th>\n",
       "      <td>rmRpBzd</td>\n",
       "      <td>1111556097</td>\n",
       "    </tr>\n",
       "    <tr>\n",
       "      <th>3</th>\n",
       "      <td>A3DzdeG</td>\n",
       "      <td>1111556097</td>\n",
       "    </tr>\n",
       "    <tr>\n",
       "      <th>4</th>\n",
       "      <td>0zP1kMY</td>\n",
       "      <td>1111556097</td>\n",
       "    </tr>\n",
       "  </tbody>\n",
       "</table>\n",
       "</div>"
      ],
      "text/plain": [
       "  idpostulante     idaviso\n",
       "0      ZDPADo8  1111556097\n",
       "1      MVdR6N9  1111556097\n",
       "2      rmRpBzd  1111556097\n",
       "3      A3DzdeG  1111556097\n",
       "4      0zP1kMY  1111556097"
      ]
     },
     "execution_count": 16,
     "metadata": {},
     "output_type": "execute_result"
    }
   ],
   "source": [
    "avisosNoPostulado.head()"
   ]
  },
  {
   "cell_type": "code",
   "execution_count": 189,
   "metadata": {},
   "outputs": [],
   "source": [
    "##PRUEBA CON SEGUNDO GENERADOR DE DOCUMENTOS NO POSTULADOS\n",
    "\n",
    "#avisosNoPostulado = pd.read_csv('nopostulados/noPostuladosTodos.csv')\n",
    "#avisosNoPostulado['idpostulante'] = avisosNoPostulado['idpostulante_x']\n",
    "#avisosNoPostulado.drop(['Unnamed: 0','idpostulante_y','fechapostulacion','idpostulante_x'],axis=1,inplace=True)\n",
    "\n",
    "\n",
    "\n",
    "##GENERADOS CON METODO 4\n",
    "#avisosNoPostulado = pd.read_csv('nopostulados/NopostuladosNuevoMetodo.csv')\n",
    "#avisosNoPostulado.drop(['Unnamed: 0','fechapostulacion'],inplace=True,axis=1)\n",
    "\n",
    "\n",
    "#Levanto avisos no postulados --old version\n",
    "#avisosNoPostulado = pd.DataFrame();\n",
    "#for i in range(0,15):\n",
    "#    noPostulado = pd.read_csv('nopostulados/nopostulados-'+str(i)+'.csv')\n",
    "#    avisosNoPostulado = pd.concat([noPostulado,avisosNoPostulado]);\n",
    "\n",
    "#avisosNoPostulado.drop('Unnamed: 0',axis=1,inplace=True)\n",
    "#avisosNoPostulado = avisosNoPostulado.drop_duplicates()"
   ]
  },
  {
   "cell_type": "markdown",
   "metadata": {},
   "source": [
    "# Preparacion de datos"
   ]
  },
  {
   "cell_type": "code",
   "execution_count": null,
   "metadata": {},
   "outputs": [],
   "source": []
  },
  {
   "cell_type": "code",
   "execution_count": 17,
   "metadata": {},
   "outputs": [],
   "source": [
    "#Convierto en date\n",
    "postulaciones['datePostulacion'] = pd.DatetimeIndex(postulaciones['fechapostulacion']).date"
   ]
  },
  {
   "cell_type": "code",
   "execution_count": null,
   "metadata": {},
   "outputs": [],
   "source": []
  },
  {
   "cell_type": "code",
   "execution_count": null,
   "metadata": {},
   "outputs": [],
   "source": []
  },
  {
   "cell_type": "markdown",
   "metadata": {},
   "source": [
    "### Transformo las empresas a numeros"
   ]
  },
  {
   "cell_type": "code",
   "execution_count": 18,
   "metadata": {},
   "outputs": [],
   "source": [
    "##Junto las 3 para tener todas las empresas mencionadas.\n",
    "detTodas = pd.concat([detalleCompletas,detalleCompletasZIP])\n",
    "detalleMerged = detTodas[['idaviso','denominacion_empresa']]"
   ]
  },
  {
   "cell_type": "code",
   "execution_count": 19,
   "metadata": {},
   "outputs": [],
   "source": [
    "#Convertimos los nombres de las empresas a numericals\n",
    "#Mergeo avisos con postulaciones\n",
    "postulacionesMerged = pd.merge(postulaciones,detalleMerged,on='idaviso',how='inner');"
   ]
  },
  {
   "cell_type": "code",
   "execution_count": 20,
   "metadata": {},
   "outputs": [],
   "source": [
    "postulacionesMerged['cantidadEmpresa'] = 1;\n",
    "postulacionesMerged['denominacion_empresa'].fillna('S/E', inplace=True);\n",
    "cantAvisosPorEmpresa = postulacionesMerged.groupby('denominacion_empresa').sum()\n",
    "cantAvisosPorEmpresa = cantAvisosPorEmpresa.reset_index()\n",
    "cantAvisosPorEmpresa = cantAvisosPorEmpresa[['denominacion_empresa','cantidadEmpresa']]\n",
    "postulacionesMerged.drop('cantidadEmpresa',axis=1,inplace=True)"
   ]
  },
  {
   "cell_type": "code",
   "execution_count": 287,
   "metadata": {},
   "outputs": [
    {
     "data": {
      "text/html": [
       "<div>\n",
       "<style>\n",
       "    .dataframe thead tr:only-child th {\n",
       "        text-align: right;\n",
       "    }\n",
       "\n",
       "    .dataframe thead th {\n",
       "        text-align: left;\n",
       "    }\n",
       "\n",
       "    .dataframe tbody tr th {\n",
       "        vertical-align: top;\n",
       "    }\n",
       "</style>\n",
       "<table border=\"1\" class=\"dataframe\">\n",
       "  <thead>\n",
       "    <tr style=\"text-align: right;\">\n",
       "      <th></th>\n",
       "      <th>denominacion_empresa</th>\n",
       "      <th>cantidadEmpresa</th>\n",
       "    </tr>\n",
       "  </thead>\n",
       "  <tbody>\n",
       "    <tr>\n",
       "      <th>2025</th>\n",
       "      <td>Manpower</td>\n",
       "      <td>963909</td>\n",
       "    </tr>\n",
       "    <tr>\n",
       "      <th>2490</th>\n",
       "      <td>RANDSTAD</td>\n",
       "      <td>893729</td>\n",
       "    </tr>\n",
       "    <tr>\n",
       "      <th>161</th>\n",
       "      <td>Adecco -Región Office</td>\n",
       "      <td>697775</td>\n",
       "    </tr>\n",
       "    <tr>\n",
       "      <th>1444</th>\n",
       "      <td>Grupo Gestión</td>\n",
       "      <td>689770</td>\n",
       "    </tr>\n",
       "    <tr>\n",
       "      <th>1236</th>\n",
       "      <td>Farmacity</td>\n",
       "      <td>588353</td>\n",
       "    </tr>\n",
       "    <tr>\n",
       "      <th>259</th>\n",
       "      <td>Assistem</td>\n",
       "      <td>575936</td>\n",
       "    </tr>\n",
       "    <tr>\n",
       "      <th>303</th>\n",
       "      <td>BBVA Francés</td>\n",
       "      <td>549225</td>\n",
       "    </tr>\n",
       "    <tr>\n",
       "      <th>301</th>\n",
       "      <td>BAYTON</td>\n",
       "      <td>439058</td>\n",
       "    </tr>\n",
       "    <tr>\n",
       "      <th>2462</th>\n",
       "      <td>Pullmen Servicios Empresarios S.A.</td>\n",
       "      <td>396778</td>\n",
       "    </tr>\n",
       "    <tr>\n",
       "      <th>157</th>\n",
       "      <td>Adecco - Región NORTE &amp; OESTE GBA</td>\n",
       "      <td>328406</td>\n",
       "    </tr>\n",
       "  </tbody>\n",
       "</table>\n",
       "</div>"
      ],
      "text/plain": [
       "                    denominacion_empresa  cantidadEmpresa\n",
       "2025                            Manpower           963909\n",
       "2490                            RANDSTAD           893729\n",
       "161                Adecco -Región Office           697775\n",
       "1444                       Grupo Gestión           689770\n",
       "1236                           Farmacity           588353\n",
       "259                             Assistem           575936\n",
       "303                         BBVA Francés           549225\n",
       "301                               BAYTON           439058\n",
       "2462  Pullmen Servicios Empresarios S.A.           396778\n",
       "157    Adecco - Región NORTE & OESTE GBA           328406"
      ]
     },
     "execution_count": 287,
     "metadata": {},
     "output_type": "execute_result"
    }
   ],
   "source": [
    "cantAvisosPorEmpresa.sort_values(by='cantidadEmpresa',ascending=False).head(10)"
   ]
  },
  {
   "cell_type": "markdown",
   "metadata": {},
   "source": [
    "###  Contamos la cantidad de postulaciones por aviso"
   ]
  },
  {
   "cell_type": "code",
   "execution_count": 21,
   "metadata": {},
   "outputs": [
    {
     "name": "stderr",
     "output_type": "stream",
     "text": [
      "C:\\Users\\nicol\\Anaconda3\\lib\\site-packages\\ipykernel_launcher.py:5: SettingWithCopyWarning: \n",
      "A value is trying to be set on a copy of a slice from a DataFrame.\n",
      "Try using .loc[row_indexer,col_indexer] = value instead\n",
      "\n",
      "See the caveats in the documentation: http://pandas.pydata.org/pandas-docs/stable/indexing.html#indexing-view-versus-copy\n",
      "  \"\"\"\n"
     ]
    }
   ],
   "source": [
    "#Mergeo con las postulaciones\n",
    "postulacionesConEmpresas = pd.merge(postulacionesMerged,cantAvisosPorEmpresa,how='inner',on='denominacion_empresa')\n",
    "#Contamos la cantidad de avisos a los que se postulo\n",
    "avisosPostulados = postulaciones[['idaviso']]\n",
    "avisosPostulados['cantPostulaciones'] = 1;\n",
    "avisosPostuladosGP = avisosPostulados.groupby(['idaviso']).sum()\n",
    "avisosPostuladosGP = avisosPostuladosGP.reset_index()"
   ]
  },
  {
   "cell_type": "code",
   "execution_count": 22,
   "metadata": {},
   "outputs": [
    {
     "data": {
      "text/html": [
       "<div>\n",
       "<style>\n",
       "    .dataframe thead tr:only-child th {\n",
       "        text-align: right;\n",
       "    }\n",
       "\n",
       "    .dataframe thead th {\n",
       "        text-align: left;\n",
       "    }\n",
       "\n",
       "    .dataframe tbody tr th {\n",
       "        vertical-align: top;\n",
       "    }\n",
       "</style>\n",
       "<table border=\"1\" class=\"dataframe\">\n",
       "  <thead>\n",
       "    <tr style=\"text-align: right;\">\n",
       "      <th></th>\n",
       "      <th>idaviso</th>\n",
       "      <th>cantPostulaciones</th>\n",
       "    </tr>\n",
       "  </thead>\n",
       "  <tbody>\n",
       "    <tr>\n",
       "      <th>10405</th>\n",
       "      <td>1112334791</td>\n",
       "      <td>38676</td>\n",
       "    </tr>\n",
       "    <tr>\n",
       "      <th>1084</th>\n",
       "      <td>1112094756</td>\n",
       "      <td>35185</td>\n",
       "    </tr>\n",
       "    <tr>\n",
       "      <th>931</th>\n",
       "      <td>1112033906</td>\n",
       "      <td>34738</td>\n",
       "    </tr>\n",
       "    <tr>\n",
       "      <th>10402</th>\n",
       "      <td>1112334788</td>\n",
       "      <td>26531</td>\n",
       "    </tr>\n",
       "    <tr>\n",
       "      <th>1837</th>\n",
       "      <td>1112204682</td>\n",
       "      <td>23379</td>\n",
       "    </tr>\n",
       "    <tr>\n",
       "      <th>11224</th>\n",
       "      <td>1112345900</td>\n",
       "      <td>22590</td>\n",
       "    </tr>\n",
       "    <tr>\n",
       "      <th>1640</th>\n",
       "      <td>1112196813</td>\n",
       "      <td>22109</td>\n",
       "    </tr>\n",
       "    <tr>\n",
       "      <th>9732</th>\n",
       "      <td>1112319451</td>\n",
       "      <td>20814</td>\n",
       "    </tr>\n",
       "    <tr>\n",
       "      <th>6977</th>\n",
       "      <td>1112280937</td>\n",
       "      <td>20784</td>\n",
       "    </tr>\n",
       "    <tr>\n",
       "      <th>8199</th>\n",
       "      <td>1112298966</td>\n",
       "      <td>19621</td>\n",
       "    </tr>\n",
       "  </tbody>\n",
       "</table>\n",
       "</div>"
      ],
      "text/plain": [
       "          idaviso  cantPostulaciones\n",
       "10405  1112334791              38676\n",
       "1084   1112094756              35185\n",
       "931    1112033906              34738\n",
       "10402  1112334788              26531\n",
       "1837   1112204682              23379\n",
       "11224  1112345900              22590\n",
       "1640   1112196813              22109\n",
       "9732   1112319451              20814\n",
       "6977   1112280937              20784\n",
       "8199   1112298966              19621"
      ]
     },
     "execution_count": 22,
     "metadata": {},
     "output_type": "execute_result"
    }
   ],
   "source": [
    "avisosPostuladosGP.sort_values(by='cantPostulaciones',ascending=False).head(10)"
   ]
  },
  {
   "cell_type": "markdown",
   "metadata": {},
   "source": [
    "## Reducimos el set de postulaciones para trabajar"
   ]
  },
  {
   "cell_type": "markdown",
   "metadata": {},
   "source": [
    "#### Me quedo con un subset mucho mas chico, puesto que son demasiados datos."
   ]
  },
  {
   "cell_type": "code",
   "execution_count": 49,
   "metadata": {},
   "outputs": [
    {
     "data": {
      "text/plain": [
       "937031"
      ]
     },
     "execution_count": 49,
     "metadata": {},
     "output_type": "execute_result"
    }
   ],
   "source": [
    "avisosPostuladosSample = postulaciones.sample(frac=0.08)\n",
    "avisosPostuladosSample = avisosPostuladosSample[['idaviso','idpostulante']]\n",
    "len(avisosPostuladosSample)"
   ]
  },
  {
   "cell_type": "code",
   "execution_count": 50,
   "metadata": {},
   "outputs": [
    {
     "data": {
      "text/plain": [
       "541588"
      ]
     },
     "execution_count": 50,
     "metadata": {},
     "output_type": "execute_result"
    }
   ],
   "source": [
    "avisosNOPostuladosSample = avisosNoPostulado.sample(frac=0.07)\n",
    "avisosNOPostuladosSample = avisosNOPostuladosSample[['idaviso','idpostulante']]\n",
    "len(avisosNOPostuladosSample)"
   ]
  },
  {
   "cell_type": "code",
   "execution_count": 51,
   "metadata": {},
   "outputs": [],
   "source": [
    "#Concateno los no postulados, con los postulados\n",
    "avisosNOPostuladosSample['sepostulo'] = 0;\n",
    "avisosPostuladosSample['sepostulo'] = 1;\n",
    "datosMergeados = pd.concat([avisosNOPostuladosSample,avisosPostuladosSample])"
   ]
  },
  {
   "cell_type": "code",
   "execution_count": 52,
   "metadata": {},
   "outputs": [
    {
     "data": {
      "text/plain": [
       "1478619"
      ]
     },
     "execution_count": 52,
     "metadata": {},
     "output_type": "execute_result"
    }
   ],
   "source": [
    "len(datosMergeados)"
   ]
  },
  {
   "cell_type": "markdown",
   "metadata": {},
   "source": [
    "# Convierto zona, tipo de trabajo y nivel laboral en numerical"
   ]
  },
  {
   "cell_type": "markdown",
   "metadata": {},
   "source": [
    "#####  Primero uno los datasets de testing y datos de training, de forma que pueda trabajarlos en conjunto,  y no tener problemas con columnas faltantes"
   ]
  },
  {
   "cell_type": "code",
   "execution_count": 71,
   "metadata": {},
   "outputs": [],
   "source": [
    "#Marco los sets de training con el de test\n",
    "testingSet['testSet'] =1;\n",
    "datosMergeados['testSet'] = 0;"
   ]
  },
  {
   "cell_type": "code",
   "execution_count": 72,
   "metadata": {},
   "outputs": [],
   "source": [
    "#Ahora unimos los detalles con los avisos\n",
    "datosMergeadosConDetalle = pd.merge(datosMergeados,detalleCompletas,how='inner',on='idaviso');\n",
    "testingSetConDetalle = pd.merge(testingSet,detalleCompletasZIP,how='left',on='idaviso');"
   ]
  },
  {
   "cell_type": "code",
   "execution_count": 55,
   "metadata": {},
   "outputs": [
    {
     "data": {
      "text/plain": [
       "100000"
      ]
     },
     "execution_count": 55,
     "metadata": {},
     "output_type": "execute_result"
    }
   ],
   "source": [
    "len(testingSetConDetalle)"
   ]
  },
  {
   "cell_type": "code",
   "execution_count": null,
   "metadata": {},
   "outputs": [],
   "source": []
  },
  {
   "cell_type": "code",
   "execution_count": 77,
   "metadata": {},
   "outputs": [],
   "source": [
    "#Preparo el set de datos para unirlo y pasarlo a categorical\n",
    "datosConTestSet = pd.concat([datosMergeadosConDetalle,testingSetConDetalle]);\n",
    "datosConTestSetFiltrado = datosConTestSet;"
   ]
  },
  {
   "cell_type": "code",
   "execution_count": 78,
   "metadata": {},
   "outputs": [
    {
     "data": {
      "text/plain": [
       "Index(['id', 'idaviso', 'idpostulante', 'testSet', 'idpais', 'titulo',\n",
       "       'descripcion', 'nombre_zona', 'ciudad', 'mapacalle', 'tipo_de_trabajo',\n",
       "       'nivel_laboral', 'nombre_area', 'denominacion_empresa'],\n",
       "      dtype='object')"
      ]
     },
     "execution_count": 78,
     "metadata": {},
     "output_type": "execute_result"
    }
   ],
   "source": [
    "testingSetConDetalle.columns"
   ]
  },
  {
   "cell_type": "code",
   "execution_count": 79,
   "metadata": {},
   "outputs": [
    {
     "data": {
      "text/plain": [
       "Index(['idaviso', 'idpostulante', 'sepostulo', 'testSet', 'idpais', 'titulo',\n",
       "       'descripcion', 'nombre_zona', 'ciudad', 'mapacalle', 'tipo_de_trabajo',\n",
       "       'nivel_laboral', 'nombre_area', 'denominacion_empresa'],\n",
       "      dtype='object')"
      ]
     },
     "execution_count": 79,
     "metadata": {},
     "output_type": "execute_result"
    }
   ],
   "source": [
    "datosMergeadosConDetalle.columns"
   ]
  },
  {
   "cell_type": "markdown",
   "metadata": {},
   "source": [
    "###  Convierto nombre_zona, tipo_de_trabajo y nivel_laboral a Numerical"
   ]
  },
  {
   "cell_type": "code",
   "execution_count": 80,
   "metadata": {},
   "outputs": [],
   "source": [
    "datosOHC = pd.concat([datosConTestSetFiltrado,pd.get_dummies(datosConTestSetFiltrado['nombre_zona'], prefix='zona')],axis=1)\n",
    "datosOHC = pd.concat([datosOHC,pd.get_dummies(datosOHC['tipo_de_trabajo'], prefix='tipo')],axis=1)\n",
    "datosOHC = pd.concat([datosOHC,pd.get_dummies(datosOHC['nivel_laboral'], prefix='nivel')],axis=1)\n",
    "\n",
    "datosOHC.drop(['nivel_laboral','tipo_de_trabajo','nombre_zona'],axis=1,inplace=True)"
   ]
  },
  {
   "cell_type": "code",
   "execution_count": null,
   "metadata": {},
   "outputs": [],
   "source": []
  },
  {
   "cell_type": "code",
   "execution_count": 81,
   "metadata": {},
   "outputs": [],
   "source": [
    "datosOHC['denominacion_empresa'].fillna('S/E', inplace=True)\n",
    "datosOHC = pd.merge(datosOHC,cantAvisosPorEmpresa,how='left',on='denominacion_empresa')\n",
    "datosOHC.drop('denominacion_empresa',axis=1,inplace=True);"
   ]
  },
  {
   "cell_type": "code",
   "execution_count": null,
   "metadata": {},
   "outputs": [],
   "source": []
  },
  {
   "cell_type": "markdown",
   "metadata": {},
   "source": [
    "### Preparo Genero y Estudios"
   ]
  },
  {
   "cell_type": "code",
   "execution_count": 82,
   "metadata": {},
   "outputs": [
    {
     "data": {
      "text/html": [
       "<div>\n",
       "<style>\n",
       "    .dataframe thead tr:only-child th {\n",
       "        text-align: right;\n",
       "    }\n",
       "\n",
       "    .dataframe thead th {\n",
       "        text-align: left;\n",
       "    }\n",
       "\n",
       "    .dataframe tbody tr th {\n",
       "        vertical-align: top;\n",
       "    }\n",
       "</style>\n",
       "<table border=\"1\" class=\"dataframe\">\n",
       "  <thead>\n",
       "    <tr style=\"text-align: right;\">\n",
       "      <th></th>\n",
       "      <th>idpostulante</th>\n",
       "      <th>fechanacimiento</th>\n",
       "      <th>sexo</th>\n",
       "      <th>edad</th>\n",
       "    </tr>\n",
       "  </thead>\n",
       "  <tbody>\n",
       "    <tr>\n",
       "      <th>0</th>\n",
       "      <td>6MM</td>\n",
       "      <td>1985-01-01</td>\n",
       "      <td>MASC</td>\n",
       "      <td>33.0</td>\n",
       "    </tr>\n",
       "    <tr>\n",
       "      <th>4</th>\n",
       "      <td>ebE</td>\n",
       "      <td>1952-07-07</td>\n",
       "      <td>MASC</td>\n",
       "      <td>65.0</td>\n",
       "    </tr>\n",
       "    <tr>\n",
       "      <th>7</th>\n",
       "      <td>NAjM</td>\n",
       "      <td>1962-06-09</td>\n",
       "      <td>FEM</td>\n",
       "      <td>56.0</td>\n",
       "    </tr>\n",
       "    <tr>\n",
       "      <th>10</th>\n",
       "      <td>ZjlZ</td>\n",
       "      <td>1970-01-25</td>\n",
       "      <td>MASC</td>\n",
       "      <td>48.0</td>\n",
       "    </tr>\n",
       "    <tr>\n",
       "      <th>11</th>\n",
       "      <td>8wPl</td>\n",
       "      <td>1973-03-13</td>\n",
       "      <td>MASC</td>\n",
       "      <td>45.0</td>\n",
       "    </tr>\n",
       "  </tbody>\n",
       "</table>\n",
       "</div>"
      ],
      "text/plain": [
       "   idpostulante fechanacimiento  sexo  edad\n",
       "0           6MM      1985-01-01  MASC  33.0\n",
       "4           ebE      1952-07-07  MASC  65.0\n",
       "7          NAjM      1962-06-09   FEM  56.0\n",
       "10         ZjlZ      1970-01-25  MASC  48.0\n",
       "11         8wPl      1973-03-13  MASC  45.0"
      ]
     },
     "execution_count": 82,
     "metadata": {},
     "output_type": "execute_result"
    }
   ],
   "source": [
    "generoTodas.head()"
   ]
  },
  {
   "cell_type": "markdown",
   "metadata": {},
   "source": [
    "###  Creo una columna edad"
   ]
  },
  {
   "cell_type": "code",
   "execution_count": 83,
   "metadata": {},
   "outputs": [],
   "source": [
    "import datetime as dt\n",
    "\n",
    "generoTodas['fechanacimiento'] = pd.to_datetime(generoTodas['fechanacimiento'], format='%Y-%m-%d', errors='coerce')\n",
    "generoTodas = generoTodas.dropna(subset=['fechanacimiento'])\n",
    "\n",
    "hoy = pd.Timestamp(dt.datetime.now())\n",
    "generoTodas['edad'] = (hoy - generoTodas['fechanacimiento']).astype('<m8[Y]')\n",
    "\n",
    "generoTodas = generoTodas.loc[generoTodas['edad'].notnull(),:]\n",
    "generoTodasFiltered = generoTodas.loc[((generoTodas['edad'] >= 17) & (generoTodas['edad'] < 80 )), :]"
   ]
  },
  {
   "cell_type": "markdown",
   "metadata": {},
   "source": [
    "### Convierto a numerical el sexo"
   ]
  },
  {
   "cell_type": "code",
   "execution_count": 84,
   "metadata": {},
   "outputs": [],
   "source": [
    "\n",
    "postulantesGeneroOHC = pd.concat([generoTodas,pd.get_dummies(generoTodas['sexo'], prefix='sexo')],axis=1)\n",
    "postulantesGeneroOHC = postulantesGeneroOHC[postulantesGeneroOHC['sexo_0.0'] == 0]\n",
    "postulantesGeneroOHC = postulantesGeneroOHC[['idpostulante','sexo_FEM','sexo_MASC','sexo_NO_DECLARA','edad']]\n",
    "\n",
    "postulantesGeneroOHC.drop_duplicates(subset='idpostulante',inplace=True)"
   ]
  },
  {
   "cell_type": "markdown",
   "metadata": {},
   "source": [
    "### Trabajo con la educacion"
   ]
  },
  {
   "cell_type": "markdown",
   "metadata": {},
   "source": [
    "#### Uno las dos columnas de nombre y estado, de forma de no perder la relacion de estudio-estado"
   ]
  },
  {
   "cell_type": "code",
   "execution_count": 85,
   "metadata": {},
   "outputs": [],
   "source": [
    "educacionTodas['nombreEstado'] = educacionTodas['nombre'] +\" - \" + educacionTodas['estado']\n",
    "educacionOHC = pd.concat([educacionTodas,pd.get_dummies(educacionTodas['nombreEstado'], prefix='educacion')],axis=1)\n",
    "educacionOHC.drop(['nombre','estado','nombreEstado'],axis=1,inplace=True)"
   ]
  },
  {
   "cell_type": "code",
   "execution_count": 86,
   "metadata": {},
   "outputs": [],
   "source": [
    "educacionOHCGP = educacionOHC.groupby('idpostulante').sum()\n",
    "educacionOHCGP = educacionOHCGP.reset_index()"
   ]
  },
  {
   "cell_type": "code",
   "execution_count": 87,
   "metadata": {},
   "outputs": [
    {
     "data": {
      "text/plain": [
       "447909"
      ]
     },
     "execution_count": 87,
     "metadata": {},
     "output_type": "execute_result"
    }
   ],
   "source": [
    "len(educacionOHCGP)"
   ]
  },
  {
   "cell_type": "code",
   "execution_count": 88,
   "metadata": {},
   "outputs": [
    {
     "data": {
      "text/plain": [
       "478309"
      ]
     },
     "execution_count": 88,
     "metadata": {},
     "output_type": "execute_result"
    }
   ],
   "source": [
    "len(postulantesGeneroOHC)"
   ]
  },
  {
   "cell_type": "code",
   "execution_count": 89,
   "metadata": {},
   "outputs": [
    {
     "data": {
      "text/html": [
       "<div>\n",
       "<style>\n",
       "    .dataframe thead tr:only-child th {\n",
       "        text-align: right;\n",
       "    }\n",
       "\n",
       "    .dataframe thead th {\n",
       "        text-align: left;\n",
       "    }\n",
       "\n",
       "    .dataframe tbody tr th {\n",
       "        vertical-align: top;\n",
       "    }\n",
       "</style>\n",
       "<table border=\"1\" class=\"dataframe\">\n",
       "  <thead>\n",
       "    <tr style=\"text-align: right;\">\n",
       "      <th></th>\n",
       "      <th>idpostulante</th>\n",
       "      <th>educacion_Doctorado - Abandonado</th>\n",
       "      <th>educacion_Doctorado - En Curso</th>\n",
       "      <th>educacion_Doctorado - Graduado</th>\n",
       "      <th>educacion_Master - Abandonado</th>\n",
       "      <th>educacion_Master - En Curso</th>\n",
       "      <th>educacion_Master - Graduado</th>\n",
       "      <th>educacion_Otro - Abandonado</th>\n",
       "      <th>educacion_Otro - En Curso</th>\n",
       "      <th>educacion_Otro - Graduado</th>\n",
       "      <th>...</th>\n",
       "      <th>educacion_Posgrado - Graduado</th>\n",
       "      <th>educacion_Secundario - Abandonado</th>\n",
       "      <th>educacion_Secundario - En Curso</th>\n",
       "      <th>educacion_Secundario - Graduado</th>\n",
       "      <th>educacion_Terciario/Técnico - Abandonado</th>\n",
       "      <th>educacion_Terciario/Técnico - En Curso</th>\n",
       "      <th>educacion_Terciario/Técnico - Graduado</th>\n",
       "      <th>educacion_Universitario - Abandonado</th>\n",
       "      <th>educacion_Universitario - En Curso</th>\n",
       "      <th>educacion_Universitario - Graduado</th>\n",
       "    </tr>\n",
       "  </thead>\n",
       "  <tbody>\n",
       "    <tr>\n",
       "      <th>0</th>\n",
       "      <td>0z5Dmrd</td>\n",
       "      <td>0</td>\n",
       "      <td>0</td>\n",
       "      <td>0</td>\n",
       "      <td>0</td>\n",
       "      <td>0</td>\n",
       "      <td>0</td>\n",
       "      <td>0</td>\n",
       "      <td>0</td>\n",
       "      <td>0</td>\n",
       "      <td>...</td>\n",
       "      <td>0</td>\n",
       "      <td>0</td>\n",
       "      <td>0</td>\n",
       "      <td>0</td>\n",
       "      <td>0</td>\n",
       "      <td>0</td>\n",
       "      <td>0</td>\n",
       "      <td>0</td>\n",
       "      <td>0</td>\n",
       "      <td>1</td>\n",
       "    </tr>\n",
       "    <tr>\n",
       "      <th>1</th>\n",
       "      <td>0z5JW1r</td>\n",
       "      <td>0</td>\n",
       "      <td>0</td>\n",
       "      <td>0</td>\n",
       "      <td>0</td>\n",
       "      <td>0</td>\n",
       "      <td>0</td>\n",
       "      <td>0</td>\n",
       "      <td>0</td>\n",
       "      <td>2</td>\n",
       "      <td>...</td>\n",
       "      <td>0</td>\n",
       "      <td>0</td>\n",
       "      <td>0</td>\n",
       "      <td>2</td>\n",
       "      <td>0</td>\n",
       "      <td>0</td>\n",
       "      <td>2</td>\n",
       "      <td>2</td>\n",
       "      <td>0</td>\n",
       "      <td>0</td>\n",
       "    </tr>\n",
       "    <tr>\n",
       "      <th>2</th>\n",
       "      <td>0z5VvGv</td>\n",
       "      <td>0</td>\n",
       "      <td>0</td>\n",
       "      <td>0</td>\n",
       "      <td>0</td>\n",
       "      <td>0</td>\n",
       "      <td>0</td>\n",
       "      <td>0</td>\n",
       "      <td>0</td>\n",
       "      <td>0</td>\n",
       "      <td>...</td>\n",
       "      <td>0</td>\n",
       "      <td>0</td>\n",
       "      <td>0</td>\n",
       "      <td>2</td>\n",
       "      <td>0</td>\n",
       "      <td>0</td>\n",
       "      <td>0</td>\n",
       "      <td>0</td>\n",
       "      <td>0</td>\n",
       "      <td>0</td>\n",
       "    </tr>\n",
       "    <tr>\n",
       "      <th>3</th>\n",
       "      <td>0zB01pE</td>\n",
       "      <td>0</td>\n",
       "      <td>0</td>\n",
       "      <td>0</td>\n",
       "      <td>0</td>\n",
       "      <td>0</td>\n",
       "      <td>0</td>\n",
       "      <td>0</td>\n",
       "      <td>0</td>\n",
       "      <td>0</td>\n",
       "      <td>...</td>\n",
       "      <td>0</td>\n",
       "      <td>0</td>\n",
       "      <td>0</td>\n",
       "      <td>0</td>\n",
       "      <td>0</td>\n",
       "      <td>0</td>\n",
       "      <td>1</td>\n",
       "      <td>1</td>\n",
       "      <td>0</td>\n",
       "      <td>0</td>\n",
       "    </tr>\n",
       "    <tr>\n",
       "      <th>4</th>\n",
       "      <td>0zB026d</td>\n",
       "      <td>0</td>\n",
       "      <td>0</td>\n",
       "      <td>0</td>\n",
       "      <td>0</td>\n",
       "      <td>0</td>\n",
       "      <td>0</td>\n",
       "      <td>0</td>\n",
       "      <td>0</td>\n",
       "      <td>0</td>\n",
       "      <td>...</td>\n",
       "      <td>0</td>\n",
       "      <td>0</td>\n",
       "      <td>0</td>\n",
       "      <td>2</td>\n",
       "      <td>0</td>\n",
       "      <td>0</td>\n",
       "      <td>2</td>\n",
       "      <td>0</td>\n",
       "      <td>0</td>\n",
       "      <td>0</td>\n",
       "    </tr>\n",
       "  </tbody>\n",
       "</table>\n",
       "<p>5 rows × 22 columns</p>\n",
       "</div>"
      ],
      "text/plain": [
       "  idpostulante  educacion_Doctorado - Abandonado  \\\n",
       "0      0z5Dmrd                                 0   \n",
       "1      0z5JW1r                                 0   \n",
       "2      0z5VvGv                                 0   \n",
       "3      0zB01pE                                 0   \n",
       "4      0zB026d                                 0   \n",
       "\n",
       "   educacion_Doctorado - En Curso  educacion_Doctorado - Graduado  \\\n",
       "0                               0                               0   \n",
       "1                               0                               0   \n",
       "2                               0                               0   \n",
       "3                               0                               0   \n",
       "4                               0                               0   \n",
       "\n",
       "   educacion_Master - Abandonado  educacion_Master - En Curso  \\\n",
       "0                              0                            0   \n",
       "1                              0                            0   \n",
       "2                              0                            0   \n",
       "3                              0                            0   \n",
       "4                              0                            0   \n",
       "\n",
       "   educacion_Master - Graduado  educacion_Otro - Abandonado  \\\n",
       "0                            0                            0   \n",
       "1                            0                            0   \n",
       "2                            0                            0   \n",
       "3                            0                            0   \n",
       "4                            0                            0   \n",
       "\n",
       "   educacion_Otro - En Curso  educacion_Otro - Graduado  \\\n",
       "0                          0                          0   \n",
       "1                          0                          2   \n",
       "2                          0                          0   \n",
       "3                          0                          0   \n",
       "4                          0                          0   \n",
       "\n",
       "                  ...                  educacion_Posgrado - Graduado  \\\n",
       "0                 ...                                              0   \n",
       "1                 ...                                              0   \n",
       "2                 ...                                              0   \n",
       "3                 ...                                              0   \n",
       "4                 ...                                              0   \n",
       "\n",
       "   educacion_Secundario - Abandonado  educacion_Secundario - En Curso  \\\n",
       "0                                  0                                0   \n",
       "1                                  0                                0   \n",
       "2                                  0                                0   \n",
       "3                                  0                                0   \n",
       "4                                  0                                0   \n",
       "\n",
       "   educacion_Secundario - Graduado  educacion_Terciario/Técnico - Abandonado  \\\n",
       "0                                0                                         0   \n",
       "1                                2                                         0   \n",
       "2                                2                                         0   \n",
       "3                                0                                         0   \n",
       "4                                2                                         0   \n",
       "\n",
       "   educacion_Terciario/Técnico - En Curso  \\\n",
       "0                                       0   \n",
       "1                                       0   \n",
       "2                                       0   \n",
       "3                                       0   \n",
       "4                                       0   \n",
       "\n",
       "   educacion_Terciario/Técnico - Graduado  \\\n",
       "0                                       0   \n",
       "1                                       2   \n",
       "2                                       0   \n",
       "3                                       1   \n",
       "4                                       2   \n",
       "\n",
       "   educacion_Universitario - Abandonado  educacion_Universitario - En Curso  \\\n",
       "0                                     0                                   0   \n",
       "1                                     2                                   0   \n",
       "2                                     0                                   0   \n",
       "3                                     1                                   0   \n",
       "4                                     0                                   0   \n",
       "\n",
       "   educacion_Universitario - Graduado  \n",
       "0                                   1  \n",
       "1                                   0  \n",
       "2                                   0  \n",
       "3                                   0  \n",
       "4                                   0  \n",
       "\n",
       "[5 rows x 22 columns]"
      ]
     },
     "execution_count": 89,
     "metadata": {},
     "output_type": "execute_result"
    }
   ],
   "source": [
    "educacionOHCGP.head()"
   ]
  },
  {
   "cell_type": "markdown",
   "metadata": {},
   "source": [
    "#### Uno los generos y los estudios en un unico dataframe"
   ]
  },
  {
   "cell_type": "code",
   "execution_count": 90,
   "metadata": {},
   "outputs": [],
   "source": [
    "generoYEducacionOHC  = pd.merge(postulantesGeneroOHC,educacionOHCGP,how='left',on='idpostulante')"
   ]
  },
  {
   "cell_type": "code",
   "execution_count": 91,
   "metadata": {},
   "outputs": [
    {
     "data": {
      "text/plain": [
       "478309"
      ]
     },
     "execution_count": 91,
     "metadata": {},
     "output_type": "execute_result"
    }
   ],
   "source": [
    "len(generoYEducacionOHC)"
   ]
  },
  {
   "cell_type": "markdown",
   "metadata": {},
   "source": [
    "### Cuento cantidad de vistas de  avisos"
   ]
  },
  {
   "cell_type": "code",
   "execution_count": null,
   "metadata": {},
   "outputs": [],
   "source": []
  },
  {
   "cell_type": "code",
   "execution_count": 92,
   "metadata": {},
   "outputs": [],
   "source": [
    "#Set de testing\n",
    "#vistasZIP['timestamp'] = pd.to_datetime(vistasZIP['timestamp'])\n",
    "vistasZIP['dateVista'] = pd.DatetimeIndex(vistasZIP['timestamp']).date"
   ]
  },
  {
   "cell_type": "code",
   "execution_count": 48,
   "metadata": {},
   "outputs": [],
   "source": [
    "vistasZIP['cantidadVistos'] = 1;\n",
    "#vistasZIP.drop('timestamp',axis=1,inplace=True)\n",
    "#vistasZIPGP = vistasZIP.groupby(['idAviso','idpostulante']).sum()\n",
    "vistasZIPGP = vistasZIP.groupby(['idAviso']).sum()\n",
    "\n",
    "vistasZIPGP = vistasZIPGP.reset_index()\n",
    "vistasZIPGP['idaviso']  = vistasZIPGP['idAviso']\n",
    "vistasZIPGP.drop('idAviso',axis=1,inplace=True);"
   ]
  },
  {
   "cell_type": "code",
   "execution_count": 93,
   "metadata": {},
   "outputs": [
    {
     "data": {
      "text/html": [
       "<div>\n",
       "<style>\n",
       "    .dataframe thead tr:only-child th {\n",
       "        text-align: right;\n",
       "    }\n",
       "\n",
       "    .dataframe thead th {\n",
       "        text-align: left;\n",
       "    }\n",
       "\n",
       "    .dataframe tbody tr th {\n",
       "        vertical-align: top;\n",
       "    }\n",
       "</style>\n",
       "<table border=\"1\" class=\"dataframe\">\n",
       "  <thead>\n",
       "    <tr style=\"text-align: right;\">\n",
       "      <th></th>\n",
       "      <th>cantidadVistos</th>\n",
       "      <th>idaviso</th>\n",
       "    </tr>\n",
       "  </thead>\n",
       "  <tbody>\n",
       "    <tr>\n",
       "      <th>13310</th>\n",
       "      <td>71885</td>\n",
       "      <td>1806525</td>\n",
       "    </tr>\n",
       "    <tr>\n",
       "      <th>13015</th>\n",
       "      <td>60237</td>\n",
       "      <td>1806178</td>\n",
       "    </tr>\n",
       "    <tr>\n",
       "      <th>22436</th>\n",
       "      <td>43857</td>\n",
       "      <td>1112196813</td>\n",
       "    </tr>\n",
       "    <tr>\n",
       "      <th>21739</th>\n",
       "      <td>37255</td>\n",
       "      <td>1112094756</td>\n",
       "    </tr>\n",
       "    <tr>\n",
       "      <th>14163</th>\n",
       "      <td>31622</td>\n",
       "      <td>1807584</td>\n",
       "    </tr>\n",
       "  </tbody>\n",
       "</table>\n",
       "</div>"
      ],
      "text/plain": [
       "       cantidadVistos     idaviso\n",
       "13310           71885     1806525\n",
       "13015           60237     1806178\n",
       "22436           43857  1112196813\n",
       "21739           37255  1112094756\n",
       "14163           31622     1807584"
      ]
     },
     "execution_count": 93,
     "metadata": {},
     "output_type": "execute_result"
    }
   ],
   "source": [
    "vistasZIPGP.sort_values(by='cantidadVistos',ascending=False).head()"
   ]
  },
  {
   "cell_type": "code",
   "execution_count": 56,
   "metadata": {},
   "outputs": [],
   "source": [
    "#Set de training"
   ]
  },
  {
   "cell_type": "code",
   "execution_count": 95,
   "metadata": {},
   "outputs": [],
   "source": [
    "vistasCompletas['cantidadVistos'] =1;\n",
    "#vistasGP = vistas.groupby(['idAviso','idpostulante']).sum()\n",
    "vistasGP = vistasCompletas.groupby(['idaviso']).sum()\n",
    "\n",
    "vistasGP = vistasGP.reset_index()\n",
    "#vistasGP['idaviso']  = vistasGP['idAviso']\n",
    "#vistasGP.drop('idAviso',axis=1,inplace=True);"
   ]
  },
  {
   "cell_type": "code",
   "execution_count": 96,
   "metadata": {},
   "outputs": [
    {
     "data": {
      "text/html": [
       "<div>\n",
       "<style>\n",
       "    .dataframe thead tr:only-child th {\n",
       "        text-align: right;\n",
       "    }\n",
       "\n",
       "    .dataframe thead th {\n",
       "        text-align: left;\n",
       "    }\n",
       "\n",
       "    .dataframe tbody tr th {\n",
       "        vertical-align: top;\n",
       "    }\n",
       "</style>\n",
       "<table border=\"1\" class=\"dataframe\">\n",
       "  <thead>\n",
       "    <tr style=\"text-align: right;\">\n",
       "      <th></th>\n",
       "      <th>idaviso</th>\n",
       "      <th>cantidadVistos</th>\n",
       "    </tr>\n",
       "  </thead>\n",
       "  <tbody>\n",
       "    <tr>\n",
       "      <th>1530</th>\n",
       "      <td>1112094756</td>\n",
       "      <td>39615</td>\n",
       "    </tr>\n",
       "    <tr>\n",
       "      <th>6188</th>\n",
       "      <td>1112334791</td>\n",
       "      <td>35614</td>\n",
       "    </tr>\n",
       "    <tr>\n",
       "      <th>1383</th>\n",
       "      <td>1112033906</td>\n",
       "      <td>27032</td>\n",
       "    </tr>\n",
       "    <tr>\n",
       "      <th>12658</th>\n",
       "      <td>1112431304</td>\n",
       "      <td>24916</td>\n",
       "    </tr>\n",
       "    <tr>\n",
       "      <th>3652</th>\n",
       "      <td>1112280937</td>\n",
       "      <td>23818</td>\n",
       "    </tr>\n",
       "  </tbody>\n",
       "</table>\n",
       "</div>"
      ],
      "text/plain": [
       "          idaviso  cantidadVistos\n",
       "1530   1112094756           39615\n",
       "6188   1112334791           35614\n",
       "1383   1112033906           27032\n",
       "12658  1112431304           24916\n",
       "3652   1112280937           23818"
      ]
     },
     "execution_count": 96,
     "metadata": {},
     "output_type": "execute_result"
    }
   ],
   "source": [
    "vistasGP.sort_values(by='cantidadVistos',ascending=False).head()"
   ]
  },
  {
   "cell_type": "code",
   "execution_count": null,
   "metadata": {},
   "outputs": [],
   "source": []
  },
  {
   "cell_type": "markdown",
   "metadata": {},
   "source": [
    "##  Convierto el nombre de  area a numerical"
   ]
  },
  {
   "cell_type": "markdown",
   "metadata": {},
   "source": [
    "#### Similar a las empresas, sumo la cantidad que tengo, para representarla como la suma total "
   ]
  },
  {
   "cell_type": "code",
   "execution_count": 97,
   "metadata": {},
   "outputs": [],
   "source": [
    "#Unimos los detalles de los avisos con los avisos del set de test\n",
    "detallesTodosPosta = pd.concat([detalleCompletas, detalleCompletasZIP])"
   ]
  },
  {
   "cell_type": "code",
   "execution_count": 98,
   "metadata": {},
   "outputs": [],
   "source": [
    "detTodas = detallesTodosPosta[['nombre_area']];"
   ]
  },
  {
   "cell_type": "code",
   "execution_count": 99,
   "metadata": {},
   "outputs": [
    {
     "name": "stderr",
     "output_type": "stream",
     "text": [
      "C:\\Users\\nicol\\Anaconda3\\lib\\site-packages\\ipykernel_launcher.py:1: SettingWithCopyWarning: \n",
      "A value is trying to be set on a copy of a slice from a DataFrame.\n",
      "Try using .loc[row_indexer,col_indexer] = value instead\n",
      "\n",
      "See the caveats in the documentation: http://pandas.pydata.org/pandas-docs/stable/indexing.html#indexing-view-versus-copy\n",
      "  \"\"\"Entry point for launching an IPython kernel.\n"
     ]
    }
   ],
   "source": [
    "detTodas['cantidadNombre'] = 1\n",
    "detTodas['nombre_area'].fillna('Otros')\n",
    "detalleTodasGP = detTodas.groupby('nombre_area').sum()"
   ]
  },
  {
   "cell_type": "code",
   "execution_count": null,
   "metadata": {},
   "outputs": [],
   "source": []
  },
  {
   "cell_type": "code",
   "execution_count": 100,
   "metadata": {},
   "outputs": [],
   "source": [
    "detalleTodasGP = detalleTodasGP.reset_index()\n",
    "nombreConCantidad = detalleTodasGP[['nombre_area','cantidadNombre']]"
   ]
  },
  {
   "cell_type": "code",
   "execution_count": 101,
   "metadata": {},
   "outputs": [
    {
     "data": {
      "text/html": [
       "<div>\n",
       "<style>\n",
       "    .dataframe thead tr:only-child th {\n",
       "        text-align: right;\n",
       "    }\n",
       "\n",
       "    .dataframe thead th {\n",
       "        text-align: left;\n",
       "    }\n",
       "\n",
       "    .dataframe tbody tr th {\n",
       "        vertical-align: top;\n",
       "    }\n",
       "</style>\n",
       "<table border=\"1\" class=\"dataframe\">\n",
       "  <thead>\n",
       "    <tr style=\"text-align: right;\">\n",
       "      <th></th>\n",
       "      <th>nombre_area</th>\n",
       "      <th>cantidadNombre</th>\n",
       "    </tr>\n",
       "  </thead>\n",
       "  <tbody>\n",
       "    <tr>\n",
       "      <th>185</th>\n",
       "      <td>Ventas</td>\n",
       "      <td>5721</td>\n",
       "    </tr>\n",
       "    <tr>\n",
       "      <th>30</th>\n",
       "      <td>Comercial</td>\n",
       "      <td>3258</td>\n",
       "    </tr>\n",
       "    <tr>\n",
       "      <th>2</th>\n",
       "      <td>Administración</td>\n",
       "      <td>3116</td>\n",
       "    </tr>\n",
       "    <tr>\n",
       "      <th>143</th>\n",
       "      <td>Producción</td>\n",
       "      <td>2830</td>\n",
       "    </tr>\n",
       "    <tr>\n",
       "      <th>145</th>\n",
       "      <td>Programación</td>\n",
       "      <td>1735</td>\n",
       "    </tr>\n",
       "  </tbody>\n",
       "</table>\n",
       "</div>"
      ],
      "text/plain": [
       "        nombre_area  cantidadNombre\n",
       "185          Ventas            5721\n",
       "30        Comercial            3258\n",
       "2    Administración            3116\n",
       "143      Producción            2830\n",
       "145    Programación            1735"
      ]
     },
     "execution_count": 101,
     "metadata": {},
     "output_type": "execute_result"
    }
   ],
   "source": [
    "nombreConCantidad.sort_values(by='cantidadNombre',ascending=False).head()"
   ]
  },
  {
   "cell_type": "code",
   "execution_count": null,
   "metadata": {},
   "outputs": [],
   "source": []
  },
  {
   "cell_type": "markdown",
   "metadata": {},
   "source": [
    "## Mergeamos los datos transformados"
   ]
  },
  {
   "cell_type": "code",
   "execution_count": null,
   "metadata": {},
   "outputs": [],
   "source": []
  },
  {
   "cell_type": "code",
   "execution_count": 102,
   "metadata": {},
   "outputs": [],
   "source": [
    "datosForTesting = datosOHC[datosOHC['testSet'] == 1]\n",
    "datosForTraining =datosOHC[datosOHC['testSet'] == 0]"
   ]
  },
  {
   "cell_type": "code",
   "execution_count": 103,
   "metadata": {},
   "outputs": [
    {
     "data": {
      "text/plain": [
       "348883"
      ]
     },
     "execution_count": 103,
     "metadata": {},
     "output_type": "execute_result"
    }
   ],
   "source": [
    "len(postulaciones['idpostulante'].unique())"
   ]
  },
  {
   "cell_type": "code",
   "execution_count": 104,
   "metadata": {},
   "outputs": [
    {
     "data": {
      "text/plain": [
       "43"
      ]
     },
     "execution_count": 104,
     "metadata": {},
     "output_type": "execute_result"
    }
   ],
   "source": [
    "datosForTesting.columns.size"
   ]
  },
  {
   "cell_type": "code",
   "execution_count": 105,
   "metadata": {},
   "outputs": [
    {
     "data": {
      "text/plain": [
       "43"
      ]
     },
     "execution_count": 105,
     "metadata": {},
     "output_type": "execute_result"
    }
   ],
   "source": [
    "datosForTraining.columns.size"
   ]
  },
  {
   "cell_type": "code",
   "execution_count": 106,
   "metadata": {},
   "outputs": [
    {
     "data": {
      "text/plain": [
       "Index(['ciudad', 'descripcion', 'id', 'idaviso', 'idpais', 'idpostulante',\n",
       "       'mapacalle', 'nombre_area', 'sepostulo', 'testSet', 'titulo',\n",
       "       'zona_Buenos Aires (fuera de GBA)', 'zona_Capital Federal',\n",
       "       'zona_Catamarca', 'zona_Ciudad de Mendoza', 'zona_Cordoba',\n",
       "       'zona_Corrientes', 'zona_GBA Oeste', 'zona_Gran Buenos Aires',\n",
       "       'zona_La Plata', 'zona_Mendoza', 'zona_Neuquen', 'zona_Rosario',\n",
       "       'zona_San Juan', 'zona_Santa Cruz', 'zona_Santa Fe', 'zona_Tucuman',\n",
       "       'tipo_Fines de Semana', 'tipo_Full-time', 'tipo_Part-time',\n",
       "       'tipo_Pasantia', 'tipo_Por Contrato', 'tipo_Por Horas',\n",
       "       'tipo_Primer empleo', 'tipo_Teletrabajo', 'tipo_Temporario',\n",
       "       'tipo_Voluntario', 'nivel_Gerencia / Alta Gerencia / Dirección',\n",
       "       'nivel_Jefe / Supervisor / Responsable', 'nivel_Junior', 'nivel_Otro',\n",
       "       'nivel_Senior / Semi-Senior', 'cantidadEmpresa'],\n",
       "      dtype='object')"
      ]
     },
     "execution_count": 106,
     "metadata": {},
     "output_type": "execute_result"
    }
   ],
   "source": [
    "datosForTraining.columns"
   ]
  },
  {
   "cell_type": "markdown",
   "metadata": {},
   "source": [
    "#### Mergeo con Genero y Edad"
   ]
  },
  {
   "cell_type": "code",
   "execution_count": 107,
   "metadata": {},
   "outputs": [
    {
     "data": {
      "text/plain": [
       "2454734"
      ]
     },
     "execution_count": 107,
     "metadata": {},
     "output_type": "execute_result"
    }
   ],
   "source": [
    "len(datosForTraining)"
   ]
  },
  {
   "cell_type": "code",
   "execution_count": 108,
   "metadata": {},
   "outputs": [],
   "source": [
    "datosForTrainingConGyE = pd.merge(datosForTraining,generoYEducacionOHC,on='idpostulante',how='inner')\n",
    "datosForTestingConGyE = pd.merge(datosForTesting,generoYEducacionOHC,on='idpostulante',how='left')"
   ]
  },
  {
   "cell_type": "code",
   "execution_count": 109,
   "metadata": {},
   "outputs": [
    {
     "data": {
      "text/plain": [
       "2394400"
      ]
     },
     "execution_count": 109,
     "metadata": {},
     "output_type": "execute_result"
    }
   ],
   "source": [
    "len(datosForTrainingConGyE)"
   ]
  },
  {
   "cell_type": "markdown",
   "metadata": {},
   "source": [
    "#####  Mergeo con nombre area"
   ]
  },
  {
   "cell_type": "code",
   "execution_count": 116,
   "metadata": {},
   "outputs": [],
   "source": [
    "#Mergeamos con los nombres\n",
    "\n",
    "datosForTrainingConGyE['nombre_area'] = datosForTrainingConGyE['nombre_area'].fillna('Otros')\n",
    "datosForTestingConGyE['nombre_area'] = datosForTestingConGyE['nombre_area'].fillna('Otros')\n",
    "\n",
    "datosForTrainingConNombre = pd.merge(datosForTrainingConGyE,nombreConCantidad,on='nombre_area',how='left')\n",
    "datosForTestingConNombre = pd.merge(datosForTestingConGyE,nombreConCantidad,on='nombre_area',how='left')\n",
    "\n",
    "datosForTrainingConNombre['cantidadNombre'] = datosForTrainingConNombre['cantidadNombre'].fillna(0)\n",
    "datosForTestingConNombre['cantidadNombre'] = datosForTestingConNombre['cantidadNombre'].fillna(0)"
   ]
  },
  {
   "cell_type": "markdown",
   "metadata": {},
   "source": [
    "#### Mergeamos con cantidad vistas"
   ]
  },
  {
   "cell_type": "code",
   "execution_count": 117,
   "metadata": {},
   "outputs": [],
   "source": [
    "datosConVistas = pd.merge(datosForTrainingConNombre, vistasGP,on=['idaviso'],how='left')\n",
    "testingConVistas = pd.merge(datosForTestingConNombre,vistasZIPGP,on=['idaviso'],how='left')"
   ]
  },
  {
   "cell_type": "code",
   "execution_count": 118,
   "metadata": {},
   "outputs": [
    {
     "data": {
      "text/plain": [
       "2394400"
      ]
     },
     "execution_count": 118,
     "metadata": {},
     "output_type": "execute_result"
    }
   ],
   "source": [
    "len(datosConVistas)"
   ]
  },
  {
   "cell_type": "code",
   "execution_count": null,
   "metadata": {},
   "outputs": [],
   "source": []
  },
  {
   "cell_type": "code",
   "execution_count": 119,
   "metadata": {},
   "outputs": [],
   "source": [
    "testingConVistas['cantidadVistos'] = testingConVistas['cantidadVistos'].fillna(0)\n",
    "datosConVistas['cantidadVistos'] = datosConVistas['cantidadVistos'].fillna(0)"
   ]
  },
  {
   "cell_type": "code",
   "execution_count": 329,
   "metadata": {},
   "outputs": [
    {
     "data": {
      "text/plain": [
       "70"
      ]
     },
     "execution_count": 329,
     "metadata": {},
     "output_type": "execute_result"
    }
   ],
   "source": [
    "testingConVistas.columns.size"
   ]
  },
  {
   "cell_type": "markdown",
   "metadata": {},
   "source": [
    "# Trabajo con la descripcion "
   ]
  },
  {
   "cell_type": "code",
   "execution_count": null,
   "metadata": {},
   "outputs": [],
   "source": []
  },
  {
   "cell_type": "code",
   "execution_count": 270,
   "metadata": {},
   "outputs": [],
   "source": [
    "def limpioTextos(df):\n",
    "    df['descripcionSinHTML'] = df['descripcion'].str.strip()\n",
    "#elimino tags de descripcion\n",
    "    df['descripcionSinHTML'] = df['descripcionSinHTML'].str.replace(r\"<\\/?\\w+.*?>\",\"\");\n",
    "    df['descripcionSinHTML'] = df['descripcionSinHTML'].str.replace(r\"\\s{2,}\",\" \");\n",
    "    df['descripcionSinHTML'] = df['descripcionSinHTML'].str.lower\n",
    "    return df;"
   ]
  },
  {
   "cell_type": "code",
   "execution_count": 271,
   "metadata": {},
   "outputs": [],
   "source": [
    "descripcionesLimpiadas = limpioTextos(datosConVistas)\n",
    "testingDescripcionesLimpiadas = limpioTextos(testingConVistas)"
   ]
  },
  {
   "cell_type": "code",
   "execution_count": 52,
   "metadata": {},
   "outputs": [],
   "source": [
    "descripcionesSolas = datosConVistasLimpiado[['descripcionSinHTML']]"
   ]
  },
  {
   "cell_type": "code",
   "execution_count": 54,
   "metadata": {},
   "outputs": [],
   "source": [
    "descripcionesSolas = descripcionesSolas.drop_duplicates()"
   ]
  },
  {
   "cell_type": "code",
   "execution_count": 55,
   "metadata": {},
   "outputs": [],
   "source": [
    ", regex=False"
   ]
  },
  {
   "cell_type": "markdown",
   "metadata": {},
   "source": [
    "# Machine Learning"
   ]
  },
  {
   "cell_type": "code",
   "execution_count": 120,
   "metadata": {},
   "outputs": [],
   "source": [
    "import pandas\n",
    "from sklearn import model_selection\n",
    "from sklearn.neighbors import KNeighborsClassifier\n",
    "from sklearn.ensemble import RandomForestRegressor\n",
    "from sklearn.ensemble import RandomForestClassifier\n",
    "from sklearn.neighbors import RadiusNeighborsRegressor\n",
    "from sklearn.discriminant_analysis import LinearDiscriminantAnalysis\n",
    "from sklearn.naive_bayes import GaussianNB\n",
    "from sklearn import linear_model\n",
    "from sklearn import svm\n",
    "from sklearn import tree\n",
    "from sklearn import gaussian_process\n",
    "from sklearn import neural_network\n",
    "\n",
    "#Pre-procesamiento\n",
    "from sklearn import preprocessing\n",
    "from sklearn.pipeline import make_pipeline"
   ]
  },
  {
   "cell_type": "code",
   "execution_count": 121,
   "metadata": {},
   "outputs": [],
   "source": [
    "datosML = datosConVistas\n",
    "testingML = testingConVistas"
   ]
  },
  {
   "cell_type": "code",
   "execution_count": 122,
   "metadata": {},
   "outputs": [],
   "source": [
    "datosSinPostulacion = datosML.drop(['idpais','sepostulo','idaviso','idpostulante','id','testSet','nombre_area','descripcion','titulo','mapacalle','ciudad'],axis=1)\n",
    "datosToPredict = testingML.drop(['idpais','sepostulo','idaviso','idpostulante','id','testSet','nombre_area','descripcion','titulo','mapacalle','ciudad'],axis=1)"
   ]
  },
  {
   "cell_type": "code",
   "execution_count": 123,
   "metadata": {},
   "outputs": [],
   "source": [
    "con1 = datosML[datosML['sepostulo'] == 1]\n",
    "con0 = datosML[datosML['sepostulo'] == 0]"
   ]
  },
  {
   "cell_type": "code",
   "execution_count": 124,
   "metadata": {},
   "outputs": [
    {
     "data": {
      "text/plain": [
       "1543693"
      ]
     },
     "execution_count": 124,
     "metadata": {},
     "output_type": "execute_result"
    }
   ],
   "source": [
    "len(con1)"
   ]
  },
  {
   "cell_type": "code",
   "execution_count": 125,
   "metadata": {},
   "outputs": [
    {
     "data": {
      "text/plain": [
       "850707"
      ]
     },
     "execution_count": 125,
     "metadata": {},
     "output_type": "execute_result"
    }
   ],
   "source": [
    "len(con0)"
   ]
  },
  {
   "cell_type": "code",
   "execution_count": 336,
   "metadata": {},
   "outputs": [
    {
     "data": {
      "text/plain": [
       "59"
      ]
     },
     "execution_count": 336,
     "metadata": {},
     "output_type": "execute_result"
    }
   ],
   "source": [
    "datosSinPostulacion.columns.size"
   ]
  },
  {
   "cell_type": "code",
   "execution_count": 337,
   "metadata": {},
   "outputs": [
    {
     "data": {
      "text/plain": [
       "59"
      ]
     },
     "execution_count": 337,
     "metadata": {},
     "output_type": "execute_result"
    }
   ],
   "source": [
    "datosToPredict.columns.size"
   ]
  },
  {
   "cell_type": "code",
   "execution_count": 338,
   "metadata": {},
   "outputs": [],
   "source": [
    "#datosSinPostulacion.drop('fechapostulacion',axis=1,inplace=True)\n",
    "#datosToPredict.drop('fechapostulacion',axis=1,inplace=True)"
   ]
  },
  {
   "cell_type": "code",
   "execution_count": 126,
   "metadata": {},
   "outputs": [],
   "source": [
    "from sklearn.preprocessing import Imputer\n",
    "imp = Imputer(missing_values='NaN', strategy='most_frequent', axis=0)\n",
    "datosForTrainingSinPostuSinNulos = imp.fit_transform(datosSinPostulacion)\n",
    "datosForTestFinalSinNulos = imp.fit_transform(datosToPredict)"
   ]
  },
  {
   "cell_type": "code",
   "execution_count": 128,
   "metadata": {},
   "outputs": [],
   "source": [
    "X_train, X_validation, Y_train, Y_validation = model_selection.train_test_split(datosForTrainingSinPostuSinNulos, datosML['sepostulo'], test_size=0.7, random_state=7)"
   ]
  },
  {
   "cell_type": "code",
   "execution_count": 129,
   "metadata": {},
   "outputs": [],
   "source": [
    "models = []\n",
    "models.append(('RFC100',  RandomForestClassifier(n_estimators=100, max_features='sqrt')))\n",
    "\n",
    "\n",
    "for name, model in models:\n",
    "    m = model.fit(X_train, Y_train)\n",
    "    pruebas = m.predict(datosForTestFinalSinNulos)\n",
    "    archivo = pd.DataFrame()\n",
    "    archivo['id'] = testingSet.loc[:,['id']]\n",
    "    archivo['sepostulo'] =np.round(pruebas)\n",
    "    archivo.to_csv('entregas/archivolimpio/'+'prueba4-archivosFaltantes'+ name +'.csv', index=False)"
   ]
  },
  {
   "cell_type": "code",
   "execution_count": null,
   "metadata": {},
   "outputs": [],
   "source": []
  },
  {
   "cell_type": "code",
   "execution_count": 130,
   "metadata": {},
   "outputs": [
    {
     "name": "stdout",
     "output_type": "stream",
     "text": [
      "---RFC----\n",
      "[ 0.75998212  0.75810274  0.77327723  0.76946995  0.75825835]\n"
     ]
    }
   ],
   "source": [
    "from sklearn.model_selection import cross_val_score\n",
    "\n",
    "RFCModel = RandomForestClassifier(n_estimators=100, max_features='sqrt')\n",
    "scoresRFC = cross_val_score(RFCModel, datosForTrainingSinPostuSinNulos, datosML['sepostulo'], cv=5)\n",
    "print(\"---RFC----\")\n",
    "print(scoresRFC)\n"
   ]
  },
  {
   "cell_type": "code",
   "execution_count": null,
   "metadata": {},
   "outputs": [],
   "source": []
  },
  {
   "cell_type": "code",
   "execution_count": null,
   "metadata": {},
   "outputs": [],
   "source": []
  },
  {
   "cell_type": "code",
   "execution_count": null,
   "metadata": {},
   "outputs": [],
   "source": []
  }
 ],
 "metadata": {
  "kernelspec": {
   "display_name": "Python 3",
   "language": "python",
   "name": "python3"
  },
  "language_info": {
   "codemirror_mode": {
    "name": "ipython",
    "version": 3
   },
   "file_extension": ".py",
   "mimetype": "text/x-python",
   "name": "python",
   "nbconvert_exporter": "python",
   "pygments_lexer": "ipython3",
   "version": "3.6.3"
  }
 },
 "nbformat": 4,
 "nbformat_minor": 2
}
