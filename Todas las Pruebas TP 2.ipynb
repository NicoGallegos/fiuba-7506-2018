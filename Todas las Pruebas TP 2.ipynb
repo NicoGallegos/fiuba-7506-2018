{
 "cells": [
  {
   "cell_type": "code",
   "execution_count": 1,
   "metadata": {},
   "outputs": [],
   "source": [
    "import pandas as pd\n",
    "import numpy as np\n",
    "import seaborn as sns\n",
    "import matplotlib.pyplot as plt\n",
    "\n",
    "\n",
    "\n",
    "#postulantesEducacion = pd.read_csv('resources/tar/fiuba_1_postulantes_educacion.csv')\n",
    "#postulantesGenero = pd.read_csv('resources/tar/fiuba_2_postulantes_genero_y_edad.csv')\n",
    "vistas = pd.read_csv('resources/tar/fiuba_3_vistas.csv')\n",
    "postulaciones = pd.read_csv('resources/tar/fiuba_4_postulaciones.csv')\n",
    "#avisosOnline = pd.read_csv('resources/tar/fiuba_5_avisos_online.csv')\n",
    "avisosDetalle = pd.read_csv('resources/tar/fiuba_6_avisos_detalle.csv')\n",
    "\n",
    "\n"
   ]
  },
  {
   "cell_type": "code",
   "execution_count": 3,
   "metadata": {},
   "outputs": [],
   "source": [
    "#cargamos zips\n",
    "avisosDetalleZIP = pd.read_csv('resources/zip/fiuba_6_avisos_detalle.csv')\n",
    "avisosDetalleMissing = pd.read_csv('resources/zip/fiuba_6_avisos_missing.csv')"
   ]
  },
  {
   "cell_type": "code",
   "execution_count": 4,
   "metadata": {},
   "outputs": [],
   "source": [
    "avisosDetallesCompletos = pd.concat([avisosDetalleZIP,avisosDetalleMissing])"
   ]
  },
  {
   "cell_type": "code",
   "execution_count": 5,
   "metadata": {},
   "outputs": [],
   "source": [
    "testingSet = pd.read_csv('resources/test_final_100k.csv')"
   ]
  },
  {
   "cell_type": "code",
   "execution_count": null,
   "metadata": {},
   "outputs": [],
   "source": []
  },
  {
   "cell_type": "code",
   "execution_count": 6,
   "metadata": {},
   "outputs": [],
   "source": [
    "postulacionesMerged = pd.merge(postulaciones,avisosDetalle,on='idaviso',how='inner');"
   ]
  },
  {
   "cell_type": "code",
   "execution_count": 7,
   "metadata": {},
   "outputs": [],
   "source": [
    "postulacionesMerged['datePostulacion'] = pd.DatetimeIndex(postulacionesMerged['fechapostulacion']).date\n",
    "postulacionesMergedFiltered = postulacionesMerged.drop(['ciudad','mapacalle','idpais','fechapostulacion'],axis=1)"
   ]
  },
  {
   "cell_type": "code",
   "execution_count": 5,
   "metadata": {},
   "outputs": [
    {
     "data": {
      "text/plain": [
       "Index(['idaviso', 'idpostulante', 'titulo', 'descripcion', 'nombre_zona',\n",
       "       'tipo_de_trabajo', 'nivel_laboral', 'nombre_area',\n",
       "       'denominacion_empresa', 'datePostulacion'],\n",
       "      dtype='object')"
      ]
     },
     "execution_count": 5,
     "metadata": {},
     "output_type": "execute_result"
    }
   ],
   "source": [
    "postulacionesMergedFiltered.columns"
   ]
  },
  {
   "cell_type": "code",
   "execution_count": 8,
   "metadata": {},
   "outputs": [],
   "source": [
    "postulacionesMerged['cantidadEmpresa'] = 1;\n",
    "cantAvisosPorEmpresa = postulacionesMerged.groupby('denominacion_empresa').sum()\n",
    "cantAvisosPorEmpresa = cantAvisosPorEmpresa.reset_index()\n",
    "cantAvisosPorEmpresa = cantAvisosPorEmpresa[['denominacion_empresa','cantidadEmpresa']]"
   ]
  },
  {
   "cell_type": "code",
   "execution_count": 9,
   "metadata": {},
   "outputs": [],
   "source": [
    "postulacionesConEmpresas = pd.merge(postulacionesMergedFiltered,cantAvisosPorEmpresa,how='inner',on='denominacion_empresa')"
   ]
  },
  {
   "cell_type": "code",
   "execution_count": 10,
   "metadata": {},
   "outputs": [
    {
     "data": {
      "text/plain": [
       "Index(['idaviso', 'idpostulante', 'titulo', 'descripcion', 'nombre_zona',\n",
       "       'tipo_de_trabajo', 'nivel_laboral', 'nombre_area',\n",
       "       'denominacion_empresa', 'datePostulacion', 'cantidadEmpresa'],\n",
       "      dtype='object')"
      ]
     },
     "execution_count": 10,
     "metadata": {},
     "output_type": "execute_result"
    }
   ],
   "source": [
    "postulacionesConEmpresas.columns"
   ]
  },
  {
   "cell_type": "code",
   "execution_count": null,
   "metadata": {},
   "outputs": [],
   "source": []
  },
  {
   "cell_type": "code",
   "execution_count": 11,
   "metadata": {},
   "outputs": [],
   "source": [
    "postulacionesFinal = postulacionesConEmpresas.drop('titulo',axis=1)\n",
    "postulacionesFinal.drop(['descripcion','denominacion_empresa'],axis=1,inplace=True);\n",
    "postulacionesFinal.drop('nombre_area',axis=1,inplace=True)"
   ]
  },
  {
   "cell_type": "code",
   "execution_count": 39,
   "metadata": {},
   "outputs": [],
   "source": []
  },
  {
   "cell_type": "code",
   "execution_count": 68,
   "metadata": {},
   "outputs": [
    {
     "data": {
      "text/html": [
       "<div>\n",
       "<style>\n",
       "    .dataframe thead tr:only-child th {\n",
       "        text-align: right;\n",
       "    }\n",
       "\n",
       "    .dataframe thead th {\n",
       "        text-align: left;\n",
       "    }\n",
       "\n",
       "    .dataframe tbody tr th {\n",
       "        vertical-align: top;\n",
       "    }\n",
       "</style>\n",
       "<table border=\"1\" class=\"dataframe\">\n",
       "  <thead>\n",
       "    <tr style=\"text-align: right;\">\n",
       "      <th></th>\n",
       "      <th>idaviso</th>\n",
       "      <th>idpostulante</th>\n",
       "      <th>nombre_zona</th>\n",
       "      <th>tipo_de_trabajo</th>\n",
       "      <th>nivel_laboral</th>\n",
       "      <th>datePostulacion</th>\n",
       "      <th>cantidadEmpresa</th>\n",
       "    </tr>\n",
       "  </thead>\n",
       "  <tbody>\n",
       "    <tr>\n",
       "      <th>0</th>\n",
       "      <td>1112248724</td>\n",
       "      <td>NjlD</td>\n",
       "      <td>Gran Buenos Aires</td>\n",
       "      <td>Full-time</td>\n",
       "      <td>Senior / Semi-Senior</td>\n",
       "      <td>2018-01-19</td>\n",
       "      <td>2318</td>\n",
       "    </tr>\n",
       "    <tr>\n",
       "      <th>1</th>\n",
       "      <td>1112248724</td>\n",
       "      <td>MV6eM8N</td>\n",
       "      <td>Gran Buenos Aires</td>\n",
       "      <td>Full-time</td>\n",
       "      <td>Senior / Semi-Senior</td>\n",
       "      <td>2018-01-30</td>\n",
       "      <td>2318</td>\n",
       "    </tr>\n",
       "    <tr>\n",
       "      <th>2</th>\n",
       "      <td>1112248724</td>\n",
       "      <td>5LzQkN</td>\n",
       "      <td>Gran Buenos Aires</td>\n",
       "      <td>Full-time</td>\n",
       "      <td>Senior / Semi-Senior</td>\n",
       "      <td>2018-01-15</td>\n",
       "      <td>2318</td>\n",
       "    </tr>\n",
       "    <tr>\n",
       "      <th>3</th>\n",
       "      <td>1112248724</td>\n",
       "      <td>8M2rOBz</td>\n",
       "      <td>Gran Buenos Aires</td>\n",
       "      <td>Full-time</td>\n",
       "      <td>Senior / Semi-Senior</td>\n",
       "      <td>2018-01-30</td>\n",
       "      <td>2318</td>\n",
       "    </tr>\n",
       "    <tr>\n",
       "      <th>4</th>\n",
       "      <td>1112248724</td>\n",
       "      <td>Dr6V3Da</td>\n",
       "      <td>Gran Buenos Aires</td>\n",
       "      <td>Full-time</td>\n",
       "      <td>Senior / Semi-Senior</td>\n",
       "      <td>2018-01-23</td>\n",
       "      <td>2318</td>\n",
       "    </tr>\n",
       "  </tbody>\n",
       "</table>\n",
       "</div>"
      ],
      "text/plain": [
       "      idaviso idpostulante        nombre_zona tipo_de_trabajo  \\\n",
       "0  1112248724         NjlD  Gran Buenos Aires       Full-time   \n",
       "1  1112248724      MV6eM8N  Gran Buenos Aires       Full-time   \n",
       "2  1112248724       5LzQkN  Gran Buenos Aires       Full-time   \n",
       "3  1112248724      8M2rOBz  Gran Buenos Aires       Full-time   \n",
       "4  1112248724      Dr6V3Da  Gran Buenos Aires       Full-time   \n",
       "\n",
       "          nivel_laboral datePostulacion  cantidadEmpresa  \n",
       "0  Senior / Semi-Senior      2018-01-19             2318  \n",
       "1  Senior / Semi-Senior      2018-01-30             2318  \n",
       "2  Senior / Semi-Senior      2018-01-15             2318  \n",
       "3  Senior / Semi-Senior      2018-01-30             2318  \n",
       "4  Senior / Semi-Senior      2018-01-23             2318  "
      ]
     },
     "execution_count": 68,
     "metadata": {},
     "output_type": "execute_result"
    }
   ],
   "source": [
    "postulacionesFinal.head()"
   ]
  },
  {
   "cell_type": "code",
   "execution_count": 12,
   "metadata": {},
   "outputs": [],
   "source": [
    "postulacionesOHC = pd.concat([postulacionesFinal,pd.get_dummies(postulacionesFinal['nombre_zona'], prefix='zona')],axis=1)\n",
    "postulacionesOHC = pd.concat([postulacionesOHC,pd.get_dummies(postulacionesFinal['tipo_de_trabajo'], prefix='tipo')],axis=1)\n",
    "postulacionesOHC = pd.concat([postulacionesOHC,pd.get_dummies(postulacionesFinal['nivel_laboral'], prefix='nivel')],axis=1)"
   ]
  },
  {
   "cell_type": "code",
   "execution_count": 13,
   "metadata": {},
   "outputs": [],
   "source": [
    "postulacionesOHC.drop(['nivel_laboral','tipo_de_trabajo','nombre_zona'],axis=1,inplace=True)"
   ]
  },
  {
   "cell_type": "code",
   "execution_count": 14,
   "metadata": {},
   "outputs": [],
   "source": [
    "postulacionesOHC['sepostulo'] = 1;"
   ]
  },
  {
   "cell_type": "code",
   "execution_count": 55,
   "metadata": {},
   "outputs": [
    {
     "data": {
      "text/plain": [
       "<bound method DataFrame.info of             idaviso idpostulante  cantidadEmpresa_x  cantidadEmpresa_y  \\\n",
       "0        1112248724         NjlD                  1               2318   \n",
       "1        1112248724      MV6eM8N                  1               2318   \n",
       "2        1112248724       5LzQkN                  1               2318   \n",
       "3        1112248724      8M2rOBz                  1               2318   \n",
       "4        1112248724      Dr6V3Da                  1               2318   \n",
       "5        1112248724       8mkDQD                  1               2318   \n",
       "6        1112248724      VNk6V22                  1               2318   \n",
       "7        1112248724      dYjLleA                  1               2318   \n",
       "8        1112248724      xkadArb                  1               2318   \n",
       "9        1112248724      xkvx9D0                  1               2318   \n",
       "10       1112248724        aj1v0                  1               2318   \n",
       "11       1112248724        6OkGl                  1               2318   \n",
       "12       1112248724       686xdx                  1               2318   \n",
       "13       1112248724      lDw9dxz                  1               2318   \n",
       "14       1112248724      NzdJNoJ                  1               2318   \n",
       "15       1112248724      8MaOpPD                  1               2318   \n",
       "16       1112248724       aE15QW                  1               2318   \n",
       "17       1112248724       E9jRRJ                  1               2318   \n",
       "18       1112248724      mzVJE43                  1               2318   \n",
       "19       1112248724      8MalQ6x                  1               2318   \n",
       "20       1112248724       aWY5D5                  1               2318   \n",
       "21       1112248724       6Kr0Zr                  1               2318   \n",
       "22       1112248724      vVjqaPj                  1               2318   \n",
       "23       1112248724       8XGPZ3                  1               2318   \n",
       "24       1112248724      A3vxaMY                  1               2318   \n",
       "25       1112248724       5kdoVv                  1               2318   \n",
       "26       1112248724      wVk3wRl                  1               2318   \n",
       "27       1112248724       YL5j1J                  1               2318   \n",
       "28       1112248724      LNedP3j                  1               2318   \n",
       "29       1112248724       6prANl                  1               2318   \n",
       "...             ...          ...                ...                ...   \n",
       "4505417  1112445221       6J6GX4                  1                  2   \n",
       "4505418  1112361689      Yj5rejV                  1                  6   \n",
       "4505419  1112361689      JBxPPRp                  1                  6   \n",
       "4505420  1112361689      zv8AoGK                  1                  6   \n",
       "4505421  1112456159      JBxPPRp                  1                  6   \n",
       "4505422  1112156831      PmJqG50                  1                  6   \n",
       "4505423  1112157764      PmJqG50                  1                  6   \n",
       "4505424  1112243857      wVk11Ym                  1                  5   \n",
       "4505425  1112243857       YOKjk1                  1                  5   \n",
       "4505426  1112243857      EzpaQ60                  1                  5   \n",
       "4505427  1112243857      1QdMRzL                  1                  5   \n",
       "4505428  1112243857       1pbxaz                  1                  5   \n",
       "4505429  1112261433       NWqqKl                  1                  2   \n",
       "4505430  1112261433      zv8AoGK                  1                  2   \n",
       "4505431  1112259957      Eze6vj2                  1                  5   \n",
       "4505432  1112259957      1QdW6pB                  1                  5   \n",
       "4505433  1112259957      4rPJ2QA                  1                  5   \n",
       "4505434  1112259957      8Ma13dL                  1                  5   \n",
       "4505435  1112259957       NVZdpV                  1                  5   \n",
       "4505436  1112325783       YLGezX                  1                  4   \n",
       "4505437  1112325783      rmd59N9                  1                  4   \n",
       "4505438  1112325783      Ezewa9N                  1                  4   \n",
       "4505439  1112325783      1Q42vBB                  1                  4   \n",
       "4505440  1112365505      4rPx4jR                  1                  1   \n",
       "4505441  1112201875      xkP1ErK                  1                  1   \n",
       "4505442  1112237411      kP61Wjj                  1                  2   \n",
       "4505443  1112237411      dYzDALA                  1                  2   \n",
       "4505444  1112202261      VNPlzom                  1                  1   \n",
       "4505445  1112358649       1pbxaz                  1                  1   \n",
       "4505446  1112368769       eYp4v2                  1                  1   \n",
       "\n",
       "         zona_Capital Federal  zona_GBA Oeste  zona_Gran Buenos Aires  \\\n",
       "0                           0               0                       1   \n",
       "1                           0               0                       1   \n",
       "2                           0               0                       1   \n",
       "3                           0               0                       1   \n",
       "4                           0               0                       1   \n",
       "5                           0               0                       1   \n",
       "6                           0               0                       1   \n",
       "7                           0               0                       1   \n",
       "8                           0               0                       1   \n",
       "9                           0               0                       1   \n",
       "10                          0               0                       1   \n",
       "11                          0               0                       1   \n",
       "12                          0               0                       1   \n",
       "13                          0               0                       1   \n",
       "14                          0               0                       1   \n",
       "15                          0               0                       1   \n",
       "16                          0               0                       1   \n",
       "17                          0               0                       1   \n",
       "18                          0               0                       1   \n",
       "19                          0               0                       1   \n",
       "20                          0               0                       1   \n",
       "21                          0               0                       1   \n",
       "22                          0               0                       1   \n",
       "23                          0               0                       1   \n",
       "24                          0               0                       1   \n",
       "25                          0               0                       1   \n",
       "26                          0               0                       1   \n",
       "27                          0               0                       1   \n",
       "28                          0               0                       1   \n",
       "29                          0               0                       1   \n",
       "...                       ...             ...                     ...   \n",
       "4505417                     0               0                       1   \n",
       "4505418                     0               0                       1   \n",
       "4505419                     0               0                       1   \n",
       "4505420                     0               0                       1   \n",
       "4505421                     0               0                       1   \n",
       "4505422                     0               0                       1   \n",
       "4505423                     0               0                       1   \n",
       "4505424                     0               0                       1   \n",
       "4505425                     0               0                       1   \n",
       "4505426                     0               0                       1   \n",
       "4505427                     0               0                       1   \n",
       "4505428                     0               0                       1   \n",
       "4505429                     0               0                       1   \n",
       "4505430                     0               0                       1   \n",
       "4505431                     0               0                       1   \n",
       "4505432                     0               0                       1   \n",
       "4505433                     0               0                       1   \n",
       "4505434                     0               0                       1   \n",
       "4505435                     0               0                       1   \n",
       "4505436                     1               0                       0   \n",
       "4505437                     1               0                       0   \n",
       "4505438                     1               0                       0   \n",
       "4505439                     1               0                       0   \n",
       "4505440                     0               0                       1   \n",
       "4505441                     0               0                       1   \n",
       "4505442                     0               0                       1   \n",
       "4505443                     0               0                       1   \n",
       "4505444                     0               0                       1   \n",
       "4505445                     0               0                       1   \n",
       "4505446                     1               0                       0   \n",
       "\n",
       "         tipo_Fines de Semana  tipo_Full-time  tipo_Part-time    ...      \\\n",
       "0                           0               1               0    ...       \n",
       "1                           0               1               0    ...       \n",
       "2                           0               1               0    ...       \n",
       "3                           0               1               0    ...       \n",
       "4                           0               1               0    ...       \n",
       "5                           0               1               0    ...       \n",
       "6                           0               1               0    ...       \n",
       "7                           0               1               0    ...       \n",
       "8                           0               1               0    ...       \n",
       "9                           0               1               0    ...       \n",
       "10                          0               1               0    ...       \n",
       "11                          0               1               0    ...       \n",
       "12                          0               1               0    ...       \n",
       "13                          0               1               0    ...       \n",
       "14                          0               1               0    ...       \n",
       "15                          0               1               0    ...       \n",
       "16                          0               1               0    ...       \n",
       "17                          0               1               0    ...       \n",
       "18                          0               1               0    ...       \n",
       "19                          0               1               0    ...       \n",
       "20                          0               1               0    ...       \n",
       "21                          0               1               0    ...       \n",
       "22                          0               1               0    ...       \n",
       "23                          0               1               0    ...       \n",
       "24                          0               1               0    ...       \n",
       "25                          0               1               0    ...       \n",
       "26                          0               1               0    ...       \n",
       "27                          0               1               0    ...       \n",
       "28                          0               1               0    ...       \n",
       "29                          0               1               0    ...       \n",
       "...                       ...             ...             ...    ...       \n",
       "4505417                     0               1               0    ...       \n",
       "4505418                     0               1               0    ...       \n",
       "4505419                     0               1               0    ...       \n",
       "4505420                     0               1               0    ...       \n",
       "4505421                     0               1               0    ...       \n",
       "4505422                     0               1               0    ...       \n",
       "4505423                     0               1               0    ...       \n",
       "4505424                     0               1               0    ...       \n",
       "4505425                     0               1               0    ...       \n",
       "4505426                     0               1               0    ...       \n",
       "4505427                     0               1               0    ...       \n",
       "4505428                     0               1               0    ...       \n",
       "4505429                     0               1               0    ...       \n",
       "4505430                     0               1               0    ...       \n",
       "4505431                     0               1               0    ...       \n",
       "4505432                     0               1               0    ...       \n",
       "4505433                     0               1               0    ...       \n",
       "4505434                     0               1               0    ...       \n",
       "4505435                     0               1               0    ...       \n",
       "4505436                     0               1               0    ...       \n",
       "4505437                     0               1               0    ...       \n",
       "4505438                     0               1               0    ...       \n",
       "4505439                     0               1               0    ...       \n",
       "4505440                     0               1               0    ...       \n",
       "4505441                     0               1               0    ...       \n",
       "4505442                     0               1               0    ...       \n",
       "4505443                     0               1               0    ...       \n",
       "4505444                     0               1               0    ...       \n",
       "4505445                     0               1               0    ...       \n",
       "4505446                     0               1               0    ...       \n",
       "\n",
       "         tipo_Primer empleo  tipo_Teletrabajo  tipo_Temporario  \\\n",
       "0                         0                 0                0   \n",
       "1                         0                 0                0   \n",
       "2                         0                 0                0   \n",
       "3                         0                 0                0   \n",
       "4                         0                 0                0   \n",
       "5                         0                 0                0   \n",
       "6                         0                 0                0   \n",
       "7                         0                 0                0   \n",
       "8                         0                 0                0   \n",
       "9                         0                 0                0   \n",
       "10                        0                 0                0   \n",
       "11                        0                 0                0   \n",
       "12                        0                 0                0   \n",
       "13                        0                 0                0   \n",
       "14                        0                 0                0   \n",
       "15                        0                 0                0   \n",
       "16                        0                 0                0   \n",
       "17                        0                 0                0   \n",
       "18                        0                 0                0   \n",
       "19                        0                 0                0   \n",
       "20                        0                 0                0   \n",
       "21                        0                 0                0   \n",
       "22                        0                 0                0   \n",
       "23                        0                 0                0   \n",
       "24                        0                 0                0   \n",
       "25                        0                 0                0   \n",
       "26                        0                 0                0   \n",
       "27                        0                 0                0   \n",
       "28                        0                 0                0   \n",
       "29                        0                 0                0   \n",
       "...                     ...               ...              ...   \n",
       "4505417                   0                 0                0   \n",
       "4505418                   0                 0                0   \n",
       "4505419                   0                 0                0   \n",
       "4505420                   0                 0                0   \n",
       "4505421                   0                 0                0   \n",
       "4505422                   0                 0                0   \n",
       "4505423                   0                 0                0   \n",
       "4505424                   0                 0                0   \n",
       "4505425                   0                 0                0   \n",
       "4505426                   0                 0                0   \n",
       "4505427                   0                 0                0   \n",
       "4505428                   0                 0                0   \n",
       "4505429                   0                 0                0   \n",
       "4505430                   0                 0                0   \n",
       "4505431                   0                 0                0   \n",
       "4505432                   0                 0                0   \n",
       "4505433                   0                 0                0   \n",
       "4505434                   0                 0                0   \n",
       "4505435                   0                 0                0   \n",
       "4505436                   0                 0                0   \n",
       "4505437                   0                 0                0   \n",
       "4505438                   0                 0                0   \n",
       "4505439                   0                 0                0   \n",
       "4505440                   0                 0                0   \n",
       "4505441                   0                 0                0   \n",
       "4505442                   0                 0                0   \n",
       "4505443                   0                 0                0   \n",
       "4505444                   0                 0                0   \n",
       "4505445                   0                 0                0   \n",
       "4505446                   0                 0                0   \n",
       "\n",
       "         tipo_Voluntario  nivel_Gerencia / Alta Gerencia / Dirección  \\\n",
       "0                      0                                           0   \n",
       "1                      0                                           0   \n",
       "2                      0                                           0   \n",
       "3                      0                                           0   \n",
       "4                      0                                           0   \n",
       "5                      0                                           0   \n",
       "6                      0                                           0   \n",
       "7                      0                                           0   \n",
       "8                      0                                           0   \n",
       "9                      0                                           0   \n",
       "10                     0                                           0   \n",
       "11                     0                                           0   \n",
       "12                     0                                           0   \n",
       "13                     0                                           0   \n",
       "14                     0                                           0   \n",
       "15                     0                                           0   \n",
       "16                     0                                           0   \n",
       "17                     0                                           0   \n",
       "18                     0                                           0   \n",
       "19                     0                                           0   \n",
       "20                     0                                           0   \n",
       "21                     0                                           0   \n",
       "22                     0                                           0   \n",
       "23                     0                                           0   \n",
       "24                     0                                           0   \n",
       "25                     0                                           0   \n",
       "26                     0                                           0   \n",
       "27                     0                                           0   \n",
       "28                     0                                           0   \n",
       "29                     0                                           0   \n",
       "...                  ...                                         ...   \n",
       "4505417                0                                           0   \n",
       "4505418                0                                           0   \n",
       "4505419                0                                           0   \n",
       "4505420                0                                           0   \n",
       "4505421                0                                           0   \n",
       "4505422                0                                           0   \n",
       "4505423                0                                           0   \n",
       "4505424                0                                           0   \n",
       "4505425                0                                           0   \n",
       "4505426                0                                           0   \n",
       "4505427                0                                           0   \n",
       "4505428                0                                           0   \n",
       "4505429                0                                           0   \n",
       "4505430                0                                           0   \n",
       "4505431                0                                           0   \n",
       "4505432                0                                           0   \n",
       "4505433                0                                           0   \n",
       "4505434                0                                           0   \n",
       "4505435                0                                           0   \n",
       "4505436                0                                           0   \n",
       "4505437                0                                           0   \n",
       "4505438                0                                           0   \n",
       "4505439                0                                           0   \n",
       "4505440                0                                           0   \n",
       "4505441                0                                           0   \n",
       "4505442                0                                           0   \n",
       "4505443                0                                           0   \n",
       "4505444                0                                           0   \n",
       "4505445                0                                           0   \n",
       "4505446                0                                           0   \n",
       "\n",
       "         nivel_Jefe / Supervisor / Responsable  nivel_Junior  nivel_Otro  \\\n",
       "0                                            0             0           0   \n",
       "1                                            0             0           0   \n",
       "2                                            0             0           0   \n",
       "3                                            0             0           0   \n",
       "4                                            0             0           0   \n",
       "5                                            0             0           0   \n",
       "6                                            0             0           0   \n",
       "7                                            0             0           0   \n",
       "8                                            0             0           0   \n",
       "9                                            0             0           0   \n",
       "10                                           0             0           0   \n",
       "11                                           0             0           0   \n",
       "12                                           0             0           0   \n",
       "13                                           0             0           0   \n",
       "14                                           0             0           0   \n",
       "15                                           0             0           0   \n",
       "16                                           0             0           0   \n",
       "17                                           0             0           0   \n",
       "18                                           0             0           0   \n",
       "19                                           0             0           0   \n",
       "20                                           0             0           0   \n",
       "21                                           0             0           0   \n",
       "22                                           0             0           0   \n",
       "23                                           0             0           0   \n",
       "24                                           0             0           0   \n",
       "25                                           0             0           0   \n",
       "26                                           0             0           0   \n",
       "27                                           0             0           0   \n",
       "28                                           0             0           0   \n",
       "29                                           0             0           0   \n",
       "...                                        ...           ...         ...   \n",
       "4505417                                      0             0           0   \n",
       "4505418                                      0             0           0   \n",
       "4505419                                      0             0           0   \n",
       "4505420                                      0             0           0   \n",
       "4505421                                      0             0           0   \n",
       "4505422                                      0             0           0   \n",
       "4505423                                      0             0           0   \n",
       "4505424                                      1             0           0   \n",
       "4505425                                      1             0           0   \n",
       "4505426                                      1             0           0   \n",
       "4505427                                      1             0           0   \n",
       "4505428                                      1             0           0   \n",
       "4505429                                      0             0           0   \n",
       "4505430                                      0             0           0   \n",
       "4505431                                      0             0           0   \n",
       "4505432                                      0             0           0   \n",
       "4505433                                      0             0           0   \n",
       "4505434                                      0             0           0   \n",
       "4505435                                      0             0           0   \n",
       "4505436                                      0             0           1   \n",
       "4505437                                      0             0           1   \n",
       "4505438                                      0             0           1   \n",
       "4505439                                      0             0           1   \n",
       "4505440                                      0             0           1   \n",
       "4505441                                      0             0           0   \n",
       "4505442                                      0             0           0   \n",
       "4505443                                      0             0           0   \n",
       "4505444                                      0             0           0   \n",
       "4505445                                      0             0           0   \n",
       "4505446                                      0             0           0   \n",
       "\n",
       "         nivel_Senior / Semi-Senior  sepostulo  \n",
       "0                                 1          1  \n",
       "1                                 1          1  \n",
       "2                                 1          1  \n",
       "3                                 1          1  \n",
       "4                                 1          1  \n",
       "5                                 1          1  \n",
       "6                                 1          1  \n",
       "7                                 1          1  \n",
       "8                                 1          1  \n",
       "9                                 1          1  \n",
       "10                                1          1  \n",
       "11                                1          1  \n",
       "12                                1          1  \n",
       "13                                1          1  \n",
       "14                                1          1  \n",
       "15                                1          1  \n",
       "16                                1          1  \n",
       "17                                1          1  \n",
       "18                                1          1  \n",
       "19                                1          1  \n",
       "20                                1          1  \n",
       "21                                1          1  \n",
       "22                                1          1  \n",
       "23                                1          1  \n",
       "24                                1          1  \n",
       "25                                1          1  \n",
       "26                                1          1  \n",
       "27                                1          1  \n",
       "28                                1          1  \n",
       "29                                1          1  \n",
       "...                             ...        ...  \n",
       "4505417                           1          1  \n",
       "4505418                           1          1  \n",
       "4505419                           1          1  \n",
       "4505420                           1          1  \n",
       "4505421                           1          1  \n",
       "4505422                           1          1  \n",
       "4505423                           1          1  \n",
       "4505424                           0          1  \n",
       "4505425                           0          1  \n",
       "4505426                           0          1  \n",
       "4505427                           0          1  \n",
       "4505428                           0          1  \n",
       "4505429                           1          1  \n",
       "4505430                           1          1  \n",
       "4505431                           1          1  \n",
       "4505432                           1          1  \n",
       "4505433                           1          1  \n",
       "4505434                           1          1  \n",
       "4505435                           1          1  \n",
       "4505436                           0          1  \n",
       "4505437                           0          1  \n",
       "4505438                           0          1  \n",
       "4505439                           0          1  \n",
       "4505440                           0          1  \n",
       "4505441                           1          1  \n",
       "4505442                           1          1  \n",
       "4505443                           1          1  \n",
       "4505444                           1          1  \n",
       "4505445                           1          1  \n",
       "4505446                           1          1  \n",
       "\n",
       "[4505447 rows x 23 columns]>"
      ]
     },
     "execution_count": 55,
     "metadata": {},
     "output_type": "execute_result"
    }
   ],
   "source": [
    "postulacionesOHC.info"
   ]
  },
  {
   "cell_type": "code",
   "execution_count": 15,
   "metadata": {},
   "outputs": [
    {
     "data": {
      "text/plain": [
       "Index(['idaviso', 'idpostulante', 'datePostulacion', 'cantidadEmpresa',\n",
       "       'zona_Capital Federal', 'zona_GBA Oeste', 'zona_Gran Buenos Aires',\n",
       "       'tipo_Fines de Semana', 'tipo_Full-time', 'tipo_Part-time',\n",
       "       'tipo_Pasantia', 'tipo_Por Contrato', 'tipo_Por Horas',\n",
       "       'tipo_Primer empleo', 'tipo_Teletrabajo', 'tipo_Temporario',\n",
       "       'tipo_Voluntario', 'nivel_Gerencia / Alta Gerencia / Dirección',\n",
       "       'nivel_Jefe / Supervisor / Responsable', 'nivel_Junior', 'nivel_Otro',\n",
       "       'nivel_Senior / Semi-Senior', 'sepostulo'],\n",
       "      dtype='object')"
      ]
     },
     "execution_count": 15,
     "metadata": {},
     "output_type": "execute_result"
    }
   ],
   "source": [
    "postulacionesOHC.columns"
   ]
  },
  {
   "cell_type": "code",
   "execution_count": null,
   "metadata": {},
   "outputs": [],
   "source": []
  },
  {
   "cell_type": "code",
   "execution_count": 16,
   "metadata": {},
   "outputs": [],
   "source": [
    "avisosPostulados = postulacionesOHC[['idaviso','idpostulante','datePostulacion']]"
   ]
  },
  {
   "cell_type": "code",
   "execution_count": 73,
   "metadata": {},
   "outputs": [
    {
     "data": {
      "text/plain": [
       "<bound method DataFrame.info of             idaviso idpostulante datePostulacion\n",
       "0        1112248724         NjlD      2018-01-19\n",
       "1        1112248724      MV6eM8N      2018-01-30\n",
       "2        1112248724       5LzQkN      2018-01-15\n",
       "3        1112248724      8M2rOBz      2018-01-30\n",
       "4        1112248724      Dr6V3Da      2018-01-23\n",
       "5        1112248724       8mkDQD      2018-01-21\n",
       "6        1112248724      VNk6V22      2018-01-15\n",
       "7        1112248724      dYjLleA      2018-01-17\n",
       "8        1112248724      xkadArb      2018-01-15\n",
       "9        1112248724      xkvx9D0      2018-01-22\n",
       "10       1112248724        aj1v0      2018-01-17\n",
       "11       1112248724        6OkGl      2018-01-22\n",
       "12       1112248724       686xdx      2018-01-24\n",
       "13       1112248724      lDw9dxz      2018-01-15\n",
       "14       1112248724      NzdJNoJ      2018-01-17\n",
       "15       1112248724      8MaOpPD      2018-01-16\n",
       "16       1112248724       aE15QW      2018-01-15\n",
       "17       1112248724       E9jRRJ      2018-01-18\n",
       "18       1112248724      mzVJE43      2018-01-18\n",
       "19       1112248724      8MalQ6x      2018-01-22\n",
       "20       1112248724       aWY5D5      2018-01-30\n",
       "21       1112248724       6Kr0Zr      2018-01-16\n",
       "22       1112248724      vVjqaPj      2018-01-16\n",
       "23       1112248724       8XGPZ3      2018-01-29\n",
       "24       1112248724      A3vxaMY      2018-01-16\n",
       "25       1112248724       5kdoVv      2018-01-28\n",
       "26       1112248724      wVk3wRl      2018-01-18\n",
       "27       1112248724       YL5j1J      2018-01-16\n",
       "28       1112248724      LNedP3j      2018-02-01\n",
       "29       1112248724       6prANl      2018-01-17\n",
       "...             ...          ...             ...\n",
       "4505417  1112445221       6J6GX4      2018-04-10\n",
       "4505418  1112361689      Yj5rejV      2018-03-01\n",
       "4505419  1112361689      JBxPPRp      2018-02-27\n",
       "4505420  1112361689      zv8AoGK      2018-03-04\n",
       "4505421  1112456159      JBxPPRp      2018-04-11\n",
       "4505422  1112156831      PmJqG50      2018-01-22\n",
       "4505423  1112157764      PmJqG50      2018-01-22\n",
       "4505424  1112243857      wVk11Ym      2018-01-17\n",
       "4505425  1112243857       YOKjk1      2018-01-29\n",
       "4505426  1112243857      EzpaQ60      2018-01-29\n",
       "4505427  1112243857      1QdMRzL      2018-01-22\n",
       "4505428  1112243857       1pbxaz      2018-01-15\n",
       "4505429  1112261433       NWqqKl      2018-02-03\n",
       "4505430  1112261433      zv8AoGK      2018-01-21\n",
       "4505431  1112259957      Eze6vj2      2018-01-31\n",
       "4505432  1112259957      1QdW6pB      2018-01-15\n",
       "4505433  1112259957      4rPJ2QA      2018-01-31\n",
       "4505434  1112259957      8Ma13dL      2018-01-15\n",
       "4505435  1112259957       NVZdpV      2018-01-31\n",
       "4505436  1112325783       YLGezX      2018-02-12\n",
       "4505437  1112325783      rmd59N9      2018-02-13\n",
       "4505438  1112325783      Ezewa9N      2018-02-14\n",
       "4505439  1112325783      1Q42vBB      2018-02-15\n",
       "4505440  1112365505      4rPx4jR      2018-02-28\n",
       "4505441  1112201875      xkP1ErK      2018-01-17\n",
       "4505442  1112237411      kP61Wjj      2018-01-18\n",
       "4505443  1112237411      dYzDALA      2018-01-17\n",
       "4505444  1112202261      VNPlzom      2018-01-16\n",
       "4505445  1112358649       1pbxaz      2018-03-01\n",
       "4505446  1112368769       eYp4v2      2018-03-05\n",
       "\n",
       "[4505447 rows x 3 columns]>"
      ]
     },
     "execution_count": 73,
     "metadata": {},
     "output_type": "execute_result"
    }
   ],
   "source": [
    "avisosPostulados.info"
   ]
  },
  {
   "cell_type": "code",
   "execution_count": 13,
   "metadata": {},
   "outputs": [],
   "source": []
  },
  {
   "cell_type": "code",
   "execution_count": 14,
   "metadata": {},
   "outputs": [],
   "source": []
  },
  {
   "cell_type": "code",
   "execution_count": 17,
   "metadata": {},
   "outputs": [
    {
     "name": "stderr",
     "output_type": "stream",
     "text": [
      "C:\\Users\\nicol\\Anaconda3\\lib\\site-packages\\ipykernel_launcher.py:1: SettingWithCopyWarning: \n",
      "A value is trying to be set on a copy of a slice from a DataFrame.\n",
      "Try using .loc[row_indexer,col_indexer] = value instead\n",
      "\n",
      "See the caveats in the documentation: http://pandas.pydata.org/pandas-docs/stable/indexing.html#indexing-view-versus-copy\n",
      "  \"\"\"Entry point for launching an IPython kernel.\n"
     ]
    },
    {
     "data": {
      "text/plain": [
       "<bound method DataFrame.info of             idaviso idpostulante  cantPostulaciones\n",
       "0           8725750       1qwDrO                  1\n",
       "1           8725750      2zkzE9Y                  1\n",
       "2           8725750      2zwqd9V                  1\n",
       "3           8725750      4rLbkk5                  1\n",
       "4           8725750      4rPorjK                  1\n",
       "5           8725750       5KQxVM                  1\n",
       "6           8725750       606XOl                  1\n",
       "7           8725750      6r5Ge3r                  1\n",
       "8           8725750      6rB1NXx                  1\n",
       "9           8725750      6rPGLR4                  1\n",
       "10          8725750       6w8lOR                  1\n",
       "11          8725750      8MP1qRz                  1\n",
       "12          8725750       8r03az                  1\n",
       "13          8725750       8rYAPO                  1\n",
       "14          8725750       8vj3v3                  1\n",
       "15          8725750      96XeV8P                  1\n",
       "16          8725750      96Z5lP5                  1\n",
       "17          8725750      96Zqw15                  1\n",
       "18          8725750      A3Xjaz5                  1\n",
       "19          8725750      BmaOvoE                  1\n",
       "20          8725750      GNXKv2p                  1\n",
       "21          8725750      JBd8Ykp                  1\n",
       "22          8725750      JBxBp55                  1\n",
       "23          8725750      JBxNbaW                  1\n",
       "24          8725750      JBxVqEk                  1\n",
       "25          8725750      JBxzlJp                  1\n",
       "26          8725750      KBdGAXq                  1\n",
       "27          8725750      KBdm6GX                  1\n",
       "28          8725750      KBe6jed                  1\n",
       "29          8725750      KBrpvLQ                  1\n",
       "...             ...          ...                ...\n",
       "4504859  1112470110      zva1wq8                  1\n",
       "4504860  1112470134      PmB8DP0                  1\n",
       "4504861  1112470134       Y2Pa0P                  1\n",
       "4504862  1112470134       aBe3LD                  1\n",
       "4504863  1112470166      0zN1a8v                  1\n",
       "4504864  1112470166      6r5Eq6l                  1\n",
       "4504865  1112470166       6vREvR                  1\n",
       "4504866  1112470166      96Mvppp                  1\n",
       "4504867  1112470166      96zMV95                  1\n",
       "4504868  1112470166      JBrWGAe                  1\n",
       "4504869  1112470166      MVr0K3o                  1\n",
       "4504870  1112470166      Rz6A5Y6                  1\n",
       "4504871  1112470166      ZD2dllb                  1\n",
       "4504872  1112470166      mzbGjKG                  1\n",
       "4504873  1112470166      owPZb0r                  1\n",
       "4504874  1112470172      5mrV9QN                  1\n",
       "4504875  1112470172      MVr0K3o                  1\n",
       "4504876  1112470172      W9A0qJl                  1\n",
       "4504877  1112470230      6r5kLOj                  1\n",
       "4504878  1112470230      96zMV95                  1\n",
       "4504879  1112470230      DrJ6Qk5                  1\n",
       "4504880  1112470230      KBd3elX                  1\n",
       "4504881  1112470230       NDE3pl                  1\n",
       "4504882  1112470230       Y5Qb4r                  1\n",
       "4504883  1112470230      lDXMeqX                  1\n",
       "4504884  1112470244      5mlNzJq                  1\n",
       "4504885  1112470281      JBdN3Rk                  1\n",
       "4504886  1112470281      JBrWGAe                  1\n",
       "4504887  1112470281       YG0o61                  1\n",
       "4504888  1112470281      vV9Mzxo                  1\n",
       "\n",
       "[4504889 rows x 3 columns]>"
      ]
     },
     "execution_count": 17,
     "metadata": {},
     "output_type": "execute_result"
    }
   ],
   "source": [
    "avisosPostulados['cantPostulaciones'] = 1;\n",
    "avisosPostuladosGP = avisosPostulados.groupby(['idaviso','idpostulante']).sum()\n",
    "avisosPostuladosGP = avisosPostuladosGP.reset_index()\n",
    "avisosPostuladosGP.info"
   ]
  },
  {
   "cell_type": "code",
   "execution_count": null,
   "metadata": {},
   "outputs": [],
   "source": []
  },
  {
   "cell_type": "markdown",
   "metadata": {},
   "source": [
    "# Vistas"
   ]
  },
  {
   "cell_type": "markdown",
   "metadata": {},
   "source": [
    "### Trabajo con la vistas, para reducirlas y generar avisos vistos, pero no postulados"
   ]
  },
  {
   "cell_type": "code",
   "execution_count": 18,
   "metadata": {},
   "outputs": [],
   "source": [
    "vistas['timestamp'] = pd.to_datetime(vistas['timestamp'])\n",
    "vistas['dateVista'] = pd.DatetimeIndex(vistas['timestamp']).date"
   ]
  },
  {
   "cell_type": "code",
   "execution_count": 20,
   "metadata": {},
   "outputs": [],
   "source": [
    "vistasGrouped = vistas.groupby(['dateVista','idpostulante','idAviso']).count();\n",
    "vistasGrouped = vistasGrouped.reset_index();"
   ]
  },
  {
   "cell_type": "code",
   "execution_count": 36,
   "metadata": {},
   "outputs": [],
   "source": []
  },
  {
   "cell_type": "code",
   "execution_count": 21,
   "metadata": {},
   "outputs": [
    {
     "data": {
      "text/plain": [
       "<bound method DataFrame.info of           dateVista idpostulante     idAviso  timestamp\n",
       "0        2018-03-22      0z5JW1r  1112417455          1\n",
       "1        2018-03-22      0zB02qr  1112317620          1\n",
       "2        2018-03-22      0zB02qr  1112362627          2\n",
       "3        2018-03-22      0zB02qr  1112384556          6\n",
       "4        2018-03-22      0zB02qr  1112403061          2\n",
       "5        2018-03-22      0zB02qr  1112410278          5\n",
       "6        2018-03-22      0zB02qr  1112417329          2\n",
       "7        2018-03-22      0zB1oA1  1112417467          1\n",
       "8        2018-03-22      0zB2Kp9  1112408821          1\n",
       "9        2018-03-22      0zB2bxr  1112246884          2\n",
       "10       2018-03-22      0zB2bxr  1112352890          2\n",
       "11       2018-03-22      0zB2bxr  1112355747          2\n",
       "12       2018-03-22      0zB2bxr  1112407559          1\n",
       "13       2018-03-22      0zB2bxr  1112409876          2\n",
       "14       2018-03-22      0zB2eMa  1112362057          2\n",
       "15       2018-03-22      0zB2eMa  1112419006          2\n",
       "16       2018-03-22      0zB3laq  1112414580          2\n",
       "17       2018-03-22      0zB4a69  1112417820          2\n",
       "18       2018-03-22      0zB4bv1  1112382474          1\n",
       "19       2018-03-22      0zB4bv1  1112390258          1\n",
       "20       2018-03-22      0zB4bv1  1112416203          1\n",
       "21       2018-03-22      0zB51qd  1112412960          2\n",
       "22       2018-03-22      0zB51qd  1112418025          1\n",
       "23       2018-03-22      0zB6OZr  1111218850          1\n",
       "24       2018-03-22      0zB6OZr  1111822505          3\n",
       "25       2018-03-22      0zB6OZr  1112039522          1\n",
       "26       2018-03-22      0zB6OZr  1112388569          1\n",
       "27       2018-03-22      0zB6OZr  1112396114          1\n",
       "28       2018-03-22      0zB6OZr  1112407256          1\n",
       "29       2018-03-22      0zB8NJ1  1000851124          1\n",
       "...             ...          ...         ...        ...\n",
       "3192052  2018-04-16      zvxqXP5  1112338408          3\n",
       "3192053  2018-04-16      zvxrAzJ  1112467497          2\n",
       "3192054  2018-04-16      zvxrERK  1112443945          2\n",
       "3192055  2018-04-16      zvxrERK  1112451302          5\n",
       "3192056  2018-04-16      zvxrERK  1112455261          3\n",
       "3192057  2018-04-16      zvxrERK  1112463782          2\n",
       "3192058  2018-04-16      zvxrERK  1112464159          4\n",
       "3192059  2018-04-16      zvxrWam  1112429754          2\n",
       "3192060  2018-04-16      zvxrWam  1112442707          1\n",
       "3192061  2018-04-16      zvxrWam  1112455550          1\n",
       "3192062  2018-04-16      zvxv5vE  1112334789          3\n",
       "3192063  2018-04-16      zvxv5vE  1112334806          3\n",
       "3192064  2018-04-16      zvxv5vE  1112411445          3\n",
       "3192065  2018-04-16      zvxvOPm  1112457272          1\n",
       "3192066  2018-04-16      zvxxNE8  1112375200          4\n",
       "3192067  2018-04-16      zvxxNE8  1112421883          2\n",
       "3192068  2018-04-16      zvxxNE8  1112461879          2\n",
       "3192069  2018-04-16      zvxxW65  1111753681          2\n",
       "3192070  2018-04-16      zvxxW65  1112363711          4\n",
       "3192071  2018-04-16      zvxxW65  1112410555          2\n",
       "3192072  2018-04-16      zvxxj2E  1112422710          2\n",
       "3192073  2018-04-16      zvxxj2E  1112428207          2\n",
       "3192074  2018-04-16      zvxxj2E  1112443857          2\n",
       "3192075  2018-04-16      zvxxj2E  1112464131          1\n",
       "3192076  2018-04-16      zvxzVr8  1112462207          1\n",
       "3192077  2018-04-16      zvxzrWm  1112408569          1\n",
       "3192078  2018-04-16      zvxzrWm  1112438823          2\n",
       "3192079  2018-04-16      zvxzrWm  1112455515          2\n",
       "3192080  2018-04-16      zvxzrWm  1112464736          1\n",
       "3192081  2018-04-16      zvxzrWm  1112466801          1\n",
       "\n",
       "[3192082 rows x 4 columns]>"
      ]
     },
     "execution_count": 21,
     "metadata": {},
     "output_type": "execute_result"
    }
   ],
   "source": [
    "vistasGrouped.info"
   ]
  },
  {
   "cell_type": "code",
   "execution_count": null,
   "metadata": {},
   "outputs": [],
   "source": []
  },
  {
   "cell_type": "code",
   "execution_count": 39,
   "metadata": {},
   "outputs": [],
   "source": [
    "#vistasGroupedFinal = vistasGrouped.drop('timeVista',axis=1)"
   ]
  },
  {
   "cell_type": "code",
   "execution_count": 18,
   "metadata": {},
   "outputs": [],
   "source": []
  },
  {
   "cell_type": "code",
   "execution_count": null,
   "metadata": {},
   "outputs": [],
   "source": []
  },
  {
   "cell_type": "code",
   "execution_count": 80,
   "metadata": {},
   "outputs": [],
   "source": []
  },
  {
   "cell_type": "code",
   "execution_count": null,
   "metadata": {},
   "outputs": [],
   "source": []
  },
  {
   "cell_type": "code",
   "execution_count": 121,
   "metadata": {},
   "outputs": [],
   "source": []
  },
  {
   "cell_type": "code",
   "execution_count": null,
   "metadata": {},
   "outputs": [],
   "source": []
  },
  {
   "cell_type": "code",
   "execution_count": null,
   "metadata": {},
   "outputs": [],
   "source": []
  },
  {
   "cell_type": "code",
   "execution_count": 22,
   "metadata": {},
   "outputs": [],
   "source": [
    "vistasGrouped['cantidadVistas'] = vistasGrouped['timestamp'];\n",
    "vistasGrouped.drop('timestamp',axis=1,inplace=True)\n",
    "vistasForMerge = vistasGrouped[['idpostulante','idAviso']]"
   ]
  },
  {
   "cell_type": "code",
   "execution_count": null,
   "metadata": {},
   "outputs": [],
   "source": []
  },
  {
   "cell_type": "markdown",
   "metadata": {},
   "source": [
    "# Generamos archivos con avisos no vistos"
   ]
  },
  {
   "cell_type": "code",
   "execution_count": 472,
   "metadata": {},
   "outputs": [],
   "source": [
    "import datetime as dt\n",
    "\n",
    "def generoNOAvisos(cantParaArmar):\n",
    "    sumaNoPostulados = pd.DataFrame();\n",
    "    for i in range(int(cantParaArmar)):\n",
    "        print(\"--------------------- Iteracion de sample \" + str(i) +\" de \"+ str(cantParaArmar) +\"---------\");\n",
    "        vistasSample = vistasForMerge.sample(frac=0.1);\n",
    "        postulacionesSample = avisosPostuladosGP.sample(frac=0.1);\n",
    "\n",
    "        avisosNoVistos = pd.merge(postulacionesSample,vistasSample,left_on='idaviso',right_on='idAviso',how='right', indicator=True)\n",
    "        avisosNoVistosPosta = avisosNoVistos[avisosNoVistos['_merge'] == 'right_only']\n",
    "        avisosNoVistosFinal = avisosNoVistosPosta.drop(['idpostulante_x','cantPostulaciones','_merge'],axis=1)\n",
    "        avisosNoVistosFinal['idaviso'] = avisosNoVistosFinal['idAviso'];\n",
    "        avisosNoVistosFinal['idpostulante'] = avisosNoVistosFinal['idpostulante_y'];\n",
    "        avisosNoVistosFinal.drop(['idpostulante_y','idAviso'],axis=1,inplace=True);\n",
    "        sumaNoPostulados = pd.concat([sumaNoPostulados,avisosNoVistosFinal])\n",
    "    return sumaNoPostulados;\n",
    "\n",
    "\n",
    "def generoArchivosNOPostulado(cantArchivos,cantInicial,cantIteracionesPorArhivo):\n",
    "    print(\"--- HORA DE INICIO PROCESO TOTAL \"+ str(dt.datetime.now()) + \"-----\");\n",
    "    var hasta = int(cantArchivos) + int(cantInicial);\n",
    "    for i in range(int(cantInicial),hasta):\n",
    "        print(\"---------- Generando archivos \" + str(i) +\" de \"+ str(cantArchivos) +\"-------\");\n",
    "        print(\"---------- HORA DE INICIO \"+ str(dt.datetime.now()) + \"-------\");\n",
    "        sumaTotalNoAvisos = generoNOAvisos(int(cantIteracionesPorArhivo));\n",
    "        sumaTotalNoAvisosSinDuplicados = sumaTotalNoAvisos.drop_duplicates().reset_index()\n",
    "        sumaTotalNoAvisosSinDuplicados['sepostulo'] = 0\n",
    "        sumaTotalNoAvisosSinDuplicados = sumaTotalNoAvisosSinDuplicados[['idpostulante','idaviso','sepostulo']]\n",
    "        sumaTotalNoAvisosSinDuplicados.to_csv('nopostulados/nopostulados-'+str(i)+'.csv');\n",
    "        print(\"---------- HORA DE FIN \"+ str(dt.datetime.now()) + \"--------------------------\");\n",
    "    print(\"--- HORA DE FIN PROCESO TOTAL \"+ str(dt.datetime.now()) + \"-----\");\n",
    "        "
   ]
  },
  {
   "cell_type": "code",
   "execution_count": 1043,
   "metadata": {},
   "outputs": [
    {
     "name": "stdout",
     "output_type": "stream",
     "text": [
      "--- HORA DE INICIO PROCESO TOTAL 2018-06-22 01:34:19.238586-----\n",
      "---------- Generando archivos 15 de 20-------\n",
      "---------- HORA DE INICIO 2018-06-22 01:34:19.238586-------\n",
      "--------------------- Iteracion de sample 0 de 20---------\n",
      "--------------------- Iteracion de sample 1 de 20---------\n",
      "--------------------- Iteracion de sample 2 de 20---------\n",
      "--------------------- Iteracion de sample 3 de 20---------\n",
      "--------------------- Iteracion de sample 4 de 20---------\n",
      "--------------------- Iteracion de sample 5 de 20---------\n",
      "--------------------- Iteracion de sample 6 de 20---------\n",
      "--------------------- Iteracion de sample 7 de 20---------\n",
      "--------------------- Iteracion de sample 8 de 20---------\n",
      "--------------------- Iteracion de sample 9 de 20---------\n",
      "--------------------- Iteracion de sample 10 de 20---------\n",
      "--------------------- Iteracion de sample 11 de 20---------\n",
      "--------------------- Iteracion de sample 12 de 20---------\n",
      "--------------------- Iteracion de sample 13 de 20---------\n",
      "--------------------- Iteracion de sample 14 de 20---------\n",
      "--------------------- Iteracion de sample 15 de 20---------\n",
      "--------------------- Iteracion de sample 16 de 20---------\n",
      "--------------------- Iteracion de sample 17 de 20---------\n",
      "--------------------- Iteracion de sample 18 de 20---------\n",
      "--------------------- Iteracion de sample 19 de 20---------\n",
      "---------- HORA DE FIN 2018-06-22 01:41:14.952764--------------------------\n",
      "---------- Generando archivos 16 de 20-------\n",
      "---------- HORA DE INICIO 2018-06-22 01:41:14.952764-------\n",
      "--------------------- Iteracion de sample 0 de 20---------\n",
      "--------------------- Iteracion de sample 1 de 20---------\n",
      "--------------------- Iteracion de sample 2 de 20---------\n",
      "--------------------- Iteracion de sample 3 de 20---------\n",
      "--------------------- Iteracion de sample 4 de 20---------\n",
      "--------------------- Iteracion de sample 5 de 20---------\n",
      "--------------------- Iteracion de sample 6 de 20---------\n",
      "--------------------- Iteracion de sample 7 de 20---------\n",
      "--------------------- Iteracion de sample 8 de 20---------\n",
      "--------------------- Iteracion de sample 9 de 20---------\n",
      "--------------------- Iteracion de sample 10 de 20---------\n",
      "--------------------- Iteracion de sample 11 de 20---------\n",
      "--------------------- Iteracion de sample 12 de 20---------\n",
      "--------------------- Iteracion de sample 13 de 20---------\n",
      "--------------------- Iteracion de sample 14 de 20---------\n",
      "--------------------- Iteracion de sample 15 de 20---------\n",
      "--------------------- Iteracion de sample 16 de 20---------\n",
      "--------------------- Iteracion de sample 17 de 20---------\n",
      "--------------------- Iteracion de sample 18 de 20---------\n",
      "--------------------- Iteracion de sample 19 de 20---------\n",
      "---------- HORA DE FIN 2018-06-22 01:47:55.127906--------------------------\n",
      "---------- Generando archivos 17 de 20-------\n",
      "---------- HORA DE INICIO 2018-06-22 01:47:55.127906-------\n",
      "--------------------- Iteracion de sample 0 de 20---------\n",
      "--------------------- Iteracion de sample 1 de 20---------\n",
      "--------------------- Iteracion de sample 2 de 20---------\n",
      "--------------------- Iteracion de sample 3 de 20---------\n",
      "--------------------- Iteracion de sample 4 de 20---------\n",
      "--------------------- Iteracion de sample 5 de 20---------\n",
      "--------------------- Iteracion de sample 6 de 20---------\n",
      "--------------------- Iteracion de sample 7 de 20---------\n",
      "--------------------- Iteracion de sample 8 de 20---------\n",
      "--------------------- Iteracion de sample 9 de 20---------\n",
      "--------------------- Iteracion de sample 10 de 20---------\n",
      "--------------------- Iteracion de sample 11 de 20---------\n",
      "--------------------- Iteracion de sample 12 de 20---------\n",
      "--------------------- Iteracion de sample 13 de 20---------\n",
      "--------------------- Iteracion de sample 14 de 20---------\n",
      "--------------------- Iteracion de sample 15 de 20---------\n",
      "--------------------- Iteracion de sample 16 de 20---------\n",
      "--------------------- Iteracion de sample 17 de 20---------\n",
      "--------------------- Iteracion de sample 18 de 20---------\n",
      "--------------------- Iteracion de sample 19 de 20---------\n",
      "---------- HORA DE FIN 2018-06-22 01:54:33.026174--------------------------\n",
      "---------- Generando archivos 18 de 20-------\n",
      "---------- HORA DE INICIO 2018-06-22 01:54:33.027145-------\n",
      "--------------------- Iteracion de sample 0 de 20---------\n",
      "--------------------- Iteracion de sample 1 de 20---------\n",
      "--------------------- Iteracion de sample 2 de 20---------\n",
      "--------------------- Iteracion de sample 3 de 20---------\n",
      "--------------------- Iteracion de sample 4 de 20---------\n",
      "--------------------- Iteracion de sample 5 de 20---------\n",
      "--------------------- Iteracion de sample 6 de 20---------\n",
      "--------------------- Iteracion de sample 7 de 20---------\n",
      "--------------------- Iteracion de sample 8 de 20---------\n",
      "--------------------- Iteracion de sample 9 de 20---------\n",
      "--------------------- Iteracion de sample 10 de 20---------\n",
      "--------------------- Iteracion de sample 11 de 20---------\n",
      "--------------------- Iteracion de sample 12 de 20---------\n",
      "--------------------- Iteracion de sample 13 de 20---------\n",
      "--------------------- Iteracion de sample 14 de 20---------\n",
      "--------------------- Iteracion de sample 15 de 20---------\n",
      "--------------------- Iteracion de sample 16 de 20---------\n",
      "--------------------- Iteracion de sample 17 de 20---------\n",
      "--------------------- Iteracion de sample 18 de 20---------\n",
      "--------------------- Iteracion de sample 19 de 20---------\n",
      "---------- HORA DE FIN 2018-06-22 02:01:13.290564--------------------------\n",
      "---------- Generando archivos 19 de 20-------\n",
      "---------- HORA DE INICIO 2018-06-22 02:01:13.290564-------\n",
      "--------------------- Iteracion de sample 0 de 20---------\n",
      "--------------------- Iteracion de sample 1 de 20---------\n",
      "--------------------- Iteracion de sample 2 de 20---------\n",
      "--------------------- Iteracion de sample 3 de 20---------\n",
      "--------------------- Iteracion de sample 4 de 20---------\n",
      "--------------------- Iteracion de sample 5 de 20---------\n",
      "--------------------- Iteracion de sample 6 de 20---------\n",
      "--------------------- Iteracion de sample 7 de 20---------\n",
      "--------------------- Iteracion de sample 8 de 20---------\n",
      "--------------------- Iteracion de sample 9 de 20---------\n",
      "--------------------- Iteracion de sample 10 de 20---------\n",
      "--------------------- Iteracion de sample 11 de 20---------\n",
      "--------------------- Iteracion de sample 12 de 20---------\n",
      "--------------------- Iteracion de sample 13 de 20---------\n",
      "--------------------- Iteracion de sample 14 de 20---------\n",
      "--------------------- Iteracion de sample 15 de 20---------\n",
      "--------------------- Iteracion de sample 16 de 20---------\n",
      "--------------------- Iteracion de sample 17 de 20---------\n",
      "--------------------- Iteracion de sample 18 de 20---------\n",
      "--------------------- Iteracion de sample 19 de 20---------\n",
      "---------- HORA DE FIN 2018-06-22 02:07:53.014428--------------------------\n",
      "--- HORA DE FIN PROCESO TOTAL 2018-06-22 02:07:53.014428-----\n"
     ]
    }
   ],
   "source": [
    "##Llamamos proceso\n",
    "\n",
    "generoArchivosNOPostulado(20,15,20);"
   ]
  },
  {
   "cell_type": "code",
   "execution_count": null,
   "metadata": {},
   "outputs": [],
   "source": []
  },
  {
   "cell_type": "code",
   "execution_count": 24,
   "metadata": {},
   "outputs": [],
   "source": [
    "avisosNoPostulado = pd.DataFrame();\n",
    "for i in range(0,15):\n",
    "    noPostulado = pd.read_csv('nopostulados/nopostulados-'+str(i)+'.csv')\n",
    "    avisosNoPostulado = pd.concat([noPostulado,avisosNoPostulado]);\n",
    "\n",
    "avisosNoPostulado.drop('Unnamed: 0',axis=1,inplace=True)\n",
    "avisosNoPostulado = avisosNoPostulado.drop_duplicates()"
   ]
  },
  {
   "cell_type": "code",
   "execution_count": 26,
   "metadata": {},
   "outputs": [],
   "source": [
    "nopostulados = avisosNoPostulado[['idpostulante','idaviso','sepostulo']];"
   ]
  },
  {
   "cell_type": "code",
   "execution_count": 27,
   "metadata": {},
   "outputs": [],
   "source": [
    "avisosPostuladosGP['sepostulo'] = 1"
   ]
  },
  {
   "cell_type": "code",
   "execution_count": 28,
   "metadata": {},
   "outputs": [],
   "source": [
    "avisosSample = avisosPostuladosGP.sample(frac=0.1)"
   ]
  },
  {
   "cell_type": "code",
   "execution_count": 29,
   "metadata": {},
   "outputs": [],
   "source": [
    "datosMergeados = pd.concat([nopostulados,avisosSample])"
   ]
  },
  {
   "cell_type": "code",
   "execution_count": 30,
   "metadata": {},
   "outputs": [],
   "source": [
    "datosMergeados = datosMergeados.fillna(0)"
   ]
  },
  {
   "cell_type": "markdown",
   "metadata": {},
   "source": [
    "# Unimos con avisos con sus detalles"
   ]
  },
  {
   "cell_type": "code",
   "execution_count": 31,
   "metadata": {},
   "outputs": [],
   "source": [
    "datosMergeadosConDetalle = pd.merge(datosMergeados,avisosDetalle,how='inner',on='idaviso');\n",
    "datosMergeadosConDetalleFiltered = datosMergeadosConDetalle.drop(['titulo','descripcion','ciudad','mapacalle','nombre_area'],axis=1)"
   ]
  },
  {
   "cell_type": "code",
   "execution_count": 274,
   "metadata": {},
   "outputs": [],
   "source": []
  },
  {
   "cell_type": "code",
   "execution_count": 32,
   "metadata": {},
   "outputs": [],
   "source": [
    "datosOHC = pd.concat([datosMergeadosConDetalleFiltered,pd.get_dummies(datosMergeadosConDetalleFiltered['nombre_zona'], prefix='zona')],axis=1)\n",
    "datosOHC = pd.concat([datosOHC,pd.get_dummies(datosOHC['tipo_de_trabajo'], prefix='tipo')],axis=1)\n",
    "datosOHC = pd.concat([datosOHC,pd.get_dummies(datosOHC['nivel_laboral'], prefix='nivel')],axis=1)\n",
    "\n",
    "datosOHC.drop(['nivel_laboral','tipo_de_trabajo','nombre_zona'],axis=1,inplace=True)"
   ]
  },
  {
   "cell_type": "code",
   "execution_count": null,
   "metadata": {},
   "outputs": [],
   "source": []
  },
  {
   "cell_type": "code",
   "execution_count": 33,
   "metadata": {},
   "outputs": [],
   "source": [
    "datosOHC['denominacion_empresa'].fillna('S/E', inplace=True)\n",
    "datosOHC = pd.merge(datosOHC,cantAvisosPorEmpresa,how='inner',on='denominacion_empresa')\n",
    "datosOHC.drop('denominacion_empresa',axis=1,inplace=True);"
   ]
  },
  {
   "cell_type": "code",
   "execution_count": 34,
   "metadata": {},
   "outputs": [],
   "source": [
    "datosForTraining = datosOHC.drop(['sepostulo','idaviso','idpostulante'],axis=1)"
   ]
  },
  {
   "cell_type": "code",
   "execution_count": 193,
   "metadata": {},
   "outputs": [],
   "source": []
  },
  {
   "cell_type": "markdown",
   "metadata": {},
   "source": [
    "# Probamos algoritmo"
   ]
  },
  {
   "cell_type": "code",
   "execution_count": 38,
   "metadata": {},
   "outputs": [],
   "source": [
    "import pandas\n",
    "from sklearn import model_selection\n",
    "from sklearn.neighbors import KNeighborsClassifier\n",
    "from sklearn.ensemble import RandomForestRegressor\n",
    "from sklearn.ensemble import RandomForestClassifier\n",
    "from sklearn.neighbors import RadiusNeighborsRegressor\n",
    "from sklearn.discriminant_analysis import LinearDiscriminantAnalysis\n",
    "from sklearn.naive_bayes import GaussianNB\n",
    "from sklearn import linear_model\n",
    "from sklearn import svm\n",
    "from sklearn import tree\n",
    "from sklearn import gaussian_process\n",
    "from sklearn import neural_network\n",
    "from sklearn.linear_model import LinearRegression, LogisticRegression\n",
    "\n",
    "\n",
    "\n",
    "#Pre-procesamiento\n",
    "from sklearn import preprocessing\n",
    "from sklearn.pipeline import make_pipeline"
   ]
  },
  {
   "cell_type": "code",
   "execution_count": 39,
   "metadata": {},
   "outputs": [],
   "source": [
    "X_train, X_validation, Y_train, Y_validation = model_selection.train_test_split(datosForTraining, datosOHC['sepostulo'], test_size=0.7, random_state=7)"
   ]
  },
  {
   "cell_type": "code",
   "execution_count": null,
   "metadata": {},
   "outputs": [],
   "source": []
  },
  {
   "cell_type": "code",
   "execution_count": 40,
   "metadata": {},
   "outputs": [
    {
     "name": "stdout",
     "output_type": "stream",
     "text": [
      "RF10: 0.999927 (0.000036)\n",
      "RF20: 0.999960 (0.000013)\n",
      "RF50: 0.999966 (0.000009)\n",
      "RF60: 0.999972 (0.000008)\n",
      "KNN 2: 0.980356 (0.002552)\n",
      "KNN 3: 0.978372 (0.001242)\n",
      "LR: 0.999062 (0.000606)\n",
      "RIDGE.05: 0.999062 (0.000606)\n",
      "LASO.01: 0.999062 (0.000606)\n",
      "LASOLARS.05: -0.000027 (0.000019)\n",
      "BAYESIAN: 0.999062 (0.000606)\n",
      "SVR: 0.999052 (0.000616)\n",
      "DES-TREE: 1.000000 (0.000000)\n",
      "MLP: 1.000000 (0.000000)\n",
      "NB: -0.175106 (0.000010)\n",
      "LR: -0.175106 (0.000010)\n"
     ]
    },
    {
     "name": "stderr",
     "output_type": "stream",
     "text": [
      "C:\\Users\\nicol\\Anaconda3\\lib\\site-packages\\sklearn\\discriminant_analysis.py:388: UserWarning: Variables are collinear.\n",
      "  warnings.warn(\"Variables are collinear.\")\n",
      "C:\\Users\\nicol\\Anaconda3\\lib\\site-packages\\sklearn\\discriminant_analysis.py:388: UserWarning: Variables are collinear.\n",
      "  warnings.warn(\"Variables are collinear.\")\n"
     ]
    },
    {
     "name": "stdout",
     "output_type": "stream",
     "text": [
      "LDA: 1.000000 (0.000000)\n"
     ]
    },
    {
     "name": "stderr",
     "output_type": "stream",
     "text": [
      "C:\\Users\\nicol\\Anaconda3\\lib\\site-packages\\sklearn\\discriminant_analysis.py:388: UserWarning: Variables are collinear.\n",
      "  warnings.warn(\"Variables are collinear.\")\n"
     ]
    }
   ],
   "source": [
    "models = []\n",
    "models.append(('RF10', RandomForestRegressor(n_estimators=10, max_features='sqrt')))\n",
    "models.append(('RF20', RandomForestRegressor(n_estimators=20, max_features='sqrt')))\n",
    "models.append(('RF50',  RandomForestRegressor(n_estimators=50, max_features='sqrt')))\n",
    "models.append(('RF60',  RandomForestRegressor(n_estimators=60, max_features='sqrt')))\n",
    "models.append(('KNN 2', KNeighborsClassifier(n_neighbors=2)))\n",
    "models.append(('KNN 3', KNeighborsClassifier(n_neighbors=3)))\n",
    "models.append(('LR', linear_model.LinearRegression()))\n",
    "models.append(('RIDGE.05', linear_model.Ridge (alpha = .5)))\n",
    "models.append(('LASO.01', linear_model.Ridge (alpha = .1)))\n",
    "models.append(('LASOLARS.05',linear_model.LassoLars (alpha = 0.5)))\n",
    "models.append(('BAYESIAN',linear_model.BayesianRidge()))\n",
    "models.append(('SVR',svm.LinearSVR()))\n",
    "models.append(('DES-TREE',tree.DecisionTreeRegressor()))\n",
    "models.append(('MLP',tree.DecisionTreeRegressor()))\n",
    "models.append(('NB', GaussianNB()))\n",
    "models.append(('LR', LogisticRegression()))\n",
    "models.append(('LDA', LinearDiscriminantAnalysis()))\n",
    " \n",
    "TestModels = pd.DataFrame()\n",
    "tmp = {}\n",
    "\n",
    "results = []\n",
    "names = []\n",
    "for name, model in models:\n",
    "    kfold = model_selection.KFold(n_splits=10, random_state=7)\n",
    "    cv_results = model_selection.cross_val_score(model, X_train, Y_train, scoring='r2')\n",
    "    results.append(cv_results)\n",
    "    names.append(name)\n",
    "    msg = \"%s: %f (%f)\" % (name, cv_results.mean(), cv_results.std())\n",
    "    print(msg)"
   ]
  },
  {
   "cell_type": "code",
   "execution_count": 195,
   "metadata": {},
   "outputs": [
    {
     "name": "stdout",
     "output_type": "stream",
     "text": [
      "RF10: 0.999965 (0.000003)\n",
      "RF20: 0.999986 (0.000006)\n",
      "RF50: 0.999991 (0.000004)\n",
      "RF60: 0.999993 (0.000002)\n",
      "KNN 2: 0.992723 (0.000696)\n",
      "KNN 3: 0.991316 (0.000391)\n",
      "LR: 0.999623 (0.000216)\n",
      "RIDGE.05: 0.999623 (0.000215)\n",
      "LASO.01: 0.999623 (0.000216)\n",
      "LASOLARS.05: -0.000000 (0.000000)\n",
      "BAYESIAN: 0.999623 (0.000216)\n",
      "SVR: 0.999617 (0.000218)\n",
      "DES-TREE: 1.000000 (0.000000)\n",
      "MLP: 1.000000 (0.000000)\n",
      "NB: 0.747843 (0.001135)\n",
      "LR: -0.740777 (0.020453)\n"
     ]
    },
    {
     "name": "stderr",
     "output_type": "stream",
     "text": [
      "C:\\Users\\nicol\\Anaconda3\\lib\\site-packages\\sklearn\\discriminant_analysis.py:388: UserWarning: Variables are collinear.\n",
      "  warnings.warn(\"Variables are collinear.\")\n",
      "C:\\Users\\nicol\\Anaconda3\\lib\\site-packages\\sklearn\\discriminant_analysis.py:388: UserWarning: Variables are collinear.\n",
      "  warnings.warn(\"Variables are collinear.\")\n"
     ]
    },
    {
     "name": "stdout",
     "output_type": "stream",
     "text": [
      "LDA: 1.000000 (0.000000)\n"
     ]
    },
    {
     "name": "stderr",
     "output_type": "stream",
     "text": [
      "C:\\Users\\nicol\\Anaconda3\\lib\\site-packages\\sklearn\\discriminant_analysis.py:388: UserWarning: Variables are collinear.\n",
      "  warnings.warn(\"Variables are collinear.\")\n"
     ]
    }
   ],
   "source": [
    "models = []\n",
    "models.append(('RF10', RandomForestRegressor(n_estimators=10, max_features='sqrt')))\n",
    "models.append(('RF20', RandomForestRegressor(n_estimators=20, max_features='sqrt')))\n",
    "models.append(('RF50',  RandomForestRegressor(n_estimators=50, max_features='sqrt')))\n",
    "models.append(('RF60',  RandomForestRegressor(n_estimators=60, max_features='sqrt')))\n",
    "models.append(('KNN 2', KNeighborsClassifier(n_neighbors=2)))\n",
    "models.append(('KNN 3', KNeighborsClassifier(n_neighbors=3)))\n",
    "models.append(('LR', linear_model.LinearRegression()))\n",
    "models.append(('RIDGE.05', linear_model.Ridge (alpha = .5)))\n",
    "models.append(('LASO.01', linear_model.Ridge (alpha = .1)))\n",
    "models.append(('LASOLARS.05',linear_model.LassoLars (alpha = 0.5)))\n",
    "models.append(('BAYESIAN',linear_model.BayesianRidge()))\n",
    "models.append(('SVR',svm.LinearSVR()))\n",
    "models.append(('DES-TREE',tree.DecisionTreeRegressor()))\n",
    "models.append(('MLP',tree.DecisionTreeRegressor()))\n",
    "models.append(('NB', GaussianNB()))\n",
    "models.append(('LR', LogisticRegression()))\n",
    "models.append(('LDA', LinearDiscriminantAnalysis()))\n",
    " \n",
    "TestModels = pd.DataFrame()\n",
    "tmp = {}\n",
    "\n",
    "results = []\n",
    "names = []\n",
    "for name, model in models:\n",
    "    kfold = model_selection.KFold(n_splits=10, random_state=7)\n",
    "    cv_results = model_selection.cross_val_score(model, X_train, Y_train, scoring='r2')\n",
    "    results.append(cv_results)\n",
    "    names.append(name)\n",
    "    msg = \"%s: %f (%f)\" % (name, cv_results.mean(), cv_results.std())\n",
    "    print(msg)"
   ]
  },
  {
   "cell_type": "markdown",
   "metadata": {},
   "source": [
    "# Training Set"
   ]
  },
  {
   "cell_type": "code",
   "execution_count": 41,
   "metadata": {},
   "outputs": [],
   "source": [
    "testingSet = pd.read_csv('resources/test_final_100k.csv')"
   ]
  },
  {
   "cell_type": "code",
   "execution_count": 200,
   "metadata": {},
   "outputs": [
    {
     "data": {
      "text/plain": [
       "Index(['id', 'idaviso', 'idpostulante'], dtype='object')"
      ]
     },
     "execution_count": 200,
     "metadata": {},
     "output_type": "execute_result"
    }
   ],
   "source": [
    "testingSet.columns"
   ]
  },
  {
   "cell_type": "code",
   "execution_count": 42,
   "metadata": {},
   "outputs": [],
   "source": [
    "testingSet['testSet'] =1;\n",
    "datosMergeados['testSet'] = 0;"
   ]
  },
  {
   "cell_type": "code",
   "execution_count": null,
   "metadata": {},
   "outputs": [],
   "source": []
  },
  {
   "cell_type": "code",
   "execution_count": 43,
   "metadata": {},
   "outputs": [],
   "source": [
    "datosMergeadosConDetalle = pd.merge(datosMergeados,avisosDetalle,how='inner',on='idaviso');\n",
    "testingSetConDetalle = pd.merge(testingSet,avisosDetallesCompletos,how='left',on='idaviso');\n",
    "#\n",
    "#\n",
    "datosConTestSet = pd.concat([datosMergeadosConDetalle,testingSetConDetalle]);\n",
    "datosConTestSetFiltrado = datosConTestSet.drop(['titulo','descripcion','ciudad','mapacalle','nombre_area'],axis=1)"
   ]
  },
  {
   "cell_type": "code",
   "execution_count": null,
   "metadata": {},
   "outputs": [],
   "source": []
  },
  {
   "cell_type": "code",
   "execution_count": 44,
   "metadata": {},
   "outputs": [],
   "source": [
    "datosConTestOHC = pd.concat([datosConTestSetFiltrado,pd.get_dummies(datosConTestSetFiltrado['nombre_zona'], prefix='zona')],axis=1)\n",
    "datosConTestOHC = pd.concat([datosConTestOHC,pd.get_dummies(datosConTestOHC['tipo_de_trabajo'], prefix='tipo')],axis=1)\n",
    "datosConTestOHC = pd.concat([datosConTestOHC,pd.get_dummies(datosConTestOHC['nivel_laboral'], prefix='nivel')],axis=1)\n",
    "\n",
    "datosConTestOHC.drop(['nivel_laboral','tipo_de_trabajo','nombre_zona'],axis=1,inplace=True)"
   ]
  },
  {
   "cell_type": "code",
   "execution_count": 45,
   "metadata": {},
   "outputs": [],
   "source": [
    "datosConTestOHC['denominacion_empresa'].fillna('S/E', inplace=True)\n",
    "datosConTestOHC = pd.merge(datosConTestOHC,cantAvisosPorEmpresa,how='left',on='denominacion_empresa')\n",
    "datosConTestOHC.drop('denominacion_empresa',axis=1,inplace=True);"
   ]
  },
  {
   "cell_type": "code",
   "execution_count": 46,
   "metadata": {},
   "outputs": [],
   "source": [
    "datosForTraining = datosConTestOHC[datosConTestOHC['testSet'] == 0]\n",
    "datosForTest = datosConTestOHC[datosConTestOHC['testSet'] == 1]"
   ]
  },
  {
   "cell_type": "code",
   "execution_count": null,
   "metadata": {},
   "outputs": [],
   "source": []
  },
  {
   "cell_type": "code",
   "execution_count": null,
   "metadata": {},
   "outputs": [],
   "source": []
  },
  {
   "cell_type": "code",
   "execution_count": 47,
   "metadata": {},
   "outputs": [],
   "source": [
    "datosForTrainingSinPostu = datosForTraining.drop(['idpais','sepostulo','idaviso','idpostulante','id','cantPostulaciones','testSet'],axis=1)"
   ]
  },
  {
   "cell_type": "code",
   "execution_count": 48,
   "metadata": {},
   "outputs": [],
   "source": [
    "datosForTestFinal = datosForTest.drop(['idpais','sepostulo','idaviso','idpostulante','id','cantPostulaciones','testSet'],axis=1)"
   ]
  },
  {
   "cell_type": "code",
   "execution_count": 332,
   "metadata": {},
   "outputs": [],
   "source": []
  },
  {
   "cell_type": "code",
   "execution_count": null,
   "metadata": {},
   "outputs": [],
   "source": []
  },
  {
   "cell_type": "code",
   "execution_count": null,
   "metadata": {},
   "outputs": [],
   "source": []
  },
  {
   "cell_type": "code",
   "execution_count": 350,
   "metadata": {},
   "outputs": [],
   "source": [
    "from sklearn.preprocessing import Imputer\n",
    "imp = Imputer(missing_values='NaN', strategy='most_frequent', axis=0)\n",
    "datosForTrainingSinPostuSinNulos = imp.fit_transform(datosForTrainingSinPostu)\n",
    "datosForTestFinalSinNulos = imp.fit_transform(datosForTestFinal)"
   ]
  },
  {
   "cell_type": "code",
   "execution_count": 353,
   "metadata": {},
   "outputs": [],
   "source": [
    "X_train, X_validation, Y_train, Y_validation = model_selection.train_test_split(datosForTrainingSinPostuSinNulos, datosForTraining['sepostulo'], test_size=0.7, random_state=7)"
   ]
  },
  {
   "cell_type": "code",
   "execution_count": 357,
   "metadata": {},
   "outputs": [
    {
     "name": "stderr",
     "output_type": "stream",
     "text": [
      "C:\\Users\\nicol\\Anaconda3\\lib\\site-packages\\sklearn\\discriminant_analysis.py:388: UserWarning: Variables are collinear.\n",
      "  warnings.warn(\"Variables are collinear.\")\n"
     ]
    }
   ],
   "source": [
    "models = []\n",
    "models.append(('RF10', RandomForestRegressor(n_estimators=10, max_features='sqrt')))\n",
    "models.append(('RF20', RandomForestRegressor(n_estimators=20, max_features='sqrt')))\n",
    "models.append(('RF50',  RandomForestRegressor(n_estimators=50, max_features='sqrt')))\n",
    "models.append(('RF60',  RandomForestRegressor(n_estimators=60, max_features='sqrt')))\n",
    "models.append(('RF100',  RandomForestRegressor(n_estimators=100, max_features='sqrt')))\n",
    "models.append(('KNN 2', KNeighborsClassifier(n_neighbors=2)))\n",
    "models.append(('KNN 3', KNeighborsClassifier(n_neighbors=3)))\n",
    "models.append(('LR', linear_model.LinearRegression()))\n",
    "models.append(('RIDGE.05', linear_model.Ridge (alpha = .5)))\n",
    "models.append(('LASO.01', linear_model.Ridge (alpha = .1)))\n",
    "#models.append(('LASOLARS.05',linear_model.LassoLars (alpha = 0.5)))\n",
    "models.append(('BAYESIAN',linear_model.BayesianRidge()))\n",
    "models.append(('SVR',svm.LinearSVR()))\n",
    "models.append(('DES-TREE',tree.DecisionTreeRegressor()))\n",
    "models.append(('MLP',tree.DecisionTreeRegressor()))\n",
    "models.append(('NB', GaussianNB()))\n",
    "#models.append(('LR', LogisticRegression()))\n",
    "models.append(('LDA', LinearDiscriminantAnalysis()))\n",
    "\n",
    "\n",
    "\n",
    "for name, model in models:\n",
    "    m = model.fit(X_train, Y_train)\n",
    "    pruebas = m.predict(datosForTestFinalSinNulos)\n",
    "    archivo = pd.DataFrame()\n",
    "    archivo['id'] = testingSet.loc[:,['id']]\n",
    "    archivo['sepostulo'] = np.around(pruebas, decimals=0)\n",
    "    archivo.to_csv('entregas/'+'prueba5-'+ name +'.csv', index=False)"
   ]
  },
  {
   "cell_type": "markdown",
   "metadata": {},
   "source": [
    "# Agregamos genero y Estudios"
   ]
  },
  {
   "cell_type": "code",
   "execution_count": 50,
   "metadata": {},
   "outputs": [],
   "source": [
    "#Cargamos datasets\n",
    "\n",
    "postulantesEducacion = pd.read_csv('resources/tar/fiuba_1_postulantes_educacion.csv')\n",
    "postulantesGenero = pd.read_csv('resources/tar/fiuba_2_postulantes_genero_y_edad.csv')\n",
    "\n",
    "postulantesEducacionZip = pd.read_csv('resources/zip/fiuba_1_postulantes_educacion.csv')\n",
    "postulantesGeneroZip = pd.read_csv('resources/zip/fiuba_2_postulantes_genero_y_edad.csv')"
   ]
  },
  {
   "cell_type": "code",
   "execution_count": 51,
   "metadata": {},
   "outputs": [],
   "source": [
    "educacionTodas = pd.concat([postulantesEducacion,postulantesEducacionZip])\n",
    "generoTodas = pd.concat([postulantesGenero,postulantesGeneroZip])"
   ]
  },
  {
   "cell_type": "code",
   "execution_count": 52,
   "metadata": {},
   "outputs": [],
   "source": [
    "import datetime as dt\n",
    "\n",
    "generoTodas['fechanacimiento'] = pd.to_datetime(generoTodas['fechanacimiento'], format='%Y-%m-%d', errors='coerce')\n",
    "generoTodas = generoTodas.dropna(subset=['fechanacimiento'])\n",
    "\n",
    "hoy = pd.Timestamp(dt.datetime.now())\n",
    "generoTodas['edad'] = (hoy - generoTodas['fechanacimiento']).astype('<m8[Y]')\n"
   ]
  },
  {
   "cell_type": "code",
   "execution_count": 53,
   "metadata": {},
   "outputs": [],
   "source": [
    "generoTodasFiltered = generoTodas.loc[((generoTodas['edad'] >= 17) & (generoTodas['edad'] < 80 )), :]"
   ]
  },
  {
   "cell_type": "code",
   "execution_count": 54,
   "metadata": {},
   "outputs": [],
   "source": [
    "postulantesGeneroOHC = pd.concat([generoTodasFiltered,pd.get_dummies(generoTodasFiltered['sexo'], prefix='sexo')],axis=1)\n",
    "postulantesGeneroOHC = postulantesGeneroOHC[postulantesGeneroOHC['sexo_0.0'] == 0]\n",
    "postulantesGeneroOHC = postulantesGeneroOHC[['idpostulante','sexo_FEM','sexo_MASC','sexo_NO_DECLARA','edad']]\n",
    "\n",
    "postulantesGeneroOHC.drop_duplicates(subset='idpostulante',inplace=True)"
   ]
  },
  {
   "cell_type": "markdown",
   "metadata": {},
   "source": [
    "# CAMBIAR FORMA DE TRABAJAR LA EDUCACION"
   ]
  },
  {
   "cell_type": "code",
   "execution_count": 401,
   "metadata": {},
   "outputs": [],
   "source": [
    "postulantesEducacionOHC = pd.concat([educacionTodas,pd.get_dummies(educacionTodas['estado'], prefix='estado')],axis=1)\n",
    "postulantesEducacionOHC = pd.concat([postulantesEducacionOHC,pd.get_dummies(postulantesEducacionOHC['nombre'], prefix='nombre')],axis=1)\n",
    "\n",
    "postulantesEducacionOHC.drop(['nombre'],axis=1, inplace=True)\n",
    "postulantesEducacionOHC.drop(['estado'],axis=1, inplace=True)"
   ]
  },
  {
   "cell_type": "code",
   "execution_count": 440,
   "metadata": {},
   "outputs": [],
   "source": [
    "postulantesEducacionOHCGP = postulantesEducacionOHC.groupby('idpostulante').sum()\n",
    "postulantesEducacionOHCGP = postulantesEducacionOHCGP.reset_index()"
   ]
  },
  {
   "cell_type": "code",
   "execution_count": 445,
   "metadata": {},
   "outputs": [],
   "source": []
  },
  {
   "cell_type": "code",
   "execution_count": 454,
   "metadata": {},
   "outputs": [],
   "source": [
    "##CARGO LOS ELEMENTOS DEL TEST ANTERIOR\n",
    "#datosForTraining\n",
    "#datosForTest\n",
    "\n",
    "datosForTraining = datosConTestOHC[datosConTestOHC['testSet'] == 0]\n",
    "datosForTest = datosConTestOHC[datosConTestOHC['testSet'] == 1]"
   ]
  },
  {
   "cell_type": "code",
   "execution_count": null,
   "metadata": {},
   "outputs": [],
   "source": [
    "\n"
   ]
  },
  {
   "cell_type": "code",
   "execution_count": 455,
   "metadata": {},
   "outputs": [],
   "source": [
    "datosForTrainingConEducacion = pd.merge(datosForTraining,postulantesEducacionOHCGP,on='idpostulante',how='inner')\n",
    "datosForTrainingConTodo = pd.merge(datosForTrainingConEducacion,postulantesGeneroOHC,on='idpostulante',how='inner')"
   ]
  },
  {
   "cell_type": "code",
   "execution_count": 452,
   "metadata": {},
   "outputs": [],
   "source": []
  },
  {
   "cell_type": "code",
   "execution_count": null,
   "metadata": {},
   "outputs": [],
   "source": []
  },
  {
   "cell_type": "code",
   "execution_count": 456,
   "metadata": {},
   "outputs": [],
   "source": [
    "datosForTestConEducacion = pd.merge(datosForTest,postulantesEducacionOHCGP,on='idpostulante',how='left')\n",
    "datosForTestConTodo = pd.merge(datosForTestConEducacion,postulantesGeneroOHC,on='idpostulante',how='left')"
   ]
  },
  {
   "cell_type": "code",
   "execution_count": 457,
   "metadata": {},
   "outputs": [
    {
     "data": {
      "text/plain": [
       "<bound method DataFrame.info of        cantPostulaciones       id     idaviso  idpais idpostulante  sepostulo  \\\n",
       "0                    NaN      0.0      739260     1.0       6M9ZQR        NaN   \n",
       "1                    NaN      1.0      739260     1.0       6v1xdL        NaN   \n",
       "2                    NaN      2.0      739260     1.0       ezRKm9        NaN   \n",
       "3                    NaN      3.0      758580     1.0       1Q35ej        NaN   \n",
       "4                    NaN      4.0      758580     1.0       EAN4J6        NaN   \n",
       "5                    NaN      5.0      758580     1.0       8R6pzR        NaN   \n",
       "6                    NaN      6.0      776420     1.0       aZJ2XN        NaN   \n",
       "7                    NaN      7.0      776420     1.0       Nmpo3J        NaN   \n",
       "8                    NaN      8.0      776420     1.0       eVqWar        NaN   \n",
       "9                    NaN      9.0      820850     1.0       6ZBD33        NaN   \n",
       "10                   NaN     10.0      820850     1.0       1j4RNj        NaN   \n",
       "11                   NaN     11.0      820850     1.0        ZOwE8        NaN   \n",
       "12                   NaN     12.0      820850     1.0       NG4BaD        NaN   \n",
       "13                   NaN     13.0      914880     1.0       6q6eNl        NaN   \n",
       "14                   NaN     14.0      914880     1.0       8E8pWj        NaN   \n",
       "15                   NaN     15.0      914880     1.0       eVqbDr        NaN   \n",
       "16                   NaN     16.0     1112360     1.0       6kRZ44        NaN   \n",
       "17                   NaN     17.0     1112360     1.0       8XGB3D        NaN   \n",
       "18                   NaN     18.0     1112360     1.0       5qVB9X        NaN   \n",
       "19                   NaN     19.0     1112360     1.0       Z6zxXZ        NaN   \n",
       "20                   NaN     20.0     1141070     1.0       edaNB4        NaN   \n",
       "21                   NaN     21.0     1141070     1.0       EZ9pe6        NaN   \n",
       "22                   NaN     22.0     1141070     1.0       aXa55D        NaN   \n",
       "23                   NaN     23.0     1144960     1.0       NEJjvL        NaN   \n",
       "24                   NaN     24.0     1144960     1.0       6Q32Vj        NaN   \n",
       "25                   NaN     25.0     1144960     1.0       NWxrWL        NaN   \n",
       "26                   NaN     26.0     1145170     1.0       Y9d5Bw        NaN   \n",
       "27                   NaN     27.0     1145170     1.0       edaoDp        NaN   \n",
       "28                   NaN     28.0     1145170     1.0       Z8pvLz        NaN   \n",
       "29                   NaN     29.0     1176260     1.0       ZvQJ2z        NaN   \n",
       "...                  ...      ...         ...     ...          ...        ...   \n",
       "99970                NaN  99970.0  1112515048     1.0       EbooLJ        NaN   \n",
       "99971                NaN  99971.0  1112515048     1.0       Zv1eoY        NaN   \n",
       "99972                NaN  99972.0  1112515048     1.0       YqJLDw        NaN   \n",
       "99973                NaN  99973.0  1112515056     1.0       8RODvz        NaN   \n",
       "99974                NaN  99974.0  1112515056     1.0       50p1Zp        NaN   \n",
       "99975                NaN  99975.0  1112515056     1.0       aZJQP9        NaN   \n",
       "99976                NaN  99976.0  1112515069     1.0       eZ8294        NaN   \n",
       "99977                NaN  99977.0  1112515069     1.0       NROBQ4        NaN   \n",
       "99978                NaN  99978.0  1112515069     1.0       a8YdG9        NaN   \n",
       "99979                NaN  99979.0  1112515080     1.0       8EQpWl        NaN   \n",
       "99980                NaN  99980.0  1112515080     1.0       ZREM3E        NaN   \n",
       "99981                NaN  99981.0  1112515080     1.0       NDaAYJ        NaN   \n",
       "99982                NaN  99982.0  1112515081     1.0       EwKNO6        NaN   \n",
       "99983                NaN  99983.0  1112515081     1.0       aZJWvq        NaN   \n",
       "99984                NaN  99984.0  1112515081     1.0       8R4ZBz        NaN   \n",
       "99985                NaN  99985.0  1112515099     1.0       eprYVE        NaN   \n",
       "99986                NaN  99986.0  1112515099     1.0       8E8lLW        NaN   \n",
       "99987                NaN  99987.0  1112515099     1.0       Z0A84P        NaN   \n",
       "99988                NaN  99988.0  1112515103     1.0       Y6xQ4q        NaN   \n",
       "99989                NaN  99989.0  1112515103     1.0       NRO8wz        NaN   \n",
       "99990                NaN  99990.0  1112515103     1.0       ZvQaaY        NaN   \n",
       "99991                NaN  99991.0  1112515105     1.0       ZREdK1        NaN   \n",
       "99992                NaN  99992.0  1112515105     1.0       NmpeRJ        NaN   \n",
       "99993                NaN  99993.0  1112515105     1.0       5RVLZv        NaN   \n",
       "99994                NaN  99994.0  1112515111     1.0       YqJDoD        NaN   \n",
       "99995                NaN  99995.0  1112515111     1.0       5RVZBp        NaN   \n",
       "99996                NaN  99996.0  1112515111     1.0       ZvQXN1        NaN   \n",
       "99997                NaN  99997.0  1112515116     1.0       NmpwAB        NaN   \n",
       "99998                NaN  99998.0  1112515116     1.0       aZJMqJ        NaN   \n",
       "99999                NaN  99999.0  1112515116     1.0       8R48Ex        NaN   \n",
       "\n",
       "       testSet  zona_Buenos Aires (fuera de GBA)  zona_Capital Federal  \\\n",
       "0            1                                 0                     1   \n",
       "1            1                                 0                     1   \n",
       "2            1                                 0                     1   \n",
       "3            1                                 0                     1   \n",
       "4            1                                 0                     1   \n",
       "5            1                                 0                     1   \n",
       "6            1                                 0                     1   \n",
       "7            1                                 0                     1   \n",
       "8            1                                 0                     1   \n",
       "9            1                                 1                     0   \n",
       "10           1                                 1                     0   \n",
       "11           1                                 1                     0   \n",
       "12           1                                 1                     0   \n",
       "13           1                                 0                     1   \n",
       "14           1                                 0                     1   \n",
       "15           1                                 0                     1   \n",
       "16           1                                 0                     1   \n",
       "17           1                                 0                     1   \n",
       "18           1                                 0                     1   \n",
       "19           1                                 0                     1   \n",
       "20           1                                 1                     0   \n",
       "21           1                                 1                     0   \n",
       "22           1                                 1                     0   \n",
       "23           1                                 1                     0   \n",
       "24           1                                 1                     0   \n",
       "25           1                                 1                     0   \n",
       "26           1                                 0                     1   \n",
       "27           1                                 0                     1   \n",
       "28           1                                 0                     1   \n",
       "29           1                                 0                     1   \n",
       "...        ...                               ...                   ...   \n",
       "99970        1                                 0                     0   \n",
       "99971        1                                 0                     0   \n",
       "99972        1                                 0                     0   \n",
       "99973        1                                 0                     0   \n",
       "99974        1                                 0                     0   \n",
       "99975        1                                 0                     0   \n",
       "99976        1                                 0                     0   \n",
       "99977        1                                 0                     0   \n",
       "99978        1                                 0                     0   \n",
       "99979        1                                 0                     1   \n",
       "99980        1                                 0                     1   \n",
       "99981        1                                 0                     1   \n",
       "99982        1                                 0                     0   \n",
       "99983        1                                 0                     0   \n",
       "99984        1                                 0                     0   \n",
       "99985        1                                 0                     0   \n",
       "99986        1                                 0                     0   \n",
       "99987        1                                 0                     0   \n",
       "99988        1                                 0                     0   \n",
       "99989        1                                 0                     0   \n",
       "99990        1                                 0                     0   \n",
       "99991        1                                 0                     0   \n",
       "99992        1                                 0                     0   \n",
       "99993        1                                 0                     0   \n",
       "99994        1                                 0                     0   \n",
       "99995        1                                 0                     0   \n",
       "99996        1                                 0                     0   \n",
       "99997        1                                 0                     0   \n",
       "99998        1                                 0                     0   \n",
       "99999        1                                 0                     0   \n",
       "\n",
       "       zona_Catamarca  ...   nombre_Otro  nombre_Posgrado  nombre_Secundario  \\\n",
       "0                   0  ...           0.0              0.0                0.0   \n",
       "1                   0  ...           2.0              0.0                0.0   \n",
       "2                   0  ...           0.0              0.0                0.0   \n",
       "3                   0  ...           0.0              1.0                0.0   \n",
       "4                   0  ...           0.0              0.0                0.0   \n",
       "5                   0  ...           0.0              0.0                2.0   \n",
       "6                   0  ...           0.0              0.0                0.0   \n",
       "7                   0  ...           0.0              0.0                0.0   \n",
       "8                   0  ...           0.0              0.0                0.0   \n",
       "9                   0  ...           0.0              2.0                0.0   \n",
       "10                  0  ...           0.0              0.0                1.0   \n",
       "11                  0  ...           0.0              2.0                0.0   \n",
       "12                  0  ...           0.0              0.0                2.0   \n",
       "13                  0  ...           0.0              0.0                0.0   \n",
       "14                  0  ...           0.0              0.0                0.0   \n",
       "15                  0  ...           0.0              0.0                0.0   \n",
       "16                  0  ...           0.0              0.0                0.0   \n",
       "17                  0  ...           0.0              0.0                0.0   \n",
       "18                  0  ...           0.0              0.0                0.0   \n",
       "19                  0  ...           0.0              0.0                2.0   \n",
       "20                  0  ...           0.0              0.0                0.0   \n",
       "21                  0  ...           0.0              0.0                0.0   \n",
       "22                  0  ...           0.0              0.0                1.0   \n",
       "23                  0  ...           0.0              0.0                0.0   \n",
       "24                  0  ...           0.0              0.0                0.0   \n",
       "25                  0  ...           0.0              0.0                0.0   \n",
       "26                  0  ...           NaN              NaN                NaN   \n",
       "27                  0  ...           0.0              4.0                0.0   \n",
       "28                  0  ...           0.0              0.0                0.0   \n",
       "29                  0  ...           0.0              0.0                0.0   \n",
       "...               ...  ...           ...              ...                ...   \n",
       "99970               0  ...           0.0              0.0                0.0   \n",
       "99971               0  ...           0.0              1.0                0.0   \n",
       "99972               0  ...           1.0              0.0                1.0   \n",
       "99973               0  ...           0.0              1.0                0.0   \n",
       "99974               0  ...           0.0              2.0                0.0   \n",
       "99975               0  ...           0.0              2.0                0.0   \n",
       "99976               0  ...           0.0              0.0                0.0   \n",
       "99977               0  ...           0.0              0.0                0.0   \n",
       "99978               0  ...           NaN              NaN                NaN   \n",
       "99979               0  ...           0.0              0.0                0.0   \n",
       "99980               0  ...           0.0              0.0                1.0   \n",
       "99981               0  ...           0.0              0.0                0.0   \n",
       "99982               0  ...           0.0              0.0                0.0   \n",
       "99983               0  ...           0.0              0.0                0.0   \n",
       "99984               0  ...           0.0              0.0                0.0   \n",
       "99985               0  ...           0.0              0.0                0.0   \n",
       "99986               0  ...           0.0              0.0                1.0   \n",
       "99987               0  ...           0.0              0.0                0.0   \n",
       "99988               0  ...           0.0              0.0                2.0   \n",
       "99989               0  ...           0.0              0.0                1.0   \n",
       "99990               0  ...           0.0              1.0                0.0   \n",
       "99991               0  ...           0.0              0.0                1.0   \n",
       "99992               0  ...           0.0              0.0                0.0   \n",
       "99993               0  ...           0.0              0.0                2.0   \n",
       "99994               0  ...           0.0              0.0                0.0   \n",
       "99995               0  ...           0.0              0.0                2.0   \n",
       "99996               0  ...           0.0              0.0                0.0   \n",
       "99997               0  ...           0.0              0.0                1.0   \n",
       "99998               0  ...           0.0              0.0                0.0   \n",
       "99999               0  ...           0.0              0.0                1.0   \n",
       "\n",
       "       nombre_Terciario/Técnico  nombre_Universitario  fechanacimiento  \\\n",
       "0                           0.0                   2.0       1976-03-29   \n",
       "1                           1.0                   0.0       1987-06-27   \n",
       "2                           0.0                   2.0       1982-02-17   \n",
       "3                           0.0                   1.0       1949-12-24   \n",
       "4                           1.0                   2.0       1986-05-27   \n",
       "5                           0.0                   2.0       1990-05-29   \n",
       "6                           0.0                   2.0       1989-01-23   \n",
       "7                           4.0                   0.0       1964-02-13   \n",
       "8                           0.0                   1.0       1990-04-09   \n",
       "9                           0.0                   2.0       1980-09-18   \n",
       "10                          0.0                   0.0       1987-04-12   \n",
       "11                          0.0                   2.0       1979-10-22   \n",
       "12                          0.0                   0.0       1990-03-18   \n",
       "13                          4.0                   0.0       1972-12-12   \n",
       "14                          1.0                   0.0       1981-01-20   \n",
       "15                          0.0                   2.0       1983-03-25   \n",
       "16                          0.0                   1.0       1976-03-18   \n",
       "17                          0.0                   2.0       1986-11-01   \n",
       "18                          0.0                   2.0       1977-08-29   \n",
       "19                          0.0                   0.0       1980-05-16   \n",
       "20                          2.0                   0.0       1984-06-29   \n",
       "21                          0.0                   2.0       1983-02-03   \n",
       "22                          0.0                   0.0       1984-05-02   \n",
       "23                          0.0                   1.0       1986-03-17   \n",
       "24                          0.0                   1.0       1980-07-04   \n",
       "25                          0.0                   2.0       1965-04-01   \n",
       "26                          NaN                   NaN       1987-03-04   \n",
       "27                          0.0                   2.0       1975-10-24   \n",
       "28                          0.0                   4.0       1971-05-12   \n",
       "29                          0.0                   1.0       1978-05-04   \n",
       "...                         ...                   ...              ...   \n",
       "99970                       0.0                   1.0       1986-07-19   \n",
       "99971                       0.0                   1.0       1970-12-25   \n",
       "99972                       0.0                   1.0       1983-01-07   \n",
       "99973                       1.0                   1.0       1990-01-18   \n",
       "99974                       0.0                   2.0       1976-04-22   \n",
       "99975                       0.0                   2.0       1984-10-27   \n",
       "99976                       1.0                   0.0       1985-02-02   \n",
       "99977                       0.0                   1.0       1986-05-13   \n",
       "99978                       NaN                   NaN       1956-07-06   \n",
       "99979                       0.0                   1.0       1980-05-20   \n",
       "99980                       1.0                   0.0       1980-12-11   \n",
       "99981                       0.0                   1.0       1989-05-16   \n",
       "99982                       0.0                   2.0       1977-05-23   \n",
       "99983                       0.0                   4.0       1988-05-01   \n",
       "99984                       2.0                   2.0       1983-03-03   \n",
       "99985                       0.0                   2.0       1987-08-24   \n",
       "99986                       0.0                   4.0       1984-11-04   \n",
       "99987                       2.0                   0.0       1984-06-28   \n",
       "99988                       0.0                   0.0              NaT   \n",
       "99989                       0.0                   0.0       1987-11-19   \n",
       "99990                       0.0                   1.0       1981-11-13   \n",
       "99991                       0.0                   1.0       1986-11-02   \n",
       "99992                       0.0                   1.0       1971-03-25   \n",
       "99993                       0.0                   0.0       1986-04-14   \n",
       "99994                       2.0                   2.0       1976-09-25   \n",
       "99995                       0.0                   2.0       1978-08-30   \n",
       "99996                       0.0                   1.0       1979-12-26   \n",
       "99997                       1.0                   1.0       1977-07-22   \n",
       "99998                       2.0                   2.0       1986-08-12   \n",
       "99999                       0.0                   0.0       1973-10-12   \n",
       "\n",
       "       sexo_FEM  sexo_MASC  sexo_NO_DECLARA  edad  \n",
       "0           1.0        0.0              0.0  42.0  \n",
       "1           0.0        1.0              0.0  30.0  \n",
       "2           1.0        0.0              0.0  36.0  \n",
       "3           0.0        1.0              0.0  68.0  \n",
       "4           1.0        0.0              0.0  32.0  \n",
       "5           0.0        1.0              0.0  28.0  \n",
       "6           0.0        1.0              0.0  29.0  \n",
       "7           0.0        1.0              0.0  54.0  \n",
       "8           1.0        0.0              0.0  28.0  \n",
       "9           0.0        1.0              0.0  37.0  \n",
       "10          1.0        0.0              0.0  31.0  \n",
       "11          1.0        0.0              0.0  38.0  \n",
       "12          1.0        0.0              0.0  28.0  \n",
       "13          0.0        1.0              0.0  45.0  \n",
       "14          1.0        0.0              0.0  37.0  \n",
       "15          1.0        0.0              0.0  35.0  \n",
       "16          1.0        0.0              0.0  42.0  \n",
       "17          1.0        0.0              0.0  31.0  \n",
       "18          1.0        0.0              0.0  40.0  \n",
       "19          1.0        0.0              0.0  38.0  \n",
       "20          1.0        0.0              0.0  33.0  \n",
       "21          1.0        0.0              0.0  35.0  \n",
       "22          0.0        1.0              0.0  34.0  \n",
       "23          0.0        1.0              0.0  32.0  \n",
       "24          0.0        1.0              0.0  37.0  \n",
       "25          0.0        1.0              0.0  53.0  \n",
       "26          0.0        1.0              0.0  31.0  \n",
       "27          1.0        0.0              0.0  42.0  \n",
       "28          0.0        1.0              0.0  47.0  \n",
       "29          1.0        0.0              0.0  40.0  \n",
       "...         ...        ...              ...   ...  \n",
       "99970       1.0        0.0              0.0  31.0  \n",
       "99971       1.0        0.0              0.0  47.0  \n",
       "99972       0.0        1.0              0.0  35.0  \n",
       "99973       1.0        0.0              0.0  28.0  \n",
       "99974       1.0        0.0              0.0  42.0  \n",
       "99975       1.0        0.0              0.0  33.0  \n",
       "99976       1.0        0.0              0.0  33.0  \n",
       "99977       1.0        0.0              0.0  32.0  \n",
       "99978       0.0        1.0              0.0  61.0  \n",
       "99979       1.0        0.0              0.0  38.0  \n",
       "99980       1.0        0.0              0.0  37.0  \n",
       "99981       1.0        0.0              0.0  29.0  \n",
       "99982       0.0        1.0              0.0  41.0  \n",
       "99983       1.0        0.0              0.0  30.0  \n",
       "99984       1.0        0.0              0.0  35.0  \n",
       "99985       1.0        0.0              0.0  30.0  \n",
       "99986       1.0        0.0              0.0  33.0  \n",
       "99987       0.0        1.0              0.0  33.0  \n",
       "99988       NaN        NaN              NaN   NaN  \n",
       "99989       1.0        0.0              0.0  30.0  \n",
       "99990       1.0        0.0              0.0  36.0  \n",
       "99991       1.0        0.0              0.0  31.0  \n",
       "99992       1.0        0.0              0.0  47.0  \n",
       "99993       1.0        0.0              0.0  32.0  \n",
       "99994       1.0        0.0              0.0  41.0  \n",
       "99995       0.0        1.0              0.0  39.0  \n",
       "99996       1.0        0.0              0.0  38.0  \n",
       "99997       1.0        0.0              0.0  40.0  \n",
       "99998       1.0        0.0              0.0  31.0  \n",
       "99999       0.0        1.0              0.0  44.0  \n",
       "\n",
       "[100000 rows x 53 columns]>"
      ]
     },
     "execution_count": 457,
     "metadata": {},
     "output_type": "execute_result"
    }
   ],
   "source": [
    "datosForTestConTodo.info"
   ]
  },
  {
   "cell_type": "code",
   "execution_count": 458,
   "metadata": {},
   "outputs": [],
   "source": [
    "datosForTrainingSinPostu = datosForTrainingConTodo.drop(['idpais','sepostulo','idaviso','idpostulante','id','cantPostulaciones','testSet'],axis=1)"
   ]
  },
  {
   "cell_type": "code",
   "execution_count": 459,
   "metadata": {},
   "outputs": [],
   "source": [
    "datosForTestConTodoFiltrado = datosForTestConTodo.drop(['idpais','sepostulo','idaviso','idpostulante','id','cantPostulaciones','testSet'],axis=1)"
   ]
  },
  {
   "cell_type": "code",
   "execution_count": 460,
   "metadata": {},
   "outputs": [
    {
     "data": {
      "text/plain": [
       "46"
      ]
     },
     "execution_count": 460,
     "metadata": {},
     "output_type": "execute_result"
    }
   ],
   "source": [
    "datosForTestConTodoFiltrado.columns.size"
   ]
  },
  {
   "cell_type": "code",
   "execution_count": 461,
   "metadata": {},
   "outputs": [
    {
     "data": {
      "text/plain": [
       "46"
      ]
     },
     "execution_count": 461,
     "metadata": {},
     "output_type": "execute_result"
    }
   ],
   "source": [
    "datosForTrainingSinPostu.columns.size"
   ]
  },
  {
   "cell_type": "code",
   "execution_count": 464,
   "metadata": {},
   "outputs": [],
   "source": [
    "datosForTrainingSinPostu.drop('fechanacimiento',axis=1,inplace=True)"
   ]
  },
  {
   "cell_type": "code",
   "execution_count": 463,
   "metadata": {},
   "outputs": [],
   "source": [
    "datosForTestConTodoFiltrado.drop('fechanacimiento',axis=1,inplace=True)"
   ]
  },
  {
   "cell_type": "code",
   "execution_count": 465,
   "metadata": {},
   "outputs": [],
   "source": [
    "from sklearn.preprocessing import Imputer\n",
    "imp = Imputer(missing_values='NaN', strategy='most_frequent', axis=0)\n",
    "datosForTrainingSinPostuSinNulos = imp.fit_transform(datosForTrainingSinPostu)\n",
    "datosForTestFinalSinNulos = imp.fit_transform(datosForTestConTodoFiltrado)"
   ]
  },
  {
   "cell_type": "code",
   "execution_count": null,
   "metadata": {},
   "outputs": [],
   "source": []
  },
  {
   "cell_type": "code",
   "execution_count": null,
   "metadata": {},
   "outputs": [],
   "source": []
  },
  {
   "cell_type": "code",
   "execution_count": 466,
   "metadata": {},
   "outputs": [],
   "source": [
    "X_train, X_validation, Y_train, Y_validation = model_selection.train_test_split(datosForTrainingSinPostuSinNulos, datosForTrainingConTodo['sepostulo'], test_size=0.7, random_state=7)"
   ]
  },
  {
   "cell_type": "code",
   "execution_count": 469,
   "metadata": {},
   "outputs": [],
   "source": [
    "models = []\n",
    "#models.append(('RF10', RandomForestRegressor(n_estimators=10, max_features='sqrt')))\n",
    "#models.append(('RF20', RandomForestRegressor(n_estimators=20, max_features='sqrt')))\n",
    "#models.append(('RF50',  RandomForestRegressor(n_estimators=50, max_features='sqrt')))\n",
    "#models.append(('RF60',  RandomForestRegressor(n_estimators=60, max_features='sqrt')))\n",
    "models.append(('RF100',  RandomForestRegressor(n_estimators=100, max_features='sqrt')))\n",
    "#models.append(('KNN 2', KNeighborsClassifier(n_neighbors=2)))\n",
    "#models.append(('KNN 3', KNeighborsClassifier(n_neighbors=3)))\n",
    "#models.append(('LR', linear_model.LinearRegression()))\n",
    "#models.append(('RIDGE.05', linear_model.Ridge (alpha = .5)))\n",
    "#models.append(('LASO.01', linear_model.Ridge (alpha = .1)))\n",
    "#models.append(('LASOLARS.05',linear_model.LassoLars (alpha = 0.5)))\n",
    "#models.append(('BAYESIAN',linear_model.BayesianRidge()))\n",
    "#models.append(('SVR',svm.LinearSVR()))\n",
    "#models.append(('DES-TREE',tree.DecisionTreeRegressor()))\n",
    "models.append(('DES-TREE',tree.DecisionTreeRegressor()))\n",
    "#models.append(('NB', GaussianNB()))\n",
    "#models.append(('LR', LogisticRegression()))\n",
    "#models.append(('LDA', LinearDiscriminantAnalysis()))\n",
    "\n",
    "\n",
    "\n",
    "for name, model in models:\n",
    "    m = model.fit(X_train, Y_train)\n",
    "    pruebas = m.predict(datosForTestFinalSinNulos)\n",
    "    archivo = pd.DataFrame()\n",
    "    archivo['id'] = testingSet.loc[:,['id']]\n",
    "    archivo['sepostulo'] = np.around(pruebas, decimals=0)\n",
    "    archivo.to_csv('entregas/'+'prueba6-'+ name +'.csv', index=False)"
   ]
  },
  {
   "cell_type": "markdown",
   "metadata": {},
   "source": [
    "#  Agregamos la cantidad de vistas de un aviso"
   ]
  },
  {
   "cell_type": "code",
   "execution_count": 55,
   "metadata": {},
   "outputs": [],
   "source": [
    "vistasZIP = pd.read_csv('resources/zip/fiuba_3_vistas.csv')"
   ]
  },
  {
   "cell_type": "code",
   "execution_count": null,
   "metadata": {},
   "outputs": [],
   "source": []
  },
  {
   "cell_type": "code",
   "execution_count": 56,
   "metadata": {},
   "outputs": [],
   "source": [
    "vistasZIP['timestamp'] = pd.to_datetime(vistasZIP['timestamp'])\n",
    "vistasZIP['dateVista'] = pd.DatetimeIndex(vistasZIP['timestamp']).date"
   ]
  },
  {
   "cell_type": "code",
   "execution_count": 57,
   "metadata": {},
   "outputs": [],
   "source": [
    "vistasZIP['cantidadVistos'] = 1;\n",
    "vistasZIP.drop('timestamp',axis=1,inplace=True)"
   ]
  },
  {
   "cell_type": "code",
   "execution_count": 58,
   "metadata": {},
   "outputs": [],
   "source": [
    "vistasZIPGP = vistasZIP.groupby(['idAviso','idpostulante']).sum()"
   ]
  },
  {
   "cell_type": "code",
   "execution_count": 59,
   "metadata": {},
   "outputs": [
    {
     "data": {
      "text/html": [
       "<div>\n",
       "<style>\n",
       "    .dataframe thead tr:only-child th {\n",
       "        text-align: right;\n",
       "    }\n",
       "\n",
       "    .dataframe thead th {\n",
       "        text-align: left;\n",
       "    }\n",
       "\n",
       "    .dataframe tbody tr th {\n",
       "        vertical-align: top;\n",
       "    }\n",
       "</style>\n",
       "<table border=\"1\" class=\"dataframe\">\n",
       "  <thead>\n",
       "    <tr style=\"text-align: right;\">\n",
       "      <th></th>\n",
       "      <th></th>\n",
       "      <th>cantidadVistos</th>\n",
       "    </tr>\n",
       "    <tr>\n",
       "      <th>idAviso</th>\n",
       "      <th>idpostulante</th>\n",
       "      <th></th>\n",
       "    </tr>\n",
       "  </thead>\n",
       "  <tbody>\n",
       "    <tr>\n",
       "      <th>18</th>\n",
       "      <th>BolNL</th>\n",
       "      <td>3</td>\n",
       "    </tr>\n",
       "    <tr>\n",
       "      <th>48375</th>\n",
       "      <th>RwVdKR</th>\n",
       "      <td>1</td>\n",
       "    </tr>\n",
       "    <tr>\n",
       "      <th rowspan=\"18\" valign=\"top\">169730</th>\n",
       "      <th>1KjXB</th>\n",
       "      <td>2</td>\n",
       "    </tr>\n",
       "    <tr>\n",
       "      <th>2AKzxa</th>\n",
       "      <td>2</td>\n",
       "    </tr>\n",
       "    <tr>\n",
       "      <th>6LJ64</th>\n",
       "      <td>1</td>\n",
       "    </tr>\n",
       "    <tr>\n",
       "      <th>6kr39v</th>\n",
       "      <td>1</td>\n",
       "    </tr>\n",
       "    <tr>\n",
       "      <th>9VzdP</th>\n",
       "      <td>3</td>\n",
       "    </tr>\n",
       "    <tr>\n",
       "      <th>9zGM9</th>\n",
       "      <td>1</td>\n",
       "    </tr>\n",
       "    <tr>\n",
       "      <th>BVvYz</th>\n",
       "      <td>1</td>\n",
       "    </tr>\n",
       "    <tr>\n",
       "      <th>GzQZaK</th>\n",
       "      <td>1</td>\n",
       "    </tr>\n",
       "    <tr>\n",
       "      <th>JOYa2J</th>\n",
       "      <td>2</td>\n",
       "    </tr>\n",
       "    <tr>\n",
       "      <th>LLBE5</th>\n",
       "      <td>2</td>\n",
       "    </tr>\n",
       "    <tr>\n",
       "      <th>Lm2Zkb</th>\n",
       "      <td>3</td>\n",
       "    </tr>\n",
       "    <tr>\n",
       "      <th>MNGJOx</th>\n",
       "      <td>1</td>\n",
       "    </tr>\n",
       "    <tr>\n",
       "      <th>NwbWx</th>\n",
       "      <td>2</td>\n",
       "    </tr>\n",
       "    <tr>\n",
       "      <th>QdQ5A4</th>\n",
       "      <td>2</td>\n",
       "    </tr>\n",
       "    <tr>\n",
       "      <th>Qddmqe</th>\n",
       "      <td>1</td>\n",
       "    </tr>\n",
       "    <tr>\n",
       "      <th>RwBL9Y</th>\n",
       "      <td>2</td>\n",
       "    </tr>\n",
       "    <tr>\n",
       "      <th>VBprEN</th>\n",
       "      <td>1</td>\n",
       "    </tr>\n",
       "    <tr>\n",
       "      <th>Y0qD8J</th>\n",
       "      <td>1</td>\n",
       "    </tr>\n",
       "  </tbody>\n",
       "</table>\n",
       "</div>"
      ],
      "text/plain": [
       "                      cantidadVistos\n",
       "idAviso idpostulante                \n",
       "18      BolNL                      3\n",
       "48375   RwVdKR                     1\n",
       "169730  1KjXB                      2\n",
       "        2AKzxa                     2\n",
       "        6LJ64                      1\n",
       "        6kr39v                     1\n",
       "        9VzdP                      3\n",
       "        9zGM9                      1\n",
       "        BVvYz                      1\n",
       "        GzQZaK                     1\n",
       "        JOYa2J                     2\n",
       "        LLBE5                      2\n",
       "        Lm2Zkb                     3\n",
       "        MNGJOx                     1\n",
       "        NwbWx                      2\n",
       "        QdQ5A4                     2\n",
       "        Qddmqe                     1\n",
       "        RwBL9Y                     2\n",
       "        VBprEN                     1\n",
       "        Y0qD8J                     1"
      ]
     },
     "execution_count": 59,
     "metadata": {},
     "output_type": "execute_result"
    }
   ],
   "source": [
    "vistasZIPGP.head(20)"
   ]
  },
  {
   "cell_type": "code",
   "execution_count": 60,
   "metadata": {},
   "outputs": [],
   "source": [
    "vistasZIPGP = vistasZIPGP.reset_index()"
   ]
  },
  {
   "cell_type": "code",
   "execution_count": 61,
   "metadata": {},
   "outputs": [],
   "source": [
    "vistas['cantidadVistos'] =1;"
   ]
  },
  {
   "cell_type": "code",
   "execution_count": 62,
   "metadata": {},
   "outputs": [],
   "source": [
    "vistasGP = vistas.groupby(['idAviso','idpostulante']).sum()"
   ]
  },
  {
   "cell_type": "code",
   "execution_count": 63,
   "metadata": {},
   "outputs": [],
   "source": [
    "vistasGP = vistasGP.reset_index()"
   ]
  },
  {
   "cell_type": "code",
   "execution_count": 64,
   "metadata": {},
   "outputs": [],
   "source": [
    "datosForTraining = datosConTestOHC[datosConTestOHC['testSet'] == 0]\n",
    "datosForTest = datosConTestOHC[datosConTestOHC['testSet'] == 1]"
   ]
  },
  {
   "cell_type": "code",
   "execution_count": 65,
   "metadata": {},
   "outputs": [],
   "source": [
    "vistasGP['idaviso']  = vistasGP['idAviso']\n",
    "vistasGP.drop('idAviso',axis=1,inplace=True);"
   ]
  },
  {
   "cell_type": "code",
   "execution_count": 66,
   "metadata": {},
   "outputs": [],
   "source": [
    "vistasZIPGP['idaviso']  = vistasZIPGP['idAviso']\n",
    "vistasZIPGP.drop('idAviso',axis=1,inplace=True);"
   ]
  },
  {
   "cell_type": "code",
   "execution_count": 501,
   "metadata": {},
   "outputs": [
    {
     "data": {
      "text/plain": [
       "Index(['cantPostulaciones', 'id', 'idaviso', 'idpais', 'idpostulante',\n",
       "       'sepostulo', 'testSet', 'zona_Buenos Aires (fuera de GBA)',\n",
       "       'zona_Capital Federal', 'zona_Catamarca', 'zona_Ciudad de Mendoza',\n",
       "       'zona_Cordoba', 'zona_Corrientes', 'zona_GBA Oeste',\n",
       "       'zona_Gran Buenos Aires', 'zona_La Plata', 'zona_Mendoza',\n",
       "       'zona_Neuquen', 'zona_Rosario', 'zona_San Juan', 'zona_Santa Cruz',\n",
       "       'zona_Santa Fe', 'zona_Tucuman', 'tipo_Fines de Semana',\n",
       "       'tipo_Full-time', 'tipo_Part-time', 'tipo_Pasantia',\n",
       "       'tipo_Por Contrato', 'tipo_Por Horas', 'tipo_Primer empleo',\n",
       "       'tipo_Teletrabajo', 'tipo_Temporario',\n",
       "       'nivel_Gerencia / Alta Gerencia / Dirección',\n",
       "       'nivel_Jefe / Supervisor / Responsable', 'nivel_Junior', 'nivel_Otro',\n",
       "       'nivel_Senior / Semi-Senior', 'cantidadEmpresa'],\n",
       "      dtype='object')"
      ]
     },
     "execution_count": 501,
     "metadata": {},
     "output_type": "execute_result"
    }
   ],
   "source": [
    "datosForTraining.columns"
   ]
  },
  {
   "cell_type": "code",
   "execution_count": 67,
   "metadata": {},
   "outputs": [],
   "source": [
    "datosConVistas = pd.merge(datosForTraining, vistasGP,on=['idaviso','idpostulante'],how='inner')"
   ]
  },
  {
   "cell_type": "code",
   "execution_count": 68,
   "metadata": {},
   "outputs": [],
   "source": [
    "testingConVistas = pd.merge(datosForTest,vistasZIPGP,on=['idaviso','idpostulante'],how='left')"
   ]
  },
  {
   "cell_type": "code",
   "execution_count": 69,
   "metadata": {},
   "outputs": [],
   "source": [
    "testingConVistas['cantidadVistos'] = testingConVistas['cantidadVistos'].fillna(0)"
   ]
  },
  {
   "cell_type": "code",
   "execution_count": 70,
   "metadata": {},
   "outputs": [
    {
     "data": {
      "text/plain": [
       "array([  0.,   1.,   2.,   5.,   3.,   4.,   7.,   6.,   8.,  10.,  12.,\n",
       "        21.,  15.,   9.,  14.,  13.,  38.,  16.,  30.,  11.,  19.,  20.,\n",
       "        49.,  22.,  25.,  18.,  27.,  17.,  28.,  24.,  65.,  23.,  41.,\n",
       "        34.,  33.,  37.,  51.])"
      ]
     },
     "execution_count": 70,
     "metadata": {},
     "output_type": "execute_result"
    }
   ],
   "source": [
    "testingConVistas['cantidadVistos'].unique()"
   ]
  },
  {
   "cell_type": "code",
   "execution_count": null,
   "metadata": {},
   "outputs": [],
   "source": []
  },
  {
   "cell_type": "code",
   "execution_count": 518,
   "metadata": {},
   "outputs": [
    {
     "data": {
      "text/plain": [
       "Index(['cantPostulaciones', 'id', 'idaviso', 'idpais', 'idpostulante',\n",
       "       'sepostulo', 'testSet', 'zona_Buenos Aires (fuera de GBA)',\n",
       "       'zona_Capital Federal', 'zona_Catamarca', 'zona_Ciudad de Mendoza',\n",
       "       'zona_Cordoba', 'zona_Corrientes', 'zona_GBA Oeste',\n",
       "       'zona_Gran Buenos Aires', 'zona_La Plata', 'zona_Mendoza',\n",
       "       'zona_Neuquen', 'zona_Rosario', 'zona_San Juan', 'zona_Santa Cruz',\n",
       "       'zona_Santa Fe', 'zona_Tucuman', 'tipo_Fines de Semana',\n",
       "       'tipo_Full-time', 'tipo_Part-time', 'tipo_Pasantia',\n",
       "       'tipo_Por Contrato', 'tipo_Por Horas', 'tipo_Primer empleo',\n",
       "       'tipo_Teletrabajo', 'tipo_Temporario',\n",
       "       'nivel_Gerencia / Alta Gerencia / Dirección',\n",
       "       'nivel_Jefe / Supervisor / Responsable', 'nivel_Junior', 'nivel_Otro',\n",
       "       'nivel_Senior / Semi-Senior', 'cantidadEmpresa', 'cantidadVistos'],\n",
       "      dtype='object')"
      ]
     },
     "execution_count": 518,
     "metadata": {},
     "output_type": "execute_result"
    }
   ],
   "source": [
    "testingConVistas.columns"
   ]
  },
  {
   "cell_type": "code",
   "execution_count": 73,
   "metadata": {},
   "outputs": [],
   "source": [
    "datosConVistasSinPostu = datosConVistas.drop(['idpais','sepostulo','idaviso','idpostulante','id','cantPostulaciones','testSet'],axis=1)\n",
    "testingConVistasFiltrado = testingConVistas.drop(['idpais','sepostulo','idaviso','idpostulante','id','cantPostulaciones','testSet'],axis=1)"
   ]
  },
  {
   "cell_type": "code",
   "execution_count": null,
   "metadata": {},
   "outputs": [],
   "source": []
  },
  {
   "cell_type": "code",
   "execution_count": 520,
   "metadata": {},
   "outputs": [
    {
     "data": {
      "text/plain": [
       "32"
      ]
     },
     "execution_count": 520,
     "metadata": {},
     "output_type": "execute_result"
    }
   ],
   "source": [
    "datosConVistasSinPostu.columns.size"
   ]
  },
  {
   "cell_type": "code",
   "execution_count": 521,
   "metadata": {},
   "outputs": [
    {
     "data": {
      "text/plain": [
       "32"
      ]
     },
     "execution_count": 521,
     "metadata": {},
     "output_type": "execute_result"
    }
   ],
   "source": [
    "testingConVistasFiltrado.columns.size"
   ]
  },
  {
   "cell_type": "code",
   "execution_count": 523,
   "metadata": {},
   "outputs": [],
   "source": [
    "from sklearn.preprocessing import Imputer\n",
    "imp = Imputer(missing_values='NaN', strategy='most_frequent', axis=0)\n",
    "datosForTrainingSinPostuSinNulos = imp.fit_transform(datosConVistasSinPostu)\n",
    "datosForTestFinalSinNulos = imp.fit_transform(testingConVistasFiltrado)"
   ]
  },
  {
   "cell_type": "code",
   "execution_count": 525,
   "metadata": {},
   "outputs": [],
   "source": [
    "X_train, X_validation, Y_train, Y_validation = model_selection.train_test_split(datosForTrainingSinPostuSinNulos, datosConVistas['sepostulo'], test_size=0.7, random_state=7)"
   ]
  },
  {
   "cell_type": "code",
   "execution_count": 526,
   "metadata": {},
   "outputs": [],
   "source": [
    "models = []\n",
    "#models.append(('RF10', RandomForestRegressor(n_estimators=10, max_features='sqrt')))\n",
    "#models.append(('RF20', RandomForestRegressor(n_estimators=20, max_features='sqrt')))\n",
    "#models.append(('RF50',  RandomForestRegressor(n_estimators=50, max_features='sqrt')))\n",
    "#models.append(('RF60',  RandomForestRegressor(n_estimators=60, max_features='sqrt')))\n",
    "models.append(('RF100',  RandomForestRegressor(n_estimators=100, max_features='sqrt')))\n",
    "#models.append(('KNN 2', KNeighborsClassifier(n_neighbors=2)))\n",
    "#models.append(('KNN 3', KNeighborsClassifier(n_neighbors=3)))\n",
    "#models.append(('LR', linear_model.LinearRegression()))\n",
    "#models.append(('RIDGE.05', linear_model.Ridge (alpha = .5)))\n",
    "#models.append(('LASO.01', linear_model.Ridge (alpha = .1)))\n",
    "#models.append(('LASOLARS.05',linear_model.LassoLars (alpha = 0.5)))\n",
    "#models.append(('BAYESIAN',linear_model.BayesianRidge()))\n",
    "#models.append(('SVR',svm.LinearSVR()))\n",
    "#models.append(('DES-TREE',tree.DecisionTreeRegressor()))\n",
    "models.append(('DES-TREE',tree.DecisionTreeRegressor()))\n",
    "#models.append(('NB', GaussianNB()))\n",
    "#models.append(('LR', LogisticRegression()))\n",
    "#models.append(('LDA', LinearDiscriminantAnalysis()))\n",
    "\n",
    "\n",
    "\n",
    "for name, model in models:\n",
    "    m = model.fit(X_train, Y_train)\n",
    "    pruebas = m.predict(datosForTestFinalSinNulos)\n",
    "    archivo = pd.DataFrame()\n",
    "    archivo['id'] = testingSet.loc[:,['id']]\n",
    "    archivo['sepostulo'] = np.around(pruebas, decimals=0)\n",
    "    archivo.to_csv('entregas/'+'prueba7-'+ name +'.csv', index=False)"
   ]
  },
  {
   "cell_type": "markdown",
   "metadata": {},
   "source": [
    "# Agregamos edades"
   ]
  },
  {
   "cell_type": "code",
   "execution_count": null,
   "metadata": {},
   "outputs": [],
   "source": [
    "datosConVistas;\n",
    "testingConVistas;"
   ]
  },
  {
   "cell_type": "code",
   "execution_count": 77,
   "metadata": {},
   "outputs": [],
   "source": [
    "datosGeneroMerged = pd.merge(datosConVistas,postulantesGenero,how='left',on='idpostulante')"
   ]
  },
  {
   "cell_type": "code",
   "execution_count": 78,
   "metadata": {},
   "outputs": [],
   "source": [
    "import datetime as dt\n",
    "\n",
    "datosGeneroMerged['fechanacimiento'] = pd.to_datetime(datosGeneroMerged['fechanacimiento'], format='%Y-%m-%d', errors='coerce')\n",
    "datosGeneroMerged = datosGeneroMerged.dropna(subset=['fechanacimiento'])\n",
    "\n",
    "hoy = pd.Timestamp(dt.datetime.now())\n",
    "datosGeneroMerged['edad'] = (hoy - datosGeneroMerged['fechanacimiento']).astype('<m8[Y]')\n"
   ]
  },
  {
   "cell_type": "code",
   "execution_count": 79,
   "metadata": {},
   "outputs": [],
   "source": [
    "datosGeneroMergedFiltered = datosGeneroMerged.loc[((datosGeneroMerged['edad'] >= 17) & (datosGeneroMerged['edad'] < 80 )), :]"
   ]
  },
  {
   "cell_type": "code",
   "execution_count": 80,
   "metadata": {},
   "outputs": [],
   "source": [
    "postulantesGeneroOHC = pd.concat([datosGeneroMergedFiltered,pd.get_dummies(datosGeneroMergedFiltered['sexo'], prefix='sexo')],axis=1)"
   ]
  },
  {
   "cell_type": "code",
   "execution_count": null,
   "metadata": {},
   "outputs": [],
   "source": []
  },
  {
   "cell_type": "code",
   "execution_count": 81,
   "metadata": {},
   "outputs": [],
   "source": [
    "testingConVistasMerged = pd.merge(testingConVistas,postulantesGenero,how='left',on='idpostulante')"
   ]
  },
  {
   "cell_type": "code",
   "execution_count": 82,
   "metadata": {},
   "outputs": [],
   "source": [
    "testingConVistasMerged['fechanacimiento'] = pd.to_datetime(testingConVistasMerged['fechanacimiento'], format='%Y-%m-%d', errors='coerce')"
   ]
  },
  {
   "cell_type": "code",
   "execution_count": 83,
   "metadata": {},
   "outputs": [],
   "source": [
    "testingConVistasMerged['edad'] = (hoy - testingConVistasMerged['fechanacimiento']).astype('<m8[Y]')"
   ]
  },
  {
   "cell_type": "code",
   "execution_count": 84,
   "metadata": {},
   "outputs": [],
   "source": [
    "testingConVistasMergedGeneroOHC = pd.concat([testingConVistasMerged,pd.get_dummies(testingConVistasMerged['sexo'], prefix='sexo')],axis=1)"
   ]
  },
  {
   "cell_type": "code",
   "execution_count": 85,
   "metadata": {},
   "outputs": [],
   "source": [
    "postulantesGeneroOHC.drop('fechanacimiento',inplace=True,axis=1)"
   ]
  },
  {
   "cell_type": "code",
   "execution_count": 86,
   "metadata": {},
   "outputs": [],
   "source": [
    "testingConVistasMergedGeneroOHC.drop('fechanacimiento',inplace=True,axis=1)"
   ]
  },
  {
   "cell_type": "code",
   "execution_count": 538,
   "metadata": {},
   "outputs": [
    {
     "data": {
      "text/plain": [
       "<bound method DataFrame.info of        cantPostulaciones       id     idaviso  idpais idpostulante  sepostulo  \\\n",
       "0                    NaN      0.0      739260     1.0       6M9ZQR        NaN   \n",
       "1                    NaN      1.0      739260     1.0       6v1xdL        NaN   \n",
       "2                    NaN      2.0      739260     1.0       ezRKm9        NaN   \n",
       "3                    NaN      3.0      758580     1.0       1Q35ej        NaN   \n",
       "4                    NaN      4.0      758580     1.0       EAN4J6        NaN   \n",
       "5                    NaN      5.0      758580     1.0       8R6pzR        NaN   \n",
       "6                    NaN      6.0      776420     1.0       aZJ2XN        NaN   \n",
       "7                    NaN      7.0      776420     1.0       Nmpo3J        NaN   \n",
       "8                    NaN      8.0      776420     1.0       eVqWar        NaN   \n",
       "9                    NaN      9.0      820850     1.0       6ZBD33        NaN   \n",
       "10                   NaN     10.0      820850     1.0       1j4RNj        NaN   \n",
       "11                   NaN     11.0      820850     1.0        ZOwE8        NaN   \n",
       "12                   NaN     12.0      820850     1.0       NG4BaD        NaN   \n",
       "13                   NaN     13.0      914880     1.0       6q6eNl        NaN   \n",
       "14                   NaN     14.0      914880     1.0       8E8pWj        NaN   \n",
       "15                   NaN     15.0      914880     1.0       eVqbDr        NaN   \n",
       "16                   NaN     16.0     1112360     1.0       6kRZ44        NaN   \n",
       "17                   NaN     17.0     1112360     1.0       8XGB3D        NaN   \n",
       "18                   NaN     18.0     1112360     1.0       5qVB9X        NaN   \n",
       "19                   NaN     19.0     1112360     1.0       Z6zxXZ        NaN   \n",
       "20                   NaN     20.0     1141070     1.0       edaNB4        NaN   \n",
       "21                   NaN     21.0     1141070     1.0       EZ9pe6        NaN   \n",
       "22                   NaN     22.0     1141070     1.0       aXa55D        NaN   \n",
       "23                   NaN     23.0     1144960     1.0       NEJjvL        NaN   \n",
       "24                   NaN     24.0     1144960     1.0       6Q32Vj        NaN   \n",
       "25                   NaN     25.0     1144960     1.0       NWxrWL        NaN   \n",
       "26                   NaN     26.0     1145170     1.0       Y9d5Bw        NaN   \n",
       "27                   NaN     27.0     1145170     1.0       edaoDp        NaN   \n",
       "28                   NaN     28.0     1145170     1.0       Z8pvLz        NaN   \n",
       "29                   NaN     29.0     1176260     1.0       ZvQJ2z        NaN   \n",
       "...                  ...      ...         ...     ...          ...        ...   \n",
       "99970                NaN  99970.0  1112515048     1.0       EbooLJ        NaN   \n",
       "99971                NaN  99971.0  1112515048     1.0       Zv1eoY        NaN   \n",
       "99972                NaN  99972.0  1112515048     1.0       YqJLDw        NaN   \n",
       "99973                NaN  99973.0  1112515056     1.0       8RODvz        NaN   \n",
       "99974                NaN  99974.0  1112515056     1.0       50p1Zp        NaN   \n",
       "99975                NaN  99975.0  1112515056     1.0       aZJQP9        NaN   \n",
       "99976                NaN  99976.0  1112515069     1.0       eZ8294        NaN   \n",
       "99977                NaN  99977.0  1112515069     1.0       NROBQ4        NaN   \n",
       "99978                NaN  99978.0  1112515069     1.0       a8YdG9        NaN   \n",
       "99979                NaN  99979.0  1112515080     1.0       8EQpWl        NaN   \n",
       "99980                NaN  99980.0  1112515080     1.0       ZREM3E        NaN   \n",
       "99981                NaN  99981.0  1112515080     1.0       NDaAYJ        NaN   \n",
       "99982                NaN  99982.0  1112515081     1.0       EwKNO6        NaN   \n",
       "99983                NaN  99983.0  1112515081     1.0       aZJWvq        NaN   \n",
       "99984                NaN  99984.0  1112515081     1.0       8R4ZBz        NaN   \n",
       "99985                NaN  99985.0  1112515099     1.0       eprYVE        NaN   \n",
       "99986                NaN  99986.0  1112515099     1.0       8E8lLW        NaN   \n",
       "99987                NaN  99987.0  1112515099     1.0       Z0A84P        NaN   \n",
       "99988                NaN  99988.0  1112515103     1.0       Y6xQ4q        NaN   \n",
       "99989                NaN  99989.0  1112515103     1.0       NRO8wz        NaN   \n",
       "99990                NaN  99990.0  1112515103     1.0       ZvQaaY        NaN   \n",
       "99991                NaN  99991.0  1112515105     1.0       ZREdK1        NaN   \n",
       "99992                NaN  99992.0  1112515105     1.0       NmpeRJ        NaN   \n",
       "99993                NaN  99993.0  1112515105     1.0       5RVLZv        NaN   \n",
       "99994                NaN  99994.0  1112515111     1.0       YqJDoD        NaN   \n",
       "99995                NaN  99995.0  1112515111     1.0       5RVZBp        NaN   \n",
       "99996                NaN  99996.0  1112515111     1.0       ZvQXN1        NaN   \n",
       "99997                NaN  99997.0  1112515116     1.0       NmpwAB        NaN   \n",
       "99998                NaN  99998.0  1112515116     1.0       aZJMqJ        NaN   \n",
       "99999                NaN  99999.0  1112515116     1.0       8R48Ex        NaN   \n",
       "\n",
       "       testSet  zona_Buenos Aires (fuera de GBA)  zona_Capital Federal  \\\n",
       "0            1                                 0                     1   \n",
       "1            1                                 0                     1   \n",
       "2            1                                 0                     1   \n",
       "3            1                                 0                     1   \n",
       "4            1                                 0                     1   \n",
       "5            1                                 0                     1   \n",
       "6            1                                 0                     1   \n",
       "7            1                                 0                     1   \n",
       "8            1                                 0                     1   \n",
       "9            1                                 1                     0   \n",
       "10           1                                 1                     0   \n",
       "11           1                                 1                     0   \n",
       "12           1                                 1                     0   \n",
       "13           1                                 0                     1   \n",
       "14           1                                 0                     1   \n",
       "15           1                                 0                     1   \n",
       "16           1                                 0                     1   \n",
       "17           1                                 0                     1   \n",
       "18           1                                 0                     1   \n",
       "19           1                                 0                     1   \n",
       "20           1                                 1                     0   \n",
       "21           1                                 1                     0   \n",
       "22           1                                 1                     0   \n",
       "23           1                                 1                     0   \n",
       "24           1                                 1                     0   \n",
       "25           1                                 1                     0   \n",
       "26           1                                 0                     1   \n",
       "27           1                                 0                     1   \n",
       "28           1                                 0                     1   \n",
       "29           1                                 0                     1   \n",
       "...        ...                               ...                   ...   \n",
       "99970        1                                 0                     0   \n",
       "99971        1                                 0                     0   \n",
       "99972        1                                 0                     0   \n",
       "99973        1                                 0                     0   \n",
       "99974        1                                 0                     0   \n",
       "99975        1                                 0                     0   \n",
       "99976        1                                 0                     0   \n",
       "99977        1                                 0                     0   \n",
       "99978        1                                 0                     0   \n",
       "99979        1                                 0                     1   \n",
       "99980        1                                 0                     1   \n",
       "99981        1                                 0                     1   \n",
       "99982        1                                 0                     0   \n",
       "99983        1                                 0                     0   \n",
       "99984        1                                 0                     0   \n",
       "99985        1                                 0                     0   \n",
       "99986        1                                 0                     0   \n",
       "99987        1                                 0                     0   \n",
       "99988        1                                 0                     0   \n",
       "99989        1                                 0                     0   \n",
       "99990        1                                 0                     0   \n",
       "99991        1                                 0                     0   \n",
       "99992        1                                 0                     0   \n",
       "99993        1                                 0                     0   \n",
       "99994        1                                 0                     0   \n",
       "99995        1                                 0                     0   \n",
       "99996        1                                 0                     0   \n",
       "99997        1                                 0                     0   \n",
       "99998        1                                 0                     0   \n",
       "99999        1                                 0                     0   \n",
       "\n",
       "       zona_Catamarca       ...         nivel_Jefe / Supervisor / Responsable  \\\n",
       "0                   0       ...                                             1   \n",
       "1                   0       ...                                             1   \n",
       "2                   0       ...                                             1   \n",
       "3                   0       ...                                             0   \n",
       "4                   0       ...                                             0   \n",
       "5                   0       ...                                             0   \n",
       "6                   0       ...                                             0   \n",
       "7                   0       ...                                             0   \n",
       "8                   0       ...                                             0   \n",
       "9                   0       ...                                             0   \n",
       "10                  0       ...                                             0   \n",
       "11                  0       ...                                             0   \n",
       "12                  0       ...                                             0   \n",
       "13                  0       ...                                             0   \n",
       "14                  0       ...                                             0   \n",
       "15                  0       ...                                             0   \n",
       "16                  0       ...                                             0   \n",
       "17                  0       ...                                             0   \n",
       "18                  0       ...                                             0   \n",
       "19                  0       ...                                             0   \n",
       "20                  0       ...                                             0   \n",
       "21                  0       ...                                             0   \n",
       "22                  0       ...                                             0   \n",
       "23                  0       ...                                             0   \n",
       "24                  0       ...                                             0   \n",
       "25                  0       ...                                             0   \n",
       "26                  0       ...                                             0   \n",
       "27                  0       ...                                             0   \n",
       "28                  0       ...                                             0   \n",
       "29                  0       ...                                             0   \n",
       "...               ...       ...                                           ...   \n",
       "99970               0       ...                                             0   \n",
       "99971               0       ...                                             0   \n",
       "99972               0       ...                                             0   \n",
       "99973               0       ...                                             0   \n",
       "99974               0       ...                                             0   \n",
       "99975               0       ...                                             0   \n",
       "99976               0       ...                                             0   \n",
       "99977               0       ...                                             0   \n",
       "99978               0       ...                                             0   \n",
       "99979               0       ...                                             0   \n",
       "99980               0       ...                                             0   \n",
       "99981               0       ...                                             0   \n",
       "99982               0       ...                                             0   \n",
       "99983               0       ...                                             0   \n",
       "99984               0       ...                                             0   \n",
       "99985               0       ...                                             0   \n",
       "99986               0       ...                                             0   \n",
       "99987               0       ...                                             0   \n",
       "99988               0       ...                                             0   \n",
       "99989               0       ...                                             0   \n",
       "99990               0       ...                                             0   \n",
       "99991               0       ...                                             0   \n",
       "99992               0       ...                                             0   \n",
       "99993               0       ...                                             0   \n",
       "99994               0       ...                                             0   \n",
       "99995               0       ...                                             0   \n",
       "99996               0       ...                                             0   \n",
       "99997               0       ...                                             0   \n",
       "99998               0       ...                                             0   \n",
       "99999               0       ...                                             0   \n",
       "\n",
       "       nivel_Junior  nivel_Otro  nivel_Senior / Semi-Senior  cantidadEmpresa  \\\n",
       "0                 0           0                           0            582.0   \n",
       "1                 0           0                           0            582.0   \n",
       "2                 0           0                           0            582.0   \n",
       "3                 0           1                           0              NaN   \n",
       "4                 0           1                           0              NaN   \n",
       "5                 0           1                           0              NaN   \n",
       "6                 0           1                           0            226.0   \n",
       "7                 0           1                           0            226.0   \n",
       "8                 0           1                           0            226.0   \n",
       "9                 0           1                           0              NaN   \n",
       "10                0           1                           0              NaN   \n",
       "11                0           1                           0              NaN   \n",
       "12                0           1                           0              NaN   \n",
       "13                0           1                           0           8944.0   \n",
       "14                0           1                           0           8944.0   \n",
       "15                0           1                           0           8944.0   \n",
       "16                0           1                           0           3615.0   \n",
       "17                0           1                           0           3615.0   \n",
       "18                0           1                           0           3615.0   \n",
       "19                0           1                           0           3615.0   \n",
       "20                0           1                           0              NaN   \n",
       "21                0           1                           0              NaN   \n",
       "22                0           1                           0              NaN   \n",
       "23                0           1                           0           1215.0   \n",
       "24                0           1                           0           1215.0   \n",
       "25                0           1                           0           1215.0   \n",
       "26                0           1                           0              NaN   \n",
       "27                0           1                           0              NaN   \n",
       "28                0           1                           0              NaN   \n",
       "29                0           1                           0           2161.0   \n",
       "...             ...         ...                         ...              ...   \n",
       "99970             0           0                           1          20321.0   \n",
       "99971             0           0                           1          20321.0   \n",
       "99972             0           0                           1          20321.0   \n",
       "99973             0           0                           1           6581.0   \n",
       "99974             0           0                           1           6581.0   \n",
       "99975             0           0                           1           6581.0   \n",
       "99976             0           0                           1            182.0   \n",
       "99977             0           0                           1            182.0   \n",
       "99978             0           0                           1            182.0   \n",
       "99979             0           0                           1              NaN   \n",
       "99980             0           0                           1              NaN   \n",
       "99981             0           0                           1              NaN   \n",
       "99982             0           0                           1           2400.0   \n",
       "99983             0           0                           1           2400.0   \n",
       "99984             0           0                           1           2400.0   \n",
       "99985             0           0                           1          14338.0   \n",
       "99986             0           0                           1          14338.0   \n",
       "99987             0           0                           1          14338.0   \n",
       "99988             0           0                           1           2167.0   \n",
       "99989             0           0                           1           2167.0   \n",
       "99990             0           0                           1           2167.0   \n",
       "99991             0           0                           1           1165.0   \n",
       "99992             0           0                           1           1165.0   \n",
       "99993             0           0                           1           1165.0   \n",
       "99994             1           0                           0           5843.0   \n",
       "99995             1           0                           0           5843.0   \n",
       "99996             1           0                           0           5843.0   \n",
       "99997             0           1                           0           6922.0   \n",
       "99998             0           1                           0           6922.0   \n",
       "99999             0           1                           0           6922.0   \n",
       "\n",
       "       cantidadVistos        sexo  sexo_FEM  sexo_MASC  sexo_NO_DECLARA  \n",
       "0                 0.0         FEM         1          0                0  \n",
       "1                 0.0        MASC         0          1                0  \n",
       "2                 0.0         FEM         1          0                0  \n",
       "3                 0.0        MASC         0          1                0  \n",
       "4                 0.0         FEM         1          0                0  \n",
       "5                 0.0        MASC         0          1                0  \n",
       "6                 0.0        MASC         0          1                0  \n",
       "7                 0.0        MASC         0          1                0  \n",
       "8                 0.0         FEM         1          0                0  \n",
       "9                 0.0        MASC         0          1                0  \n",
       "10                0.0         FEM         1          0                0  \n",
       "11                0.0         FEM         1          0                0  \n",
       "12                0.0         FEM         1          0                0  \n",
       "13                0.0        MASC         0          1                0  \n",
       "14                0.0         FEM         1          0                0  \n",
       "15                0.0         FEM         1          0                0  \n",
       "16                0.0         FEM         1          0                0  \n",
       "17                0.0         FEM         1          0                0  \n",
       "18                0.0         FEM         1          0                0  \n",
       "19                0.0         FEM         1          0                0  \n",
       "20                0.0         FEM         1          0                0  \n",
       "21                0.0         FEM         1          0                0  \n",
       "22                0.0        MASC         0          1                0  \n",
       "23                0.0        MASC         0          1                0  \n",
       "24                0.0        MASC         0          1                0  \n",
       "25                0.0        MASC         0          1                0  \n",
       "26                0.0        MASC         0          1                0  \n",
       "27                0.0         FEM         1          0                0  \n",
       "28                0.0        MASC         0          1                0  \n",
       "29                0.0         FEM         1          0                0  \n",
       "...               ...         ...       ...        ...              ...  \n",
       "99970             0.0         FEM         1          0                0  \n",
       "99971             0.0         FEM         1          0                0  \n",
       "99972             0.0        MASC         0          1                0  \n",
       "99973             0.0         FEM         1          0                0  \n",
       "99974             0.0         FEM         1          0                0  \n",
       "99975             0.0         FEM         1          0                0  \n",
       "99976             0.0         FEM         1          0                0  \n",
       "99977             0.0         FEM         1          0                0  \n",
       "99978             0.0        MASC         0          1                0  \n",
       "99979             0.0         FEM         1          0                0  \n",
       "99980             0.0         FEM         1          0                0  \n",
       "99981             0.0         FEM         1          0                0  \n",
       "99982             0.0        MASC         0          1                0  \n",
       "99983             0.0         FEM         1          0                0  \n",
       "99984             0.0         FEM         1          0                0  \n",
       "99985             0.0         FEM         1          0                0  \n",
       "99986             0.0         FEM         1          0                0  \n",
       "99987             0.0        MASC         0          1                0  \n",
       "99988             0.0  NO_DECLARA         0          0                1  \n",
       "99989             0.0         FEM         1          0                0  \n",
       "99990             0.0         FEM         1          0                0  \n",
       "99991             0.0         FEM         1          0                0  \n",
       "99992             0.0         FEM         1          0                0  \n",
       "99993             0.0         FEM         1          0                0  \n",
       "99994             0.0         FEM         1          0                0  \n",
       "99995             0.0        MASC         0          1                0  \n",
       "99996             0.0         FEM         1          0                0  \n",
       "99997             0.0         FEM         1          0                0  \n",
       "99998             0.0         FEM         1          0                0  \n",
       "99999             0.0        MASC         0          1                0  \n",
       "\n",
       "[100000 rows x 43 columns]>"
      ]
     },
     "execution_count": 538,
     "metadata": {},
     "output_type": "execute_result"
    }
   ],
   "source": [
    "testingConVistasMergedGeneroOHC.info"
   ]
  },
  {
   "cell_type": "code",
   "execution_count": null,
   "metadata": {},
   "outputs": [],
   "source": []
  },
  {
   "cell_type": "code",
   "execution_count": 88,
   "metadata": {},
   "outputs": [],
   "source": [
    "datosConVistasSinPostu = postulantesGeneroOHC.drop(['idpais','sepostulo','idaviso','idpostulante','id','cantPostulaciones','testSet','sexo'],axis=1)\n",
    "testingConVistasFiltrado = testingConVistasMergedGeneroOHC.drop(['idpais','sepostulo','idaviso','idpostulante','id','cantPostulaciones','testSet','sexo'],axis=1)"
   ]
  },
  {
   "cell_type": "code",
   "execution_count": 588,
   "metadata": {},
   "outputs": [
    {
     "data": {
      "text/plain": [
       "36"
      ]
     },
     "execution_count": 588,
     "metadata": {},
     "output_type": "execute_result"
    }
   ],
   "source": [
    "datosConVistasSinPostu.columns.size"
   ]
  },
  {
   "cell_type": "code",
   "execution_count": 587,
   "metadata": {},
   "outputs": [
    {
     "data": {
      "text/plain": [
       "36"
      ]
     },
     "execution_count": 587,
     "metadata": {},
     "output_type": "execute_result"
    }
   ],
   "source": [
    "testingConVistasFiltrado.columns.size"
   ]
  },
  {
   "cell_type": "code",
   "execution_count": null,
   "metadata": {},
   "outputs": [],
   "source": []
  },
  {
   "cell_type": "code",
   "execution_count": 91,
   "metadata": {},
   "outputs": [],
   "source": [
    "from sklearn.preprocessing import Imputer\n",
    "imp = Imputer(missing_values='NaN', strategy='most_frequent', axis=0)\n",
    "datosForTrainingSinPostuSinNulos = imp.fit_transform(datosConVistasSinPostu)\n",
    "datosForTestFinalSinNulos = imp.fit_transform(testingConVistasFiltrado)"
   ]
  },
  {
   "cell_type": "code",
   "execution_count": 591,
   "metadata": {},
   "outputs": [],
   "source": [
    "X_train, X_validation, Y_train, Y_validation = model_selection.train_test_split(datosForTrainingSinPostuSinNulos, postulantesGeneroOHC['sepostulo'], test_size=0.7, random_state=7)"
   ]
  },
  {
   "cell_type": "code",
   "execution_count": 592,
   "metadata": {},
   "outputs": [],
   "source": [
    "models = []\n",
    "#models.append(('RF10', RandomForestRegressor(n_estimators=10, max_features='sqrt')))\n",
    "#models.append(('RF20', RandomForestRegressor(n_estimators=20, max_features='sqrt')))\n",
    "#models.append(('RF50',  RandomForestRegressor(n_estimators=50, max_features='sqrt')))\n",
    "#models.append(('RF60',  RandomForestRegressor(n_estimators=60, max_features='sqrt')))\n",
    "models.append(('RF100',  RandomForestRegressor(n_estimators=100, max_features='sqrt')))\n",
    "#models.append(('KNN 2', KNeighborsClassifier(n_neighbors=2)))\n",
    "#models.append(('KNN 3', KNeighborsClassifier(n_neighbors=3)))\n",
    "#models.append(('LR', linear_model.LinearRegression()))\n",
    "#models.append(('RIDGE.05', linear_model.Ridge (alpha = .5)))\n",
    "#models.append(('LASO.01', linear_model.Ridge (alpha = .1)))\n",
    "#models.append(('LASOLARS.05',linear_model.LassoLars (alpha = 0.5)))\n",
    "#models.append(('BAYESIAN',linear_model.BayesianRidge()))\n",
    "#models.append(('SVR',svm.LinearSVR()))\n",
    "#models.append(('DES-TREE',tree.DecisionTreeRegressor()))\n",
    "models.append(('DES-TREE',tree.DecisionTreeRegressor()))\n",
    "#models.append(('NB', GaussianNB()))\n",
    "#models.append(('LR', LogisticRegression()))\n",
    "#models.append(('LDA', LinearDiscriminantAnalysis()))\n",
    "\n",
    "\n",
    "\n",
    "for name, model in models:\n",
    "    m = model.fit(X_train, Y_train)\n",
    "    pruebas = m.predict(datosForTestFinalSinNulos)\n",
    "    archivo = pd.DataFrame()\n",
    "    archivo['id'] = testingSet.loc[:,['id']]\n",
    "    archivo['sepostulo'] = np.around(pruebas, decimals=0)\n",
    "    archivo.to_csv('entregas/'+'prueba8-'+ name +'.csv', index=False)"
   ]
  },
  {
   "cell_type": "markdown",
   "metadata": {},
   "source": [
    "# Mejoramos estudios"
   ]
  },
  {
   "cell_type": "code",
   "execution_count": 598,
   "metadata": {},
   "outputs": [],
   "source": [
    "#educacionOHC = pd.concat([postulantesEducacion,pd.get_dummies(postulantesEducacion['nombre'], prefix='educacion')],axis=1)"
   ]
  },
  {
   "cell_type": "code",
   "execution_count": 602,
   "metadata": {},
   "outputs": [
    {
     "data": {
      "text/html": [
       "<div>\n",
       "<style>\n",
       "    .dataframe thead tr:only-child th {\n",
       "        text-align: right;\n",
       "    }\n",
       "\n",
       "    .dataframe thead th {\n",
       "        text-align: left;\n",
       "    }\n",
       "\n",
       "    .dataframe tbody tr th {\n",
       "        vertical-align: top;\n",
       "    }\n",
       "</style>\n",
       "<table border=\"1\" class=\"dataframe\">\n",
       "  <thead>\n",
       "    <tr style=\"text-align: right;\">\n",
       "      <th></th>\n",
       "      <th>idpostulante</th>\n",
       "      <th>nombre</th>\n",
       "      <th>estado</th>\n",
       "    </tr>\n",
       "  </thead>\n",
       "  <tbody>\n",
       "    <tr>\n",
       "      <th>0</th>\n",
       "      <td>ZjlZ</td>\n",
       "      <td>Master</td>\n",
       "      <td>En Curso</td>\n",
       "    </tr>\n",
       "    <tr>\n",
       "      <th>1</th>\n",
       "      <td>NdJl</td>\n",
       "      <td>Posgrado</td>\n",
       "      <td>En Curso</td>\n",
       "    </tr>\n",
       "    <tr>\n",
       "      <th>2</th>\n",
       "      <td>5kNq</td>\n",
       "      <td>Otro</td>\n",
       "      <td>En Curso</td>\n",
       "    </tr>\n",
       "    <tr>\n",
       "      <th>3</th>\n",
       "      <td>8rYD</td>\n",
       "      <td>Master</td>\n",
       "      <td>En Curso</td>\n",
       "    </tr>\n",
       "    <tr>\n",
       "      <th>4</th>\n",
       "      <td>1Wvj</td>\n",
       "      <td>Universitario</td>\n",
       "      <td>En Curso</td>\n",
       "    </tr>\n",
       "  </tbody>\n",
       "</table>\n",
       "</div>"
      ],
      "text/plain": [
       "  idpostulante         nombre    estado\n",
       "0         ZjlZ         Master  En Curso\n",
       "1         NdJl       Posgrado  En Curso\n",
       "2         5kNq           Otro  En Curso\n",
       "3         8rYD         Master  En Curso\n",
       "4         1Wvj  Universitario  En Curso"
      ]
     },
     "execution_count": 602,
     "metadata": {},
     "output_type": "execute_result"
    }
   ],
   "source": [
    "postulantesEducacion.head()"
   ]
  },
  {
   "cell_type": "code",
   "execution_count": 92,
   "metadata": {},
   "outputs": [],
   "source": [
    "postulantesEducacion['nombreEstado'] = postulantesEducacion['nombre'] +\" - \" + postulantesEducacion['estado']"
   ]
  },
  {
   "cell_type": "code",
   "execution_count": 93,
   "metadata": {},
   "outputs": [],
   "source": [
    "educacionOHC = pd.concat([postulantesEducacion,pd.get_dummies(postulantesEducacion['nombreEstado'], prefix='educacion')],axis=1)"
   ]
  },
  {
   "cell_type": "code",
   "execution_count": 94,
   "metadata": {},
   "outputs": [],
   "source": [
    "educacionOHC.drop(['nombre','estado','nombreEstado'],axis=1,inplace=True)"
   ]
  },
  {
   "cell_type": "code",
   "execution_count": 95,
   "metadata": {},
   "outputs": [],
   "source": [
    "educacionOHCGP = educacionOHC.groupby('idpostulante').sum()"
   ]
  },
  {
   "cell_type": "code",
   "execution_count": 96,
   "metadata": {},
   "outputs": [],
   "source": [
    "educacionOHCGP = educacionOHCGP.reset_index()"
   ]
  },
  {
   "cell_type": "code",
   "execution_count": null,
   "metadata": {},
   "outputs": [],
   "source": []
  },
  {
   "cell_type": "code",
   "execution_count": 97,
   "metadata": {},
   "outputs": [],
   "source": [
    "##Mergeamos\n",
    "#postulantesGeneroOHC\n",
    "#testingConVistasMergedGeneroOHC\n",
    "\n",
    "datosTrainingConEstudios = pd.merge(postulantesGeneroOHC,educacionOHCGP,how='inner',on='idpostulante')"
   ]
  },
  {
   "cell_type": "code",
   "execution_count": 98,
   "metadata": {},
   "outputs": [],
   "source": [
    "datosTestingConEstudios = pd.merge(testingConVistasMergedGeneroOHC,educacionOHCGP,how='left',on='idpostulante')"
   ]
  },
  {
   "cell_type": "code",
   "execution_count": null,
   "metadata": {},
   "outputs": [],
   "source": []
  },
  {
   "cell_type": "code",
   "execution_count": 99,
   "metadata": {},
   "outputs": [],
   "source": [
    "datosConVistasSinPostu = datosTrainingConEstudios.drop(['idpais','sepostulo','idaviso','idpostulante','id','cantPostulaciones','testSet','sexo'],axis=1)\n",
    "testingConVistasFiltrado = datosTestingConEstudios.drop(['idpais','sepostulo','idaviso','idpostulante','id','cantPostulaciones','testSet','sexo'],axis=1)"
   ]
  },
  {
   "cell_type": "code",
   "execution_count": null,
   "metadata": {},
   "outputs": [],
   "source": []
  },
  {
   "cell_type": "code",
   "execution_count": 629,
   "metadata": {},
   "outputs": [],
   "source": [
    "from sklearn.preprocessing import Imputer\n",
    "imp = Imputer(missing_values='NaN', strategy='most_frequent', axis=0)\n",
    "datosForTrainingSinPostuSinNulos = imp.fit_transform(datosConVistasSinPostu)\n",
    "datosForTestFinalSinNulos = imp.fit_transform(testingConVistasFiltrado)"
   ]
  },
  {
   "cell_type": "code",
   "execution_count": 630,
   "metadata": {},
   "outputs": [],
   "source": [
    "X_train, X_validation, Y_train, Y_validation = model_selection.train_test_split(datosForTrainingSinPostuSinNulos, datosTrainingConEstudios['sepostulo'], test_size=0.7, random_state=7)"
   ]
  },
  {
   "cell_type": "code",
   "execution_count": 631,
   "metadata": {},
   "outputs": [],
   "source": [
    "models = []\n",
    "#models.append(('RF10', RandomForestRegressor(n_estimators=10, max_features='sqrt')))\n",
    "#models.append(('RF20', RandomForestRegressor(n_estimators=20, max_features='sqrt')))\n",
    "#models.append(('RF50',  RandomForestRegressor(n_estimators=50, max_features='sqrt')))\n",
    "#models.append(('RF60',  RandomForestRegressor(n_estimators=60, max_features='sqrt')))\n",
    "models.append(('RF100',  RandomForestRegressor(n_estimators=100, max_features='sqrt')))\n",
    "#models.append(('KNN 2', KNeighborsClassifier(n_neighbors=2)))\n",
    "#models.append(('KNN 3', KNeighborsClassifier(n_neighbors=3)))\n",
    "#models.append(('LR', linear_model.LinearRegression()))\n",
    "#models.append(('RIDGE.05', linear_model.Ridge (alpha = .5)))\n",
    "#models.append(('LASO.01', linear_model.Ridge (alpha = .1)))\n",
    "#models.append(('LASOLARS.05',linear_model.LassoLars (alpha = 0.5)))\n",
    "#models.append(('BAYESIAN',linear_model.BayesianRidge()))\n",
    "#models.append(('SVR',svm.LinearSVR()))\n",
    "#models.append(('DES-TREE',tree.DecisionTreeRegressor()))\n",
    "models.append(('DES-TREE',tree.DecisionTreeRegressor()))\n",
    "#models.append(('NB', GaussianNB()))\n",
    "#models.append(('LR', LogisticRegression()))\n",
    "#models.append(('LDA', LinearDiscriminantAnalysis()))\n",
    "\n",
    "\n",
    "\n",
    "for name, model in models:\n",
    "    m = model.fit(X_train, Y_train)\n",
    "    pruebas = m.predict(datosForTestFinalSinNulos)\n",
    "    archivo = pd.DataFrame()\n",
    "    archivo['id'] = testingSet.loc[:,['id']]\n",
    "    archivo['sepostulo'] = np.around(pruebas, decimals=0)\n",
    "    archivo.to_csv('entregas/'+'prueba9-'+ name +'.csv', index=False)"
   ]
  },
  {
   "cell_type": "markdown",
   "metadata": {},
   "source": [
    "# Agregamos nombre area (Hasta ahora la mejor)"
   ]
  },
  {
   "cell_type": "code",
   "execution_count": 637,
   "metadata": {},
   "outputs": [],
   "source": [
    "from sklearn.feature_extraction.text import TfidfVectorizer\n",
    "\n",
    "TFIDF = TfidfVectorizer()\n",
    "areaConTFIDF = TFIDF.fit_transform(avisosDetalle['nombre_area']);\n"
   ]
  },
  {
   "cell_type": "code",
   "execution_count": 650,
   "metadata": {},
   "outputs": [],
   "source": [
    "from sklearn.base import BaseEstimator, TransformerMixin\n",
    "\n",
    "class NicoTransformer(BaseEstimator, TransformerMixin):\n",
    "\n",
    "    def __init__(self):\n",
    "        self\n",
    "\n",
    "    def transform(self, X, y=None):\n",
    "        return X\n",
    "\n",
    "    def fit(self, X, y=None):\n",
    "        return self"
   ]
  },
  {
   "cell_type": "code",
   "execution_count": 769,
   "metadata": {},
   "outputs": [],
   "source": [
    "#Creamos un pipeline\n",
    "\n",
    "from sklearn.pipeline import make_union, make_pipeline\n",
    "from sklearn.preprocessing import FunctionTransformer\n",
    "from sklearn.feature_extraction.text import TfidfTransformer\n",
    "from sklearn.pipeline import Pipeline, FeatureUnion\n",
    "\n",
    "\n",
    "def getTextCols(df):\n",
    "    return df[['titulo','nombre_area','descripcion']];\n",
    "\n",
    "def getResto(df):\n",
    "    return df.drop(['titulo','nombre_area','descripcion'],axis=1);\n",
    "\n",
    "\n",
    "class ArrayCaster(BaseEstimator, TransformerMixin):\n",
    "  def fit(self, x, y=None):\n",
    "    return self\n",
    "\n",
    "  def transform(self, data):\n",
    "    return  np.array(list(data))\n",
    "\n",
    "\n",
    "vec = make_union(*[\n",
    "    make_pipeline(FunctionTransformer(getTextCols, validate=False),TfidfVectorizer())\n",
    "])"
   ]
  },
  {
   "cell_type": "code",
   "execution_count": null,
   "metadata": {},
   "outputs": [],
   "source": []
  },
  {
   "cell_type": "code",
   "execution_count": 100,
   "metadata": {},
   "outputs": [],
   "source": [
    "detalleTodas = pd.concat([avisosDetalle, avisosDetallesCompletos])"
   ]
  },
  {
   "cell_type": "code",
   "execution_count": null,
   "metadata": {},
   "outputs": [],
   "source": []
  },
  {
   "cell_type": "code",
   "execution_count": null,
   "metadata": {},
   "outputs": [],
   "source": []
  },
  {
   "cell_type": "code",
   "execution_count": 101,
   "metadata": {},
   "outputs": [],
   "source": [
    "detalleTodas['cantidadNombre'] = 1\n",
    "detalleTodas['cantidadNombre'].fillna('Otros')\n",
    "detalleTodasGP = detalleTodas.groupby('nombre_area').sum()"
   ]
  },
  {
   "cell_type": "code",
   "execution_count": 102,
   "metadata": {},
   "outputs": [],
   "source": [
    "detalleTodasGP = detalleTodasGP.reset_index()\n",
    "detalleTodasFiltered = detalleTodasGP[['nombre_area','cantidadNombre']]"
   ]
  },
  {
   "cell_type": "code",
   "execution_count": null,
   "metadata": {},
   "outputs": [],
   "source": []
  },
  {
   "cell_type": "code",
   "execution_count": 984,
   "metadata": {},
   "outputs": [
    {
     "data": {
      "text/html": [
       "<div>\n",
       "<style>\n",
       "    .dataframe thead tr:only-child th {\n",
       "        text-align: right;\n",
       "    }\n",
       "\n",
       "    .dataframe thead th {\n",
       "        text-align: left;\n",
       "    }\n",
       "\n",
       "    .dataframe tbody tr th {\n",
       "        vertical-align: top;\n",
       "    }\n",
       "</style>\n",
       "<table border=\"1\" class=\"dataframe\">\n",
       "  <thead>\n",
       "    <tr style=\"text-align: right;\">\n",
       "      <th></th>\n",
       "      <th>nombre_area</th>\n",
       "      <th>cantidadNombre</th>\n",
       "    </tr>\n",
       "  </thead>\n",
       "  <tbody>\n",
       "    <tr>\n",
       "      <th>0</th>\n",
       "      <td>Abastecimiento</td>\n",
       "      <td>152</td>\n",
       "    </tr>\n",
       "    <tr>\n",
       "      <th>1</th>\n",
       "      <td>Administracion de Seguros</td>\n",
       "      <td>46</td>\n",
       "    </tr>\n",
       "    <tr>\n",
       "      <th>2</th>\n",
       "      <td>Administración</td>\n",
       "      <td>2215</td>\n",
       "    </tr>\n",
       "    <tr>\n",
       "      <th>3</th>\n",
       "      <td>Administración de Base de Datos</td>\n",
       "      <td>29</td>\n",
       "    </tr>\n",
       "    <tr>\n",
       "      <th>4</th>\n",
       "      <td>Administración de Personal</td>\n",
       "      <td>376</td>\n",
       "    </tr>\n",
       "  </tbody>\n",
       "</table>\n",
       "</div>"
      ],
      "text/plain": [
       "                       nombre_area  cantidadNombre\n",
       "0                   Abastecimiento             152\n",
       "1        Administracion de Seguros              46\n",
       "2                   Administración            2215\n",
       "3  Administración de Base de Datos              29\n",
       "4       Administración de Personal             376"
      ]
     },
     "execution_count": 984,
     "metadata": {},
     "output_type": "execute_result"
    }
   ],
   "source": [
    "detalleTodasFiltered.head()"
   ]
  },
  {
   "cell_type": "code",
   "execution_count": 104,
   "metadata": {},
   "outputs": [],
   "source": [
    "avisosDetalleF = avisosDetalle[['idaviso','nombre_area']]\n",
    "trainingMergeadoConDetalle = pd.merge(datosTrainingConEstudios,avisosDetalleF,on='idaviso',how='inner')"
   ]
  },
  {
   "cell_type": "code",
   "execution_count": 991,
   "metadata": {},
   "outputs": [],
   "source": []
  },
  {
   "cell_type": "code",
   "execution_count": 105,
   "metadata": {},
   "outputs": [],
   "source": [
    "adf = avisosDetallesCompletos[['idaviso','nombre_area']]\n",
    "testingMergeadoConDetalle = pd.merge(datosTestingConEstudios,adf,on='idaviso',how='left')"
   ]
  },
  {
   "cell_type": "code",
   "execution_count": null,
   "metadata": {},
   "outputs": [],
   "source": []
  },
  {
   "cell_type": "code",
   "execution_count": 973,
   "metadata": {},
   "outputs": [],
   "source": []
  },
  {
   "cell_type": "code",
   "execution_count": 974,
   "metadata": {},
   "outputs": [],
   "source": []
  },
  {
   "cell_type": "code",
   "execution_count": 106,
   "metadata": {},
   "outputs": [],
   "source": [
    "testingConCantNombre = pd.merge(testingMergeadoConDetalle,detalleTodasFiltered,on='nombre_area',how='left')\n",
    "trainingConCantNombre = pd.merge(trainingMergeadoConDetalle,detalleTodasFiltered,on='nombre_area',how='inner')"
   ]
  },
  {
   "cell_type": "code",
   "execution_count": null,
   "metadata": {},
   "outputs": [],
   "source": []
  },
  {
   "cell_type": "code",
   "execution_count": 1014,
   "metadata": {},
   "outputs": [
    {
     "data": {
      "text/plain": [
       "67"
      ]
     },
     "execution_count": 1014,
     "metadata": {},
     "output_type": "execute_result"
    }
   ],
   "source": [
    "testingConCantNombre.columns.size"
   ]
  },
  {
   "cell_type": "code",
   "execution_count": 1015,
   "metadata": {},
   "outputs": [
    {
     "data": {
      "text/plain": [
       "67"
      ]
     },
     "execution_count": 1015,
     "metadata": {},
     "output_type": "execute_result"
    }
   ],
   "source": [
    "trainingConCantNombre.columns.size"
   ]
  },
  {
   "cell_type": "code",
   "execution_count": 109,
   "metadata": {},
   "outputs": [],
   "source": [
    "datosConVistasSinPostu = trainingConCantNombre.drop(['idpais','sepostulo','idaviso','idpostulante','id','cantPostulaciones','testSet','sexo','nombre_area'],axis=1)\n",
    "testingConVistasFiltrado = testingConCantNombre.drop(['idpais','sepostulo','idaviso','idpostulante','id','cantPostulaciones','testSet','sexo','nombre_area'],axis=1)"
   ]
  },
  {
   "cell_type": "code",
   "execution_count": 110,
   "metadata": {},
   "outputs": [],
   "source": [
    "from sklearn.preprocessing import Imputer\n",
    "imp = Imputer(missing_values='NaN', strategy='most_frequent', axis=0)\n",
    "datosForTrainingSinPostuSinNulos = imp.fit_transform(datosConVistasSinPostu)\n",
    "datosForTestFinalSinNulos = imp.fit_transform(testingConVistasFiltrado)"
   ]
  },
  {
   "cell_type": "code",
   "execution_count": 111,
   "metadata": {},
   "outputs": [],
   "source": [
    "X_train, X_validation, Y_train, Y_validation = model_selection.train_test_split(datosForTrainingSinPostuSinNulos, trainingConCantNombre['sepostulo'], test_size=0.7, random_state=7)"
   ]
  },
  {
   "cell_type": "code",
   "execution_count": 116,
   "metadata": {},
   "outputs": [
    {
     "data": {
      "text/plain": [
       "59"
      ]
     },
     "execution_count": 116,
     "metadata": {},
     "output_type": "execute_result"
    }
   ],
   "source": [
    "datosConVistasSinPostu.columns.size"
   ]
  },
  {
   "cell_type": "code",
   "execution_count": 113,
   "metadata": {},
   "outputs": [],
   "source": [
    "models = []\n",
    "#models.append(('RF10', RandomForestRegressor(n_estimators=10, max_features='sqrt')))\n",
    "#models.append(('RF20', RandomForestRegressor(n_estimators=20, max_features='sqrt')))\n",
    "#models.append(('RF50',  RandomForestRegressor(n_estimators=50, max_features='sqrt')))\n",
    "#models.append(('RF60',  RandomForestRegressor(n_estimators=60, max_features='sqrt')))\n",
    "models.append(('RF100',  RandomForestRegressor(n_estimators=100, max_features='sqrt')))\n",
    "#models.append(('RF100',  RandomForestClassifier(n_estimators=100, max_features='sqrt')))\n",
    "#models.append(('KNN 2', KNeighborsClassifier(n_neighbors=2)))\n",
    "#models.append(('KNN 3', KNeighborsClassifier(n_neighbors=3)))\n",
    "#models.append(('LR', linear_model.LinearRegression()))\n",
    "#models.append(('RIDGE.05', linear_model.Ridge (alpha = .5)))\n",
    "#models.append(('LASO.01', linear_model.Ridge (alpha = .1)))\n",
    "#models.append(('LASOLARS.05',linear_model.LassoLars (alpha = 0.5)))\n",
    "#models.append(('BAYESIAN',linear_model.BayesianRidge()))\n",
    "#models.append(('SVR',svm.LinearSVR()))\n",
    "#models.append(('DES-TREE',tree.DecisionTreeRegressor()))\n",
    "models.append(('DES-TREE',tree.DecisionTreeRegressor()))\n",
    "#models.append(('NB', GaussianNB()))\n",
    "#models.append(('LR', LogisticRegression()))\n",
    "#models.append(('LDA', LinearDiscriminantAnalysis()))\n",
    "\n",
    "\n",
    "\n",
    "for name, model in models:\n",
    "    m = model.fit(X_train, Y_train)\n",
    "    pruebas = m.predict(datosForTestFinalSinNulos)\n",
    "    archivo = pd.DataFrame()\n",
    "    archivo['id'] = testingSet.loc[:,['id']]\n",
    "    archivo['sepostulo'] = np.around(pruebas, decimals=0)\n",
    "    #archivo.to_csv('entregas/'+'prueba10-'+ name +'.csv', index=False)\n",
    "    #archivo.to_csv('entregas/'+'prueba15-'+ name +'.csv', index=False)\n",
    "    archivo.to_csv('entregas/'+'pruebaRE-ENTRENAMIENTO-15-2'+ name +'.csv', index=False)"
   ]
  },
  {
   "cell_type": "markdown",
   "metadata": {},
   "source": [
    "# Pruebo eliminando duplicados en training set -- DA PEOR"
   ]
  },
  {
   "cell_type": "code",
   "execution_count": 1036,
   "metadata": {},
   "outputs": [],
   "source": [
    "trainingConCantNombreSinDuplicados = trainingConCantNombre.drop_duplicates(subset=['idaviso','idpostulante'])"
   ]
  },
  {
   "cell_type": "code",
   "execution_count": 1037,
   "metadata": {},
   "outputs": [],
   "source": [
    "datosConVistasSinPostu = trainingConCantNombreSinDuplicados.drop(['idpais','sepostulo','idaviso','idpostulante','id','cantPostulaciones','testSet','sexo','nombre_area'],axis=1)\n",
    "testingConVistasFiltrado = testingConCantNombre.drop(['idpais','sepostulo','idaviso','idpostulante','id','cantPostulaciones','testSet','sexo','nombre_area'],axis=1)"
   ]
  },
  {
   "cell_type": "code",
   "execution_count": 1038,
   "metadata": {},
   "outputs": [],
   "source": [
    "from sklearn.preprocessing import Imputer\n",
    "imp = Imputer(missing_values='NaN', strategy='most_frequent', axis=0)\n",
    "datosForTrainingSinPostuSinNulos = imp.fit_transform(datosConVistasSinPostu)\n",
    "datosForTestFinalSinNulos = imp.fit_transform(testingConVistasFiltrado)"
   ]
  },
  {
   "cell_type": "code",
   "execution_count": 1039,
   "metadata": {},
   "outputs": [],
   "source": [
    "X_train, X_validation, Y_train, Y_validation = model_selection.train_test_split(datosForTrainingSinPostuSinNulos, trainingConCantNombreSinDuplicados['sepostulo'], test_size=0.7, random_state=7)"
   ]
  },
  {
   "cell_type": "code",
   "execution_count": 1040,
   "metadata": {},
   "outputs": [],
   "source": [
    "models = []\n",
    "\n",
    "models.append(('RF100',  RandomForestRegressor(n_estimators=100, max_features='sqrt')))\n",
    "models.append(('DES-TREE',tree.DecisionTreeRegressor()))\n",
    "\n",
    "for name, model in models:\n",
    "    m = model.fit(X_train, Y_train)\n",
    "    pruebas = m.predict(datosForTestFinalSinNulos)\n",
    "    archivo = pd.DataFrame()\n",
    "    archivo['id'] = testingSet.loc[:,['id']]\n",
    "    archivo['sepostulo'] = np.around(pruebas, decimals=0)\n",
    "    archivo.to_csv('entregas/'+'prueba11-'+ name +'.csv', index=False)\n",
    "    \n",
    "    \n",
    "    "
   ]
  },
  {
   "cell_type": "markdown",
   "metadata": {},
   "source": [
    "# Agregamos titulo"
   ]
  },
  {
   "cell_type": "code",
   "execution_count": 1079,
   "metadata": {},
   "outputs": [],
   "source": [
    "#Mala prueba"
   ]
  },
  {
   "cell_type": "code",
   "execution_count": 1046,
   "metadata": {},
   "outputs": [],
   "source": [
    "#testingConCantNombre\n",
    "#trainingConCantNombre\n",
    "\n",
    "\n",
    "adf = avisosDetallesCompletos[['idaviso','titulo']]\n",
    "testingConTitulo = pd.merge(testingConCantNombre,adf,on='idaviso',how='left')"
   ]
  },
  {
   "cell_type": "code",
   "execution_count": 1047,
   "metadata": {},
   "outputs": [],
   "source": [
    "avisosDetalleF = avisosDetalle[['idaviso','titulo']]\n",
    "trainingConTitulo = pd.merge(trainingConCantNombre,avisosDetalleF,on='idaviso',how='inner')"
   ]
  },
  {
   "cell_type": "code",
   "execution_count": 1048,
   "metadata": {},
   "outputs": [],
   "source": []
  },
  {
   "cell_type": "code",
   "execution_count": 1053,
   "metadata": {},
   "outputs": [
    {
     "name": "stderr",
     "output_type": "stream",
     "text": [
      "C:\\Users\\nicol\\Anaconda3\\lib\\site-packages\\ipykernel_launcher.py:1: SettingWithCopyWarning: \n",
      "A value is trying to be set on a copy of a slice from a DataFrame.\n",
      "Try using .loc[row_indexer,col_indexer] = value instead\n",
      "\n",
      "See the caveats in the documentation: http://pandas.pydata.org/pandas-docs/stable/indexing.html#indexing-view-versus-copy\n",
      "  \"\"\"Entry point for launching an IPython kernel.\n"
     ]
    }
   ],
   "source": [
    "avisosDetalleF['cantidadTitulo'] = 1\n",
    "avg = avisosDetalleF.groupby('titulo').sum()"
   ]
  },
  {
   "cell_type": "code",
   "execution_count": 1060,
   "metadata": {},
   "outputs": [
    {
     "name": "stderr",
     "output_type": "stream",
     "text": [
      "C:\\Users\\nicol\\Anaconda3\\lib\\site-packages\\ipykernel_launcher.py:1: SettingWithCopyWarning: \n",
      "A value is trying to be set on a copy of a slice from a DataFrame.\n",
      "Try using .loc[row_indexer,col_indexer] = value instead\n",
      "\n",
      "See the caveats in the documentation: http://pandas.pydata.org/pandas-docs/stable/indexing.html#indexing-view-versus-copy\n",
      "  \"\"\"Entry point for launching an IPython kernel.\n"
     ]
    }
   ],
   "source": [
    "adf['cantidadTitulo'] = 1\n",
    "adfg = adf.groupby('titulo').sum()"
   ]
  },
  {
   "cell_type": "code",
   "execution_count": 1062,
   "metadata": {},
   "outputs": [],
   "source": [
    "adfg = adfg.reset_index();\n",
    "adfg.drop('idaviso',inplace=True,axis=1)"
   ]
  },
  {
   "cell_type": "code",
   "execution_count": null,
   "metadata": {},
   "outputs": [],
   "source": []
  },
  {
   "cell_type": "code",
   "execution_count": 1056,
   "metadata": {},
   "outputs": [
    {
     "data": {
      "text/html": [
       "<div>\n",
       "<style>\n",
       "    .dataframe thead tr:only-child th {\n",
       "        text-align: right;\n",
       "    }\n",
       "\n",
       "    .dataframe thead th {\n",
       "        text-align: left;\n",
       "    }\n",
       "\n",
       "    .dataframe tbody tr th {\n",
       "        vertical-align: top;\n",
       "    }\n",
       "</style>\n",
       "<table border=\"1\" class=\"dataframe\">\n",
       "  <thead>\n",
       "    <tr style=\"text-align: right;\">\n",
       "      <th></th>\n",
       "      <th>idaviso</th>\n",
       "      <th>cantidadTitulo</th>\n",
       "    </tr>\n",
       "    <tr>\n",
       "      <th>titulo</th>\n",
       "      <th></th>\n",
       "      <th></th>\n",
       "    </tr>\n",
       "  </thead>\n",
       "  <tbody>\n",
       "    <tr>\n",
       "      <th>Analista Contable</th>\n",
       "      <td>35593204537</td>\n",
       "      <td>32</td>\n",
       "    </tr>\n",
       "    <tr>\n",
       "      <th>Administrativo Contable</th>\n",
       "      <td>28921237557</td>\n",
       "      <td>26</td>\n",
       "    </tr>\n",
       "    <tr>\n",
       "      <th>Analista de Testing manual Ssr. // Zona Recoleta CABA</th>\n",
       "      <td>22246263586</td>\n",
       "      <td>20</td>\n",
       "    </tr>\n",
       "    <tr>\n",
       "      <th>Vendedor</th>\n",
       "      <td>22246291121</td>\n",
       "      <td>20</td>\n",
       "    </tr>\n",
       "    <tr>\n",
       "      <th>Analistas de Testing Ssr/Sr con Automatización // MENDOZA</th>\n",
       "      <td>22246262600</td>\n",
       "      <td>20</td>\n",
       "    </tr>\n",
       "    <tr>\n",
       "      <th>Desarrolladores .NET C# nivel Jr. / de 6 a 18 meses de exp</th>\n",
       "      <td>21133757680</td>\n",
       "      <td>19</td>\n",
       "    </tr>\n",
       "    <tr>\n",
       "      <th>Analista de inteligencia comercial</th>\n",
       "      <td>21133239793</td>\n",
       "      <td>19</td>\n",
       "    </tr>\n",
       "    <tr>\n",
       "      <th>Ejecutivo de Ventas</th>\n",
       "      <td>20018610334</td>\n",
       "      <td>18</td>\n",
       "    </tr>\n",
       "    <tr>\n",
       "      <th>Desarrolladores JAVA SOA / JBOSS RED HAT // Zona Recoleta</th>\n",
       "      <td>20021759762</td>\n",
       "      <td>18</td>\n",
       "    </tr>\n",
       "    <tr>\n",
       "      <th>Analista Sr. de Arquitectura de Software JAVA - CABA</th>\n",
       "      <td>18909804564</td>\n",
       "      <td>17</td>\n",
       "    </tr>\n",
       "    <tr>\n",
       "      <th>Analista Funcional</th>\n",
       "      <td>17686775421</td>\n",
       "      <td>16</td>\n",
       "    </tr>\n",
       "    <tr>\n",
       "      <th>Asistente Comercial</th>\n",
       "      <td>17797987490</td>\n",
       "      <td>16</td>\n",
       "    </tr>\n",
       "    <tr>\n",
       "      <th>Jefe de Ventas</th>\n",
       "      <td>17797338472</td>\n",
       "      <td>16</td>\n",
       "    </tr>\n",
       "    <tr>\n",
       "      <th>Asesor Comercial</th>\n",
       "      <td>15572836615</td>\n",
       "      <td>14</td>\n",
       "    </tr>\n",
       "    <tr>\n",
       "      <th>Programador C# .NET Sr. // Zona Tribunales</th>\n",
       "      <td>15572400736</td>\n",
       "      <td>14</td>\n",
       "    </tr>\n",
       "    <tr>\n",
       "      <th>Recepcionista</th>\n",
       "      <td>15572691336</td>\n",
       "      <td>14</td>\n",
       "    </tr>\n",
       "    <tr>\n",
       "      <th>Developers JAVA Ssr/Sr. - LA PLATA</th>\n",
       "      <td>14459834629</td>\n",
       "      <td>13</td>\n",
       "    </tr>\n",
       "    <tr>\n",
       "      <th>Ejecutivo Comercial</th>\n",
       "      <td>14460480254</td>\n",
       "      <td>13</td>\n",
       "    </tr>\n",
       "    <tr>\n",
       "      <th>Gerente Comercial</th>\n",
       "      <td>14460036156</td>\n",
       "      <td>13</td>\n",
       "    </tr>\n",
       "    <tr>\n",
       "      <th>Desarrollador C# y SQL Server (  zona BELGRANO - CABA ) URGENTE!!</th>\n",
       "      <td>14460881942</td>\n",
       "      <td>13</td>\n",
       "    </tr>\n",
       "    <tr>\n",
       "      <th>Desarrolladores .NET ( zona BELGRANO - CABA ) URGENTE!!</th>\n",
       "      <td>14460881792</td>\n",
       "      <td>13</td>\n",
       "    </tr>\n",
       "    <tr>\n",
       "      <th>Programadores Visual FOXPRO ( zona BELGRANO - CABA ) URGENTE!!!</th>\n",
       "      <td>13348468460</td>\n",
       "      <td>12</td>\n",
       "    </tr>\n",
       "    <tr>\n",
       "      <th>Analista de Soporte Técnico Ssr. // Zona Palermo</th>\n",
       "      <td>13347555039</td>\n",
       "      <td>12</td>\n",
       "    </tr>\n",
       "    <tr>\n",
       "      <th>Vendedor plan de ahorro - Telemarketer TOYOTA</th>\n",
       "      <td>12235363172</td>\n",
       "      <td>11</td>\n",
       "    </tr>\n",
       "    <tr>\n",
       "      <th>Técnico Electromecánico</th>\n",
       "      <td>11122574261</td>\n",
       "      <td>10</td>\n",
       "    </tr>\n",
       "    <tr>\n",
       "      <th>Analista Comercial</th>\n",
       "      <td>11122855940</td>\n",
       "      <td>10</td>\n",
       "    </tr>\n",
       "    <tr>\n",
       "      <th>Supervisor de Producción</th>\n",
       "      <td>11123303681</td>\n",
       "      <td>10</td>\n",
       "    </tr>\n",
       "    <tr>\n",
       "      <th>Ejecutivo de Cuentas</th>\n",
       "      <td>11123085396</td>\n",
       "      <td>10</td>\n",
       "    </tr>\n",
       "    <tr>\n",
       "      <th>Analista de Cobranzas</th>\n",
       "      <td>11123658851</td>\n",
       "      <td>10</td>\n",
       "    </tr>\n",
       "    <tr>\n",
       "      <th>ANALISTA ADMINISTRATIVO CONTABLE</th>\n",
       "      <td>11123565083</td>\n",
       "      <td>10</td>\n",
       "    </tr>\n",
       "    <tr>\n",
       "      <th>...</th>\n",
       "      <td>...</td>\n",
       "      <td>...</td>\n",
       "    </tr>\n",
       "    <tr>\n",
       "      <th>Contador Sr.</th>\n",
       "      <td>1112421209</td>\n",
       "      <td>1</td>\n",
       "    </tr>\n",
       "    <tr>\n",
       "      <th>Contador (Administrativo Contable) Paraná</th>\n",
       "      <td>1112394304</td>\n",
       "      <td>1</td>\n",
       "    </tr>\n",
       "    <tr>\n",
       "      <th>Contables Jr. | Ssr. | Sr.</th>\n",
       "      <td>1112429426</td>\n",
       "      <td>1</td>\n",
       "    </tr>\n",
       "    <tr>\n",
       "      <th>Consultor en Auditoría Externa para Industria Bancaria</th>\n",
       "      <td>1112242196</td>\n",
       "      <td>1</td>\n",
       "    </tr>\n",
       "    <tr>\n",
       "      <th>Consultor/a Training para importante proyecto de 6 meses</th>\n",
       "      <td>1112368096</td>\n",
       "      <td>1</td>\n",
       "    </tr>\n",
       "    <tr>\n",
       "      <th>Consultor en Implementaciones de Tecnologías de Management (Microsoft)</th>\n",
       "      <td>1112408823</td>\n",
       "      <td>1</td>\n",
       "    </tr>\n",
       "    <tr>\n",
       "      <th>Consultor en Mensajería Microsoft</th>\n",
       "      <td>1112452177</td>\n",
       "      <td>1</td>\n",
       "    </tr>\n",
       "    <tr>\n",
       "      <th>Consultor en Riesgos y Finanza ( Córdoba)</th>\n",
       "      <td>1112441782</td>\n",
       "      <td>1</td>\n",
       "    </tr>\n",
       "    <tr>\n",
       "      <th>Consultor en Seguridad SAP Senior (ECC, MÓDULOS FI  MM  PS  PM  HR  CO,  SOLMAN)</th>\n",
       "      <td>1112296428</td>\n",
       "      <td>1</td>\n",
       "    </tr>\n",
       "    <tr>\n",
       "      <th>Consultor en Seguridad de Bases de Datos.</th>\n",
       "      <td>1112208545</td>\n",
       "      <td>1</td>\n",
       "    </tr>\n",
       "    <tr>\n",
       "      <th>Consultor para Implementaciones de Software Financiero</th>\n",
       "      <td>1112394689</td>\n",
       "      <td>1</td>\n",
       "    </tr>\n",
       "    <tr>\n",
       "      <th>Consultor para Proyectos Comerciales en el Exterior (posición eventual)</th>\n",
       "      <td>1112277406</td>\n",
       "      <td>1</td>\n",
       "    </tr>\n",
       "    <tr>\n",
       "      <th>Consultor/Administrador Aplicaciones DOCUMENTUM JBOSS TOMCAD</th>\n",
       "      <td>1112346093</td>\n",
       "      <td>1</td>\n",
       "    </tr>\n",
       "    <tr>\n",
       "      <th>Consultor/a Comercial con experiencia en Industria para Capital Federal</th>\n",
       "      <td>1112381820</td>\n",
       "      <td>1</td>\n",
       "    </tr>\n",
       "    <tr>\n",
       "      <th>Consultor/a Selección - Consultoría de RRHH  San Isidro</th>\n",
       "      <td>1112392159</td>\n",
       "      <td>1</td>\n",
       "    </tr>\n",
       "    <tr>\n",
       "      <th>Consultor/a Training Zona Sur</th>\n",
       "      <td>1112457669</td>\n",
       "      <td>1</td>\n",
       "    </tr>\n",
       "    <tr>\n",
       "      <th>Consultor/a de Belleza - Rosario</th>\n",
       "      <td>1112269815</td>\n",
       "      <td>1</td>\n",
       "    </tr>\n",
       "    <tr>\n",
       "      <th>Contable para liquidación Impuestos</th>\n",
       "      <td>1112309622</td>\n",
       "      <td>1</td>\n",
       "    </tr>\n",
       "    <tr>\n",
       "      <th>Consultor/a de Belleza - Tucumán</th>\n",
       "      <td>1112463131</td>\n",
       "      <td>1</td>\n",
       "    </tr>\n",
       "    <tr>\n",
       "      <th>Consultor/a de Búsqueda y Selección - Sucursal Olivos</th>\n",
       "      <td>1112341125</td>\n",
       "      <td>1</td>\n",
       "    </tr>\n",
       "    <tr>\n",
       "      <th>Consultor/a de Capacitación &amp; Consultoria</th>\n",
       "      <td>1112205015</td>\n",
       "      <td>1</td>\n",
       "    </tr>\n",
       "    <tr>\n",
       "      <th>Consultor/a en Diseño y Mejora de Organización y Procesos de la Función Comercial</th>\n",
       "      <td>1112361505</td>\n",
       "      <td>1</td>\n",
       "    </tr>\n",
       "    <tr>\n",
       "      <th>Consultora radicada en Martínez, incorporará asistente ejecutiva</th>\n",
       "      <td>1112346547</td>\n",
       "      <td>1</td>\n",
       "    </tr>\n",
       "    <tr>\n",
       "      <th>Consultoras/es  de belleza - Capital Federal</th>\n",
       "      <td>1112269771</td>\n",
       "      <td>1</td>\n",
       "    </tr>\n",
       "    <tr>\n",
       "      <th>Consultores Funcionales Junior</th>\n",
       "      <td>1112310794</td>\n",
       "      <td>1</td>\n",
       "    </tr>\n",
       "    <tr>\n",
       "      <th>Consultores PMO</th>\n",
       "      <td>1112370979</td>\n",
       "      <td>1</td>\n",
       "    </tr>\n",
       "    <tr>\n",
       "      <th>Consultores SAP</th>\n",
       "      <td>1112252728</td>\n",
       "      <td>1</td>\n",
       "    </tr>\n",
       "    <tr>\n",
       "      <th>Consultores SAP ( PM/MM/FI )</th>\n",
       "      <td>1112285881</td>\n",
       "      <td>1</td>\n",
       "    </tr>\n",
       "    <tr>\n",
       "      <th>Consultores SAP FICO</th>\n",
       "      <td>1112381751</td>\n",
       "      <td>1</td>\n",
       "    </tr>\n",
       "    <tr>\n",
       "      <th>Óptico técnico para zona Sur</th>\n",
       "      <td>1112266386</td>\n",
       "      <td>1</td>\n",
       "    </tr>\n",
       "  </tbody>\n",
       "</table>\n",
       "<p>15337 rows × 2 columns</p>\n",
       "</div>"
      ],
      "text/plain": [
       "                                                        idaviso  \\\n",
       "titulo                                                            \n",
       "Analista Contable                                   35593204537   \n",
       "Administrativo Contable                             28921237557   \n",
       "Analista de Testing manual Ssr. // Zona Recolet...  22246263586   \n",
       "Vendedor                                            22246291121   \n",
       "Analistas de Testing Ssr/Sr con Automatización ...  22246262600   \n",
       "Desarrolladores .NET C# nivel Jr. / de 6 a 18 m...  21133757680   \n",
       "Analista de inteligencia comercial                  21133239793   \n",
       "Ejecutivo de Ventas                                 20018610334   \n",
       "Desarrolladores JAVA SOA / JBOSS RED HAT // Zon...  20021759762   \n",
       "Analista Sr. de Arquitectura de Software JAVA -...  18909804564   \n",
       "Analista Funcional                                  17686775421   \n",
       "Asistente Comercial                                 17797987490   \n",
       "Jefe de Ventas                                      17797338472   \n",
       "Asesor Comercial                                    15572836615   \n",
       "Programador C# .NET Sr. // Zona Tribunales          15572400736   \n",
       "Recepcionista                                       15572691336   \n",
       "Developers JAVA Ssr/Sr. - LA PLATA                  14459834629   \n",
       "Ejecutivo Comercial                                 14460480254   \n",
       "Gerente Comercial                                   14460036156   \n",
       "Desarrollador C# y SQL Server (  zona BELGRANO ...  14460881942   \n",
       "Desarrolladores .NET ( zona BELGRANO - CABA ) U...  14460881792   \n",
       "Programadores Visual FOXPRO ( zona BELGRANO - C...  13348468460   \n",
       "Analista de Soporte Técnico Ssr. // Zona Palermo    13347555039   \n",
       "Vendedor plan de ahorro - Telemarketer TOYOTA       12235363172   \n",
       "Técnico Electromecánico                             11122574261   \n",
       "Analista Comercial                                  11122855940   \n",
       "Supervisor de Producción                            11123303681   \n",
       "Ejecutivo de Cuentas                                11123085396   \n",
       "Analista de Cobranzas                               11123658851   \n",
       "ANALISTA ADMINISTRATIVO CONTABLE                    11123565083   \n",
       "...                                                         ...   \n",
       "Contador Sr.                                         1112421209   \n",
       "Contador (Administrativo Contable) Paraná            1112394304   \n",
       "Contables Jr. | Ssr. | Sr.                           1112429426   \n",
       "Consultor en Auditoría Externa para Industria B...   1112242196   \n",
       "Consultor/a Training para importante proyecto d...   1112368096   \n",
       "Consultor en Implementaciones de Tecnologías de...   1112408823   \n",
       "Consultor en Mensajería Microsoft                    1112452177   \n",
       "Consultor en Riesgos y Finanza ( Córdoba)            1112441782   \n",
       "Consultor en Seguridad SAP Senior (ECC, MÓDULOS...   1112296428   \n",
       "Consultor en Seguridad de Bases de Datos.            1112208545   \n",
       "Consultor para Implementaciones de Software Fin...   1112394689   \n",
       "Consultor para Proyectos Comerciales en el Exte...   1112277406   \n",
       "Consultor/Administrador Aplicaciones DOCUMENTUM...   1112346093   \n",
       "Consultor/a Comercial con experiencia en Indust...   1112381820   \n",
       "Consultor/a Selección - Consultoría de RRHH  S...   1112392159   \n",
       "Consultor/a Training Zona Sur                        1112457669   \n",
       "Consultor/a de Belleza - Rosario                     1112269815   \n",
       "Contable para liquidación Impuestos                  1112309622   \n",
       "Consultor/a de Belleza - Tucumán                     1112463131   \n",
       "Consultor/a de Búsqueda y Selección - Sucursal ...   1112341125   \n",
       "Consultor/a de Capacitación & Consultoria            1112205015   \n",
       "Consultor/a en Diseño y Mejora de Organización ...   1112361505   \n",
       "Consultora radicada en Martínez, incorporará as...   1112346547   \n",
       "Consultoras/es  de belleza - Capital Federal         1112269771   \n",
       "Consultores Funcionales Junior                       1112310794   \n",
       "Consultores PMO                                      1112370979   \n",
       "Consultores SAP                                      1112252728   \n",
       "Consultores SAP ( PM/MM/FI )                         1112285881   \n",
       "Consultores SAP FICO                                 1112381751   \n",
       "Óptico técnico para zona Sur                         1112266386   \n",
       "\n",
       "                                                    cantidadTitulo  \n",
       "titulo                                                              \n",
       "Analista Contable                                               32  \n",
       "Administrativo Contable                                         26  \n",
       "Analista de Testing manual Ssr. // Zona Recolet...              20  \n",
       "Vendedor                                                        20  \n",
       "Analistas de Testing Ssr/Sr con Automatización ...              20  \n",
       "Desarrolladores .NET C# nivel Jr. / de 6 a 18 m...              19  \n",
       "Analista de inteligencia comercial                              19  \n",
       "Ejecutivo de Ventas                                             18  \n",
       "Desarrolladores JAVA SOA / JBOSS RED HAT // Zon...              18  \n",
       "Analista Sr. de Arquitectura de Software JAVA -...              17  \n",
       "Analista Funcional                                              16  \n",
       "Asistente Comercial                                             16  \n",
       "Jefe de Ventas                                                  16  \n",
       "Asesor Comercial                                                14  \n",
       "Programador C# .NET Sr. // Zona Tribunales                      14  \n",
       "Recepcionista                                                   14  \n",
       "Developers JAVA Ssr/Sr. - LA PLATA                              13  \n",
       "Ejecutivo Comercial                                             13  \n",
       "Gerente Comercial                                               13  \n",
       "Desarrollador C# y SQL Server (  zona BELGRANO ...              13  \n",
       "Desarrolladores .NET ( zona BELGRANO - CABA ) U...              13  \n",
       "Programadores Visual FOXPRO ( zona BELGRANO - C...              12  \n",
       "Analista de Soporte Técnico Ssr. // Zona Palermo                12  \n",
       "Vendedor plan de ahorro - Telemarketer TOYOTA                   11  \n",
       "Técnico Electromecánico                                         10  \n",
       "Analista Comercial                                              10  \n",
       "Supervisor de Producción                                        10  \n",
       "Ejecutivo de Cuentas                                            10  \n",
       "Analista de Cobranzas                                           10  \n",
       "ANALISTA ADMINISTRATIVO CONTABLE                                10  \n",
       "...                                                            ...  \n",
       "Contador Sr.                                                     1  \n",
       "Contador (Administrativo Contable) Paraná                        1  \n",
       "Contables Jr. | Ssr. | Sr.                                       1  \n",
       "Consultor en Auditoría Externa para Industria B...               1  \n",
       "Consultor/a Training para importante proyecto d...               1  \n",
       "Consultor en Implementaciones de Tecnologías de...               1  \n",
       "Consultor en Mensajería Microsoft                                1  \n",
       "Consultor en Riesgos y Finanza ( Córdoba)                        1  \n",
       "Consultor en Seguridad SAP Senior (ECC, MÓDULOS...               1  \n",
       "Consultor en Seguridad de Bases de Datos.                        1  \n",
       "Consultor para Implementaciones de Software Fin...               1  \n",
       "Consultor para Proyectos Comerciales en el Exte...               1  \n",
       "Consultor/Administrador Aplicaciones DOCUMENTUM...               1  \n",
       "Consultor/a Comercial con experiencia en Indust...               1  \n",
       "Consultor/a Selección - Consultoría de RRHH  S...               1  \n",
       "Consultor/a Training Zona Sur                                    1  \n",
       "Consultor/a de Belleza - Rosario                                 1  \n",
       "Contable para liquidación Impuestos                              1  \n",
       "Consultor/a de Belleza - Tucumán                                 1  \n",
       "Consultor/a de Búsqueda y Selección - Sucursal ...               1  \n",
       "Consultor/a de Capacitación & Consultoria                        1  \n",
       "Consultor/a en Diseño y Mejora de Organización ...               1  \n",
       "Consultora radicada en Martínez, incorporará as...               1  \n",
       "Consultoras/es  de belleza - Capital Federal                     1  \n",
       "Consultores Funcionales Junior                                   1  \n",
       "Consultores PMO                                                  1  \n",
       "Consultores SAP                                                  1  \n",
       "Consultores SAP ( PM/MM/FI )                                     1  \n",
       "Consultores SAP FICO                                             1  \n",
       "Óptico técnico para zona Sur                                     1  \n",
       "\n",
       "[15337 rows x 2 columns]"
      ]
     },
     "execution_count": 1056,
     "metadata": {},
     "output_type": "execute_result"
    }
   ],
   "source": [
    "avg.sort_values('cantidadTitulo',ascending=False)"
   ]
  },
  {
   "cell_type": "code",
   "execution_count": 1058,
   "metadata": {},
   "outputs": [],
   "source": [
    "avgFinal = avg.reset_index();\n",
    "avgFinal.drop('idaviso',inplace=True,axis=1)"
   ]
  },
  {
   "cell_type": "code",
   "execution_count": 1059,
   "metadata": {},
   "outputs": [],
   "source": [
    "trainingConCantTitulo =pd.merge(trainingConTitulo,avgFinal,on='titulo',how='inner')"
   ]
  },
  {
   "cell_type": "code",
   "execution_count": 1063,
   "metadata": {},
   "outputs": [],
   "source": [
    "testingConCantTitulo = pd.merge(testingConTitulo,adfg,on='titulo',how='left')"
   ]
  },
  {
   "cell_type": "code",
   "execution_count": 1067,
   "metadata": {},
   "outputs": [],
   "source": [
    "testingConCantTitulo.drop('titulo',axis=1,inplace=True)\n",
    "trainingConCantTitulo.drop('titulo',axis=1,inplace=True)"
   ]
  },
  {
   "cell_type": "code",
   "execution_count": 1074,
   "metadata": {},
   "outputs": [
    {
     "data": {
      "text/plain": [
       "Index(['cantPostulaciones', 'id', 'idaviso', 'idpais', 'idpostulante',\n",
       "       'sepostulo', 'testSet', 'zona_Buenos Aires (fuera de GBA)',\n",
       "       'zona_Capital Federal', 'zona_Catamarca', 'zona_Ciudad de Mendoza',\n",
       "       'zona_Cordoba', 'zona_Corrientes', 'zona_GBA Oeste',\n",
       "       'zona_Gran Buenos Aires', 'zona_La Plata', 'zona_Mendoza',\n",
       "       'zona_Neuquen', 'zona_Rosario', 'zona_San Juan', 'zona_Santa Cruz',\n",
       "       'zona_Santa Fe', 'zona_Tucuman', 'tipo_Fines de Semana',\n",
       "       'tipo_Full-time', 'tipo_Part-time', 'tipo_Pasantia',\n",
       "       'tipo_Por Contrato', 'tipo_Por Horas', 'tipo_Primer empleo',\n",
       "       'tipo_Teletrabajo', 'tipo_Temporario',\n",
       "       'nivel_Gerencia / Alta Gerencia / Dirección',\n",
       "       'nivel_Jefe / Supervisor / Responsable', 'nivel_Junior', 'nivel_Otro',\n",
       "       'nivel_Senior / Semi-Senior', 'cantidadEmpresa', 'cantidadVistos',\n",
       "       'sexo', 'edad', 'sexo_FEM', 'sexo_MASC', 'sexo_NO_DECLARA',\n",
       "       'educacion_Doctorado - Abandonado', 'educacion_Doctorado - En Curso',\n",
       "       'educacion_Doctorado - Graduado', 'educacion_Master - Abandonado',\n",
       "       'educacion_Master - En Curso', 'educacion_Master - Graduado',\n",
       "       'educacion_Otro - Abandonado', 'educacion_Otro - En Curso',\n",
       "       'educacion_Otro - Graduado', 'educacion_Posgrado - Abandonado',\n",
       "       'educacion_Posgrado - En Curso', 'educacion_Posgrado - Graduado',\n",
       "       'educacion_Secundario - Abandonado', 'educacion_Secundario - En Curso',\n",
       "       'educacion_Secundario - Graduado',\n",
       "       'educacion_Terciario/Técnico - Abandonado',\n",
       "       'educacion_Terciario/Técnico - En Curso',\n",
       "       'educacion_Terciario/Técnico - Graduado',\n",
       "       'educacion_Universitario - Abandonado',\n",
       "       'educacion_Universitario - En Curso',\n",
       "       'educacion_Universitario - Graduado', 'nombre_area', 'cantidadNombre',\n",
       "       'cantidadTitulo'],\n",
       "      dtype='object')"
      ]
     },
     "execution_count": 1074,
     "metadata": {},
     "output_type": "execute_result"
    }
   ],
   "source": [
    "trainingConCantTitulo.columns"
   ]
  },
  {
   "cell_type": "code",
   "execution_count": 1068,
   "metadata": {},
   "outputs": [],
   "source": [
    "datosConVistasSinPostu = trainingConCantTitulo.drop(['idpais','sepostulo','idaviso','idpostulante','id','cantPostulaciones','testSet','sexo','nombre_area'],axis=1)\n",
    "testingConVistasFiltrado = testingConCantTitulo.drop(['idpais','sepostulo','idaviso','idpostulante','id','cantPostulaciones','testSet','sexo','nombre_area'],axis=1)"
   ]
  },
  {
   "cell_type": "code",
   "execution_count": 1073,
   "metadata": {},
   "outputs": [],
   "source": [
    "testingConVistasFiltrado.drop('index',axis=1,inplace=True)"
   ]
  },
  {
   "cell_type": "code",
   "execution_count": 1075,
   "metadata": {},
   "outputs": [],
   "source": [
    "from sklearn.preprocessing import Imputer\n",
    "imp = Imputer(missing_values='NaN', strategy='most_frequent', axis=0)\n",
    "datosForTrainingSinPostuSinNulos = imp.fit_transform(datosConVistasSinPostu)\n",
    "datosForTestFinalSinNulos = imp.fit_transform(testingConVistasFiltrado)"
   ]
  },
  {
   "cell_type": "code",
   "execution_count": 1076,
   "metadata": {},
   "outputs": [],
   "source": [
    "X_train, X_validation, Y_train, Y_validation = model_selection.train_test_split(datosForTrainingSinPostuSinNulos, trainingConCantTitulo['sepostulo'], test_size=0.7, random_state=7)"
   ]
  },
  {
   "cell_type": "code",
   "execution_count": 1077,
   "metadata": {},
   "outputs": [],
   "source": [
    "models = []\n",
    "\n",
    "models.append(('RF100',  RandomForestRegressor(n_estimators=100, max_features='sqrt')))\n",
    "models.append(('DES-TREE',tree.DecisionTreeRegressor()))\n",
    "\n",
    "for name, model in models:\n",
    "    m = model.fit(X_train, Y_train)\n",
    "    pruebas = m.predict(datosForTestFinalSinNulos)\n",
    "    archivo = pd.DataFrame()\n",
    "    archivo['id'] = testingSet.loc[:,['id']]\n",
    "    archivo['sepostulo'] = np.around(pruebas, decimals=0)\n",
    "    archivo.to_csv('entregas/'+'prueba12-'+ name +'.csv', index=False)"
   ]
  },
  {
   "cell_type": "markdown",
   "metadata": {},
   "source": [
    "### Prueba 2"
   ]
  },
  {
   "cell_type": "code",
   "execution_count": null,
   "metadata": {},
   "outputs": [],
   "source": []
  },
  {
   "cell_type": "markdown",
   "metadata": {},
   "source": [
    "# Pasamos edades a Rango -- dio Peor"
   ]
  },
  {
   "cell_type": "code",
   "execution_count": null,
   "metadata": {},
   "outputs": [],
   "source": [
    "trainingConCantNombre\n",
    "testingConCantNombre"
   ]
  },
  {
   "cell_type": "code",
   "execution_count": 1081,
   "metadata": {},
   "outputs": [
    {
     "data": {
      "text/html": [
       "<div>\n",
       "<style>\n",
       "    .dataframe thead tr:only-child th {\n",
       "        text-align: right;\n",
       "    }\n",
       "\n",
       "    .dataframe thead th {\n",
       "        text-align: left;\n",
       "    }\n",
       "\n",
       "    .dataframe tbody tr th {\n",
       "        vertical-align: top;\n",
       "    }\n",
       "</style>\n",
       "<table border=\"1\" class=\"dataframe\">\n",
       "  <thead>\n",
       "    <tr style=\"text-align: right;\">\n",
       "      <th></th>\n",
       "      <th>cantPostulaciones</th>\n",
       "      <th>id</th>\n",
       "      <th>idaviso</th>\n",
       "      <th>idpais</th>\n",
       "      <th>idpostulante</th>\n",
       "      <th>sepostulo</th>\n",
       "      <th>testSet</th>\n",
       "      <th>zona_Buenos Aires (fuera de GBA)</th>\n",
       "      <th>zona_Capital Federal</th>\n",
       "      <th>zona_Catamarca</th>\n",
       "      <th>...</th>\n",
       "      <th>educacion_Secundario - En Curso</th>\n",
       "      <th>educacion_Secundario - Graduado</th>\n",
       "      <th>educacion_Terciario/Técnico - Abandonado</th>\n",
       "      <th>educacion_Terciario/Técnico - En Curso</th>\n",
       "      <th>educacion_Terciario/Técnico - Graduado</th>\n",
       "      <th>educacion_Universitario - Abandonado</th>\n",
       "      <th>educacion_Universitario - En Curso</th>\n",
       "      <th>educacion_Universitario - Graduado</th>\n",
       "      <th>nombre_area</th>\n",
       "      <th>cantidadNombre</th>\n",
       "    </tr>\n",
       "  </thead>\n",
       "  <tbody>\n",
       "    <tr>\n",
       "      <th>0</th>\n",
       "      <td>0.0</td>\n",
       "      <td>NaN</td>\n",
       "      <td>1112461512</td>\n",
       "      <td>1.0</td>\n",
       "      <td>YjoolD</td>\n",
       "      <td>0.0</td>\n",
       "      <td>0</td>\n",
       "      <td>0</td>\n",
       "      <td>0</td>\n",
       "      <td>0</td>\n",
       "      <td>...</td>\n",
       "      <td>0</td>\n",
       "      <td>0</td>\n",
       "      <td>0</td>\n",
       "      <td>0</td>\n",
       "      <td>0</td>\n",
       "      <td>0</td>\n",
       "      <td>0</td>\n",
       "      <td>1</td>\n",
       "      <td>Tecnologia / Sistemas</td>\n",
       "      <td>947</td>\n",
       "    </tr>\n",
       "    <tr>\n",
       "      <th>1</th>\n",
       "      <td>0.0</td>\n",
       "      <td>NaN</td>\n",
       "      <td>1112461512</td>\n",
       "      <td>1.0</td>\n",
       "      <td>YjoolD</td>\n",
       "      <td>0.0</td>\n",
       "      <td>0</td>\n",
       "      <td>0</td>\n",
       "      <td>0</td>\n",
       "      <td>0</td>\n",
       "      <td>...</td>\n",
       "      <td>0</td>\n",
       "      <td>0</td>\n",
       "      <td>0</td>\n",
       "      <td>0</td>\n",
       "      <td>0</td>\n",
       "      <td>0</td>\n",
       "      <td>0</td>\n",
       "      <td>1</td>\n",
       "      <td>Tecnologia / Sistemas</td>\n",
       "      <td>947</td>\n",
       "    </tr>\n",
       "    <tr>\n",
       "      <th>2</th>\n",
       "      <td>0.0</td>\n",
       "      <td>NaN</td>\n",
       "      <td>1112461512</td>\n",
       "      <td>1.0</td>\n",
       "      <td>YjoolD</td>\n",
       "      <td>0.0</td>\n",
       "      <td>0</td>\n",
       "      <td>0</td>\n",
       "      <td>0</td>\n",
       "      <td>0</td>\n",
       "      <td>...</td>\n",
       "      <td>0</td>\n",
       "      <td>0</td>\n",
       "      <td>0</td>\n",
       "      <td>0</td>\n",
       "      <td>0</td>\n",
       "      <td>0</td>\n",
       "      <td>0</td>\n",
       "      <td>1</td>\n",
       "      <td>Tecnologia / Sistemas</td>\n",
       "      <td>947</td>\n",
       "    </tr>\n",
       "    <tr>\n",
       "      <th>3</th>\n",
       "      <td>0.0</td>\n",
       "      <td>NaN</td>\n",
       "      <td>1112461512</td>\n",
       "      <td>1.0</td>\n",
       "      <td>YjoolD</td>\n",
       "      <td>0.0</td>\n",
       "      <td>0</td>\n",
       "      <td>0</td>\n",
       "      <td>0</td>\n",
       "      <td>0</td>\n",
       "      <td>...</td>\n",
       "      <td>0</td>\n",
       "      <td>0</td>\n",
       "      <td>0</td>\n",
       "      <td>0</td>\n",
       "      <td>0</td>\n",
       "      <td>0</td>\n",
       "      <td>0</td>\n",
       "      <td>1</td>\n",
       "      <td>Tecnologia / Sistemas</td>\n",
       "      <td>947</td>\n",
       "    </tr>\n",
       "    <tr>\n",
       "      <th>4</th>\n",
       "      <td>0.0</td>\n",
       "      <td>NaN</td>\n",
       "      <td>1112461512</td>\n",
       "      <td>1.0</td>\n",
       "      <td>YjoolD</td>\n",
       "      <td>0.0</td>\n",
       "      <td>0</td>\n",
       "      <td>0</td>\n",
       "      <td>0</td>\n",
       "      <td>0</td>\n",
       "      <td>...</td>\n",
       "      <td>0</td>\n",
       "      <td>0</td>\n",
       "      <td>0</td>\n",
       "      <td>0</td>\n",
       "      <td>0</td>\n",
       "      <td>0</td>\n",
       "      <td>0</td>\n",
       "      <td>1</td>\n",
       "      <td>Tecnologia / Sistemas</td>\n",
       "      <td>947</td>\n",
       "    </tr>\n",
       "  </tbody>\n",
       "</table>\n",
       "<p>5 rows × 67 columns</p>\n",
       "</div>"
      ],
      "text/plain": [
       "   cantPostulaciones  id     idaviso  idpais idpostulante  sepostulo  testSet  \\\n",
       "0                0.0 NaN  1112461512     1.0       YjoolD        0.0        0   \n",
       "1                0.0 NaN  1112461512     1.0       YjoolD        0.0        0   \n",
       "2                0.0 NaN  1112461512     1.0       YjoolD        0.0        0   \n",
       "3                0.0 NaN  1112461512     1.0       YjoolD        0.0        0   \n",
       "4                0.0 NaN  1112461512     1.0       YjoolD        0.0        0   \n",
       "\n",
       "   zona_Buenos Aires (fuera de GBA)  zona_Capital Federal  zona_Catamarca  \\\n",
       "0                                 0                     0               0   \n",
       "1                                 0                     0               0   \n",
       "2                                 0                     0               0   \n",
       "3                                 0                     0               0   \n",
       "4                                 0                     0               0   \n",
       "\n",
       "        ...        educacion_Secundario - En Curso  \\\n",
       "0       ...                                      0   \n",
       "1       ...                                      0   \n",
       "2       ...                                      0   \n",
       "3       ...                                      0   \n",
       "4       ...                                      0   \n",
       "\n",
       "   educacion_Secundario - Graduado  educacion_Terciario/Técnico - Abandonado  \\\n",
       "0                                0                                         0   \n",
       "1                                0                                         0   \n",
       "2                                0                                         0   \n",
       "3                                0                                         0   \n",
       "4                                0                                         0   \n",
       "\n",
       "   educacion_Terciario/Técnico - En Curso  \\\n",
       "0                                       0   \n",
       "1                                       0   \n",
       "2                                       0   \n",
       "3                                       0   \n",
       "4                                       0   \n",
       "\n",
       "   educacion_Terciario/Técnico - Graduado  \\\n",
       "0                                       0   \n",
       "1                                       0   \n",
       "2                                       0   \n",
       "3                                       0   \n",
       "4                                       0   \n",
       "\n",
       "   educacion_Universitario - Abandonado  educacion_Universitario - En Curso  \\\n",
       "0                                     0                                   0   \n",
       "1                                     0                                   0   \n",
       "2                                     0                                   0   \n",
       "3                                     0                                   0   \n",
       "4                                     0                                   0   \n",
       "\n",
       "   educacion_Universitario - Graduado            nombre_area  cantidadNombre  \n",
       "0                                   1  Tecnologia / Sistemas             947  \n",
       "1                                   1  Tecnologia / Sistemas             947  \n",
       "2                                   1  Tecnologia / Sistemas             947  \n",
       "3                                   1  Tecnologia / Sistemas             947  \n",
       "4                                   1  Tecnologia / Sistemas             947  \n",
       "\n",
       "[5 rows x 67 columns]"
      ]
     },
     "execution_count": 1081,
     "metadata": {},
     "output_type": "execute_result"
    }
   ],
   "source": [
    "trainingConCantNombre.head()"
   ]
  },
  {
   "cell_type": "code",
   "execution_count": 1083,
   "metadata": {},
   "outputs": [],
   "source": [
    "postulantesEdad = postulantesGenero[['fechanacimiento','idpostulante']]"
   ]
  },
  {
   "cell_type": "code",
   "execution_count": 1087,
   "metadata": {},
   "outputs": [],
   "source": [
    "trainingConCantNombre['menor24'] = np.where(trainingConCantNombre['edad'] < 25, 1, 0);\n",
    "trainingConCantNombre['menor31'] = np.where(trainingConCantNombre['edad'] < 31, 1, 0);\n",
    "trainingConCantNombre['menor36'] = np.where(trainingConCantNombre['edad'] < 36, 1, 0);\n",
    "trainingConCantNombre['menor40'] = np.where(trainingConCantNombre['edad'] < 40, 1, 0);\n",
    "trainingConCantNombre['menor50'] = np.where(trainingConCantNombre['edad'] < 51, 1, 0);\n",
    "trainingConCantNombre['mayor50'] = np.where(trainingConCantNombre['edad'] > 51, 1, 0);\n",
    "trainingConCantNombre['resto']   = np.where(trainingConCantNombre['edad'].isnull(), 1, 0);"
   ]
  },
  {
   "cell_type": "code",
   "execution_count": 1089,
   "metadata": {},
   "outputs": [],
   "source": [
    "testingConCantNombre['menor24'] = np.where(testingConCantNombre['edad'] < 25, 1, 0);\n",
    "testingConCantNombre['menor31'] = np.where(testingConCantNombre['edad'] < 31, 1, 0);\n",
    "testingConCantNombre['menor36'] = np.where(testingConCantNombre['edad'] < 36, 1, 0);\n",
    "testingConCantNombre['menor40'] = np.where(testingConCantNombre['edad'] < 40, 1, 0);\n",
    "testingConCantNombre['menor50'] = np.where(testingConCantNombre['edad'] < 51, 1, 0);\n",
    "testingConCantNombre['mayor50'] = np.where(testingConCantNombre['edad'] > 51, 1, 0);\n",
    "testingConCantNombre['resto']   = np.where(testingConCantNombre['edad'].isnull(), 1, 0);"
   ]
  },
  {
   "cell_type": "code",
   "execution_count": null,
   "metadata": {},
   "outputs": [],
   "source": []
  },
  {
   "cell_type": "code",
   "execution_count": 1090,
   "metadata": {},
   "outputs": [],
   "source": [
    "datosConVistasSinPostu = trainingConCantTitulo.drop(['idpais','sepostulo','idaviso','idpostulante','id','cantPostulaciones','testSet','sexo','nombre_area','edad'],axis=1)\n",
    "testingConVistasFiltrado = testingConCantTitulo.drop(['idpais','sepostulo','idaviso','idpostulante','id','cantPostulaciones','testSet','sexo','nombre_area','edad'],axis=1)\n",
    "testingConVistasFiltrado.drop('index',axis=1,inplace=True)"
   ]
  },
  {
   "cell_type": "code",
   "execution_count": 1091,
   "metadata": {},
   "outputs": [],
   "source": [
    "from sklearn.preprocessing import Imputer\n",
    "imp = Imputer(missing_values='NaN', strategy='most_frequent', axis=0)\n",
    "datosForTrainingSinPostuSinNulos = imp.fit_transform(datosConVistasSinPostu)\n",
    "datosForTestFinalSinNulos = imp.fit_transform(testingConVistasFiltrado)"
   ]
  },
  {
   "cell_type": "code",
   "execution_count": 1092,
   "metadata": {},
   "outputs": [],
   "source": [
    "X_train, X_validation, Y_train, Y_validation = model_selection.train_test_split(datosForTrainingSinPostuSinNulos, trainingConCantTitulo['sepostulo'], test_size=0.7, random_state=7)"
   ]
  },
  {
   "cell_type": "code",
   "execution_count": 1094,
   "metadata": {},
   "outputs": [],
   "source": [
    "models = []\n",
    "\n",
    "models.append(('RF100',  RandomForestRegressor(n_estimators=100, max_features='sqrt')))\n",
    "models.append(('DES-TREE',tree.DecisionTreeRegressor()))\n",
    "\n",
    "for name, model in models:\n",
    "    m = model.fit(X_train, Y_train)\n",
    "    pruebas = m.predict(datosForTestFinalSinNulos)\n",
    "    archivo = pd.DataFrame()\n",
    "    archivo['id'] = testingSet.loc[:,['id']]\n",
    "    archivo['sepostulo'] = np.around(pruebas, decimals=0)\n",
    "    archivo.to_csv('entregas/'+'prueba13-'+ name +'.csv', index=False)"
   ]
  },
  {
   "cell_type": "markdown",
   "metadata": {},
   "source": [
    "# Prueba 14 - TF - IDF"
   ]
  },
  {
   "cell_type": "code",
   "execution_count": 1110,
   "metadata": {},
   "outputs": [
    {
     "ename": "ValueError",
     "evalue": "labels ['menor24' 'menor31' 'menor36' 'menor40' 'menor50' 'mayor50' 'resto'] not contained in axis",
     "output_type": "error",
     "traceback": [
      "\u001b[1;31m---------------------------------------------------------------------------\u001b[0m",
      "\u001b[1;31mValueError\u001b[0m                                Traceback (most recent call last)",
      "\u001b[1;32m<ipython-input-1110-17df1710ec87>\u001b[0m in \u001b[0;36m<module>\u001b[1;34m()\u001b[0m\n\u001b[1;32m----> 1\u001b[1;33m \u001b[0mtestingConCantNombre\u001b[0m\u001b[1;33m.\u001b[0m\u001b[0mdrop\u001b[0m\u001b[1;33m(\u001b[0m\u001b[1;33m[\u001b[0m\u001b[1;34m'menor24'\u001b[0m\u001b[1;33m,\u001b[0m\u001b[1;34m'menor31'\u001b[0m\u001b[1;33m,\u001b[0m\u001b[1;34m'menor36'\u001b[0m\u001b[1;33m,\u001b[0m\u001b[1;34m'menor40'\u001b[0m\u001b[1;33m,\u001b[0m\u001b[1;34m'menor50'\u001b[0m\u001b[1;33m,\u001b[0m\u001b[1;34m'mayor50'\u001b[0m\u001b[1;33m,\u001b[0m\u001b[1;34m'resto'\u001b[0m\u001b[1;33m]\u001b[0m\u001b[1;33m,\u001b[0m\u001b[0maxis\u001b[0m\u001b[1;33m=\u001b[0m\u001b[1;36m1\u001b[0m\u001b[1;33m,\u001b[0m\u001b[0minplace\u001b[0m\u001b[1;33m=\u001b[0m\u001b[1;32mTrue\u001b[0m\u001b[1;33m)\u001b[0m\u001b[1;33m\u001b[0m\u001b[0m\n\u001b[0m\u001b[0;32m      2\u001b[0m \u001b[0mtrainingConCantNombre\u001b[0m\u001b[1;33m.\u001b[0m\u001b[0mdrop\u001b[0m\u001b[1;33m(\u001b[0m\u001b[1;33m[\u001b[0m\u001b[1;34m'menor24'\u001b[0m\u001b[1;33m,\u001b[0m\u001b[1;34m'menor31'\u001b[0m\u001b[1;33m,\u001b[0m\u001b[1;34m'menor36'\u001b[0m\u001b[1;33m,\u001b[0m\u001b[1;34m'menor40'\u001b[0m\u001b[1;33m,\u001b[0m\u001b[1;34m'menor50'\u001b[0m\u001b[1;33m,\u001b[0m\u001b[1;34m'mayor50'\u001b[0m\u001b[1;33m,\u001b[0m\u001b[1;34m'resto'\u001b[0m\u001b[1;33m]\u001b[0m\u001b[1;33m,\u001b[0m\u001b[0maxis\u001b[0m\u001b[1;33m=\u001b[0m\u001b[1;36m1\u001b[0m\u001b[1;33m,\u001b[0m\u001b[0minplace\u001b[0m\u001b[1;33m=\u001b[0m\u001b[1;32mTrue\u001b[0m\u001b[1;33m)\u001b[0m\u001b[1;33m\u001b[0m\u001b[0m\n",
      "\u001b[1;32m~\\Anaconda3\\lib\\site-packages\\pandas\\core\\generic.py\u001b[0m in \u001b[0;36mdrop\u001b[1;34m(self, labels, axis, level, inplace, errors)\u001b[0m\n\u001b[0;32m   2159\u001b[0m                 \u001b[0mnew_axis\u001b[0m \u001b[1;33m=\u001b[0m \u001b[0maxis\u001b[0m\u001b[1;33m.\u001b[0m\u001b[0mdrop\u001b[0m\u001b[1;33m(\u001b[0m\u001b[0mlabels\u001b[0m\u001b[1;33m,\u001b[0m \u001b[0mlevel\u001b[0m\u001b[1;33m=\u001b[0m\u001b[0mlevel\u001b[0m\u001b[1;33m,\u001b[0m \u001b[0merrors\u001b[0m\u001b[1;33m=\u001b[0m\u001b[0merrors\u001b[0m\u001b[1;33m)\u001b[0m\u001b[1;33m\u001b[0m\u001b[0m\n\u001b[0;32m   2160\u001b[0m             \u001b[1;32melse\u001b[0m\u001b[1;33m:\u001b[0m\u001b[1;33m\u001b[0m\u001b[0m\n\u001b[1;32m-> 2161\u001b[1;33m                 \u001b[0mnew_axis\u001b[0m \u001b[1;33m=\u001b[0m \u001b[0maxis\u001b[0m\u001b[1;33m.\u001b[0m\u001b[0mdrop\u001b[0m\u001b[1;33m(\u001b[0m\u001b[0mlabels\u001b[0m\u001b[1;33m,\u001b[0m \u001b[0merrors\u001b[0m\u001b[1;33m=\u001b[0m\u001b[0merrors\u001b[0m\u001b[1;33m)\u001b[0m\u001b[1;33m\u001b[0m\u001b[0m\n\u001b[0m\u001b[0;32m   2162\u001b[0m             \u001b[0mdropped\u001b[0m \u001b[1;33m=\u001b[0m \u001b[0mself\u001b[0m\u001b[1;33m.\u001b[0m\u001b[0mreindex\u001b[0m\u001b[1;33m(\u001b[0m\u001b[1;33m**\u001b[0m\u001b[1;33m{\u001b[0m\u001b[0maxis_name\u001b[0m\u001b[1;33m:\u001b[0m \u001b[0mnew_axis\u001b[0m\u001b[1;33m}\u001b[0m\u001b[1;33m)\u001b[0m\u001b[1;33m\u001b[0m\u001b[0m\n\u001b[0;32m   2163\u001b[0m             \u001b[1;32mtry\u001b[0m\u001b[1;33m:\u001b[0m\u001b[1;33m\u001b[0m\u001b[0m\n",
      "\u001b[1;32m~\\Anaconda3\\lib\\site-packages\\pandas\\core\\indexes\\base.py\u001b[0m in \u001b[0;36mdrop\u001b[1;34m(self, labels, errors)\u001b[0m\n\u001b[0;32m   3622\u001b[0m             \u001b[1;32mif\u001b[0m \u001b[0merrors\u001b[0m \u001b[1;33m!=\u001b[0m \u001b[1;34m'ignore'\u001b[0m\u001b[1;33m:\u001b[0m\u001b[1;33m\u001b[0m\u001b[0m\n\u001b[0;32m   3623\u001b[0m                 raise ValueError('labels %s not contained in axis' %\n\u001b[1;32m-> 3624\u001b[1;33m                                  labels[mask])\n\u001b[0m\u001b[0;32m   3625\u001b[0m             \u001b[0mindexer\u001b[0m \u001b[1;33m=\u001b[0m \u001b[0mindexer\u001b[0m\u001b[1;33m[\u001b[0m\u001b[1;33m~\u001b[0m\u001b[0mmask\u001b[0m\u001b[1;33m]\u001b[0m\u001b[1;33m\u001b[0m\u001b[0m\n\u001b[0;32m   3626\u001b[0m         \u001b[1;32mreturn\u001b[0m \u001b[0mself\u001b[0m\u001b[1;33m.\u001b[0m\u001b[0mdelete\u001b[0m\u001b[1;33m(\u001b[0m\u001b[0mindexer\u001b[0m\u001b[1;33m)\u001b[0m\u001b[1;33m\u001b[0m\u001b[0m\n",
      "\u001b[1;31mValueError\u001b[0m: labels ['menor24' 'menor31' 'menor36' 'menor40' 'menor50' 'mayor50' 'resto'] not contained in axis"
     ]
    }
   ],
   "source": [
    "testingConCantNombre.drop(['menor24','menor31','menor36','menor40','menor50','mayor50','resto'],axis=1,inplace=True)\n",
    "trainingConCantNombre.drop(['menor24','menor31','menor36','menor40','menor50','mayor50','resto'],axis=1,inplace=True)"
   ]
  },
  {
   "cell_type": "code",
   "execution_count": 1098,
   "metadata": {},
   "outputs": [],
   "source": [
    "def limpiamosTexto(text):\n",
    "    text"
   ]
  },
  {
   "cell_type": "code",
   "execution_count": 1114,
   "metadata": {},
   "outputs": [],
   "source": [
    "avisosDetalle['descripcionSinHTML'] = avisosDetalle['descripcion'].str.strip()"
   ]
  },
  {
   "cell_type": "code",
   "execution_count": 1164,
   "metadata": {},
   "outputs": [],
   "source": [
    "#elimino tags de descripcion\n",
    "avisosDetalle['descripcionSinHTML'] = avisosDetalle['descripcion'].str.replace(r\"<\\/?\\w+.*?>\",\"\");\n",
    "avisosDetalle['descripcionSinHTML'] = avisosDetalle['descripcionSinHTML'].str.replace(r\"\\s{2,}\",\" \");"
   ]
  },
  {
   "cell_type": "code",
   "execution_count": 1160,
   "metadata": {},
   "outputs": [
    {
     "name": "stdout",
     "output_type": "stream",
     "text": [
      "showing info https://raw.githubusercontent.com/nltk/nltk_data/gh-pages/index.xml\n"
     ]
    }
   ],
   "source": [
    "#import nltk\n",
    "#nltk.download()\n",
    "#from nltk.corpus import stopwords\n",
    "#stop = stopwords.words('spanish')"
   ]
  },
  {
   "cell_type": "code",
   "execution_count": null,
   "metadata": {},
   "outputs": [],
   "source": []
  },
  {
   "cell_type": "code",
   "execution_count": 1165,
   "metadata": {},
   "outputs": [],
   "source": [
    "avisosDetalle['descripcionSinHTML'] =avisosDetalle['descripcionSinHTML'].apply(lambda x: ' '.join([word for word in x.split() if word not in (stop)]))"
   ]
  },
  {
   "cell_type": "code",
   "execution_count": 1167,
   "metadata": {},
   "outputs": [
    {
     "data": {
      "text/plain": [
       "0    Buscamos Responsable Producto incorporarse dep...\n",
       "1    Para cliente, concesionario Chevrolet ubicado ...\n",
       "2    Importante Estudio Auditoria Consultoria ubica...\n",
       "3    Chevron is multinational company in the energy...\n",
       "4    Importante empresa energías renovables, encuen...\n",
       "Name: descripcionSinHTML, dtype: object"
      ]
     },
     "execution_count": 1167,
     "metadata": {},
     "output_type": "execute_result"
    }
   ],
   "source": [
    "avisosDetalle['descripcionSinHTML'].head(5)"
   ]
  },
  {
   "cell_type": "code",
   "execution_count": 1171,
   "metadata": {},
   "outputs": [],
   "source": [
    "tvec = TfidfVectorizer(min_df=.0025, max_df=.1,stop_words='english')\n",
    "tvec_weights = tvec.fit_transform(avisosDetalle['descripcionSinHTML'])\n",
    "weights = np.asarray(tvec_weights.mean(axis=0)).ravel().tolist()\n",
    "weights_df = pd.DataFrame({'term': tvec.get_feature_names(), 'weight': weights})\n",
    "top100 = weights_df.sort_values(by='weight', ascending=False).head(100)"
   ]
  },
  {
   "cell_type": "code",
   "execution_count": null,
   "metadata": {},
   "outputs": [],
   "source": []
  },
  {
   "cell_type": "code",
   "execution_count": 1173,
   "metadata": {},
   "outputs": [],
   "source": []
  },
  {
   "cell_type": "code",
   "execution_count": 1175,
   "metadata": {},
   "outputs": [],
   "source": [
    "#datosMergeadosConDetalle.head()\n",
    "datosMergeadosPrueba = datosMergeadosConDetalle[['sepostulo','descripcion','idaviso','titulo']]"
   ]
  },
  {
   "cell_type": "code",
   "execution_count": 1179,
   "metadata": {},
   "outputs": [
    {
     "name": "stderr",
     "output_type": "stream",
     "text": [
      "C:\\Users\\nicol\\Anaconda3\\lib\\site-packages\\ipykernel_launcher.py:1: SettingWithCopyWarning: \n",
      "A value is trying to be set on a copy of a slice from a DataFrame.\n",
      "Try using .loc[row_indexer,col_indexer] = value instead\n",
      "\n",
      "See the caveats in the documentation: http://pandas.pydata.org/pandas-docs/stable/indexing.html#indexing-view-versus-copy\n",
      "  \"\"\"Entry point for launching an IPython kernel.\n"
     ]
    }
   ],
   "source": [
    "datosMergeadosPrueba['descripcion'] =datosMergeadosPrueba['descripcion'].apply(lambda x: ' '.join([word for word in x.split() if word not in (stop)]))"
   ]
  },
  {
   "cell_type": "code",
   "execution_count": 1185,
   "metadata": {},
   "outputs": [],
   "source": [
    "estimators = [(\"tf_idf\", TfidfVectorizer()), \n",
    "              (\"ridge\", linear_model.Ridge())]\n",
    "model = Pipeline(estimators)"
   ]
  },
  {
   "cell_type": "code",
   "execution_count": 1187,
   "metadata": {},
   "outputs": [
    {
     "data": {
      "text/plain": [
       "Pipeline(memory=None,\n",
       "     steps=[('tf_idf', TfidfVectorizer(analyzer='word', binary=False, decode_error='strict',\n",
       "        dtype=<class 'numpy.int64'>, encoding='utf-8', input='content',\n",
       "        lowercase=True, max_df=1.0, max_features=None, min_df=1,\n",
       "        ngram_range=(1, 1), norm='l2', preprocessor=None, smooth_idf=True,\n",
       "...it_intercept=True, max_iter=None,\n",
       "   normalize=False, random_state=None, solver='auto', tol=0.001))])"
      ]
     },
     "execution_count": 1187,
     "metadata": {},
     "output_type": "execute_result"
    }
   ],
   "source": [
    "model.fit(datosMergeadosPrueba['descripcion'],datosMergeadosPrueba['sepostulo'])"
   ]
  },
  {
   "cell_type": "code",
   "execution_count": 1189,
   "metadata": {},
   "outputs": [],
   "source": [
    "testingSetConDetallePrueba =testingSetConDetalle[['descripcion','idaviso','titulo']]"
   ]
  },
  {
   "cell_type": "code",
   "execution_count": 1201,
   "metadata": {},
   "outputs": [
    {
     "name": "stderr",
     "output_type": "stream",
     "text": [
      "C:\\Users\\nicol\\Anaconda3\\lib\\site-packages\\ipykernel_launcher.py:1: SettingWithCopyWarning: \n",
      "A value is trying to be set on a copy of a slice from a DataFrame.\n",
      "Try using .loc[row_indexer,col_indexer] = value instead\n",
      "\n",
      "See the caveats in the documentation: http://pandas.pydata.org/pandas-docs/stable/indexing.html#indexing-view-versus-copy\n",
      "  \"\"\"Entry point for launching an IPython kernel.\n",
      "C:\\Users\\nicol\\Anaconda3\\lib\\site-packages\\ipykernel_launcher.py:3: SettingWithCopyWarning: \n",
      "A value is trying to be set on a copy of a slice from a DataFrame.\n",
      "Try using .loc[row_indexer,col_indexer] = value instead\n",
      "\n",
      "See the caveats in the documentation: http://pandas.pydata.org/pandas-docs/stable/indexing.html#indexing-view-versus-copy\n",
      "  This is separate from the ipykernel package so we can avoid doing imports until\n",
      "C:\\Users\\nicol\\Anaconda3\\lib\\site-packages\\ipykernel_launcher.py:4: SettingWithCopyWarning: \n",
      "A value is trying to be set on a copy of a slice from a DataFrame.\n",
      "Try using .loc[row_indexer,col_indexer] = value instead\n",
      "\n",
      "See the caveats in the documentation: http://pandas.pydata.org/pandas-docs/stable/indexing.html#indexing-view-versus-copy\n",
      "  after removing the cwd from sys.path.\n"
     ]
    }
   ],
   "source": [
    "testingSetConDetallePrueba['descripcion'] = testingSetConDetallePrueba['descripcion'].fillna(\" \")\n",
    "#elimino tags de descripcion\n",
    "testingSetConDetallePrueba['descripcion'] = testingSetConDetallePrueba['descripcion'].str.replace(r\"<\\/?\\w+.*?>\",\"\");\n",
    "testingSetConDetallePrueba['descripcion'] = testingSetConDetallePrueba['descripcion'].str.replace(r\"\\s{2,}\",\" \");"
   ]
  },
  {
   "cell_type": "code",
   "execution_count": 1195,
   "metadata": {},
   "outputs": [
    {
     "data": {
      "text/plain": [
       "0        Nuestro cliente es una empresa nac. ubicada en...\n",
       "1        Nuestro cliente es una empresa nac. ubicada en...\n",
       "2        Nuestro cliente es una empresa nac. ubicada en...\n",
       "3         TeleTech, the worlwide leader in outsourced c...\n",
       "4         TeleTech, the worlwide leader in outsourced c...\n",
       "5         TeleTech, the worlwide leader in outsourced c...\n",
       "6        Somos una Consultora en Management, Transforma...\n",
       "7        Somos una Consultora en Management, Transforma...\n",
       "8        Somos una Consultora en Management, Transforma...\n",
       "9        Importante compañía de packaging interesada en...\n",
       "10       Importante compañía de packaging interesada en...\n",
       "11       Importante compañía de packaging interesada en...\n",
       "12       Importante compañía de packaging interesada en...\n",
       "13       Requerimos Profesionales de las carreras de si...\n",
       "14       Requerimos Profesionales de las carreras de si...\n",
       "15       Requerimos Profesionales de las carreras de si...\n",
       "16       Importante empresa de sistemas nos encomendó l...\n",
       "17       Importante empresa de sistemas nos encomendó l...\n",
       "18       Importante empresa de sistemas nos encomendó l...\n",
       "19       Importante empresa de sistemas nos encomendó l...\n",
       "20       VOS PODES SER PARTE DE LA EMPRESA Nº 1 DEL MUN...\n",
       "21       VOS PODES SER PARTE DE LA EMPRESA Nº 1 DEL MUN...\n",
       "22       VOS PODES SER PARTE DE LA EMPRESA Nº 1 DEL MUN...\n",
       "23       Para importante empresa de Telemarketing. La b...\n",
       "24       Para importante empresa de Telemarketing. La b...\n",
       "25       Para importante empresa de Telemarketing. La b...\n",
       "26       Banco Internacional de primer nivel se encuent...\n",
       "27       Banco Internacional de primer nivel se encuent...\n",
       "28       Banco Internacional de primer nivel se encuent...\n",
       "29       Buscamos INGENIEROS CIVILES y ARQUITECTOS con ...\n",
       "                               ...                        \n",
       "99970    Adecco Office está especializada en el recluta...\n",
       "99971    Adecco Office está especializada en el recluta...\n",
       "99972    Adecco Office está especializada en el recluta...\n",
       "99973    IT Resources se encuentra en la búsqueda de un...\n",
       "99974    IT Resources se encuentra en la búsqueda de un...\n",
       "99975    IT Resources se encuentra en la búsqueda de un...\n",
       "99976    Importante empresa del metalúrgica, realiza bú...\n",
       "99977    Importante empresa del metalúrgica, realiza bú...\n",
       "99978    Importante empresa del metalúrgica, realiza bú...\n",
       "99979    Nos encontramos en la búsqueda de un Asistente...\n",
       "99980    Nos encontramos en la búsqueda de un Asistente...\n",
       "99981    Nos encontramos en la búsqueda de un Asistente...\n",
       "99982    Importante empresa de Medicina Prepaga, busca ...\n",
       "99983    Importante empresa de Medicina Prepaga, busca ...\n",
       "99984    Importante empresa de Medicina Prepaga, busca ...\n",
       "99985    Nuestra búsqueda se orienta a perfiles comerci...\n",
       "99986    Nuestra búsqueda se orienta a perfiles comerci...\n",
       "99987    Nuestra búsqueda se orienta a perfiles comerci...\n",
       "99988    Será responsable de centralizar la información...\n",
       "99989    Será responsable de centralizar la información...\n",
       "99990    Será responsable de centralizar la información...\n",
       "99991    ProHygiene, compañía líder en su rubro con pre...\n",
       "99992    ProHygiene, compañía líder en su rubro con pre...\n",
       "99993    ProHygiene, compañía líder en su rubro con pre...\n",
       "99994     View Quality Consulting seleccionará una Anal...\n",
       "99995     View Quality Consulting seleccionará una Anal...\n",
       "99996     View Quality Consulting seleccionará una Anal...\n",
       "99997    Mabxience es el laboratorio en Argentina de In...\n",
       "99998    Mabxience es el laboratorio en Argentina de In...\n",
       "99999    Mabxience es el laboratorio en Argentina de In...\n",
       "Name: descripcion, Length: 100000, dtype: object"
      ]
     },
     "execution_count": 1195,
     "metadata": {},
     "output_type": "execute_result"
    }
   ],
   "source": [
    "testingSetConDetallePrueba['descripcion']"
   ]
  },
  {
   "cell_type": "code",
   "execution_count": 1202,
   "metadata": {},
   "outputs": [
    {
     "name": "stderr",
     "output_type": "stream",
     "text": [
      "C:\\Users\\nicol\\Anaconda3\\lib\\site-packages\\ipykernel_launcher.py:1: SettingWithCopyWarning: \n",
      "A value is trying to be set on a copy of a slice from a DataFrame.\n",
      "Try using .loc[row_indexer,col_indexer] = value instead\n",
      "\n",
      "See the caveats in the documentation: http://pandas.pydata.org/pandas-docs/stable/indexing.html#indexing-view-versus-copy\n",
      "  \"\"\"Entry point for launching an IPython kernel.\n"
     ]
    }
   ],
   "source": [
    "testingSetConDetallePrueba['descripcion'] =testingSetConDetallePrueba['descripcion'].apply(lambda x: ' '.join([word for word in x.split() if word not in (stop)]))"
   ]
  },
  {
   "cell_type": "code",
   "execution_count": null,
   "metadata": {},
   "outputs": [],
   "source": []
  },
  {
   "cell_type": "code",
   "execution_count": 1203,
   "metadata": {},
   "outputs": [],
   "source": [
    "result= model.predict(testingSetConDetallePrueba['descripcion'])"
   ]
  },
  {
   "cell_type": "code",
   "execution_count": 1205,
   "metadata": {},
   "outputs": [],
   "source": [
    "archivo = pd.DataFrame()\n",
    "archivo['id'] = testingSet.loc[:,['id']]\n",
    "archivo['resultDescripcion'] = pruebas"
   ]
  },
  {
   "cell_type": "code",
   "execution_count": 1206,
   "metadata": {},
   "outputs": [],
   "source": [
    "testingConCantNombre['resultDescripcion'] = pruebas"
   ]
  },
  {
   "cell_type": "code",
   "execution_count": 1209,
   "metadata": {},
   "outputs": [],
   "source": [
    "trainingConCantNombreDetalle = pd.merge(trainingConCantNombre,avisosDetalle[['idaviso','descripcion']],left_on='idaviso',right_on='idaviso',how='inner')"
   ]
  },
  {
   "cell_type": "code",
   "execution_count": 1211,
   "metadata": {},
   "outputs": [],
   "source": [
    "trainingConCantNombreDetalle['descripcion'] = trainingConCantNombreDetalle['descripcion'].fillna(\" \")\n",
    "#elimino tags de descripcion\n",
    "trainingConCantNombreDetalle['descripcion'] = trainingConCantNombreDetalle['descripcion'].str.replace(r\"<\\/?\\w+.*?>\",\"\");\n",
    "trainingConCantNombreDetalle['descripcion'] = trainingConCantNombreDetalle['descripcion'].str.replace(r\"\\s{2,}\",\" \");\n",
    "\n",
    "trainingConCantNombreDetalle['descripcion'] =trainingConCantNombreDetalle['descripcion'].apply(lambda x: ' '.join([word for word in x.split() if word not in (stop)]))\n",
    "\n",
    "resultT= model.predict(trainingConCantNombreDetalle['descripcion'])"
   ]
  },
  {
   "cell_type": "code",
   "execution_count": 1212,
   "metadata": {},
   "outputs": [],
   "source": [
    "trainingConCantNombreDetalle['resultDescripcion'] = resultT"
   ]
  },
  {
   "cell_type": "code",
   "execution_count": 1217,
   "metadata": {},
   "outputs": [
    {
     "ename": "ValueError",
     "evalue": "labels ['descripcion'] not contained in axis",
     "output_type": "error",
     "traceback": [
      "\u001b[1;31m---------------------------------------------------------------------------\u001b[0m",
      "\u001b[1;31mValueError\u001b[0m                                Traceback (most recent call last)",
      "\u001b[1;32m<ipython-input-1217-834ee98a7863>\u001b[0m in \u001b[0;36m<module>\u001b[1;34m()\u001b[0m\n\u001b[0;32m      1\u001b[0m \u001b[0mdatosConVistasSinPostu\u001b[0m \u001b[1;33m=\u001b[0m \u001b[0mtrainingConCantNombreDetalle\u001b[0m\u001b[1;33m.\u001b[0m\u001b[0mdrop\u001b[0m\u001b[1;33m(\u001b[0m\u001b[1;33m[\u001b[0m\u001b[1;34m'idpais'\u001b[0m\u001b[1;33m,\u001b[0m\u001b[1;34m'sepostulo'\u001b[0m\u001b[1;33m,\u001b[0m\u001b[1;34m'idaviso'\u001b[0m\u001b[1;33m,\u001b[0m\u001b[1;34m'idpostulante'\u001b[0m\u001b[1;33m,\u001b[0m\u001b[1;34m'id'\u001b[0m\u001b[1;33m,\u001b[0m\u001b[1;34m'cantPostulaciones'\u001b[0m\u001b[1;33m,\u001b[0m\u001b[1;34m'testSet'\u001b[0m\u001b[1;33m,\u001b[0m\u001b[1;34m'sexo'\u001b[0m\u001b[1;33m,\u001b[0m\u001b[1;34m'nombre_area'\u001b[0m\u001b[1;33m,\u001b[0m\u001b[1;34m'edad'\u001b[0m\u001b[1;33m]\u001b[0m\u001b[1;33m,\u001b[0m\u001b[0maxis\u001b[0m\u001b[1;33m=\u001b[0m\u001b[1;36m1\u001b[0m\u001b[1;33m)\u001b[0m\u001b[1;33m\u001b[0m\u001b[0m\n\u001b[1;32m----> 2\u001b[1;33m \u001b[0mtestingConVistasFiltrado\u001b[0m \u001b[1;33m=\u001b[0m \u001b[0mtestingConCantNombre\u001b[0m\u001b[1;33m.\u001b[0m\u001b[0mdrop\u001b[0m\u001b[1;33m(\u001b[0m\u001b[1;33m[\u001b[0m\u001b[1;34m'idpais'\u001b[0m\u001b[1;33m,\u001b[0m\u001b[1;34m'sepostulo'\u001b[0m\u001b[1;33m,\u001b[0m\u001b[1;34m'idaviso'\u001b[0m\u001b[1;33m,\u001b[0m\u001b[1;34m'idpostulante'\u001b[0m\u001b[1;33m,\u001b[0m\u001b[1;34m'id'\u001b[0m\u001b[1;33m,\u001b[0m\u001b[1;34m'cantPostulaciones'\u001b[0m\u001b[1;33m,\u001b[0m\u001b[1;34m'testSet'\u001b[0m\u001b[1;33m,\u001b[0m\u001b[1;34m'sexo'\u001b[0m\u001b[1;33m,\u001b[0m\u001b[1;34m'nombre_area'\u001b[0m\u001b[1;33m,\u001b[0m\u001b[1;34m'edad'\u001b[0m\u001b[1;33m,\u001b[0m\u001b[1;34m'descripcion'\u001b[0m\u001b[1;33m]\u001b[0m\u001b[1;33m,\u001b[0m\u001b[0maxis\u001b[0m\u001b[1;33m=\u001b[0m\u001b[1;36m1\u001b[0m\u001b[1;33m)\u001b[0m\u001b[1;33m\u001b[0m\u001b[0m\n\u001b[0m\u001b[0;32m      3\u001b[0m \u001b[1;31m#testingConVistasFiltrado.drop('index',axis=1,inplace=True)\u001b[0m\u001b[1;33m\u001b[0m\u001b[1;33m\u001b[0m\u001b[0m\n",
      "\u001b[1;32m~\\Anaconda3\\lib\\site-packages\\pandas\\core\\generic.py\u001b[0m in \u001b[0;36mdrop\u001b[1;34m(self, labels, axis, level, inplace, errors)\u001b[0m\n\u001b[0;32m   2159\u001b[0m                 \u001b[0mnew_axis\u001b[0m \u001b[1;33m=\u001b[0m \u001b[0maxis\u001b[0m\u001b[1;33m.\u001b[0m\u001b[0mdrop\u001b[0m\u001b[1;33m(\u001b[0m\u001b[0mlabels\u001b[0m\u001b[1;33m,\u001b[0m \u001b[0mlevel\u001b[0m\u001b[1;33m=\u001b[0m\u001b[0mlevel\u001b[0m\u001b[1;33m,\u001b[0m \u001b[0merrors\u001b[0m\u001b[1;33m=\u001b[0m\u001b[0merrors\u001b[0m\u001b[1;33m)\u001b[0m\u001b[1;33m\u001b[0m\u001b[0m\n\u001b[0;32m   2160\u001b[0m             \u001b[1;32melse\u001b[0m\u001b[1;33m:\u001b[0m\u001b[1;33m\u001b[0m\u001b[0m\n\u001b[1;32m-> 2161\u001b[1;33m                 \u001b[0mnew_axis\u001b[0m \u001b[1;33m=\u001b[0m \u001b[0maxis\u001b[0m\u001b[1;33m.\u001b[0m\u001b[0mdrop\u001b[0m\u001b[1;33m(\u001b[0m\u001b[0mlabels\u001b[0m\u001b[1;33m,\u001b[0m \u001b[0merrors\u001b[0m\u001b[1;33m=\u001b[0m\u001b[0merrors\u001b[0m\u001b[1;33m)\u001b[0m\u001b[1;33m\u001b[0m\u001b[0m\n\u001b[0m\u001b[0;32m   2162\u001b[0m             \u001b[0mdropped\u001b[0m \u001b[1;33m=\u001b[0m \u001b[0mself\u001b[0m\u001b[1;33m.\u001b[0m\u001b[0mreindex\u001b[0m\u001b[1;33m(\u001b[0m\u001b[1;33m**\u001b[0m\u001b[1;33m{\u001b[0m\u001b[0maxis_name\u001b[0m\u001b[1;33m:\u001b[0m \u001b[0mnew_axis\u001b[0m\u001b[1;33m}\u001b[0m\u001b[1;33m)\u001b[0m\u001b[1;33m\u001b[0m\u001b[0m\n\u001b[0;32m   2163\u001b[0m             \u001b[1;32mtry\u001b[0m\u001b[1;33m:\u001b[0m\u001b[1;33m\u001b[0m\u001b[0m\n",
      "\u001b[1;32m~\\Anaconda3\\lib\\site-packages\\pandas\\core\\indexes\\base.py\u001b[0m in \u001b[0;36mdrop\u001b[1;34m(self, labels, errors)\u001b[0m\n\u001b[0;32m   3622\u001b[0m             \u001b[1;32mif\u001b[0m \u001b[0merrors\u001b[0m \u001b[1;33m!=\u001b[0m \u001b[1;34m'ignore'\u001b[0m\u001b[1;33m:\u001b[0m\u001b[1;33m\u001b[0m\u001b[0m\n\u001b[0;32m   3623\u001b[0m                 raise ValueError('labels %s not contained in axis' %\n\u001b[1;32m-> 3624\u001b[1;33m                                  labels[mask])\n\u001b[0m\u001b[0;32m   3625\u001b[0m             \u001b[0mindexer\u001b[0m \u001b[1;33m=\u001b[0m \u001b[0mindexer\u001b[0m\u001b[1;33m[\u001b[0m\u001b[1;33m~\u001b[0m\u001b[0mmask\u001b[0m\u001b[1;33m]\u001b[0m\u001b[1;33m\u001b[0m\u001b[0m\n\u001b[0;32m   3626\u001b[0m         \u001b[1;32mreturn\u001b[0m \u001b[0mself\u001b[0m\u001b[1;33m.\u001b[0m\u001b[0mdelete\u001b[0m\u001b[1;33m(\u001b[0m\u001b[0mindexer\u001b[0m\u001b[1;33m)\u001b[0m\u001b[1;33m\u001b[0m\u001b[0m\n",
      "\u001b[1;31mValueError\u001b[0m: labels ['descripcion'] not contained in axis"
     ]
    }
   ],
   "source": [
    "datosConVistasSinPostu = trainingConCantNombreDetalle.drop(['idpais','sepostulo','idaviso','idpostulante','id','cantPostulaciones','testSet','sexo','nombre_area','edad'],axis=1)\n",
    "testingConVistasFiltrado = testingConCantNombre.drop(['idpais','sepostulo','idaviso','idpostulante','id','cantPostulaciones','testSet','sexo','nombre_area','edad'],axis=1)\n",
    "#testingConVistasFiltrado.drop('index',axis=1,inplace=True)"
   ]
  },
  {
   "cell_type": "code",
   "execution_count": 1224,
   "metadata": {},
   "outputs": [],
   "source": [
    "datosConVistasSinPostu.drop('descripcion',axis=1,inplace=True)"
   ]
  },
  {
   "cell_type": "code",
   "execution_count": 1225,
   "metadata": {},
   "outputs": [],
   "source": [
    "from sklearn.preprocessing import Imputer\n",
    "imp = Imputer(missing_values='NaN', strategy='most_frequent', axis=0)\n",
    "datosForTrainingSinPostuSinNulos = imp.fit_transform(datosConVistasSinPostu)\n",
    "datosForTestFinalSinNulos = imp.fit_transform(testingConVistasFiltrado)"
   ]
  },
  {
   "cell_type": "code",
   "execution_count": 1226,
   "metadata": {},
   "outputs": [],
   "source": [
    "X_train, X_validation, Y_train, Y_validation = model_selection.train_test_split(datosForTrainingSinPostuSinNulos, trainingConCantNombreDetalle['sepostulo'], test_size=0.7, random_state=7)"
   ]
  },
  {
   "cell_type": "code",
   "execution_count": 1229,
   "metadata": {},
   "outputs": [],
   "source": [
    "models = []\n",
    "\n",
    "models.append(('RFC100',  RandomForestClassifier(n_estimators=100, max_features='sqrt')))\n",
    "models.append(('RFR100',  RandomForestRegressor(n_estimators=100, max_features='sqrt')))\n",
    "models.append(('DES-TREE',tree.DecisionTreeRegressor()))\n",
    "\n",
    "for name, model in models:\n",
    "    m = model.fit(X_train, Y_train)\n",
    "    pruebas = m.predict(datosForTestFinalSinNulos)\n",
    "    archivo = pd.DataFrame()\n",
    "    archivo['id'] = testingSet.loc[:,['id']]\n",
    "    archivo['sepostulo'] = np.around(pruebas, decimals=0)\n",
    "    archivo.to_csv('entregas/'+'prueba16-'+ name +'.csv', index=False)"
   ]
  },
  {
   "cell_type": "code",
   "execution_count": null,
   "metadata": {},
   "outputs": [],
   "source": []
  }
 ],
 "metadata": {
  "kernelspec": {
   "display_name": "Python 3",
   "language": "python",
   "name": "python3"
  },
  "language_info": {
   "codemirror_mode": {
    "name": "ipython",
    "version": 3
   },
   "file_extension": ".py",
   "mimetype": "text/x-python",
   "name": "python",
   "nbconvert_exporter": "python",
   "pygments_lexer": "ipython3",
   "version": "3.6.3"
  }
 },
 "nbformat": 4,
 "nbformat_minor": 2
}
